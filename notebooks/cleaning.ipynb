{
 "cells": [
  {
   "cell_type": "markdown",
   "metadata": {},
   "source": [
    "# Exploratory Data Analysis (EDA) - Data Science\n",
    "\n",
    "- Steps:\n",
    "\n",
    "    - Understand the dataset - assess the quality of the dataset\n",
    "    - Distribute of the dataset - How does the data look like?\n",
    "    - Correlactions - Find patterns in the dataset"
   ]
  },
  {
   "cell_type": "code",
   "execution_count": 82,
   "metadata": {},
   "outputs": [],
   "source": [
    "###############################################################\n",
    "################### DATA CLEANING #############################\n",
    "###############################################################"
   ]
  },
  {
   "cell_type": "code",
   "execution_count": 83,
   "metadata": {},
   "outputs": [
    {
     "name": "stdout",
     "output_type": "stream",
     "text": [
      ">>> date:  30/07/2021 07:54:00\n"
     ]
    }
   ],
   "source": [
    "import pandas                   as pd\n",
    "import sys\n",
    "import itertools\n",
    "from collections               import Counter\n",
    "import numpy                   as np\n",
    "import gc # Garbage Collector interface\n",
    "import feather\n",
    "import time\n",
    "from datetime                  import datetime\n",
    "import matplotlib.pyplot       as plt\n",
    "import seaborn                 as sns\n",
    "from sklearn.feature_selection import mutual_info_classif\n",
    "import plotly.express          as ex\n",
    "\n",
    "\n",
    "from pandas_profiling import ProfileReport\n",
    "\n",
    "##### >>> https://towardsdatascience.com/a-straightforward-guide-to-cleaning-and-preparing-data-in-python-8c82f209ae33\n",
    "# source dataset: https://www.dataquest.io/blog/machine-learning-preparing-data/\n",
    "\n",
    "# data cleaning - sources\n",
    "# https://medium.com/sciforce/data-cleaning-and-preprocessing-for-beginners-25748ee00743\n",
    "# https://medium.com/bitgrit-data-science-publication/data-cleaning-with-python-f6bc3da64e45\n",
    "# https://towardsdatascience.com/the-ultimate-guide-to-data-cleaning-3969843991d4\n",
    "# https://towardsdatascience.com/data-cleaning-and-feature-engineering-the-underestimated-parts-of-machine-learning-10681dae4cf7\n",
    "\n",
    "# Pandas has a high consume of memory RAM usage\n",
    "# release memory RAM\n",
    "def release_memory(df):\n",
    "    del df\n",
    "    gc.collect() \n",
    "    df = pd.DataFrame() # point to NULL\n",
    "    print('memory RAM released.')\n",
    "\n",
    "# Get start time \n",
    "start_time = time.time()\n",
    "\n",
    "# datetime object containing current date and time\n",
    "now = datetime.now()\n",
    "\n",
    "# dd/mm/YY H:M:S\n",
    "dt_string = now.strftime(\"%d/%m/%Y %H:%M:%S\")\n",
    "print(\">>> date: \", dt_string)"
   ]
  },
  {
   "cell_type": "code",
   "execution_count": 84,
   "metadata": {},
   "outputs": [],
   "source": [
    "#!pip install pandas-profiling"
   ]
  },
  {
   "cell_type": "markdown",
   "metadata": {},
   "source": [
    "## Quick Dataset Overview"
   ]
  },
  {
   "cell_type": "code",
   "execution_count": 85,
   "metadata": {},
   "outputs": [
    {
     "data": {
      "text/html": [
       "<div>\n",
       "<style scoped>\n",
       "    .dataframe tbody tr th:only-of-type {\n",
       "        vertical-align: middle;\n",
       "    }\n",
       "\n",
       "    .dataframe tbody tr th {\n",
       "        vertical-align: top;\n",
       "    }\n",
       "\n",
       "    .dataframe thead th {\n",
       "        text-align: right;\n",
       "    }\n",
       "</style>\n",
       "<table border=\"1\" class=\"dataframe\">\n",
       "  <thead>\n",
       "    <tr style=\"text-align: right;\">\n",
       "      <th></th>\n",
       "      <th>id</th>\n",
       "      <th>member_id</th>\n",
       "      <th>loan_amnt</th>\n",
       "      <th>funded_amnt</th>\n",
       "      <th>funded_amnt_inv</th>\n",
       "      <th>term</th>\n",
       "      <th>int_rate</th>\n",
       "      <th>installment</th>\n",
       "      <th>grade</th>\n",
       "      <th>sub_grade</th>\n",
       "      <th>emp_length</th>\n",
       "      <th>home_ownership</th>\n",
       "      <th>annual_inc</th>\n",
       "      <th>verification_status</th>\n",
       "      <th>issue_d</th>\n",
       "      <th>loan_status</th>\n",
       "      <th>pymnt_plan</th>\n",
       "      <th>zip_code</th>\n",
       "      <th>addr_state</th>\n",
       "      <th>dti</th>\n",
       "      <th>delinq_2yrs</th>\n",
       "      <th>earliest_cr_line</th>\n",
       "      <th>inq_last_6mths</th>\n",
       "      <th>open_acc</th>\n",
       "      <th>pub_rec</th>\n",
       "      <th>revol_bal</th>\n",
       "      <th>revol_util</th>\n",
       "      <th>total_acc</th>\n",
       "      <th>initial_list_status</th>\n",
       "      <th>out_prncp</th>\n",
       "      <th>out_prncp_inv</th>\n",
       "      <th>total_pymnt</th>\n",
       "      <th>total_pymnt_inv</th>\n",
       "      <th>total_rec_prncp</th>\n",
       "      <th>total_rec_int</th>\n",
       "      <th>total_rec_late_fee</th>\n",
       "      <th>recoveries</th>\n",
       "      <th>collection_recovery_fee</th>\n",
       "      <th>last_pymnt_d</th>\n",
       "      <th>last_pymnt_amnt</th>\n",
       "      <th>last_credit_pull_d</th>\n",
       "      <th>collections_12_mths_ex_med</th>\n",
       "      <th>application_type</th>\n",
       "      <th>chargeoff_within_12_mths</th>\n",
       "      <th>delinq_amnt</th>\n",
       "      <th>pub_rec_bankruptcies</th>\n",
       "      <th>tax_liens</th>\n",
       "    </tr>\n",
       "  </thead>\n",
       "  <tbody>\n",
       "    <tr>\n",
       "      <th>0</th>\n",
       "      <td>1077501</td>\n",
       "      <td>1296599</td>\n",
       "      <td>5000</td>\n",
       "      <td>5000</td>\n",
       "      <td>4975.0</td>\n",
       "      <td>36 months</td>\n",
       "      <td>10.65%</td>\n",
       "      <td>162.87</td>\n",
       "      <td>B</td>\n",
       "      <td>B2</td>\n",
       "      <td>10+ years</td>\n",
       "      <td>RENT</td>\n",
       "      <td>24000.0</td>\n",
       "      <td>Verified</td>\n",
       "      <td>Dec-11</td>\n",
       "      <td>Fully Paid</td>\n",
       "      <td>n</td>\n",
       "      <td>860xx</td>\n",
       "      <td>AZ</td>\n",
       "      <td>27.65</td>\n",
       "      <td>0</td>\n",
       "      <td>Jan-85</td>\n",
       "      <td>1</td>\n",
       "      <td>3</td>\n",
       "      <td>0</td>\n",
       "      <td>13648</td>\n",
       "      <td>83.70%</td>\n",
       "      <td>9</td>\n",
       "      <td>f</td>\n",
       "      <td>0.0</td>\n",
       "      <td>0.0</td>\n",
       "      <td>5863.155187</td>\n",
       "      <td>5833.84</td>\n",
       "      <td>5000.00</td>\n",
       "      <td>863.16</td>\n",
       "      <td>0.00</td>\n",
       "      <td>0.0</td>\n",
       "      <td>0.00</td>\n",
       "      <td>Jan-15</td>\n",
       "      <td>171.62</td>\n",
       "      <td>Jan-17</td>\n",
       "      <td>0.0</td>\n",
       "      <td>INDIVIDUAL</td>\n",
       "      <td>0.0</td>\n",
       "      <td>0</td>\n",
       "      <td>0.0</td>\n",
       "      <td>0.0</td>\n",
       "    </tr>\n",
       "    <tr>\n",
       "      <th>1</th>\n",
       "      <td>1077430</td>\n",
       "      <td>1314167</td>\n",
       "      <td>2500</td>\n",
       "      <td>2500</td>\n",
       "      <td>2500.0</td>\n",
       "      <td>60 months</td>\n",
       "      <td>15.27%</td>\n",
       "      <td>59.83</td>\n",
       "      <td>C</td>\n",
       "      <td>C4</td>\n",
       "      <td>&lt; 1 year</td>\n",
       "      <td>RENT</td>\n",
       "      <td>30000.0</td>\n",
       "      <td>Source Verified</td>\n",
       "      <td>Dec-11</td>\n",
       "      <td>Charged Off</td>\n",
       "      <td>n</td>\n",
       "      <td>309xx</td>\n",
       "      <td>GA</td>\n",
       "      <td>1.00</td>\n",
       "      <td>0</td>\n",
       "      <td>Apr-99</td>\n",
       "      <td>5</td>\n",
       "      <td>3</td>\n",
       "      <td>0</td>\n",
       "      <td>1687</td>\n",
       "      <td>9.40%</td>\n",
       "      <td>4</td>\n",
       "      <td>f</td>\n",
       "      <td>0.0</td>\n",
       "      <td>0.0</td>\n",
       "      <td>1014.530000</td>\n",
       "      <td>1014.53</td>\n",
       "      <td>456.46</td>\n",
       "      <td>435.17</td>\n",
       "      <td>0.00</td>\n",
       "      <td>122.9</td>\n",
       "      <td>1.11</td>\n",
       "      <td>Apr-13</td>\n",
       "      <td>119.66</td>\n",
       "      <td>Oct-16</td>\n",
       "      <td>0.0</td>\n",
       "      <td>INDIVIDUAL</td>\n",
       "      <td>0.0</td>\n",
       "      <td>0</td>\n",
       "      <td>0.0</td>\n",
       "      <td>0.0</td>\n",
       "    </tr>\n",
       "    <tr>\n",
       "      <th>2</th>\n",
       "      <td>1077175</td>\n",
       "      <td>1313524</td>\n",
       "      <td>2400</td>\n",
       "      <td>2400</td>\n",
       "      <td>2400.0</td>\n",
       "      <td>36 months</td>\n",
       "      <td>15.96%</td>\n",
       "      <td>84.33</td>\n",
       "      <td>C</td>\n",
       "      <td>C5</td>\n",
       "      <td>10+ years</td>\n",
       "      <td>RENT</td>\n",
       "      <td>12252.0</td>\n",
       "      <td>Not Verified</td>\n",
       "      <td>Dec-11</td>\n",
       "      <td>Fully Paid</td>\n",
       "      <td>n</td>\n",
       "      <td>606xx</td>\n",
       "      <td>IL</td>\n",
       "      <td>8.72</td>\n",
       "      <td>0</td>\n",
       "      <td>Nov-01</td>\n",
       "      <td>2</td>\n",
       "      <td>2</td>\n",
       "      <td>0</td>\n",
       "      <td>2956</td>\n",
       "      <td>98.50%</td>\n",
       "      <td>10</td>\n",
       "      <td>f</td>\n",
       "      <td>0.0</td>\n",
       "      <td>0.0</td>\n",
       "      <td>3005.666844</td>\n",
       "      <td>3005.67</td>\n",
       "      <td>2400.00</td>\n",
       "      <td>605.67</td>\n",
       "      <td>0.00</td>\n",
       "      <td>0.0</td>\n",
       "      <td>0.00</td>\n",
       "      <td>Jun-14</td>\n",
       "      <td>649.91</td>\n",
       "      <td>Jan-17</td>\n",
       "      <td>0.0</td>\n",
       "      <td>INDIVIDUAL</td>\n",
       "      <td>0.0</td>\n",
       "      <td>0</td>\n",
       "      <td>0.0</td>\n",
       "      <td>0.0</td>\n",
       "    </tr>\n",
       "    <tr>\n",
       "      <th>3</th>\n",
       "      <td>1076863</td>\n",
       "      <td>1277178</td>\n",
       "      <td>10000</td>\n",
       "      <td>10000</td>\n",
       "      <td>10000.0</td>\n",
       "      <td>36 months</td>\n",
       "      <td>13.49%</td>\n",
       "      <td>339.31</td>\n",
       "      <td>C</td>\n",
       "      <td>C1</td>\n",
       "      <td>10+ years</td>\n",
       "      <td>RENT</td>\n",
       "      <td>49200.0</td>\n",
       "      <td>Source Verified</td>\n",
       "      <td>Dec-11</td>\n",
       "      <td>Fully Paid</td>\n",
       "      <td>n</td>\n",
       "      <td>917xx</td>\n",
       "      <td>CA</td>\n",
       "      <td>20.00</td>\n",
       "      <td>0</td>\n",
       "      <td>Feb-96</td>\n",
       "      <td>1</td>\n",
       "      <td>10</td>\n",
       "      <td>0</td>\n",
       "      <td>5598</td>\n",
       "      <td>21%</td>\n",
       "      <td>37</td>\n",
       "      <td>f</td>\n",
       "      <td>0.0</td>\n",
       "      <td>0.0</td>\n",
       "      <td>12231.890000</td>\n",
       "      <td>12231.89</td>\n",
       "      <td>10000.00</td>\n",
       "      <td>2214.92</td>\n",
       "      <td>16.97</td>\n",
       "      <td>0.0</td>\n",
       "      <td>0.00</td>\n",
       "      <td>Jan-15</td>\n",
       "      <td>357.48</td>\n",
       "      <td>Apr-16</td>\n",
       "      <td>0.0</td>\n",
       "      <td>INDIVIDUAL</td>\n",
       "      <td>0.0</td>\n",
       "      <td>0</td>\n",
       "      <td>0.0</td>\n",
       "      <td>0.0</td>\n",
       "    </tr>\n",
       "    <tr>\n",
       "      <th>4</th>\n",
       "      <td>1075358</td>\n",
       "      <td>1311748</td>\n",
       "      <td>3000</td>\n",
       "      <td>3000</td>\n",
       "      <td>3000.0</td>\n",
       "      <td>60 months</td>\n",
       "      <td>12.69%</td>\n",
       "      <td>67.79</td>\n",
       "      <td>B</td>\n",
       "      <td>B5</td>\n",
       "      <td>1 year</td>\n",
       "      <td>RENT</td>\n",
       "      <td>80000.0</td>\n",
       "      <td>Source Verified</td>\n",
       "      <td>Dec-11</td>\n",
       "      <td>Fully Paid</td>\n",
       "      <td>n</td>\n",
       "      <td>972xx</td>\n",
       "      <td>OR</td>\n",
       "      <td>17.94</td>\n",
       "      <td>0</td>\n",
       "      <td>Jan-96</td>\n",
       "      <td>0</td>\n",
       "      <td>15</td>\n",
       "      <td>0</td>\n",
       "      <td>27783</td>\n",
       "      <td>53.90%</td>\n",
       "      <td>38</td>\n",
       "      <td>f</td>\n",
       "      <td>0.0</td>\n",
       "      <td>0.0</td>\n",
       "      <td>4066.908161</td>\n",
       "      <td>4066.91</td>\n",
       "      <td>3000.00</td>\n",
       "      <td>1066.91</td>\n",
       "      <td>0.00</td>\n",
       "      <td>0.0</td>\n",
       "      <td>0.00</td>\n",
       "      <td>Jan-17</td>\n",
       "      <td>67.30</td>\n",
       "      <td>Jan-17</td>\n",
       "      <td>0.0</td>\n",
       "      <td>INDIVIDUAL</td>\n",
       "      <td>0.0</td>\n",
       "      <td>0</td>\n",
       "      <td>0.0</td>\n",
       "      <td>0.0</td>\n",
       "    </tr>\n",
       "    <tr>\n",
       "      <th>...</th>\n",
       "      <td>...</td>\n",
       "      <td>...</td>\n",
       "      <td>...</td>\n",
       "      <td>...</td>\n",
       "      <td>...</td>\n",
       "      <td>...</td>\n",
       "      <td>...</td>\n",
       "      <td>...</td>\n",
       "      <td>...</td>\n",
       "      <td>...</td>\n",
       "      <td>...</td>\n",
       "      <td>...</td>\n",
       "      <td>...</td>\n",
       "      <td>...</td>\n",
       "      <td>...</td>\n",
       "      <td>...</td>\n",
       "      <td>...</td>\n",
       "      <td>...</td>\n",
       "      <td>...</td>\n",
       "      <td>...</td>\n",
       "      <td>...</td>\n",
       "      <td>...</td>\n",
       "      <td>...</td>\n",
       "      <td>...</td>\n",
       "      <td>...</td>\n",
       "      <td>...</td>\n",
       "      <td>...</td>\n",
       "      <td>...</td>\n",
       "      <td>...</td>\n",
       "      <td>...</td>\n",
       "      <td>...</td>\n",
       "      <td>...</td>\n",
       "      <td>...</td>\n",
       "      <td>...</td>\n",
       "      <td>...</td>\n",
       "      <td>...</td>\n",
       "      <td>...</td>\n",
       "      <td>...</td>\n",
       "      <td>...</td>\n",
       "      <td>...</td>\n",
       "      <td>...</td>\n",
       "      <td>...</td>\n",
       "      <td>...</td>\n",
       "      <td>...</td>\n",
       "      <td>...</td>\n",
       "      <td>...</td>\n",
       "      <td>...</td>\n",
       "    </tr>\n",
       "    <tr>\n",
       "      <th>39781</th>\n",
       "      <td>92187</td>\n",
       "      <td>92174</td>\n",
       "      <td>2500</td>\n",
       "      <td>2500</td>\n",
       "      <td>1075.0</td>\n",
       "      <td>36 months</td>\n",
       "      <td>8.07%</td>\n",
       "      <td>78.42</td>\n",
       "      <td>A</td>\n",
       "      <td>A4</td>\n",
       "      <td>4 years</td>\n",
       "      <td>MORTGAGE</td>\n",
       "      <td>110000.0</td>\n",
       "      <td>Not Verified</td>\n",
       "      <td>Jul-07</td>\n",
       "      <td>Fully Paid</td>\n",
       "      <td>n</td>\n",
       "      <td>802xx</td>\n",
       "      <td>CO</td>\n",
       "      <td>11.33</td>\n",
       "      <td>0</td>\n",
       "      <td>Nov-90</td>\n",
       "      <td>0</td>\n",
       "      <td>13</td>\n",
       "      <td>0</td>\n",
       "      <td>7274</td>\n",
       "      <td>13.10%</td>\n",
       "      <td>40</td>\n",
       "      <td>f</td>\n",
       "      <td>0.0</td>\n",
       "      <td>0.0</td>\n",
       "      <td>2822.969293</td>\n",
       "      <td>1213.88</td>\n",
       "      <td>2500.00</td>\n",
       "      <td>322.97</td>\n",
       "      <td>0.00</td>\n",
       "      <td>0.0</td>\n",
       "      <td>0.00</td>\n",
       "      <td>Jul-10</td>\n",
       "      <td>80.90</td>\n",
       "      <td>Jun-10</td>\n",
       "      <td>NaN</td>\n",
       "      <td>INDIVIDUAL</td>\n",
       "      <td>NaN</td>\n",
       "      <td>0</td>\n",
       "      <td>NaN</td>\n",
       "      <td>NaN</td>\n",
       "    </tr>\n",
       "    <tr>\n",
       "      <th>39782</th>\n",
       "      <td>90665</td>\n",
       "      <td>90607</td>\n",
       "      <td>8500</td>\n",
       "      <td>8500</td>\n",
       "      <td>875.0</td>\n",
       "      <td>36 months</td>\n",
       "      <td>10.28%</td>\n",
       "      <td>275.38</td>\n",
       "      <td>C</td>\n",
       "      <td>C1</td>\n",
       "      <td>3 years</td>\n",
       "      <td>RENT</td>\n",
       "      <td>18000.0</td>\n",
       "      <td>Not Verified</td>\n",
       "      <td>Jul-07</td>\n",
       "      <td>Fully Paid</td>\n",
       "      <td>n</td>\n",
       "      <td>274xx</td>\n",
       "      <td>NC</td>\n",
       "      <td>6.40</td>\n",
       "      <td>1</td>\n",
       "      <td>Dec-86</td>\n",
       "      <td>1</td>\n",
       "      <td>6</td>\n",
       "      <td>0</td>\n",
       "      <td>8847</td>\n",
       "      <td>26.90%</td>\n",
       "      <td>9</td>\n",
       "      <td>f</td>\n",
       "      <td>0.0</td>\n",
       "      <td>0.0</td>\n",
       "      <td>9913.491822</td>\n",
       "      <td>1020.51</td>\n",
       "      <td>8500.00</td>\n",
       "      <td>1413.49</td>\n",
       "      <td>0.00</td>\n",
       "      <td>0.0</td>\n",
       "      <td>0.00</td>\n",
       "      <td>Jul-10</td>\n",
       "      <td>281.94</td>\n",
       "      <td>Jul-10</td>\n",
       "      <td>NaN</td>\n",
       "      <td>INDIVIDUAL</td>\n",
       "      <td>NaN</td>\n",
       "      <td>0</td>\n",
       "      <td>NaN</td>\n",
       "      <td>NaN</td>\n",
       "    </tr>\n",
       "    <tr>\n",
       "      <th>39783</th>\n",
       "      <td>90395</td>\n",
       "      <td>90390</td>\n",
       "      <td>5000</td>\n",
       "      <td>5000</td>\n",
       "      <td>1325.0</td>\n",
       "      <td>36 months</td>\n",
       "      <td>8.07%</td>\n",
       "      <td>156.84</td>\n",
       "      <td>A</td>\n",
       "      <td>A4</td>\n",
       "      <td>&lt; 1 year</td>\n",
       "      <td>MORTGAGE</td>\n",
       "      <td>100000.0</td>\n",
       "      <td>Not Verified</td>\n",
       "      <td>Jul-07</td>\n",
       "      <td>Fully Paid</td>\n",
       "      <td>n</td>\n",
       "      <td>017xx</td>\n",
       "      <td>MA</td>\n",
       "      <td>2.30</td>\n",
       "      <td>0</td>\n",
       "      <td>Oct-98</td>\n",
       "      <td>0</td>\n",
       "      <td>11</td>\n",
       "      <td>0</td>\n",
       "      <td>9698</td>\n",
       "      <td>19.40%</td>\n",
       "      <td>20</td>\n",
       "      <td>f</td>\n",
       "      <td>0.0</td>\n",
       "      <td>0.0</td>\n",
       "      <td>5272.161128</td>\n",
       "      <td>1397.12</td>\n",
       "      <td>5000.00</td>\n",
       "      <td>272.16</td>\n",
       "      <td>0.00</td>\n",
       "      <td>0.0</td>\n",
       "      <td>0.00</td>\n",
       "      <td>Apr-08</td>\n",
       "      <td>0.00</td>\n",
       "      <td>Jun-07</td>\n",
       "      <td>NaN</td>\n",
       "      <td>INDIVIDUAL</td>\n",
       "      <td>NaN</td>\n",
       "      <td>0</td>\n",
       "      <td>NaN</td>\n",
       "      <td>NaN</td>\n",
       "    </tr>\n",
       "    <tr>\n",
       "      <th>39784</th>\n",
       "      <td>90376</td>\n",
       "      <td>89243</td>\n",
       "      <td>5000</td>\n",
       "      <td>5000</td>\n",
       "      <td>650.0</td>\n",
       "      <td>36 months</td>\n",
       "      <td>7.43%</td>\n",
       "      <td>155.38</td>\n",
       "      <td>A</td>\n",
       "      <td>A2</td>\n",
       "      <td>&lt; 1 year</td>\n",
       "      <td>MORTGAGE</td>\n",
       "      <td>200000.0</td>\n",
       "      <td>Not Verified</td>\n",
       "      <td>Jul-07</td>\n",
       "      <td>Fully Paid</td>\n",
       "      <td>n</td>\n",
       "      <td>208xx</td>\n",
       "      <td>MD</td>\n",
       "      <td>3.72</td>\n",
       "      <td>0</td>\n",
       "      <td>Nov-88</td>\n",
       "      <td>0</td>\n",
       "      <td>17</td>\n",
       "      <td>0</td>\n",
       "      <td>85607</td>\n",
       "      <td>0.70%</td>\n",
       "      <td>26</td>\n",
       "      <td>f</td>\n",
       "      <td>0.0</td>\n",
       "      <td>0.0</td>\n",
       "      <td>5174.198551</td>\n",
       "      <td>672.66</td>\n",
       "      <td>5000.00</td>\n",
       "      <td>174.20</td>\n",
       "      <td>0.00</td>\n",
       "      <td>0.0</td>\n",
       "      <td>0.00</td>\n",
       "      <td>Jan-08</td>\n",
       "      <td>0.00</td>\n",
       "      <td>Jun-07</td>\n",
       "      <td>NaN</td>\n",
       "      <td>INDIVIDUAL</td>\n",
       "      <td>NaN</td>\n",
       "      <td>0</td>\n",
       "      <td>NaN</td>\n",
       "      <td>NaN</td>\n",
       "    </tr>\n",
       "    <tr>\n",
       "      <th>39785</th>\n",
       "      <td>87023</td>\n",
       "      <td>86999</td>\n",
       "      <td>7500</td>\n",
       "      <td>7500</td>\n",
       "      <td>800.0</td>\n",
       "      <td>36 months</td>\n",
       "      <td>13.75%</td>\n",
       "      <td>255.43</td>\n",
       "      <td>E</td>\n",
       "      <td>E2</td>\n",
       "      <td>&lt; 1 year</td>\n",
       "      <td>OWN</td>\n",
       "      <td>22000.0</td>\n",
       "      <td>Not Verified</td>\n",
       "      <td>Jun-07</td>\n",
       "      <td>Fully Paid</td>\n",
       "      <td>n</td>\n",
       "      <td>027xx</td>\n",
       "      <td>MA</td>\n",
       "      <td>14.29</td>\n",
       "      <td>1</td>\n",
       "      <td>Oct-03</td>\n",
       "      <td>0</td>\n",
       "      <td>7</td>\n",
       "      <td>0</td>\n",
       "      <td>4175</td>\n",
       "      <td>51.50%</td>\n",
       "      <td>8</td>\n",
       "      <td>f</td>\n",
       "      <td>0.0</td>\n",
       "      <td>0.0</td>\n",
       "      <td>9195.263334</td>\n",
       "      <td>980.83</td>\n",
       "      <td>7500.00</td>\n",
       "      <td>1695.26</td>\n",
       "      <td>0.00</td>\n",
       "      <td>0.0</td>\n",
       "      <td>0.00</td>\n",
       "      <td>Jun-10</td>\n",
       "      <td>256.59</td>\n",
       "      <td>Jun-10</td>\n",
       "      <td>NaN</td>\n",
       "      <td>INDIVIDUAL</td>\n",
       "      <td>NaN</td>\n",
       "      <td>0</td>\n",
       "      <td>NaN</td>\n",
       "      <td>NaN</td>\n",
       "    </tr>\n",
       "  </tbody>\n",
       "</table>\n",
       "<p>39786 rows × 47 columns</p>\n",
       "</div>"
      ],
      "text/plain": [
       "            id  member_id  loan_amnt  funded_amnt  funded_amnt_inv        term int_rate  installment grade sub_grade emp_length home_ownership  annual_inc verification_status issue_d  loan_status pymnt_plan zip_code addr_state    dti  delinq_2yrs earliest_cr_line  inq_last_6mths  open_acc  pub_rec  revol_bal revol_util  total_acc initial_list_status  out_prncp  out_prncp_inv   total_pymnt  total_pymnt_inv  total_rec_prncp  total_rec_int  total_rec_late_fee  recoveries  collection_recovery_fee last_pymnt_d  last_pymnt_amnt last_credit_pull_d  collections_12_mths_ex_med application_type  chargeoff_within_12_mths  delinq_amnt  pub_rec_bankruptcies  tax_liens\n",
       "0      1077501    1296599       5000         5000           4975.0   36 months   10.65%       162.87     B        B2  10+ years           RENT     24000.0            Verified  Dec-11   Fully Paid          n    860xx         AZ  27.65            0           Jan-85               1         3        0      13648     83.70%          9                   f        0.0            0.0   5863.155187          5833.84          5000.00         863.16                0.00         0.0                     0.00       Jan-15           171.62             Jan-17                         0.0       INDIVIDUAL                       0.0            0                   0.0        0.0\n",
       "1      1077430    1314167       2500         2500           2500.0   60 months   15.27%        59.83     C        C4   < 1 year           RENT     30000.0     Source Verified  Dec-11  Charged Off          n    309xx         GA   1.00            0           Apr-99               5         3        0       1687      9.40%          4                   f        0.0            0.0   1014.530000          1014.53           456.46         435.17                0.00       122.9                     1.11       Apr-13           119.66             Oct-16                         0.0       INDIVIDUAL                       0.0            0                   0.0        0.0\n",
       "2      1077175    1313524       2400         2400           2400.0   36 months   15.96%        84.33     C        C5  10+ years           RENT     12252.0        Not Verified  Dec-11   Fully Paid          n    606xx         IL   8.72            0           Nov-01               2         2        0       2956     98.50%         10                   f        0.0            0.0   3005.666844          3005.67          2400.00         605.67                0.00         0.0                     0.00       Jun-14           649.91             Jan-17                         0.0       INDIVIDUAL                       0.0            0                   0.0        0.0\n",
       "3      1076863    1277178      10000        10000          10000.0   36 months   13.49%       339.31     C        C1  10+ years           RENT     49200.0     Source Verified  Dec-11   Fully Paid          n    917xx         CA  20.00            0           Feb-96               1        10        0       5598        21%         37                   f        0.0            0.0  12231.890000         12231.89         10000.00        2214.92               16.97         0.0                     0.00       Jan-15           357.48             Apr-16                         0.0       INDIVIDUAL                       0.0            0                   0.0        0.0\n",
       "4      1075358    1311748       3000         3000           3000.0   60 months   12.69%        67.79     B        B5     1 year           RENT     80000.0     Source Verified  Dec-11   Fully Paid          n    972xx         OR  17.94            0           Jan-96               0        15        0      27783     53.90%         38                   f        0.0            0.0   4066.908161          4066.91          3000.00        1066.91                0.00         0.0                     0.00       Jan-17            67.30             Jan-17                         0.0       INDIVIDUAL                       0.0            0                   0.0        0.0\n",
       "...        ...        ...        ...          ...              ...         ...      ...          ...   ...       ...        ...            ...         ...                 ...     ...          ...        ...      ...        ...    ...          ...              ...             ...       ...      ...        ...        ...        ...                 ...        ...            ...           ...              ...              ...            ...                 ...         ...                      ...          ...              ...                ...                         ...              ...                       ...          ...                   ...        ...\n",
       "39781    92187      92174       2500         2500           1075.0   36 months    8.07%        78.42     A        A4    4 years       MORTGAGE    110000.0        Not Verified  Jul-07   Fully Paid          n    802xx         CO  11.33            0           Nov-90               0        13        0       7274     13.10%         40                   f        0.0            0.0   2822.969293          1213.88          2500.00         322.97                0.00         0.0                     0.00       Jul-10            80.90             Jun-10                         NaN       INDIVIDUAL                       NaN            0                   NaN        NaN\n",
       "39782    90665      90607       8500         8500            875.0   36 months   10.28%       275.38     C        C1    3 years           RENT     18000.0        Not Verified  Jul-07   Fully Paid          n    274xx         NC   6.40            1           Dec-86               1         6        0       8847     26.90%          9                   f        0.0            0.0   9913.491822          1020.51          8500.00        1413.49                0.00         0.0                     0.00       Jul-10           281.94             Jul-10                         NaN       INDIVIDUAL                       NaN            0                   NaN        NaN\n",
       "39783    90395      90390       5000         5000           1325.0   36 months    8.07%       156.84     A        A4   < 1 year       MORTGAGE    100000.0        Not Verified  Jul-07   Fully Paid          n    017xx         MA   2.30            0           Oct-98               0        11        0       9698     19.40%         20                   f        0.0            0.0   5272.161128          1397.12          5000.00         272.16                0.00         0.0                     0.00       Apr-08             0.00             Jun-07                         NaN       INDIVIDUAL                       NaN            0                   NaN        NaN\n",
       "39784    90376      89243       5000         5000            650.0   36 months    7.43%       155.38     A        A2   < 1 year       MORTGAGE    200000.0        Not Verified  Jul-07   Fully Paid          n    208xx         MD   3.72            0           Nov-88               0        17        0      85607      0.70%         26                   f        0.0            0.0   5174.198551           672.66          5000.00         174.20                0.00         0.0                     0.00       Jan-08             0.00             Jun-07                         NaN       INDIVIDUAL                       NaN            0                   NaN        NaN\n",
       "39785    87023      86999       7500         7500            800.0   36 months   13.75%       255.43     E        E2   < 1 year            OWN     22000.0        Not Verified  Jun-07   Fully Paid          n    027xx         MA  14.29            1           Oct-03               0         7        0       4175     51.50%          8                   f        0.0            0.0   9195.263334           980.83          7500.00        1695.26                0.00         0.0                     0.00       Jun-10           256.59             Jun-10                         NaN       INDIVIDUAL                       NaN            0                   NaN        NaN\n",
       "\n",
       "[39786 rows x 47 columns]"
      ]
     },
     "execution_count": 85,
     "metadata": {},
     "output_type": "execute_result"
    }
   ],
   "source": [
    "# dataframe - df\n",
    "# read csv file, the columns are separated (sep) by ','\n",
    "df = pd.read_csv('../data/lending_club_loans.csv')\n",
    "df"
   ]
  },
  {
   "cell_type": "code",
   "execution_count": 86,
   "metadata": {},
   "outputs": [
    {
     "name": "stdout",
     "output_type": "stream",
     "text": [
      "Number of rows.....................: 39786\n",
      "Number of columns..................: 47\n"
     ]
    }
   ],
   "source": [
    "print(f'Number of rows.....................: {df.shape[0]}')\n",
    "print(f'Number of columns..................: {df.shape[1]}')"
   ]
  },
  {
   "cell_type": "code",
   "execution_count": 87,
   "metadata": {},
   "outputs": [
    {
     "name": "stdout",
     "output_type": "stream",
     "text": [
      "<class 'pandas.core.frame.DataFrame'>\n",
      "RangeIndex: 39786 entries, 0 to 39785\n",
      "Data columns (total 47 columns):\n",
      " #   Column                      Non-Null Count  Dtype  \n",
      "---  ------                      --------------  -----  \n",
      " 0   id                          39786 non-null  int64  \n",
      " 1   member_id                   39786 non-null  int64  \n",
      " 2   loan_amnt                   39786 non-null  int64  \n",
      " 3   funded_amnt                 39786 non-null  int64  \n",
      " 4   funded_amnt_inv             39786 non-null  float64\n",
      " 5   term                        39786 non-null  object \n",
      " 6   int_rate                    39786 non-null  object \n",
      " 7   installment                 39786 non-null  float64\n",
      " 8   grade                       39786 non-null  object \n",
      " 9   sub_grade                   39786 non-null  object \n",
      " 10  emp_length                  38708 non-null  object \n",
      " 11  home_ownership              39786 non-null  object \n",
      " 12  annual_inc                  39786 non-null  float64\n",
      " 13  verification_status         39786 non-null  object \n",
      " 14  issue_d                     39786 non-null  object \n",
      " 15  loan_status                 39786 non-null  object \n",
      " 16  pymnt_plan                  39786 non-null  object \n",
      " 17  zip_code                    39786 non-null  object \n",
      " 18  addr_state                  39786 non-null  object \n",
      " 19  dti                         39786 non-null  float64\n",
      " 20  delinq_2yrs                 39786 non-null  int64  \n",
      " 21  earliest_cr_line            39786 non-null  object \n",
      " 22  inq_last_6mths              39786 non-null  int64  \n",
      " 23  open_acc                    39786 non-null  int64  \n",
      " 24  pub_rec                     39786 non-null  int64  \n",
      " 25  revol_bal                   39786 non-null  int64  \n",
      " 26  revol_util                  39736 non-null  object \n",
      " 27  total_acc                   39786 non-null  int64  \n",
      " 28  initial_list_status         39786 non-null  object \n",
      " 29  out_prncp                   39786 non-null  float64\n",
      " 30  out_prncp_inv               39786 non-null  float64\n",
      " 31  total_pymnt                 39786 non-null  float64\n",
      " 32  total_pymnt_inv             39786 non-null  float64\n",
      " 33  total_rec_prncp             39786 non-null  float64\n",
      " 34  total_rec_int               39786 non-null  float64\n",
      " 35  total_rec_late_fee          39786 non-null  float64\n",
      " 36  recoveries                  39786 non-null  float64\n",
      " 37  collection_recovery_fee     39786 non-null  float64\n",
      " 38  last_pymnt_d                39715 non-null  object \n",
      " 39  last_pymnt_amnt             39786 non-null  float64\n",
      " 40  last_credit_pull_d          39784 non-null  object \n",
      " 41  collections_12_mths_ex_med  39730 non-null  float64\n",
      " 42  application_type            39786 non-null  object \n",
      " 43  chargeoff_within_12_mths    39730 non-null  float64\n",
      " 44  delinq_amnt                 39786 non-null  int64  \n",
      " 45  pub_rec_bankruptcies        39089 non-null  float64\n",
      " 46  tax_liens                   39747 non-null  float64\n",
      "dtypes: float64(18), int64(11), object(18)\n",
      "memory usage: 14.3+ MB\n"
     ]
    }
   ],
   "source": [
    "df.info()"
   ]
  },
  {
   "cell_type": "code",
   "execution_count": 88,
   "metadata": {},
   "outputs": [
    {
     "data": {
      "text/html": [
       "<div>\n",
       "<style scoped>\n",
       "    .dataframe tbody tr th:only-of-type {\n",
       "        vertical-align: middle;\n",
       "    }\n",
       "\n",
       "    .dataframe tbody tr th {\n",
       "        vertical-align: top;\n",
       "    }\n",
       "\n",
       "    .dataframe thead th {\n",
       "        text-align: right;\n",
       "    }\n",
       "</style>\n",
       "<table border=\"1\" class=\"dataframe\">\n",
       "  <thead>\n",
       "    <tr style=\"text-align: right;\">\n",
       "      <th></th>\n",
       "      <th>id</th>\n",
       "      <th>member_id</th>\n",
       "      <th>loan_amnt</th>\n",
       "      <th>funded_amnt</th>\n",
       "      <th>funded_amnt_inv</th>\n",
       "      <th>installment</th>\n",
       "      <th>annual_inc</th>\n",
       "      <th>dti</th>\n",
       "      <th>delinq_2yrs</th>\n",
       "      <th>inq_last_6mths</th>\n",
       "      <th>open_acc</th>\n",
       "      <th>pub_rec</th>\n",
       "      <th>revol_bal</th>\n",
       "      <th>total_acc</th>\n",
       "      <th>out_prncp</th>\n",
       "      <th>out_prncp_inv</th>\n",
       "      <th>total_pymnt</th>\n",
       "      <th>total_pymnt_inv</th>\n",
       "      <th>total_rec_prncp</th>\n",
       "      <th>total_rec_int</th>\n",
       "      <th>total_rec_late_fee</th>\n",
       "      <th>recoveries</th>\n",
       "      <th>collection_recovery_fee</th>\n",
       "      <th>last_pymnt_amnt</th>\n",
       "      <th>collections_12_mths_ex_med</th>\n",
       "      <th>chargeoff_within_12_mths</th>\n",
       "      <th>delinq_amnt</th>\n",
       "      <th>pub_rec_bankruptcies</th>\n",
       "      <th>tax_liens</th>\n",
       "    </tr>\n",
       "  </thead>\n",
       "  <tbody>\n",
       "    <tr>\n",
       "      <th>count</th>\n",
       "      <td>3.978600e+04</td>\n",
       "      <td>3.978600e+04</td>\n",
       "      <td>39786.000000</td>\n",
       "      <td>39786.000000</td>\n",
       "      <td>39786.000000</td>\n",
       "      <td>39786.000000</td>\n",
       "      <td>3.978600e+04</td>\n",
       "      <td>39786.000000</td>\n",
       "      <td>39786.000000</td>\n",
       "      <td>39786.000000</td>\n",
       "      <td>39786.000000</td>\n",
       "      <td>39786.000000</td>\n",
       "      <td>39786.000000</td>\n",
       "      <td>39786.000000</td>\n",
       "      <td>39786.000000</td>\n",
       "      <td>39786.000000</td>\n",
       "      <td>39786.000000</td>\n",
       "      <td>39786.000000</td>\n",
       "      <td>39786.000000</td>\n",
       "      <td>39786.000000</td>\n",
       "      <td>39786.000000</td>\n",
       "      <td>39786.000000</td>\n",
       "      <td>39786.000000</td>\n",
       "      <td>39786.000000</td>\n",
       "      <td>39730.0</td>\n",
       "      <td>39730.0</td>\n",
       "      <td>39786.0</td>\n",
       "      <td>39089.000000</td>\n",
       "      <td>39747.0</td>\n",
       "    </tr>\n",
       "    <tr>\n",
       "      <th>mean</th>\n",
       "      <td>6.833939e+05</td>\n",
       "      <td>8.507937e+05</td>\n",
       "      <td>11231.360277</td>\n",
       "      <td>10958.722289</td>\n",
       "      <td>10409.018679</td>\n",
       "      <td>324.733637</td>\n",
       "      <td>6.897907e+04</td>\n",
       "      <td>13.317794</td>\n",
       "      <td>0.146534</td>\n",
       "      <td>0.869049</td>\n",
       "      <td>9.294023</td>\n",
       "      <td>0.055145</td>\n",
       "      <td>13391.983914</td>\n",
       "      <td>22.090308</td>\n",
       "      <td>0.243652</td>\n",
       "      <td>0.243008</td>\n",
       "      <td>12229.749157</td>\n",
       "      <td>11643.389721</td>\n",
       "      <td>9855.330536</td>\n",
       "      <td>2276.328632</td>\n",
       "      <td>1.388346</td>\n",
       "      <td>96.701726</td>\n",
       "      <td>12.625390</td>\n",
       "      <td>2679.092793</td>\n",
       "      <td>0.0</td>\n",
       "      <td>0.0</td>\n",
       "      <td>0.0</td>\n",
       "      <td>0.043286</td>\n",
       "      <td>0.0</td>\n",
       "    </tr>\n",
       "    <tr>\n",
       "      <th>std</th>\n",
       "      <td>2.106770e+05</td>\n",
       "      <td>2.656370e+05</td>\n",
       "      <td>7464.542832</td>\n",
       "      <td>7194.076908</td>\n",
       "      <td>7135.760122</td>\n",
       "      <td>208.923212</td>\n",
       "      <td>6.376263e+04</td>\n",
       "      <td>6.678300</td>\n",
       "      <td>0.491826</td>\n",
       "      <td>1.070069</td>\n",
       "      <td>4.399997</td>\n",
       "      <td>0.237653</td>\n",
       "      <td>15894.635107</td>\n",
       "      <td>11.401620</td>\n",
       "      <td>16.519730</td>\n",
       "      <td>16.486985</td>\n",
       "      <td>9165.377882</td>\n",
       "      <td>9068.751337</td>\n",
       "      <td>7143.226346</td>\n",
       "      <td>2632.387428</td>\n",
       "      <td>7.397535</td>\n",
       "      <td>695.728659</td>\n",
       "      <td>149.855504</td>\n",
       "      <td>4443.383020</td>\n",
       "      <td>0.0</td>\n",
       "      <td>0.0</td>\n",
       "      <td>0.0</td>\n",
       "      <td>0.204381</td>\n",
       "      <td>0.0</td>\n",
       "    </tr>\n",
       "    <tr>\n",
       "      <th>min</th>\n",
       "      <td>5.473400e+04</td>\n",
       "      <td>7.069900e+04</td>\n",
       "      <td>500.000000</td>\n",
       "      <td>500.000000</td>\n",
       "      <td>0.000000</td>\n",
       "      <td>15.690000</td>\n",
       "      <td>4.000000e+03</td>\n",
       "      <td>0.000000</td>\n",
       "      <td>0.000000</td>\n",
       "      <td>0.000000</td>\n",
       "      <td>2.000000</td>\n",
       "      <td>0.000000</td>\n",
       "      <td>0.000000</td>\n",
       "      <td>2.000000</td>\n",
       "      <td>0.000000</td>\n",
       "      <td>0.000000</td>\n",
       "      <td>0.000000</td>\n",
       "      <td>0.000000</td>\n",
       "      <td>0.000000</td>\n",
       "      <td>0.000000</td>\n",
       "      <td>0.000000</td>\n",
       "      <td>0.000000</td>\n",
       "      <td>0.000000</td>\n",
       "      <td>0.000000</td>\n",
       "      <td>0.0</td>\n",
       "      <td>0.0</td>\n",
       "      <td>0.0</td>\n",
       "      <td>0.000000</td>\n",
       "      <td>0.0</td>\n",
       "    </tr>\n",
       "    <tr>\n",
       "      <th>25%</th>\n",
       "      <td>5.163518e+05</td>\n",
       "      <td>6.670548e+05</td>\n",
       "      <td>5500.000000</td>\n",
       "      <td>5400.000000</td>\n",
       "      <td>5000.000000</td>\n",
       "      <td>167.080000</td>\n",
       "      <td>4.050000e+04</td>\n",
       "      <td>8.180000</td>\n",
       "      <td>0.000000</td>\n",
       "      <td>0.000000</td>\n",
       "      <td>6.000000</td>\n",
       "      <td>0.000000</td>\n",
       "      <td>3704.250000</td>\n",
       "      <td>13.000000</td>\n",
       "      <td>0.000000</td>\n",
       "      <td>0.000000</td>\n",
       "      <td>5583.267107</td>\n",
       "      <td>5121.152500</td>\n",
       "      <td>4620.910000</td>\n",
       "      <td>663.045000</td>\n",
       "      <td>0.000000</td>\n",
       "      <td>0.000000</td>\n",
       "      <td>0.000000</td>\n",
       "      <td>218.072500</td>\n",
       "      <td>0.0</td>\n",
       "      <td>0.0</td>\n",
       "      <td>0.0</td>\n",
       "      <td>0.000000</td>\n",
       "      <td>0.0</td>\n",
       "    </tr>\n",
       "    <tr>\n",
       "      <th>50%</th>\n",
       "      <td>6.662295e+05</td>\n",
       "      <td>8.515440e+05</td>\n",
       "      <td>10000.000000</td>\n",
       "      <td>9650.000000</td>\n",
       "      <td>8975.000000</td>\n",
       "      <td>280.610000</td>\n",
       "      <td>5.900000e+04</td>\n",
       "      <td>13.410000</td>\n",
       "      <td>0.000000</td>\n",
       "      <td>1.000000</td>\n",
       "      <td>9.000000</td>\n",
       "      <td>0.000000</td>\n",
       "      <td>8859.500000</td>\n",
       "      <td>20.000000</td>\n",
       "      <td>0.000000</td>\n",
       "      <td>0.000000</td>\n",
       "      <td>9934.743269</td>\n",
       "      <td>9311.345000</td>\n",
       "      <td>8000.000000</td>\n",
       "      <td>1352.805000</td>\n",
       "      <td>0.000000</td>\n",
       "      <td>0.000000</td>\n",
       "      <td>0.000000</td>\n",
       "      <td>549.425000</td>\n",
       "      <td>0.0</td>\n",
       "      <td>0.0</td>\n",
       "      <td>0.0</td>\n",
       "      <td>0.000000</td>\n",
       "      <td>0.0</td>\n",
       "    </tr>\n",
       "    <tr>\n",
       "      <th>75%</th>\n",
       "      <td>8.378710e+05</td>\n",
       "      <td>1.047528e+06</td>\n",
       "      <td>15000.000000</td>\n",
       "      <td>15000.000000</td>\n",
       "      <td>14400.000000</td>\n",
       "      <td>430.780000</td>\n",
       "      <td>8.234250e+04</td>\n",
       "      <td>18.600000</td>\n",
       "      <td>0.000000</td>\n",
       "      <td>1.000000</td>\n",
       "      <td>12.000000</td>\n",
       "      <td>0.000000</td>\n",
       "      <td>17065.000000</td>\n",
       "      <td>29.000000</td>\n",
       "      <td>0.000000</td>\n",
       "      <td>0.000000</td>\n",
       "      <td>16626.218508</td>\n",
       "      <td>15904.797500</td>\n",
       "      <td>14000.000000</td>\n",
       "      <td>2845.567500</td>\n",
       "      <td>0.000000</td>\n",
       "      <td>0.000000</td>\n",
       "      <td>0.000000</td>\n",
       "      <td>3292.122500</td>\n",
       "      <td>0.0</td>\n",
       "      <td>0.0</td>\n",
       "      <td>0.0</td>\n",
       "      <td>0.000000</td>\n",
       "      <td>0.0</td>\n",
       "    </tr>\n",
       "    <tr>\n",
       "      <th>max</th>\n",
       "      <td>1.077501e+06</td>\n",
       "      <td>1.314167e+06</td>\n",
       "      <td>35000.000000</td>\n",
       "      <td>35000.000000</td>\n",
       "      <td>35000.000000</td>\n",
       "      <td>1305.190000</td>\n",
       "      <td>6.000000e+06</td>\n",
       "      <td>29.990000</td>\n",
       "      <td>11.000000</td>\n",
       "      <td>8.000000</td>\n",
       "      <td>44.000000</td>\n",
       "      <td>4.000000</td>\n",
       "      <td>149588.000000</td>\n",
       "      <td>90.000000</td>\n",
       "      <td>1974.730000</td>\n",
       "      <td>1972.730000</td>\n",
       "      <td>58886.473430</td>\n",
       "      <td>58563.680000</td>\n",
       "      <td>35000.020000</td>\n",
       "      <td>23886.470000</td>\n",
       "      <td>180.200000</td>\n",
       "      <td>29623.350000</td>\n",
       "      <td>7002.190000</td>\n",
       "      <td>36115.200000</td>\n",
       "      <td>0.0</td>\n",
       "      <td>0.0</td>\n",
       "      <td>0.0</td>\n",
       "      <td>2.000000</td>\n",
       "      <td>0.0</td>\n",
       "    </tr>\n",
       "  </tbody>\n",
       "</table>\n",
       "</div>"
      ],
      "text/plain": [
       "                 id     member_id     loan_amnt   funded_amnt  funded_amnt_inv   installment    annual_inc           dti   delinq_2yrs  inq_last_6mths      open_acc       pub_rec      revol_bal     total_acc     out_prncp  out_prncp_inv   total_pymnt  total_pymnt_inv  total_rec_prncp  total_rec_int  total_rec_late_fee    recoveries  collection_recovery_fee  last_pymnt_amnt  collections_12_mths_ex_med  chargeoff_within_12_mths  delinq_amnt  pub_rec_bankruptcies  tax_liens\n",
       "count  3.978600e+04  3.978600e+04  39786.000000  39786.000000     39786.000000  39786.000000  3.978600e+04  39786.000000  39786.000000    39786.000000  39786.000000  39786.000000   39786.000000  39786.000000  39786.000000   39786.000000  39786.000000     39786.000000     39786.000000   39786.000000        39786.000000  39786.000000             39786.000000     39786.000000                     39730.0                   39730.0      39786.0          39089.000000    39747.0\n",
       "mean   6.833939e+05  8.507937e+05  11231.360277  10958.722289     10409.018679    324.733637  6.897907e+04     13.317794      0.146534        0.869049      9.294023      0.055145   13391.983914     22.090308      0.243652       0.243008  12229.749157     11643.389721      9855.330536    2276.328632            1.388346     96.701726                12.625390      2679.092793                         0.0                       0.0          0.0              0.043286        0.0\n",
       "std    2.106770e+05  2.656370e+05   7464.542832   7194.076908      7135.760122    208.923212  6.376263e+04      6.678300      0.491826        1.070069      4.399997      0.237653   15894.635107     11.401620     16.519730      16.486985   9165.377882      9068.751337      7143.226346    2632.387428            7.397535    695.728659               149.855504      4443.383020                         0.0                       0.0          0.0              0.204381        0.0\n",
       "min    5.473400e+04  7.069900e+04    500.000000    500.000000         0.000000     15.690000  4.000000e+03      0.000000      0.000000        0.000000      2.000000      0.000000       0.000000      2.000000      0.000000       0.000000      0.000000         0.000000         0.000000       0.000000            0.000000      0.000000                 0.000000         0.000000                         0.0                       0.0          0.0              0.000000        0.0\n",
       "25%    5.163518e+05  6.670548e+05   5500.000000   5400.000000      5000.000000    167.080000  4.050000e+04      8.180000      0.000000        0.000000      6.000000      0.000000    3704.250000     13.000000      0.000000       0.000000   5583.267107      5121.152500      4620.910000     663.045000            0.000000      0.000000                 0.000000       218.072500                         0.0                       0.0          0.0              0.000000        0.0\n",
       "50%    6.662295e+05  8.515440e+05  10000.000000   9650.000000      8975.000000    280.610000  5.900000e+04     13.410000      0.000000        1.000000      9.000000      0.000000    8859.500000     20.000000      0.000000       0.000000   9934.743269      9311.345000      8000.000000    1352.805000            0.000000      0.000000                 0.000000       549.425000                         0.0                       0.0          0.0              0.000000        0.0\n",
       "75%    8.378710e+05  1.047528e+06  15000.000000  15000.000000     14400.000000    430.780000  8.234250e+04     18.600000      0.000000        1.000000     12.000000      0.000000   17065.000000     29.000000      0.000000       0.000000  16626.218508     15904.797500     14000.000000    2845.567500            0.000000      0.000000                 0.000000      3292.122500                         0.0                       0.0          0.0              0.000000        0.0\n",
       "max    1.077501e+06  1.314167e+06  35000.000000  35000.000000     35000.000000   1305.190000  6.000000e+06     29.990000     11.000000        8.000000     44.000000      4.000000  149588.000000     90.000000   1974.730000    1972.730000  58886.473430     58563.680000     35000.020000   23886.470000          180.200000  29623.350000              7002.190000     36115.200000                         0.0                       0.0          0.0              2.000000        0.0"
      ]
     },
     "execution_count": 88,
     "metadata": {},
     "output_type": "execute_result"
    }
   ],
   "source": [
    "df.describe()"
   ]
  },
  {
   "cell_type": "code",
   "execution_count": 89,
   "metadata": {},
   "outputs": [
    {
     "name": "stdout",
     "output_type": "stream",
     "text": [
      "<class 'pandas.core.frame.DataFrame'>\n",
      "RangeIndex: 39786 entries, 0 to 39785\n",
      "Columns: 47 entries, id to tax_liens\n",
      "dtypes: float64(18), int64(11), object(18)\n",
      "memory usage: 51.6 MB\n"
     ]
    }
   ],
   "source": [
    "# checking how much memory is used by the DataFrame\n",
    "df.info(verbose=False, memory_usage=\"deep\")"
   ]
  },
  {
   "cell_type": "code",
   "execution_count": 94,
   "metadata": {
    "scrolled": true
   },
   "outputs": [
    {
     "name": "stdout",
     "output_type": "stream",
     "text": [
      "2.71% : emp_length\n",
      "0.13% : revol_util\n",
      "0.18% : last_pymnt_d\n",
      "0.01% : last_credit_pull_d\n",
      "0.14% : collections_12_mths_ex_med\n",
      "0.14% : chargeoff_within_12_mths\n",
      "1.75% : pub_rec_bankruptcies\n",
      "0.1% : tax_liens\n"
     ]
    }
   ],
   "source": [
    "# % of rows missing in each column\n",
    "list_columns_nan = list()\n",
    "\n",
    "for column in df.columns:\n",
    "    percentage = df[column].isnull().mean()\n",
    "    if(percentage != 0):\n",
    "        print(f'{round(percentage*100, 2)}% : {column}')\n",
    "        list_columns_nan.append(column)"
   ]
  },
  {
   "cell_type": "markdown",
   "metadata": {},
   "source": [
    "## Identify Missing Data"
   ]
  },
  {
   "cell_type": "code",
   "execution_count": 103,
   "metadata": {},
   "outputs": [
    {
     "data": {
      "text/plain": [
       "id                               0\n",
       "total_acc                        0\n",
       "delinq_2yrs                      0\n",
       "out_prncp_inv                    0\n",
       "revol_bal                        0\n",
       "total_pymnt_inv                  0\n",
       "inq_last_6mths                   0\n",
       "out_prncp                        0\n",
       "pub_rec                          0\n",
       "total_pymnt                      0\n",
       "collection_recovery_fee          0\n",
       "last_pymnt_amnt                  0\n",
       "application_type                 0\n",
       "delinq_amnt                      0\n",
       "total_rec_prncp                  0\n",
       "total_rec_int                    0\n",
       "total_rec_late_fee               0\n",
       "recoveries                       0\n",
       "earliest_cr_line                 0\n",
       "initial_list_status              0\n",
       "open_acc                         0\n",
       "funded_amnt                      0\n",
       "term                             0\n",
       "int_rate                         0\n",
       "loan_amnt                        0\n",
       "dti                              0\n",
       "funded_amnt_inv                  0\n",
       "sub_grade                        0\n",
       "member_id                        0\n",
       "installment                      0\n",
       "addr_state                       0\n",
       "issue_d                          0\n",
       "loan_status                      0\n",
       "pymnt_plan                       0\n",
       "zip_code                         0\n",
       "grade                            0\n",
       "home_ownership                   0\n",
       "annual_inc                       0\n",
       "verification_status              0\n",
       "last_credit_pull_d               2\n",
       "tax_liens                       39\n",
       "revol_util                      50\n",
       "collections_12_mths_ex_med      56\n",
       "chargeoff_within_12_mths        56\n",
       "last_pymnt_d                    71\n",
       "pub_rec_bankruptcies           697\n",
       "emp_length                    1078\n",
       "dtype: int64"
      ]
     },
     "execution_count": 103,
     "metadata": {},
     "output_type": "execute_result"
    }
   ],
   "source": [
    "# count NaN found in the dataset\n",
    "df.isna().sum()"
   ]
  },
  {
   "cell_type": "markdown",
   "metadata": {},
   "source": [
    "## Missing value per feature - heatmap"
   ]
  },
  {
   "cell_type": "code",
   "execution_count": 104,
   "metadata": {},
   "outputs": [
    {
     "data": {
      "text/plain": [
       "<AxesSubplot:title={'center':'Missing Values Per Feature'}>"
      ]
     },
     "execution_count": 104,
     "metadata": {},
     "output_type": "execute_result"
    },
    {
     "data": {
      "image/png": "[encoded data removed]",
      "text/plain": [
       "<Figure size 432x288 with 2 Axes>"
      ]
     },
     "metadata": {
      "needs_background": "light"
     },
     "output_type": "display_data"
    }
   ],
   "source": [
    "plt.title('Missing Values Per Feature')\n",
    "nans = df.isna().sum().sort_values(ascending=False).to_frame() # get NaN\n",
    "sns.heatmap(nans,annot=True,fmt='d',cmap='vlag') # seaborn"
   ]
  },
  {
   "cell_type": "code",
   "execution_count": 105,
   "metadata": {},
   "outputs": [
    {
     "data": {
      "text/plain": [
       "(39786, 47)"
      ]
     },
     "execution_count": 105,
     "metadata": {},
     "output_type": "execute_result"
    }
   ],
   "source": [
    "#df = df.dropna() # drop rows with NaN's\n",
    "df.shape"
   ]
  },
  {
   "cell_type": "code",
   "execution_count": 106,
   "metadata": {},
   "outputs": [],
   "source": [
    "# remove rows with missing data\n",
    "#df = df.dropna()\n",
    "\n",
    "# drop a column\n",
    "# df.drop('column_name', axis=1)"
   ]
  },
  {
   "cell_type": "markdown",
   "metadata": {},
   "source": [
    "# Replace it by the mean, median or mode"
   ]
  },
  {
   "cell_type": "code",
   "execution_count": 107,
   "metadata": {},
   "outputs": [
    {
     "data": {
      "text/html": [
       "<div>\n",
       "<style scoped>\n",
       "    .dataframe tbody tr th:only-of-type {\n",
       "        vertical-align: middle;\n",
       "    }\n",
       "\n",
       "    .dataframe tbody tr th {\n",
       "        vertical-align: top;\n",
       "    }\n",
       "\n",
       "    .dataframe thead th {\n",
       "        text-align: right;\n",
       "    }\n",
       "</style>\n",
       "<table border=\"1\" class=\"dataframe\">\n",
       "  <thead>\n",
       "    <tr style=\"text-align: right;\">\n",
       "      <th></th>\n",
       "      <th>emp_length</th>\n",
       "      <th>revol_util</th>\n",
       "      <th>last_pymnt_d</th>\n",
       "      <th>last_credit_pull_d</th>\n",
       "      <th>collections_12_mths_ex_med</th>\n",
       "      <th>chargeoff_within_12_mths</th>\n",
       "      <th>pub_rec_bankruptcies</th>\n",
       "      <th>tax_liens</th>\n",
       "    </tr>\n",
       "  </thead>\n",
       "  <tbody>\n",
       "    <tr>\n",
       "      <th>0</th>\n",
       "      <td>10+ years</td>\n",
       "      <td>83.70%</td>\n",
       "      <td>Jan-15</td>\n",
       "      <td>Jan-17</td>\n",
       "      <td>0.0</td>\n",
       "      <td>0.0</td>\n",
       "      <td>0.0</td>\n",
       "      <td>0.0</td>\n",
       "    </tr>\n",
       "    <tr>\n",
       "      <th>1</th>\n",
       "      <td>&lt; 1 year</td>\n",
       "      <td>9.40%</td>\n",
       "      <td>Apr-13</td>\n",
       "      <td>Oct-16</td>\n",
       "      <td>0.0</td>\n",
       "      <td>0.0</td>\n",
       "      <td>0.0</td>\n",
       "      <td>0.0</td>\n",
       "    </tr>\n",
       "    <tr>\n",
       "      <th>2</th>\n",
       "      <td>10+ years</td>\n",
       "      <td>98.50%</td>\n",
       "      <td>Jun-14</td>\n",
       "      <td>Jan-17</td>\n",
       "      <td>0.0</td>\n",
       "      <td>0.0</td>\n",
       "      <td>0.0</td>\n",
       "      <td>0.0</td>\n",
       "    </tr>\n",
       "    <tr>\n",
       "      <th>3</th>\n",
       "      <td>10+ years</td>\n",
       "      <td>21%</td>\n",
       "      <td>Jan-15</td>\n",
       "      <td>Apr-16</td>\n",
       "      <td>0.0</td>\n",
       "      <td>0.0</td>\n",
       "      <td>0.0</td>\n",
       "      <td>0.0</td>\n",
       "    </tr>\n",
       "    <tr>\n",
       "      <th>4</th>\n",
       "      <td>1 year</td>\n",
       "      <td>53.90%</td>\n",
       "      <td>Jan-17</td>\n",
       "      <td>Jan-17</td>\n",
       "      <td>0.0</td>\n",
       "      <td>0.0</td>\n",
       "      <td>0.0</td>\n",
       "      <td>0.0</td>\n",
       "    </tr>\n",
       "  </tbody>\n",
       "</table>\n",
       "</div>"
      ],
      "text/plain": [
       "  emp_length revol_util last_pymnt_d last_credit_pull_d  collections_12_mths_ex_med  chargeoff_within_12_mths  pub_rec_bankruptcies  tax_liens\n",
       "0  10+ years     83.70%       Jan-15             Jan-17                         0.0                       0.0                   0.0        0.0\n",
       "1   < 1 year      9.40%       Apr-13             Oct-16                         0.0                       0.0                   0.0        0.0\n",
       "2  10+ years     98.50%       Jun-14             Jan-17                         0.0                       0.0                   0.0        0.0\n",
       "3  10+ years        21%       Jan-15             Apr-16                         0.0                       0.0                   0.0        0.0\n",
       "4     1 year     53.90%       Jan-17             Jan-17                         0.0                       0.0                   0.0        0.0"
      ]
     },
     "execution_count": 107,
     "metadata": {},
     "output_type": "execute_result"
    }
   ],
   "source": [
    "df[list_columns_nan].head()"
   ]
  },
  {
   "cell_type": "code",
   "execution_count": 63,
   "metadata": {},
   "outputs": [],
   "source": [
    "# remove a special character on dataframe\n",
    "df['revol_util'] = df['revol_util'].str.replace('%', '')\n",
    "df['int_rate'] = df['int_rate'].str.replace('%', '')\n",
    "\n",
    "# Convert object to float\n",
    "df[['revol_util','int_rate']] = df[['revol_util','int_rate']].astype(float)\n",
    "\n",
    "# convert obejct category\n",
    "list_cat = ['last_pymnt_d', 'last_credit_pull_d']\n",
    "\n",
    "for ilist in list_cat:\n",
    "    df[f'{ilist}'] = df[f'{ilist}'].astype('category')"
   ]
  },
  {
   "cell_type": "code",
   "execution_count": 64,
   "metadata": {},
   "outputs": [
    {
     "data": {
      "text/plain": [
       "emp_length                      object\n",
       "revol_util                     float64\n",
       "last_pymnt_d                  category\n",
       "last_credit_pull_d            category\n",
       "collections_12_mths_ex_med     float64\n",
       "chargeoff_within_12_mths       float64\n",
       "pub_rec_bankruptcies           float64\n",
       "tax_liens                      float64\n",
       "dtype: object"
      ]
     },
     "execution_count": 64,
     "metadata": {},
     "output_type": "execute_result"
    }
   ],
   "source": [
    "df[list_columns_nan].dtypes"
   ]
  },
  {
   "cell_type": "code",
   "execution_count": 65,
   "metadata": {},
   "outputs": [],
   "source": [
    "# the mode replaces categorical data.\n",
    "mode = ''.join(df['emp_length'].mode())\n",
    "df['emp_length'].fillna(mode, inplace=True)\n",
    "\n",
    "# datetime\n",
    "list_datetime = ['last_pymnt_d', 'last_credit_pull_d']\n",
    "\n",
    "for ilist in list_datetime:\n",
    "    mode = ''.join(df[f'{ilist}'].mode())\n",
    "    df[f'{ilist}'].fillna(mode, inplace=True)\n",
    "\n",
    "\n",
    "# list columns float\n",
    "list_impute_mean = ['revol_util',\n",
    "                    'collections_12_mths_ex_med',\n",
    "                    'chargeoff_within_12_mths',\n",
    "                    'pub_rec_bankruptcies',\n",
    "                    'tax_liens'\n",
    "                   ]\n",
    "\n",
    "# impute mean to missing values\n",
    "df = df.fillna(df[list_impute_mean].mean())"
   ]
  },
  {
   "cell_type": "code",
   "execution_count": 66,
   "metadata": {},
   "outputs": [
    {
     "data": {
      "text/plain": [
       "emp_length                      object\n",
       "revol_util                     float64\n",
       "last_pymnt_d                  category\n",
       "last_credit_pull_d            category\n",
       "collections_12_mths_ex_med     float64\n",
       "chargeoff_within_12_mths       float64\n",
       "pub_rec_bankruptcies           float64\n",
       "tax_liens                      float64\n",
       "dtype: object"
      ]
     },
     "execution_count": 66,
     "metadata": {},
     "output_type": "execute_result"
    }
   ],
   "source": [
    "df[list_columns_nan].dtypes"
   ]
  },
  {
   "cell_type": "code",
   "execution_count": 67,
   "metadata": {},
   "outputs": [
    {
     "data": {
      "text/html": [
       "<div>\n",
       "<style scoped>\n",
       "    .dataframe tbody tr th:only-of-type {\n",
       "        vertical-align: middle;\n",
       "    }\n",
       "\n",
       "    .dataframe tbody tr th {\n",
       "        vertical-align: top;\n",
       "    }\n",
       "\n",
       "    .dataframe thead th {\n",
       "        text-align: right;\n",
       "    }\n",
       "</style>\n",
       "<table border=\"1\" class=\"dataframe\">\n",
       "  <thead>\n",
       "    <tr style=\"text-align: right;\">\n",
       "      <th></th>\n",
       "      <th>id</th>\n",
       "      <th>member_id</th>\n",
       "      <th>loan_amnt</th>\n",
       "      <th>funded_amnt</th>\n",
       "      <th>funded_amnt_inv</th>\n",
       "      <th>term</th>\n",
       "      <th>int_rate</th>\n",
       "      <th>installment</th>\n",
       "      <th>grade</th>\n",
       "      <th>sub_grade</th>\n",
       "      <th>emp_length</th>\n",
       "      <th>home_ownership</th>\n",
       "      <th>annual_inc</th>\n",
       "      <th>verification_status</th>\n",
       "      <th>issue_d</th>\n",
       "      <th>loan_status</th>\n",
       "      <th>pymnt_plan</th>\n",
       "      <th>zip_code</th>\n",
       "      <th>addr_state</th>\n",
       "      <th>dti</th>\n",
       "      <th>delinq_2yrs</th>\n",
       "      <th>earliest_cr_line</th>\n",
       "      <th>inq_last_6mths</th>\n",
       "      <th>open_acc</th>\n",
       "      <th>pub_rec</th>\n",
       "      <th>revol_bal</th>\n",
       "      <th>revol_util</th>\n",
       "      <th>total_acc</th>\n",
       "      <th>initial_list_status</th>\n",
       "      <th>out_prncp</th>\n",
       "      <th>out_prncp_inv</th>\n",
       "      <th>total_pymnt</th>\n",
       "      <th>total_pymnt_inv</th>\n",
       "      <th>total_rec_prncp</th>\n",
       "      <th>total_rec_int</th>\n",
       "      <th>total_rec_late_fee</th>\n",
       "      <th>recoveries</th>\n",
       "      <th>collection_recovery_fee</th>\n",
       "      <th>last_pymnt_d</th>\n",
       "      <th>last_pymnt_amnt</th>\n",
       "      <th>last_credit_pull_d</th>\n",
       "      <th>collections_12_mths_ex_med</th>\n",
       "      <th>application_type</th>\n",
       "      <th>chargeoff_within_12_mths</th>\n",
       "      <th>delinq_amnt</th>\n",
       "      <th>pub_rec_bankruptcies</th>\n",
       "      <th>tax_liens</th>\n",
       "    </tr>\n",
       "  </thead>\n",
       "  <tbody>\n",
       "    <tr>\n",
       "      <th>0</th>\n",
       "      <td>1077501</td>\n",
       "      <td>1296599</td>\n",
       "      <td>5000</td>\n",
       "      <td>5000</td>\n",
       "      <td>4975.0</td>\n",
       "      <td>36 months</td>\n",
       "      <td>10.65</td>\n",
       "      <td>162.87</td>\n",
       "      <td>B</td>\n",
       "      <td>B2</td>\n",
       "      <td>10+ years</td>\n",
       "      <td>RENT</td>\n",
       "      <td>24000.0</td>\n",
       "      <td>Verified</td>\n",
       "      <td>Dec-11</td>\n",
       "      <td>Fully Paid</td>\n",
       "      <td>n</td>\n",
       "      <td>860xx</td>\n",
       "      <td>AZ</td>\n",
       "      <td>27.65</td>\n",
       "      <td>0</td>\n",
       "      <td>Jan-85</td>\n",
       "      <td>1</td>\n",
       "      <td>3</td>\n",
       "      <td>0</td>\n",
       "      <td>13648</td>\n",
       "      <td>83.7</td>\n",
       "      <td>9</td>\n",
       "      <td>f</td>\n",
       "      <td>0.0</td>\n",
       "      <td>0.0</td>\n",
       "      <td>5863.155187</td>\n",
       "      <td>5833.84</td>\n",
       "      <td>5000.00</td>\n",
       "      <td>863.16</td>\n",
       "      <td>0.00</td>\n",
       "      <td>0.0</td>\n",
       "      <td>0.00</td>\n",
       "      <td>Jan-15</td>\n",
       "      <td>171.62</td>\n",
       "      <td>Jan-17</td>\n",
       "      <td>0.0</td>\n",
       "      <td>INDIVIDUAL</td>\n",
       "      <td>0.0</td>\n",
       "      <td>0</td>\n",
       "      <td>0.000000</td>\n",
       "      <td>0.0</td>\n",
       "    </tr>\n",
       "    <tr>\n",
       "      <th>1</th>\n",
       "      <td>1077430</td>\n",
       "      <td>1314167</td>\n",
       "      <td>2500</td>\n",
       "      <td>2500</td>\n",
       "      <td>2500.0</td>\n",
       "      <td>60 months</td>\n",
       "      <td>15.27</td>\n",
       "      <td>59.83</td>\n",
       "      <td>C</td>\n",
       "      <td>C4</td>\n",
       "      <td>&lt; 1 year</td>\n",
       "      <td>RENT</td>\n",
       "      <td>30000.0</td>\n",
       "      <td>Source Verified</td>\n",
       "      <td>Dec-11</td>\n",
       "      <td>Charged Off</td>\n",
       "      <td>n</td>\n",
       "      <td>309xx</td>\n",
       "      <td>GA</td>\n",
       "      <td>1.00</td>\n",
       "      <td>0</td>\n",
       "      <td>Apr-99</td>\n",
       "      <td>5</td>\n",
       "      <td>3</td>\n",
       "      <td>0</td>\n",
       "      <td>1687</td>\n",
       "      <td>9.4</td>\n",
       "      <td>4</td>\n",
       "      <td>f</td>\n",
       "      <td>0.0</td>\n",
       "      <td>0.0</td>\n",
       "      <td>1014.530000</td>\n",
       "      <td>1014.53</td>\n",
       "      <td>456.46</td>\n",
       "      <td>435.17</td>\n",
       "      <td>0.00</td>\n",
       "      <td>122.9</td>\n",
       "      <td>1.11</td>\n",
       "      <td>Apr-13</td>\n",
       "      <td>119.66</td>\n",
       "      <td>Oct-16</td>\n",
       "      <td>0.0</td>\n",
       "      <td>INDIVIDUAL</td>\n",
       "      <td>0.0</td>\n",
       "      <td>0</td>\n",
       "      <td>0.000000</td>\n",
       "      <td>0.0</td>\n",
       "    </tr>\n",
       "    <tr>\n",
       "      <th>2</th>\n",
       "      <td>1077175</td>\n",
       "      <td>1313524</td>\n",
       "      <td>2400</td>\n",
       "      <td>2400</td>\n",
       "      <td>2400.0</td>\n",
       "      <td>36 months</td>\n",
       "      <td>15.96</td>\n",
       "      <td>84.33</td>\n",
       "      <td>C</td>\n",
       "      <td>C5</td>\n",
       "      <td>10+ years</td>\n",
       "      <td>RENT</td>\n",
       "      <td>12252.0</td>\n",
       "      <td>Not Verified</td>\n",
       "      <td>Dec-11</td>\n",
       "      <td>Fully Paid</td>\n",
       "      <td>n</td>\n",
       "      <td>606xx</td>\n",
       "      <td>IL</td>\n",
       "      <td>8.72</td>\n",
       "      <td>0</td>\n",
       "      <td>Nov-01</td>\n",
       "      <td>2</td>\n",
       "      <td>2</td>\n",
       "      <td>0</td>\n",
       "      <td>2956</td>\n",
       "      <td>98.5</td>\n",
       "      <td>10</td>\n",
       "      <td>f</td>\n",
       "      <td>0.0</td>\n",
       "      <td>0.0</td>\n",
       "      <td>3005.666844</td>\n",
       "      <td>3005.67</td>\n",
       "      <td>2400.00</td>\n",
       "      <td>605.67</td>\n",
       "      <td>0.00</td>\n",
       "      <td>0.0</td>\n",
       "      <td>0.00</td>\n",
       "      <td>Jun-14</td>\n",
       "      <td>649.91</td>\n",
       "      <td>Jan-17</td>\n",
       "      <td>0.0</td>\n",
       "      <td>INDIVIDUAL</td>\n",
       "      <td>0.0</td>\n",
       "      <td>0</td>\n",
       "      <td>0.000000</td>\n",
       "      <td>0.0</td>\n",
       "    </tr>\n",
       "    <tr>\n",
       "      <th>3</th>\n",
       "      <td>1076863</td>\n",
       "      <td>1277178</td>\n",
       "      <td>10000</td>\n",
       "      <td>10000</td>\n",
       "      <td>10000.0</td>\n",
       "      <td>36 months</td>\n",
       "      <td>13.49</td>\n",
       "      <td>339.31</td>\n",
       "      <td>C</td>\n",
       "      <td>C1</td>\n",
       "      <td>10+ years</td>\n",
       "      <td>RENT</td>\n",
       "      <td>49200.0</td>\n",
       "      <td>Source Verified</td>\n",
       "      <td>Dec-11</td>\n",
       "      <td>Fully Paid</td>\n",
       "      <td>n</td>\n",
       "      <td>917xx</td>\n",
       "      <td>CA</td>\n",
       "      <td>20.00</td>\n",
       "      <td>0</td>\n",
       "      <td>Feb-96</td>\n",
       "      <td>1</td>\n",
       "      <td>10</td>\n",
       "      <td>0</td>\n",
       "      <td>5598</td>\n",
       "      <td>21.0</td>\n",
       "      <td>37</td>\n",
       "      <td>f</td>\n",
       "      <td>0.0</td>\n",
       "      <td>0.0</td>\n",
       "      <td>12231.890000</td>\n",
       "      <td>12231.89</td>\n",
       "      <td>10000.00</td>\n",
       "      <td>2214.92</td>\n",
       "      <td>16.97</td>\n",
       "      <td>0.0</td>\n",
       "      <td>0.00</td>\n",
       "      <td>Jan-15</td>\n",
       "      <td>357.48</td>\n",
       "      <td>Apr-16</td>\n",
       "      <td>0.0</td>\n",
       "      <td>INDIVIDUAL</td>\n",
       "      <td>0.0</td>\n",
       "      <td>0</td>\n",
       "      <td>0.000000</td>\n",
       "      <td>0.0</td>\n",
       "    </tr>\n",
       "    <tr>\n",
       "      <th>4</th>\n",
       "      <td>1075358</td>\n",
       "      <td>1311748</td>\n",
       "      <td>3000</td>\n",
       "      <td>3000</td>\n",
       "      <td>3000.0</td>\n",
       "      <td>60 months</td>\n",
       "      <td>12.69</td>\n",
       "      <td>67.79</td>\n",
       "      <td>B</td>\n",
       "      <td>B5</td>\n",
       "      <td>1 year</td>\n",
       "      <td>RENT</td>\n",
       "      <td>80000.0</td>\n",
       "      <td>Source Verified</td>\n",
       "      <td>Dec-11</td>\n",
       "      <td>Fully Paid</td>\n",
       "      <td>n</td>\n",
       "      <td>972xx</td>\n",
       "      <td>OR</td>\n",
       "      <td>17.94</td>\n",
       "      <td>0</td>\n",
       "      <td>Jan-96</td>\n",
       "      <td>0</td>\n",
       "      <td>15</td>\n",
       "      <td>0</td>\n",
       "      <td>27783</td>\n",
       "      <td>53.9</td>\n",
       "      <td>38</td>\n",
       "      <td>f</td>\n",
       "      <td>0.0</td>\n",
       "      <td>0.0</td>\n",
       "      <td>4066.908161</td>\n",
       "      <td>4066.91</td>\n",
       "      <td>3000.00</td>\n",
       "      <td>1066.91</td>\n",
       "      <td>0.00</td>\n",
       "      <td>0.0</td>\n",
       "      <td>0.00</td>\n",
       "      <td>Jan-17</td>\n",
       "      <td>67.30</td>\n",
       "      <td>Jan-17</td>\n",
       "      <td>0.0</td>\n",
       "      <td>INDIVIDUAL</td>\n",
       "      <td>0.0</td>\n",
       "      <td>0</td>\n",
       "      <td>0.000000</td>\n",
       "      <td>0.0</td>\n",
       "    </tr>\n",
       "    <tr>\n",
       "      <th>...</th>\n",
       "      <td>...</td>\n",
       "      <td>...</td>\n",
       "      <td>...</td>\n",
       "      <td>...</td>\n",
       "      <td>...</td>\n",
       "      <td>...</td>\n",
       "      <td>...</td>\n",
       "      <td>...</td>\n",
       "      <td>...</td>\n",
       "      <td>...</td>\n",
       "      <td>...</td>\n",
       "      <td>...</td>\n",
       "      <td>...</td>\n",
       "      <td>...</td>\n",
       "      <td>...</td>\n",
       "      <td>...</td>\n",
       "      <td>...</td>\n",
       "      <td>...</td>\n",
       "      <td>...</td>\n",
       "      <td>...</td>\n",
       "      <td>...</td>\n",
       "      <td>...</td>\n",
       "      <td>...</td>\n",
       "      <td>...</td>\n",
       "      <td>...</td>\n",
       "      <td>...</td>\n",
       "      <td>...</td>\n",
       "      <td>...</td>\n",
       "      <td>...</td>\n",
       "      <td>...</td>\n",
       "      <td>...</td>\n",
       "      <td>...</td>\n",
       "      <td>...</td>\n",
       "      <td>...</td>\n",
       "      <td>...</td>\n",
       "      <td>...</td>\n",
       "      <td>...</td>\n",
       "      <td>...</td>\n",
       "      <td>...</td>\n",
       "      <td>...</td>\n",
       "      <td>...</td>\n",
       "      <td>...</td>\n",
       "      <td>...</td>\n",
       "      <td>...</td>\n",
       "      <td>...</td>\n",
       "      <td>...</td>\n",
       "      <td>...</td>\n",
       "    </tr>\n",
       "    <tr>\n",
       "      <th>39781</th>\n",
       "      <td>92187</td>\n",
       "      <td>92174</td>\n",
       "      <td>2500</td>\n",
       "      <td>2500</td>\n",
       "      <td>1075.0</td>\n",
       "      <td>36 months</td>\n",
       "      <td>8.07</td>\n",
       "      <td>78.42</td>\n",
       "      <td>A</td>\n",
       "      <td>A4</td>\n",
       "      <td>4 years</td>\n",
       "      <td>MORTGAGE</td>\n",
       "      <td>110000.0</td>\n",
       "      <td>Not Verified</td>\n",
       "      <td>Jul-07</td>\n",
       "      <td>Fully Paid</td>\n",
       "      <td>n</td>\n",
       "      <td>802xx</td>\n",
       "      <td>CO</td>\n",
       "      <td>11.33</td>\n",
       "      <td>0</td>\n",
       "      <td>Nov-90</td>\n",
       "      <td>0</td>\n",
       "      <td>13</td>\n",
       "      <td>0</td>\n",
       "      <td>7274</td>\n",
       "      <td>13.1</td>\n",
       "      <td>40</td>\n",
       "      <td>f</td>\n",
       "      <td>0.0</td>\n",
       "      <td>0.0</td>\n",
       "      <td>2822.969293</td>\n",
       "      <td>1213.88</td>\n",
       "      <td>2500.00</td>\n",
       "      <td>322.97</td>\n",
       "      <td>0.00</td>\n",
       "      <td>0.0</td>\n",
       "      <td>0.00</td>\n",
       "      <td>Jul-10</td>\n",
       "      <td>80.90</td>\n",
       "      <td>Jun-10</td>\n",
       "      <td>0.0</td>\n",
       "      <td>INDIVIDUAL</td>\n",
       "      <td>0.0</td>\n",
       "      <td>0</td>\n",
       "      <td>0.043286</td>\n",
       "      <td>0.0</td>\n",
       "    </tr>\n",
       "    <tr>\n",
       "      <th>39782</th>\n",
       "      <td>90665</td>\n",
       "      <td>90607</td>\n",
       "      <td>8500</td>\n",
       "      <td>8500</td>\n",
       "      <td>875.0</td>\n",
       "      <td>36 months</td>\n",
       "      <td>10.28</td>\n",
       "      <td>275.38</td>\n",
       "      <td>C</td>\n",
       "      <td>C1</td>\n",
       "      <td>3 years</td>\n",
       "      <td>RENT</td>\n",
       "      <td>18000.0</td>\n",
       "      <td>Not Verified</td>\n",
       "      <td>Jul-07</td>\n",
       "      <td>Fully Paid</td>\n",
       "      <td>n</td>\n",
       "      <td>274xx</td>\n",
       "      <td>NC</td>\n",
       "      <td>6.40</td>\n",
       "      <td>1</td>\n",
       "      <td>Dec-86</td>\n",
       "      <td>1</td>\n",
       "      <td>6</td>\n",
       "      <td>0</td>\n",
       "      <td>8847</td>\n",
       "      <td>26.9</td>\n",
       "      <td>9</td>\n",
       "      <td>f</td>\n",
       "      <td>0.0</td>\n",
       "      <td>0.0</td>\n",
       "      <td>9913.491822</td>\n",
       "      <td>1020.51</td>\n",
       "      <td>8500.00</td>\n",
       "      <td>1413.49</td>\n",
       "      <td>0.00</td>\n",
       "      <td>0.0</td>\n",
       "      <td>0.00</td>\n",
       "      <td>Jul-10</td>\n",
       "      <td>281.94</td>\n",
       "      <td>Jul-10</td>\n",
       "      <td>0.0</td>\n",
       "      <td>INDIVIDUAL</td>\n",
       "      <td>0.0</td>\n",
       "      <td>0</td>\n",
       "      <td>0.043286</td>\n",
       "      <td>0.0</td>\n",
       "    </tr>\n",
       "    <tr>\n",
       "      <th>39783</th>\n",
       "      <td>90395</td>\n",
       "      <td>90390</td>\n",
       "      <td>5000</td>\n",
       "      <td>5000</td>\n",
       "      <td>1325.0</td>\n",
       "      <td>36 months</td>\n",
       "      <td>8.07</td>\n",
       "      <td>156.84</td>\n",
       "      <td>A</td>\n",
       "      <td>A4</td>\n",
       "      <td>&lt; 1 year</td>\n",
       "      <td>MORTGAGE</td>\n",
       "      <td>100000.0</td>\n",
       "      <td>Not Verified</td>\n",
       "      <td>Jul-07</td>\n",
       "      <td>Fully Paid</td>\n",
       "      <td>n</td>\n",
       "      <td>017xx</td>\n",
       "      <td>MA</td>\n",
       "      <td>2.30</td>\n",
       "      <td>0</td>\n",
       "      <td>Oct-98</td>\n",
       "      <td>0</td>\n",
       "      <td>11</td>\n",
       "      <td>0</td>\n",
       "      <td>9698</td>\n",
       "      <td>19.4</td>\n",
       "      <td>20</td>\n",
       "      <td>f</td>\n",
       "      <td>0.0</td>\n",
       "      <td>0.0</td>\n",
       "      <td>5272.161128</td>\n",
       "      <td>1397.12</td>\n",
       "      <td>5000.00</td>\n",
       "      <td>272.16</td>\n",
       "      <td>0.00</td>\n",
       "      <td>0.0</td>\n",
       "      <td>0.00</td>\n",
       "      <td>Apr-08</td>\n",
       "      <td>0.00</td>\n",
       "      <td>Jun-07</td>\n",
       "      <td>0.0</td>\n",
       "      <td>INDIVIDUAL</td>\n",
       "      <td>0.0</td>\n",
       "      <td>0</td>\n",
       "      <td>0.043286</td>\n",
       "      <td>0.0</td>\n",
       "    </tr>\n",
       "    <tr>\n",
       "      <th>39784</th>\n",
       "      <td>90376</td>\n",
       "      <td>89243</td>\n",
       "      <td>5000</td>\n",
       "      <td>5000</td>\n",
       "      <td>650.0</td>\n",
       "      <td>36 months</td>\n",
       "      <td>7.43</td>\n",
       "      <td>155.38</td>\n",
       "      <td>A</td>\n",
       "      <td>A2</td>\n",
       "      <td>&lt; 1 year</td>\n",
       "      <td>MORTGAGE</td>\n",
       "      <td>200000.0</td>\n",
       "      <td>Not Verified</td>\n",
       "      <td>Jul-07</td>\n",
       "      <td>Fully Paid</td>\n",
       "      <td>n</td>\n",
       "      <td>208xx</td>\n",
       "      <td>MD</td>\n",
       "      <td>3.72</td>\n",
       "      <td>0</td>\n",
       "      <td>Nov-88</td>\n",
       "      <td>0</td>\n",
       "      <td>17</td>\n",
       "      <td>0</td>\n",
       "      <td>85607</td>\n",
       "      <td>0.7</td>\n",
       "      <td>26</td>\n",
       "      <td>f</td>\n",
       "      <td>0.0</td>\n",
       "      <td>0.0</td>\n",
       "      <td>5174.198551</td>\n",
       "      <td>672.66</td>\n",
       "      <td>5000.00</td>\n",
       "      <td>174.20</td>\n",
       "      <td>0.00</td>\n",
       "      <td>0.0</td>\n",
       "      <td>0.00</td>\n",
       "      <td>Jan-08</td>\n",
       "      <td>0.00</td>\n",
       "      <td>Jun-07</td>\n",
       "      <td>0.0</td>\n",
       "      <td>INDIVIDUAL</td>\n",
       "      <td>0.0</td>\n",
       "      <td>0</td>\n",
       "      <td>0.043286</td>\n",
       "      <td>0.0</td>\n",
       "    </tr>\n",
       "    <tr>\n",
       "      <th>39785</th>\n",
       "      <td>87023</td>\n",
       "      <td>86999</td>\n",
       "      <td>7500</td>\n",
       "      <td>7500</td>\n",
       "      <td>800.0</td>\n",
       "      <td>36 months</td>\n",
       "      <td>13.75</td>\n",
       "      <td>255.43</td>\n",
       "      <td>E</td>\n",
       "      <td>E2</td>\n",
       "      <td>&lt; 1 year</td>\n",
       "      <td>OWN</td>\n",
       "      <td>22000.0</td>\n",
       "      <td>Not Verified</td>\n",
       "      <td>Jun-07</td>\n",
       "      <td>Fully Paid</td>\n",
       "      <td>n</td>\n",
       "      <td>027xx</td>\n",
       "      <td>MA</td>\n",
       "      <td>14.29</td>\n",
       "      <td>1</td>\n",
       "      <td>Oct-03</td>\n",
       "      <td>0</td>\n",
       "      <td>7</td>\n",
       "      <td>0</td>\n",
       "      <td>4175</td>\n",
       "      <td>51.5</td>\n",
       "      <td>8</td>\n",
       "      <td>f</td>\n",
       "      <td>0.0</td>\n",
       "      <td>0.0</td>\n",
       "      <td>9195.263334</td>\n",
       "      <td>980.83</td>\n",
       "      <td>7500.00</td>\n",
       "      <td>1695.26</td>\n",
       "      <td>0.00</td>\n",
       "      <td>0.0</td>\n",
       "      <td>0.00</td>\n",
       "      <td>Jun-10</td>\n",
       "      <td>256.59</td>\n",
       "      <td>Jun-10</td>\n",
       "      <td>0.0</td>\n",
       "      <td>INDIVIDUAL</td>\n",
       "      <td>0.0</td>\n",
       "      <td>0</td>\n",
       "      <td>0.043286</td>\n",
       "      <td>0.0</td>\n",
       "    </tr>\n",
       "  </tbody>\n",
       "</table>\n",
       "<p>39786 rows × 47 columns</p>\n",
       "</div>"
      ],
      "text/plain": [
       "            id  member_id  loan_amnt  funded_amnt  funded_amnt_inv        term  int_rate  installment grade sub_grade emp_length home_ownership  annual_inc verification_status issue_d  loan_status pymnt_plan zip_code addr_state    dti  delinq_2yrs earliest_cr_line  inq_last_6mths  open_acc  pub_rec  revol_bal  revol_util  total_acc initial_list_status  out_prncp  out_prncp_inv   total_pymnt  total_pymnt_inv  total_rec_prncp  total_rec_int  total_rec_late_fee  recoveries  collection_recovery_fee last_pymnt_d  last_pymnt_amnt last_credit_pull_d  collections_12_mths_ex_med application_type  chargeoff_within_12_mths  delinq_amnt  pub_rec_bankruptcies  tax_liens\n",
       "0      1077501    1296599       5000         5000           4975.0   36 months     10.65       162.87     B        B2  10+ years           RENT     24000.0            Verified  Dec-11   Fully Paid          n    860xx         AZ  27.65            0           Jan-85               1         3        0      13648        83.7          9                   f        0.0            0.0   5863.155187          5833.84          5000.00         863.16                0.00         0.0                     0.00       Jan-15           171.62             Jan-17                         0.0       INDIVIDUAL                       0.0            0              0.000000        0.0\n",
       "1      1077430    1314167       2500         2500           2500.0   60 months     15.27        59.83     C        C4   < 1 year           RENT     30000.0     Source Verified  Dec-11  Charged Off          n    309xx         GA   1.00            0           Apr-99               5         3        0       1687         9.4          4                   f        0.0            0.0   1014.530000          1014.53           456.46         435.17                0.00       122.9                     1.11       Apr-13           119.66             Oct-16                         0.0       INDIVIDUAL                       0.0            0              0.000000        0.0\n",
       "2      1077175    1313524       2400         2400           2400.0   36 months     15.96        84.33     C        C5  10+ years           RENT     12252.0        Not Verified  Dec-11   Fully Paid          n    606xx         IL   8.72            0           Nov-01               2         2        0       2956        98.5         10                   f        0.0            0.0   3005.666844          3005.67          2400.00         605.67                0.00         0.0                     0.00       Jun-14           649.91             Jan-17                         0.0       INDIVIDUAL                       0.0            0              0.000000        0.0\n",
       "3      1076863    1277178      10000        10000          10000.0   36 months     13.49       339.31     C        C1  10+ years           RENT     49200.0     Source Verified  Dec-11   Fully Paid          n    917xx         CA  20.00            0           Feb-96               1        10        0       5598        21.0         37                   f        0.0            0.0  12231.890000         12231.89         10000.00        2214.92               16.97         0.0                     0.00       Jan-15           357.48             Apr-16                         0.0       INDIVIDUAL                       0.0            0              0.000000        0.0\n",
       "4      1075358    1311748       3000         3000           3000.0   60 months     12.69        67.79     B        B5     1 year           RENT     80000.0     Source Verified  Dec-11   Fully Paid          n    972xx         OR  17.94            0           Jan-96               0        15        0      27783        53.9         38                   f        0.0            0.0   4066.908161          4066.91          3000.00        1066.91                0.00         0.0                     0.00       Jan-17            67.30             Jan-17                         0.0       INDIVIDUAL                       0.0            0              0.000000        0.0\n",
       "...        ...        ...        ...          ...              ...         ...       ...          ...   ...       ...        ...            ...         ...                 ...     ...          ...        ...      ...        ...    ...          ...              ...             ...       ...      ...        ...         ...        ...                 ...        ...            ...           ...              ...              ...            ...                 ...         ...                      ...          ...              ...                ...                         ...              ...                       ...          ...                   ...        ...\n",
       "39781    92187      92174       2500         2500           1075.0   36 months      8.07        78.42     A        A4    4 years       MORTGAGE    110000.0        Not Verified  Jul-07   Fully Paid          n    802xx         CO  11.33            0           Nov-90               0        13        0       7274        13.1         40                   f        0.0            0.0   2822.969293          1213.88          2500.00         322.97                0.00         0.0                     0.00       Jul-10            80.90             Jun-10                         0.0       INDIVIDUAL                       0.0            0              0.043286        0.0\n",
       "39782    90665      90607       8500         8500            875.0   36 months     10.28       275.38     C        C1    3 years           RENT     18000.0        Not Verified  Jul-07   Fully Paid          n    274xx         NC   6.40            1           Dec-86               1         6        0       8847        26.9          9                   f        0.0            0.0   9913.491822          1020.51          8500.00        1413.49                0.00         0.0                     0.00       Jul-10           281.94             Jul-10                         0.0       INDIVIDUAL                       0.0            0              0.043286        0.0\n",
       "39783    90395      90390       5000         5000           1325.0   36 months      8.07       156.84     A        A4   < 1 year       MORTGAGE    100000.0        Not Verified  Jul-07   Fully Paid          n    017xx         MA   2.30            0           Oct-98               0        11        0       9698        19.4         20                   f        0.0            0.0   5272.161128          1397.12          5000.00         272.16                0.00         0.0                     0.00       Apr-08             0.00             Jun-07                         0.0       INDIVIDUAL                       0.0            0              0.043286        0.0\n",
       "39784    90376      89243       5000         5000            650.0   36 months      7.43       155.38     A        A2   < 1 year       MORTGAGE    200000.0        Not Verified  Jul-07   Fully Paid          n    208xx         MD   3.72            0           Nov-88               0        17        0      85607         0.7         26                   f        0.0            0.0   5174.198551           672.66          5000.00         174.20                0.00         0.0                     0.00       Jan-08             0.00             Jun-07                         0.0       INDIVIDUAL                       0.0            0              0.043286        0.0\n",
       "39785    87023      86999       7500         7500            800.0   36 months     13.75       255.43     E        E2   < 1 year            OWN     22000.0        Not Verified  Jun-07   Fully Paid          n    027xx         MA  14.29            1           Oct-03               0         7        0       4175        51.5          8                   f        0.0            0.0   9195.263334           980.83          7500.00        1695.26                0.00         0.0                     0.00       Jun-10           256.59             Jun-10                         0.0       INDIVIDUAL                       0.0            0              0.043286        0.0\n",
       "\n",
       "[39786 rows x 47 columns]"
      ]
     },
     "execution_count": 67,
     "metadata": {},
     "output_type": "execute_result"
    }
   ],
   "source": [
    "df"
   ]
  },
  {
   "cell_type": "code",
   "execution_count": 68,
   "metadata": {},
   "outputs": [
    {
     "name": "stderr",
     "output_type": "stream",
     "text": [
      "<ipython-input-68-0775960b35dd>:6: RuntimeWarning: More than 20 figures have been opened. Figures created through the pyplot interface (`matplotlib.pyplot.figure`) are retained until explicitly closed and may consume too much memory. (To control this warning, see the rcParam `figure.max_open_warning`).\n",
      "  plt.figure()\n"
     ]
    },
    {
     "data": {
      "image/png": "[encoded data removed]",
      "text/plain": [
       "<Figure size 432x288 with 1 Axes>"
      ]
     },
     "metadata": {
      "needs_background": "light"
     },
     "output_type": "display_data"
    },
    {
     "data": {
      "image/png": "[encoded data removed]",
      "text/plain": [
       "<Figure size 432x288 with 1 Axes>"
      ]
     },
     "metadata": {
      "needs_background": "light"
     },
     "output_type": "display_data"
    },
    {
     "data": {
      "image/png": "[encoded data removed]",
      "text/plain": [
       "<Figure size 432x288 with 1 Axes>"
      ]
     },
     "metadata": {
      "needs_background": "light"
     },
     "output_type": "display_data"
    },
    {
     "data": {
      "image/png": "[encoded data removed]",
      "text/plain": [
       "<Figure size 432x288 with 1 Axes>"
      ]
     },
     "metadata": {
      "needs_background": "light"
     },
     "output_type": "display_data"
    },
    {
     "data": {
      "image/png": "[encoded data removed]",
      "text/plain": [
       "<Figure size 432x288 with 1 Axes>"
      ]
     },
     "metadata": {
      "needs_background": "light"
     },
     "output_type": "display_data"
    },
    {
     "data": {
      "image/png": "[encoded data removed]",
      "text/plain": [
       "<Figure size 432x288 with 1 Axes>"
      ]
     },
     "metadata": {
      "needs_background": "light"
     },
     "output_type": "display_data"
    },
    {
     "data": {
      "image/png": "[encoded data removed]",
      "text/plain": [
       "<Figure size 432x288 with 1 Axes>"
      ]
     },
     "metadata": {
      "needs_background": "light"
     },
     "output_type": "display_data"
    },
    {
     "data": {
      "image/png": "[encoded data removed]",
      "text/plain": [
       "<Figure size 432x288 with 1 Axes>"
      ]
     },
     "metadata": {
      "needs_background": "light"
     },
     "output_type": "display_data"
    },
    {
     "data": {
      "image/png": "[encoded data removed]",
      "text/plain": [
       "<Figure size 432x288 with 1 Axes>"
      ]
     },
     "metadata": {
      "needs_background": "light"
     },
     "output_type": "display_data"
    },
    {
     "data": {
      "image/png": "[encoded data removed]",
      "text/plain": [
       "<Figure size 432x288 with 1 Axes>"
      ]
     },
     "metadata": {
      "needs_background": "light"
     },
     "output_type": "display_data"
    },
    {
     "data": {
      "image/png": "[encoded data removed]",
      "text/plain": [
       "<Figure size 432x288 with 1 Axes>"
      ]
     },
     "metadata": {
      "needs_background": "light"
     },
     "output_type": "display_data"
    },
    {
     "data": {
      "image/png": "[encoded data removed]",
      "text/plain": [
       "<Figure size 432x288 with 1 Axes>"
      ]
     },
     "metadata": {
      "needs_background": "light"
     },
     "output_type": "display_data"
    },
    {
     "data": {
      "image/png": "[encoded data removed]",
      "text/plain": [
       "<Figure size 432x288 with 1 Axes>"
      ]
     },
     "metadata": {
      "needs_background": "light"
     },
     "output_type": "display_data"
    },
    {
     "data": {
      "image/png": "[encoded data removed]",
      "text/plain": [
       "<Figure size 432x288 with 1 Axes>"
      ]
     },
     "metadata": {
      "needs_background": "light"
     },
     "output_type": "display_data"
    },
    {
     "data": {
      "image/png": "[encoded data removed]",
      "text/plain": [
       "<Figure size 432x288 with 1 Axes>"
      ]
     },
     "metadata": {
      "needs_background": "light"
     },
     "output_type": "display_data"
    },
    {
     "data": {
      "image/png": "[encoded data removed]",
      "text/plain": [
       "<Figure size 432x288 with 1 Axes>"
      ]
     },
     "metadata": {
      "needs_background": "light"
     },
     "output_type": "display_data"
    },
    {
     "data": {
      "image/png": "[encoded data removed]",
      "text/plain": [
       "<Figure size 432x288 with 1 Axes>"
      ]
     },
     "metadata": {
      "needs_background": "light"
     },
     "output_type": "display_data"
    },
    {
     "data": {
      "image/png": "[encoded data removed]",
      "text/plain": [
       "<Figure size 432x288 with 1 Axes>"
      ]
     },
     "metadata": {
      "needs_background": "light"
     },
     "output_type": "display_data"
    },
    {
     "data": {
      "image/png": "[encoded data removed]",
      "text/plain": [
       "<Figure size 432x288 with 1 Axes>"
      ]
     },
     "metadata": {
      "needs_background": "light"
     },
     "output_type": "display_data"
    },
    {
     "data": {
      "image/png": "[encoded data removed]",
      "text/plain": [
       "<Figure size 432x288 with 1 Axes>"
      ]
     },
     "metadata": {
      "needs_background": "light"
     },
     "output_type": "display_data"
    },
    {
     "data": {
      "image/png": "[encoded data removed]",
      "text/plain": [
       "<Figure size 432x288 with 1 Axes>"
      ]
     },
     "metadata": {
      "needs_background": "light"
     },
     "output_type": "display_data"
    },
    {
     "data": {
      "image/png": "[encoded data removed]",
      "text/plain": [
       "<Figure size 432x288 with 1 Axes>"
      ]
     },
     "metadata": {
      "needs_background": "light"
     },
     "output_type": "display_data"
    },
    {
     "data": {
      "image/png": "[encoded data removed]",
      "text/plain": [
       "<Figure size 432x288 with 1 Axes>"
      ]
     },
     "metadata": {
      "needs_background": "light"
     },
     "output_type": "display_data"
    },
    {
     "data": {
      "image/png": "[encoded data removed]",
      "text/plain": [
       "<Figure size 432x288 with 1 Axes>"
      ]
     },
     "metadata": {
      "needs_background": "light"
     },
     "output_type": "display_data"
    },
    {
     "data": {
      "image/png": "[encoded data removed]",
      "text/plain": [
       "<Figure size 432x288 with 1 Axes>"
      ]
     },
     "metadata": {
      "needs_background": "light"
     },
     "output_type": "display_data"
    },
    {
     "data": {
      "image/png": "[encoded data removed]",
      "text/plain": [
       "<Figure size 432x288 with 1 Axes>"
      ]
     },
     "metadata": {
      "needs_background": "light"
     },
     "output_type": "display_data"
    },
    {
     "data": {
      "image/png": "[encoded data removed]",
      "text/plain": [
       "<Figure size 432x288 with 1 Axes>"
      ]
     },
     "metadata": {
      "needs_background": "light"
     },
     "output_type": "display_data"
    },
    {
     "data": {
      "image/png": "[encoded data removed]",
      "text/plain": [
       "<Figure size 432x288 with 1 Axes>"
      ]
     },
     "metadata": {
      "needs_background": "light"
     },
     "output_type": "display_data"
    },
    {
     "data": {
      "image/png": "[encoded data removed]",
      "text/plain": [
       "<Figure size 432x288 with 1 Axes>"
      ]
     },
     "metadata": {
      "needs_background": "light"
     },
     "output_type": "display_data"
    },
    {
     "data": {
      "image/png": "[encoded data removed]",
      "text/plain": [
       "<Figure size 432x288 with 1 Axes>"
      ]
     },
     "metadata": {
      "needs_background": "light"
     },
     "output_type": "display_data"
    },
    {
     "data": {
      "image/png": "[encoded data removed]",
      "text/plain": [
       "<Figure size 432x288 with 1 Axes>"
      ]
     },
     "metadata": {
      "needs_background": "light"
     },
     "output_type": "display_data"
    }
   ],
   "source": [
    "# get list for only dtypes 'int64 and 'float64'\n",
    "list_columns = list(df.select_dtypes(['int64','float64']))\n",
    "\n",
    "# Check for outliers\n",
    "for column in list_columns:\n",
    "    plt.figure()\n",
    "    sns.boxplot(x=df[f'{column}'])"
   ]
  },
  {
   "cell_type": "markdown",
   "metadata": {},
   "source": [
    "## Dealing with Missing Data"
   ]
  },
  {
   "cell_type": "code",
   "execution_count": null,
   "metadata": {},
   "outputs": [],
   "source": []
  },
  {
   "cell_type": "code",
   "execution_count": 69,
   "metadata": {},
   "outputs": [
    {
     "name": "stdout",
     "output_type": "stream",
     "text": [
      "Number of rows.....................: 39786\n",
      "Number of columns..................: 47\n"
     ]
    }
   ],
   "source": [
    "print(f'Number of rows.....................: {df.shape[0]}')\n",
    "print(f'Number of columns..................: {df.shape[1]}')"
   ]
  },
  {
   "cell_type": "code",
   "execution_count": 70,
   "metadata": {},
   "outputs": [
    {
     "data": {
      "text/plain": [
       "id                            0\n",
       "member_id                     0\n",
       "loan_amnt                     0\n",
       "funded_amnt                   0\n",
       "funded_amnt_inv               0\n",
       "term                          0\n",
       "int_rate                      0\n",
       "installment                   0\n",
       "grade                         0\n",
       "sub_grade                     0\n",
       "emp_length                    0\n",
       "home_ownership                0\n",
       "annual_inc                    0\n",
       "verification_status           0\n",
       "issue_d                       0\n",
       "loan_status                   0\n",
       "pymnt_plan                    0\n",
       "zip_code                      0\n",
       "addr_state                    0\n",
       "dti                           0\n",
       "delinq_2yrs                   0\n",
       "earliest_cr_line              0\n",
       "inq_last_6mths                0\n",
       "open_acc                      0\n",
       "pub_rec                       0\n",
       "revol_bal                     0\n",
       "revol_util                    0\n",
       "total_acc                     0\n",
       "initial_list_status           0\n",
       "out_prncp                     0\n",
       "out_prncp_inv                 0\n",
       "total_pymnt                   0\n",
       "total_pymnt_inv               0\n",
       "total_rec_prncp               0\n",
       "total_rec_int                 0\n",
       "total_rec_late_fee            0\n",
       "recoveries                    0\n",
       "collection_recovery_fee       0\n",
       "last_pymnt_d                  0\n",
       "last_pymnt_amnt               0\n",
       "last_credit_pull_d            0\n",
       "collections_12_mths_ex_med    0\n",
       "application_type              0\n",
       "chargeoff_within_12_mths      0\n",
       "delinq_amnt                   0\n",
       "pub_rec_bankruptcies          0\n",
       "tax_liens                     0\n",
       "dtype: int64"
      ]
     },
     "execution_count": 70,
     "metadata": {},
     "output_type": "execute_result"
    }
   ],
   "source": [
    "# count NaN found in the dataset\n",
    "df.isna().sum()"
   ]
  },
  {
   "cell_type": "markdown",
   "metadata": {},
   "source": [
    "# Visualization - Columns"
   ]
  },
  {
   "cell_type": "code",
   "execution_count": 71,
   "metadata": {},
   "outputs": [
    {
     "data": {
      "text/plain": [
       "array([[<AxesSubplot:title={'center':'id'}>,\n",
       "        <AxesSubplot:title={'center':'member_id'}>,\n",
       "        <AxesSubplot:title={'center':'loan_amnt'}>,\n",
       "        <AxesSubplot:title={'center':'funded_amnt'}>,\n",
       "        <AxesSubplot:title={'center':'funded_amnt_inv'}>,\n",
       "        <AxesSubplot:title={'center':'int_rate'}>],\n",
       "       [<AxesSubplot:title={'center':'installment'}>,\n",
       "        <AxesSubplot:title={'center':'annual_inc'}>,\n",
       "        <AxesSubplot:title={'center':'dti'}>,\n",
       "        <AxesSubplot:title={'center':'delinq_2yrs'}>,\n",
       "        <AxesSubplot:title={'center':'inq_last_6mths'}>,\n",
       "        <AxesSubplot:title={'center':'open_acc'}>],\n",
       "       [<AxesSubplot:title={'center':'pub_rec'}>,\n",
       "        <AxesSubplot:title={'center':'revol_bal'}>,\n",
       "        <AxesSubplot:title={'center':'revol_util'}>,\n",
       "        <AxesSubplot:title={'center':'total_acc'}>,\n",
       "        <AxesSubplot:title={'center':'out_prncp'}>,\n",
       "        <AxesSubplot:title={'center':'out_prncp_inv'}>],\n",
       "       [<AxesSubplot:title={'center':'total_pymnt'}>,\n",
       "        <AxesSubplot:title={'center':'total_pymnt_inv'}>,\n",
       "        <AxesSubplot:title={'center':'total_rec_prncp'}>,\n",
       "        <AxesSubplot:title={'center':'total_rec_int'}>,\n",
       "        <AxesSubplot:title={'center':'total_rec_late_fee'}>,\n",
       "        <AxesSubplot:title={'center':'recoveries'}>],\n",
       "       [<AxesSubplot:title={'center':'collection_recovery_fee'}>,\n",
       "        <AxesSubplot:title={'center':'last_pymnt_amnt'}>,\n",
       "        <AxesSubplot:title={'center':'collections_12_mths_ex_med'}>,\n",
       "        <AxesSubplot:title={'center':'chargeoff_within_12_mths'}>,\n",
       "        <AxesSubplot:title={'center':'delinq_amnt'}>,\n",
       "        <AxesSubplot:title={'center':'pub_rec_bankruptcies'}>],\n",
       "       [<AxesSubplot:title={'center':'tax_liens'}>, <AxesSubplot:>,\n",
       "        <AxesSubplot:>, <AxesSubplot:>, <AxesSubplot:>, <AxesSubplot:>]],\n",
       "      dtype=object)"
      ]
     },
     "execution_count": 71,
     "metadata": {},
     "output_type": "execute_result"
    },
    {
     "data": {
      "image/png": "[encoded data removed]",
      "text/plain": [
       "<Figure size 1800x1800 with 36 Axes>"
      ]
     },
     "metadata": {
      "needs_background": "light"
     },
     "output_type": "display_data"
    }
   ],
   "source": [
    "df.hist(figsize=(25, 25))"
   ]
  },
  {
   "cell_type": "code",
   "execution_count": 72,
   "metadata": {},
   "outputs": [
    {
     "name": "stdout",
     "output_type": "stream",
     "text": [
      "<class 'pandas.core.frame.DataFrame'>\n",
      "RangeIndex: 39786 entries, 0 to 39785\n",
      "Data columns (total 47 columns):\n",
      " #   Column                      Non-Null Count  Dtype   \n",
      "---  ------                      --------------  -----   \n",
      " 0   id                          39786 non-null  int64   \n",
      " 1   member_id                   39786 non-null  int64   \n",
      " 2   loan_amnt                   39786 non-null  int64   \n",
      " 3   funded_amnt                 39786 non-null  int64   \n",
      " 4   funded_amnt_inv             39786 non-null  float64 \n",
      " 5   term                        39786 non-null  object  \n",
      " 6   int_rate                    39786 non-null  float64 \n",
      " 7   installment                 39786 non-null  float64 \n",
      " 8   grade                       39786 non-null  object  \n",
      " 9   sub_grade                   39786 non-null  object  \n",
      " 10  emp_length                  39786 non-null  object  \n",
      " 11  home_ownership              39786 non-null  object  \n",
      " 12  annual_inc                  39786 non-null  float64 \n",
      " 13  verification_status         39786 non-null  object  \n",
      " 14  issue_d                     39786 non-null  object  \n",
      " 15  loan_status                 39786 non-null  object  \n",
      " 16  pymnt_plan                  39786 non-null  object  \n",
      " 17  zip_code                    39786 non-null  object  \n",
      " 18  addr_state                  39786 non-null  object  \n",
      " 19  dti                         39786 non-null  float64 \n",
      " 20  delinq_2yrs                 39786 non-null  int64   \n",
      " 21  earliest_cr_line            39786 non-null  object  \n",
      " 22  inq_last_6mths              39786 non-null  int64   \n",
      " 23  open_acc                    39786 non-null  int64   \n",
      " 24  pub_rec                     39786 non-null  int64   \n",
      " 25  revol_bal                   39786 non-null  int64   \n",
      " 26  revol_util                  39786 non-null  float64 \n",
      " 27  total_acc                   39786 non-null  int64   \n",
      " 28  initial_list_status         39786 non-null  object  \n",
      " 29  out_prncp                   39786 non-null  float64 \n",
      " 30  out_prncp_inv               39786 non-null  float64 \n",
      " 31  total_pymnt                 39786 non-null  float64 \n",
      " 32  total_pymnt_inv             39786 non-null  float64 \n",
      " 33  total_rec_prncp             39786 non-null  float64 \n",
      " 34  total_rec_int               39786 non-null  float64 \n",
      " 35  total_rec_late_fee          39786 non-null  float64 \n",
      " 36  recoveries                  39786 non-null  float64 \n",
      " 37  collection_recovery_fee     39786 non-null  float64 \n",
      " 38  last_pymnt_d                39786 non-null  category\n",
      " 39  last_pymnt_amnt             39786 non-null  float64 \n",
      " 40  last_credit_pull_d          39786 non-null  category\n",
      " 41  collections_12_mths_ex_med  39786 non-null  float64 \n",
      " 42  application_type            39786 non-null  object  \n",
      " 43  chargeoff_within_12_mths    39786 non-null  float64 \n",
      " 44  delinq_amnt                 39786 non-null  int64   \n",
      " 45  pub_rec_bankruptcies        39786 non-null  float64 \n",
      " 46  tax_liens                   39786 non-null  float64 \n",
      "dtypes: category(2), float64(20), int64(11), object(14)\n",
      "memory usage: 13.7+ MB\n"
     ]
    }
   ],
   "source": [
    "df.info()"
   ]
  },
  {
   "cell_type": "code",
   "execution_count": 73,
   "metadata": {},
   "outputs": [],
   "source": [
    "#df_ocean_proximity_cat = df['ocean_proximity'].value_counts(normalize=True).map('{:.2%}'.format)\n",
    "#ex.pie(df_ocean_proximity_cat,names='ocean_proximity',title='ocean_proximity')"
   ]
  },
  {
   "cell_type": "code",
   "execution_count": 74,
   "metadata": {},
   "outputs": [],
   "source": [
    "# Exploring it and understanding what feature each column represents.\n",
    "\n",
    "# data dictionary \n",
    "data_dictionary = pd.read_csv('../data/LCDataDictionary.csv') # Loading in the data dictionary\n",
    "#print(data_dictionary.shape[0])\n",
    "#print(data_dictionary.columns.tolist())\n"
   ]
  },
  {
   "cell_type": "code",
   "execution_count": 75,
   "metadata": {},
   "outputs": [
    {
     "name": "stdout",
     "output_type": "stream",
     "text": [
      "# 1 - addr_state: .......The state provided by the borrower in the loan application\n",
      "# 2 - annual_inc: .......The self-reported annual income provided by the borrower during registration.\n",
      "# 3 - application_type: .......Indicates whether the loan is an individual application or a joint application with two co-borrowers\n",
      "# 4 - chargeoff_within_12_mths: .......Number of charge-offs within 12 months\n",
      "# 5 - collection_recovery_fee: .......post charge off collection fee\n",
      "# 6 - collections_12_mths_ex_med: .......Number of collections in 12 months excluding medical collections\n",
      "# 7 - delinq_2yrs: .......The number of 30+ days past-due incidences of delinquency in the borrower's credit file for the past 2 years\n",
      "# 8 - delinq_amnt: .......The past-due amount owed for the accounts on which the borrower is now delinquent.\n",
      "# 9 - dti: .......A ratio calculated using the borrower’s total monthly debt payments on the total debt obligations, excluding mortgage and the requested LC loan, divided by the borrower’s self-reported monthly income.\n",
      "# 10 - earliest_cr_line: .......The month the borrower's earliest reported credit line was opened\n",
      "# 11 - emp_length: .......Employment length in years. Possible values are between 0 and 10 where 0 means less than one year and 10 means ten or more years. \n",
      "# 12 - funded_amnt: .......The total amount committed to that loan at that point in time.\n",
      "# 13 - funded_amnt_inv: .......The total amount committed by investors for that loan at that point in time.\n",
      "# 14 - grade: .......LC assigned loan grade\n",
      "# 15 - home_ownership: .......The home ownership status provided by the borrower during registration. Our values are: RENT, OWN, MORTGAGE, OTHER.\n",
      "# 16 - id: .......A unique LC assigned ID for the loan listing.\n",
      "# 17 - initial_list_status: .......The initial listing status of the loan. Possible values are – W, F\n",
      "# 18 - inq_last_6mths: .......The number of inquiries in past 6 months (excluding auto and mortgage inquiries)\n",
      "# 19 - installment: .......The monthly payment owed by the borrower if the loan originates.\n",
      "# 20 - int_rate: .......Interest Rate on the loan\n",
      "# 21 - issue_d: .......The month which the loan was funded\n",
      "# 22 - last_credit_pull_d: .......The most recent month LC pulled credit for this loan\n",
      "# 23 - last_pymnt_amnt: .......Last total payment amount received\n",
      "# 24 - last_pymnt_d: .......Last month payment was received\n",
      "# 25 - loan_amnt: .......The listed amount of the loan applied for by the borrower. If at some point in time, the credit department reduces the loan amount, then it will be reflected in this value.\n",
      "# 26 - loan_status: .......Current status of the loan\n",
      "# 27 - member_id: .......A unique LC assigned Id for the borrower member.\n",
      "# 28 - open_acc: .......The number of open credit lines in the borrower's credit file.\n",
      "# 29 - out_prncp: .......Remaining outstanding principal for total amount funded\n",
      "# 30 - out_prncp_inv: .......Remaining outstanding principal for portion of total amount funded by investors\n",
      "# 31 - pub_rec: .......Number of derogatory public records\n",
      "# 32 - pub_rec_bankruptcies: .......Number of public record bankruptcies\n",
      "# 33 - pymnt_plan: .......Indicates if a payment plan has been put in place for the loan\n",
      "# 34 - recoveries: .......post charge off gross recovery\n",
      "# 35 - revol_bal: .......Total credit revolving balance\n",
      "# 36 - revol_util: .......Revolving line utilization rate, or the amount of credit the borrower is using relative to all available revolving credit.\n",
      "# 37 - sub_grade: .......LC assigned loan subgrade\n",
      "# 38 - tax_liens: .......Number of tax liens\n",
      "# 39 - term: .......The number of payments on the loan. Values are in months and can be either 36 or 60.\n",
      "# 40 - total_acc: .......The total number of credit lines currently in the borrower's credit file\n",
      "# 41 - total_pymnt: .......Payments received to date for total amount funded\n",
      "# 42 - total_pymnt_inv: .......Payments received to date for portion of total amount funded by investors\n",
      "# 43 - total_rec_int: .......Interest received to date\n",
      "# 44 - total_rec_late_fee: .......Late fees received to date\n",
      "# 45 - total_rec_prncp: .......Principal received to date\n",
      "# 46 - verification_status: .......Indicates if income was verified by LC, not verified, or if the income source was verified\n",
      "# 47 - zip_code: .......The first 3 numbers of the zip code provided by the borrower in the loan application.\n"
     ]
    }
   ],
   "source": [
    "data_dictionary = data_dictionary.dropna()\n",
    "\n",
    "list_columns_all = list(df.columns)\n",
    "\n",
    "ii = 1\n",
    "for index, row in data_dictionary.iterrows():\n",
    "       col1 = row['LoanStatNew']\n",
    "       col2 = row['Description']\n",
    "\n",
    "       for icol in list_columns_all:\n",
    "            if(col1 == icol):\n",
    "               print(f'# {ii} - {col1}: .......{col2}')\n",
    "               ii = ii+1"
   ]
  },
  {
   "cell_type": "code",
   "execution_count": 76,
   "metadata": {},
   "outputs": [],
   "source": [
    "# Generates profile reports from a pandas DataFrame\n",
    "# pandas_profiling extends the pandas DataFrame with \n",
    "# df.profile_report() for quick data analysis\n",
    "# This request a lot of memory RAM.\n",
    "# Pandas Profiling on github: https://github.com/pandas-profiling/pandas-profiling\n",
    "profile = ProfileReport(df, title=\"Pandas Profiling Report\")"
   ]
  },
  {
   "cell_type": "code",
   "execution_count": 77,
   "metadata": {
    "scrolled": false
   },
   "outputs": [
    {
     "name": "stdout",
     "output_type": "stream",
     "text": [
      "mkdir: reports: File exists\r\n"
     ]
    },
    {
     "data": {
      "application/vnd.jupyter.widget-view+json": {
       "model_id": "1f4ae33621f240bd94255c5268739a24",
       "version_major": 2,
       "version_minor": 0
      },
      "text/plain": [
       "Summarize dataset:   0%|          | 0/60 [00:00<?, ?it/s]"
      ]
     },
     "metadata": {},
     "output_type": "display_data"
    },
    {
     "data": {
      "application/vnd.jupyter.widget-view+json": {
       "model_id": "737cb1ec66074fdda6962c767043b6e3",
       "version_major": 2,
       "version_minor": 0
      },
      "text/plain": [
       "Generate report structure:   0%|          | 0/1 [00:00<?, ?it/s]"
      ]
     },
     "metadata": {},
     "output_type": "display_data"
    },
    {
     "data": {
      "application/vnd.jupyter.widget-view+json": {
       "model_id": "30b3928940b14d159c3653862acb4c4e",
       "version_major": 2,
       "version_minor": 0
      },
      "text/plain": [
       "Render HTML:   0%|          | 0/1 [00:00<?, ?it/s]"
      ]
     },
     "metadata": {},
     "output_type": "display_data"
    },
    {
     "data": {
      "application/vnd.jupyter.widget-view+json": {
       "model_id": "5c2a0f281ba24c1dbee557ef432c243a",
       "version_major": 2,
       "version_minor": 0
      },
      "text/plain": [
       "Export report to file:   0%|          | 0/1 [00:00<?, ?it/s]"
      ]
     },
     "metadata": {},
     "output_type": "display_data"
    }
   ],
   "source": [
    "# report format html\n",
    "# A nice way to explore the data. Take a look :)\n",
    "!mkdir reports\n",
    "\n",
    "profile.to_file(\"reports/lending_club_loans.html\")\n",
    "\n",
    "# open reports/lending_club_loans.html in a browser"
   ]
  },
  {
   "cell_type": "code",
   "execution_count": 79,
   "metadata": {},
   "outputs": [],
   "source": [
    "!open reports/lending_club_loans.html"
   ]
  },
  {
   "cell_type": "code",
   "execution_count": 38,
   "metadata": {},
   "outputs": [
    {
     "name": "stdout",
     "output_type": "stream",
     "text": [
      "saving the file format feather...\n",
      "memory RAM released.\n"
     ]
    }
   ],
   "source": [
    "print(\"saving the file format feather...\")\n",
    "\n",
    "# this is important to do before save in feather format.\n",
    "df = df.reset_index(drop=True) # reset index pandas before save feather format\n",
    "df.to_feather('../data/dataset_cleaning.ftr') # save to feather format\n",
    "\n",
    "release_memory(df)"
   ]
  },
  {
   "cell_type": "code",
   "execution_count": 39,
   "metadata": {},
   "outputs": [
    {
     "name": "stdout",
     "output_type": "stream",
     "text": [
      "time of execution (preprocessing/cleaning): 12.3044 minutes\n",
      "the preprocessing is done.\n",
      "The next step is to do the feature engineering.\n",
      ">>> date:  24/07/2021 21:01:09\n",
      "All Done. :)\n"
     ]
    }
   ],
   "source": [
    "# time of execution in minutes\n",
    "time_exec_min = round( (time.time() - start_time)/60, 4)\n",
    "\n",
    "print(f'time of execution (preprocessing/cleaning): {time_exec_min} minutes')\n",
    "print(\"the preprocessing is done.\")\n",
    "print(\"The next step is to do the feature engineering.\")\n",
    "# datetime object containing current date and time\n",
    "now = datetime.now()\n",
    "\n",
    "# dd/mm/YY H:M:S\n",
    "dt_string = now.strftime(\"%d/%m/%Y %H:%M:%S\")\n",
    "print(\">>> date: \", dt_string)\n",
    "\n",
    "print(\"All Done. :)\")"
   ]
  }
 ],
 "metadata": {
  "interpreter": {
   "hash": "6c931bb6fc3746b1a920c4cd284bcdcf9c2b3594e9a6d3d6043ffcb175a0c5f2"
  },
  "kernelspec": {
   "display_name": "Python 3",
   "language": "python",
   "name": "python3"
  },
  "language_info": {
   "codemirror_mode": {
    "name": "ipython",
    "version": 3
   },
   "file_extension": ".py",
   "mimetype": "text/x-python",
   "name": "python",
   "nbconvert_exporter": "python",
   "pygments_lexer": "ipython3",
   "version": "3.8.8"
  }
 },
 "nbformat": 4,
 "nbformat_minor": 2
}
