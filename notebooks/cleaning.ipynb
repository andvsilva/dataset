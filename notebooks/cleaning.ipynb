{
 "cells": [
  {
   "cell_type": "markdown",
   "source": [
    "# Exploratory Data Analysis (EDA) - Data Science\n",
    "\n",
    "- Steps:\n",
    "    - Understand the dataset - assess the quality of the dataset\n",
    "    - Distribute of the dataset - How does the data look like?\n",
    "    - Correlactions - Find patterns in the dataset"
   ],
   "metadata": {}
  },
  {
   "cell_type": "code",
   "execution_count": 470,
   "source": [
    "###############################################################\n",
    "################### DATA CLEANING #############################\n",
    "###############################################################"
   ],
   "outputs": [],
   "metadata": {}
  },
  {
   "cell_type": "code",
   "execution_count": 471,
   "source": [
    "#!pip install pandas-profiling"
   ],
   "outputs": [],
   "metadata": {}
  },
  {
   "cell_type": "code",
   "execution_count": 472,
   "source": [
    "import pandas                   as pd\n",
    "import sys\n",
    "import itertools\n",
    "from collections               import Counter\n",
    "import numpy                   as np\n",
    "import gc # Garbage Collector interface\n",
    "import feather\n",
    "import time\n",
    "from datetime                  import datetime\n",
    "import matplotlib.pyplot       as plt\n",
    "import seaborn                 as sns\n",
    "from sklearn.feature_selection import mutual_info_classif\n",
    "import plotly.express          as ex\n",
    "from matplotlib                import pyplot\n",
    "\n",
    "from sklearn.preprocessing     import OneHotEncoder\n",
    "from sklearn.preprocessing     import LabelEncoder\n",
    "\n",
    "from pandas_profiling          import ProfileReport\n",
    "\n",
    "# Normality tests\n",
    "from scipy.stats import normaltest\n",
    "\n",
    "%matplotlib inline\n",
    "\n",
    "pd.set_option('max_columns', 120)\n",
    "pd.set_option('max_colwidth', 5000)\n",
    "\n",
    "plt.rcParams['figure.figsize'] = (20, 20)\n",
    "\n",
    "##### >>> https://towardsdatascience.com/a-straightforward-guide-to-cleaning-and-preparing-data-in-python-8c82f209ae33\n",
    "# source dataset: https://www.dataquest.io/blog/machine-learning-preparing-data/\n",
    "\n",
    "# data cleaning - sources\n",
    "# https://medium.com/sciforce/data-cleaning-and-preprocessing-for-beginners-25748ee00743\n",
    "# https://medium.com/bitgrit-data-science-publication/data-cleaning-with-python-f6bc3da64e45\n",
    "# https://towardsdatascience.com/the-ultimate-guide-to-data-cleaning-3969843991d4\n",
    "# https://towardsdatascience.com/data-cleaning-and-feature-engineering-the-underestimated-parts-of-machine-learning-10681dae4cf7\n",
    "\n",
    "# Pandas has a high consume of memory RAM usage\n",
    "# release memory RAM\n",
    "def release_memory(df):   \n",
    "    del df\n",
    "    gc.collect() \n",
    "    df = pd.DataFrame() # point to NULL\n",
    "    print('memory RAM released.')\n",
    "\n",
    "# Get start time \n",
    "start_time = time.time()\n",
    "\n",
    "# datetime object containing current date and time\n",
    "now = datetime.now()\n",
    "\n",
    "# dd/mm/YY H:M:S\n",
    "dt_string = now.strftime(\"%d/%m/%Y %H:%M:%S\")\n",
    "print(\">>> date: \", dt_string)"
   ],
   "outputs": [
    {
     "output_type": "stream",
     "name": "stdout",
     "text": [
      ">>> date:  15/08/2021 19:18:04\n"
     ]
    }
   ],
   "metadata": {}
  },
  {
   "cell_type": "markdown",
   "source": [
    "## Quick Dataset Overview"
   ],
   "metadata": {}
  },
  {
   "cell_type": "code",
   "execution_count": 473,
   "source": [
    "# dataframe - df\n",
    "# read csv file, the columns are separated (sep) by ','\n",
    "df = pd.read_csv('../data/lending_club_loans_2007_2011.csv', skiprows=1, low_memory=False)\n",
    "\n",
    "half_count = len(df) / 2\n",
    "df = df.dropna(thresh=half_count,axis=1) # Drop any column with more than 50% missing values\n",
    "df = df.drop(['url','desc', 'initial_list_status','pymnt_plan'],axis=1) # These columns are not useful for our purposes"
   ],
   "outputs": [],
   "metadata": {}
  },
  {
   "cell_type": "code",
   "execution_count": 474,
   "source": [
    "# After analyzing the columns and considering the model we’re \n",
    "# trying to build, we can conclude that the following features \n",
    "# can be removed:\n",
    "\n",
    "drop_list = ['id','member_id','funded_amnt','funded_amnt_inv',\n",
    "             'int_rate','sub_grade','emp_title','issue_d', 'zip_code',\n",
    "             'out_prncp','out_prncp_inv', 'total_pymnt','total_pymnt_inv',\n",
    "             'total_rec_prncp','total_rec_int',\n",
    "             'total_rec_late_fee','recoveries',\n",
    "             'collection_recovery_fee', 'last_pymnt_d',\n",
    "             'last_pymnt_amnt', 'policy_code'\n",
    "            ]\n",
    "            \n",
    "df = df.drop(drop_list,axis=1)"
   ],
   "outputs": [],
   "metadata": {}
  },
  {
   "cell_type": "code",
   "execution_count": 475,
   "source": [
    "print(f'Number of rows.....................: {df.shape[0]}')\n",
    "print(f'Number of columns..................: {df.shape[1]}')"
   ],
   "outputs": [
    {
     "output_type": "stream",
     "name": "stdout",
     "text": [
      "Number of rows.....................: 42538\n",
      "Number of columns..................: 33\n"
     ]
    }
   ],
   "metadata": {}
  },
  {
   "cell_type": "code",
   "execution_count": 476,
   "source": [
    "# % of rows missing in each column\n",
    "list_columns_nan = list()\n",
    "\n",
    "print('% of rows missing in each column')\n",
    "for column in df.columns:\n",
    "    percentage = df[column].isnull().mean()\n",
    "    if(percentage != 0):\n",
    "        print(f'{column}: {round(percentage*100, 2)}%')\n",
    "        list_columns_nan.append(column)"
   ],
   "outputs": [
    {
     "output_type": "stream",
     "name": "stdout",
     "text": [
      "% of rows missing in each column\n",
      "loan_amnt: 0.01%\n",
      "term: 0.01%\n",
      "installment: 0.01%\n",
      "grade: 0.01%\n",
      "emp_length: 2.62%\n",
      "home_ownership: 0.01%\n",
      "annual_inc: 0.02%\n",
      "verification_status: 0.01%\n",
      "loan_status: 0.01%\n",
      "purpose: 0.01%\n",
      "title: 0.04%\n",
      "addr_state: 0.01%\n",
      "dti: 0.01%\n",
      "delinq_2yrs: 0.08%\n",
      "earliest_cr_line: 0.08%\n",
      "fico_range_low: 0.01%\n",
      "fico_range_high: 0.01%\n",
      "inq_last_6mths: 0.08%\n",
      "open_acc: 0.08%\n",
      "pub_rec: 0.08%\n",
      "revol_bal: 0.01%\n",
      "revol_util: 0.22%\n",
      "total_acc: 0.08%\n",
      "last_credit_pull_d: 0.02%\n",
      "last_fico_range_high: 0.01%\n",
      "last_fico_range_low: 0.01%\n",
      "collections_12_mths_ex_med: 0.35%\n",
      "application_type: 0.01%\n",
      "acc_now_delinq: 0.08%\n",
      "chargeoff_within_12_mths: 0.35%\n",
      "delinq_amnt: 0.08%\n",
      "pub_rec_bankruptcies: 3.22%\n",
      "tax_liens: 0.25%\n"
     ]
    }
   ],
   "metadata": {}
  },
  {
   "cell_type": "markdown",
   "source": [
    "## Identify Missing Data"
   ],
   "metadata": {}
  },
  {
   "cell_type": "code",
   "execution_count": 477,
   "source": [
    "# count NaN found in the dataset\n",
    "df.isna().sum()"
   ],
   "outputs": [
    {
     "output_type": "execute_result",
     "data": {
      "text/plain": [
       "loan_amnt                        3\n",
       "term                             3\n",
       "installment                      3\n",
       "grade                            3\n",
       "emp_length                    1115\n",
       "home_ownership                   3\n",
       "annual_inc                       7\n",
       "verification_status              3\n",
       "loan_status                      3\n",
       "purpose                          3\n",
       "title                           16\n",
       "addr_state                       3\n",
       "dti                              3\n",
       "delinq_2yrs                     32\n",
       "earliest_cr_line                32\n",
       "fico_range_low                   3\n",
       "fico_range_high                  3\n",
       "inq_last_6mths                  32\n",
       "open_acc                        32\n",
       "pub_rec                         32\n",
       "revol_bal                        3\n",
       "revol_util                      93\n",
       "total_acc                       32\n",
       "last_credit_pull_d               7\n",
       "last_fico_range_high             3\n",
       "last_fico_range_low              3\n",
       "collections_12_mths_ex_med     148\n",
       "application_type                 3\n",
       "acc_now_delinq                  32\n",
       "chargeoff_within_12_mths       148\n",
       "delinq_amnt                     32\n",
       "pub_rec_bankruptcies          1368\n",
       "tax_liens                      108\n",
       "dtype: int64"
      ]
     },
     "metadata": {},
     "execution_count": 477
    }
   ],
   "metadata": {}
  },
  {
   "cell_type": "markdown",
   "source": [
    "## Missing value per feature - heatmap"
   ],
   "metadata": {}
  },
  {
   "cell_type": "code",
   "execution_count": 478,
   "source": [
    "# heatmap - give a big picture of the missing values on the dataset.\n",
    "plt.title('Missing Values Per Feature')\n",
    "nans = df.isna().sum().sort_values(ascending=False).to_frame() # get NaN\n",
    "sns.heatmap(nans,annot=True,fmt='d',cmap='vlag') # seaborn\n",
    "\n",
    "plt.savefig(f'figures/missing_values_per_feature.png')"
   ],
   "outputs": [
    {
     "output_type": "execute_result",
     "data": {
      "text/plain": [
       "<AxesSubplot:title={'center':'Missing Values Per Feature'}>"
      ]
     },
     "metadata": {},
     "execution_count": 478
    },
    {
     "output_type": "display_data",
     "data": {
      "image/png": "[encoded data removed]",
      "text/plain": [
       "<Figure size 1440x1440 with 2 Axes>"
      ]
     },
     "metadata": {
      "needs_background": "light"
     }
    }
   ],
   "metadata": {}
  },
  {
   "cell_type": "code",
   "execution_count": 479,
   "source": [
    "#df = df.dropna() # drop rows with NaN's\n",
    "df.shape"
   ],
   "outputs": [
    {
     "output_type": "execute_result",
     "data": {
      "text/plain": [
       "(42538, 33)"
      ]
     },
     "metadata": {},
     "execution_count": 479
    }
   ],
   "metadata": {}
  },
  {
   "cell_type": "code",
   "execution_count": 480,
   "source": [
    "# remove rows with missing data\n",
    "#df = df.dropna()\n",
    "\n",
    "# drop a column\n",
    "# df.drop('column_name', axis=1)\n",
    "\n",
    "#half_count = len(df) / 2  # 50% of the dataset\n",
    "#df = df.dropna(thresh=half_count,axis=1) # Drop any column with more than 50% missing values"
   ],
   "outputs": [],
   "metadata": {}
  },
  {
   "cell_type": "code",
   "execution_count": 481,
   "source": [
    "df[list_columns_nan].head()"
   ],
   "outputs": [
    {
     "output_type": "execute_result",
     "data": {
      "text/html": [
       "<div>\n",
       "<style scoped>\n",
       "    .dataframe tbody tr th:only-of-type {\n",
       "        vertical-align: middle;\n",
       "    }\n",
       "\n",
       "    .dataframe tbody tr th {\n",
       "        vertical-align: top;\n",
       "    }\n",
       "\n",
       "    .dataframe thead th {\n",
       "        text-align: right;\n",
       "    }\n",
       "</style>\n",
       "<table border=\"1\" class=\"dataframe\">\n",
       "  <thead>\n",
       "    <tr style=\"text-align: right;\">\n",
       "      <th></th>\n",
       "      <th>loan_amnt</th>\n",
       "      <th>term</th>\n",
       "      <th>installment</th>\n",
       "      <th>grade</th>\n",
       "      <th>emp_length</th>\n",
       "      <th>home_ownership</th>\n",
       "      <th>annual_inc</th>\n",
       "      <th>verification_status</th>\n",
       "      <th>loan_status</th>\n",
       "      <th>purpose</th>\n",
       "      <th>title</th>\n",
       "      <th>addr_state</th>\n",
       "      <th>dti</th>\n",
       "      <th>delinq_2yrs</th>\n",
       "      <th>earliest_cr_line</th>\n",
       "      <th>fico_range_low</th>\n",
       "      <th>fico_range_high</th>\n",
       "      <th>inq_last_6mths</th>\n",
       "      <th>open_acc</th>\n",
       "      <th>pub_rec</th>\n",
       "      <th>revol_bal</th>\n",
       "      <th>revol_util</th>\n",
       "      <th>total_acc</th>\n",
       "      <th>last_credit_pull_d</th>\n",
       "      <th>last_fico_range_high</th>\n",
       "      <th>last_fico_range_low</th>\n",
       "      <th>collections_12_mths_ex_med</th>\n",
       "      <th>application_type</th>\n",
       "      <th>acc_now_delinq</th>\n",
       "      <th>chargeoff_within_12_mths</th>\n",
       "      <th>delinq_amnt</th>\n",
       "      <th>pub_rec_bankruptcies</th>\n",
       "      <th>tax_liens</th>\n",
       "    </tr>\n",
       "  </thead>\n",
       "  <tbody>\n",
       "    <tr>\n",
       "      <th>0</th>\n",
       "      <td>5000.0</td>\n",
       "      <td>36 months</td>\n",
       "      <td>162.87</td>\n",
       "      <td>B</td>\n",
       "      <td>10+ years</td>\n",
       "      <td>RENT</td>\n",
       "      <td>24000.0</td>\n",
       "      <td>Verified</td>\n",
       "      <td>Fully Paid</td>\n",
       "      <td>credit_card</td>\n",
       "      <td>Computer</td>\n",
       "      <td>AZ</td>\n",
       "      <td>27.65</td>\n",
       "      <td>0.0</td>\n",
       "      <td>Jan-1985</td>\n",
       "      <td>735.0</td>\n",
       "      <td>739.0</td>\n",
       "      <td>1.0</td>\n",
       "      <td>3.0</td>\n",
       "      <td>0.0</td>\n",
       "      <td>13648.0</td>\n",
       "      <td>83.7%</td>\n",
       "      <td>9.0</td>\n",
       "      <td>Sep-2016</td>\n",
       "      <td>744.0</td>\n",
       "      <td>740.0</td>\n",
       "      <td>0.0</td>\n",
       "      <td>INDIVIDUAL</td>\n",
       "      <td>0.0</td>\n",
       "      <td>0.0</td>\n",
       "      <td>0.0</td>\n",
       "      <td>0.0</td>\n",
       "      <td>0.0</td>\n",
       "    </tr>\n",
       "    <tr>\n",
       "      <th>1</th>\n",
       "      <td>2500.0</td>\n",
       "      <td>60 months</td>\n",
       "      <td>59.83</td>\n",
       "      <td>C</td>\n",
       "      <td>&lt; 1 year</td>\n",
       "      <td>RENT</td>\n",
       "      <td>30000.0</td>\n",
       "      <td>Source Verified</td>\n",
       "      <td>Charged Off</td>\n",
       "      <td>car</td>\n",
       "      <td>bike</td>\n",
       "      <td>GA</td>\n",
       "      <td>1.00</td>\n",
       "      <td>0.0</td>\n",
       "      <td>Apr-1999</td>\n",
       "      <td>740.0</td>\n",
       "      <td>744.0</td>\n",
       "      <td>5.0</td>\n",
       "      <td>3.0</td>\n",
       "      <td>0.0</td>\n",
       "      <td>1687.0</td>\n",
       "      <td>9.4%</td>\n",
       "      <td>4.0</td>\n",
       "      <td>Sep-2016</td>\n",
       "      <td>499.0</td>\n",
       "      <td>0.0</td>\n",
       "      <td>0.0</td>\n",
       "      <td>INDIVIDUAL</td>\n",
       "      <td>0.0</td>\n",
       "      <td>0.0</td>\n",
       "      <td>0.0</td>\n",
       "      <td>0.0</td>\n",
       "      <td>0.0</td>\n",
       "    </tr>\n",
       "    <tr>\n",
       "      <th>2</th>\n",
       "      <td>2400.0</td>\n",
       "      <td>36 months</td>\n",
       "      <td>84.33</td>\n",
       "      <td>C</td>\n",
       "      <td>10+ years</td>\n",
       "      <td>RENT</td>\n",
       "      <td>12252.0</td>\n",
       "      <td>Not Verified</td>\n",
       "      <td>Fully Paid</td>\n",
       "      <td>small_business</td>\n",
       "      <td>real estate business</td>\n",
       "      <td>IL</td>\n",
       "      <td>8.72</td>\n",
       "      <td>0.0</td>\n",
       "      <td>Nov-2001</td>\n",
       "      <td>735.0</td>\n",
       "      <td>739.0</td>\n",
       "      <td>2.0</td>\n",
       "      <td>2.0</td>\n",
       "      <td>0.0</td>\n",
       "      <td>2956.0</td>\n",
       "      <td>98.5%</td>\n",
       "      <td>10.0</td>\n",
       "      <td>Sep-2016</td>\n",
       "      <td>719.0</td>\n",
       "      <td>715.0</td>\n",
       "      <td>0.0</td>\n",
       "      <td>INDIVIDUAL</td>\n",
       "      <td>0.0</td>\n",
       "      <td>0.0</td>\n",
       "      <td>0.0</td>\n",
       "      <td>0.0</td>\n",
       "      <td>0.0</td>\n",
       "    </tr>\n",
       "    <tr>\n",
       "      <th>3</th>\n",
       "      <td>10000.0</td>\n",
       "      <td>36 months</td>\n",
       "      <td>339.31</td>\n",
       "      <td>C</td>\n",
       "      <td>10+ years</td>\n",
       "      <td>RENT</td>\n",
       "      <td>49200.0</td>\n",
       "      <td>Source Verified</td>\n",
       "      <td>Fully Paid</td>\n",
       "      <td>other</td>\n",
       "      <td>personel</td>\n",
       "      <td>CA</td>\n",
       "      <td>20.00</td>\n",
       "      <td>0.0</td>\n",
       "      <td>Feb-1996</td>\n",
       "      <td>690.0</td>\n",
       "      <td>694.0</td>\n",
       "      <td>1.0</td>\n",
       "      <td>10.0</td>\n",
       "      <td>0.0</td>\n",
       "      <td>5598.0</td>\n",
       "      <td>21%</td>\n",
       "      <td>37.0</td>\n",
       "      <td>Apr-2016</td>\n",
       "      <td>604.0</td>\n",
       "      <td>600.0</td>\n",
       "      <td>0.0</td>\n",
       "      <td>INDIVIDUAL</td>\n",
       "      <td>0.0</td>\n",
       "      <td>0.0</td>\n",
       "      <td>0.0</td>\n",
       "      <td>0.0</td>\n",
       "      <td>0.0</td>\n",
       "    </tr>\n",
       "    <tr>\n",
       "      <th>4</th>\n",
       "      <td>3000.0</td>\n",
       "      <td>60 months</td>\n",
       "      <td>67.79</td>\n",
       "      <td>B</td>\n",
       "      <td>1 year</td>\n",
       "      <td>RENT</td>\n",
       "      <td>80000.0</td>\n",
       "      <td>Source Verified</td>\n",
       "      <td>Current</td>\n",
       "      <td>other</td>\n",
       "      <td>Personal</td>\n",
       "      <td>OR</td>\n",
       "      <td>17.94</td>\n",
       "      <td>0.0</td>\n",
       "      <td>Jan-1996</td>\n",
       "      <td>695.0</td>\n",
       "      <td>699.0</td>\n",
       "      <td>0.0</td>\n",
       "      <td>15.0</td>\n",
       "      <td>0.0</td>\n",
       "      <td>27783.0</td>\n",
       "      <td>53.9%</td>\n",
       "      <td>38.0</td>\n",
       "      <td>Sep-2016</td>\n",
       "      <td>694.0</td>\n",
       "      <td>690.0</td>\n",
       "      <td>0.0</td>\n",
       "      <td>INDIVIDUAL</td>\n",
       "      <td>0.0</td>\n",
       "      <td>0.0</td>\n",
       "      <td>0.0</td>\n",
       "      <td>0.0</td>\n",
       "      <td>0.0</td>\n",
       "    </tr>\n",
       "  </tbody>\n",
       "</table>\n",
       "</div>"
      ],
      "text/plain": [
       "   loan_amnt        term  installment grade emp_length home_ownership  \\\n",
       "0     5000.0   36 months       162.87     B  10+ years           RENT   \n",
       "1     2500.0   60 months        59.83     C   < 1 year           RENT   \n",
       "2     2400.0   36 months        84.33     C  10+ years           RENT   \n",
       "3    10000.0   36 months       339.31     C  10+ years           RENT   \n",
       "4     3000.0   60 months        67.79     B     1 year           RENT   \n",
       "\n",
       "   annual_inc verification_status  loan_status         purpose  \\\n",
       "0     24000.0            Verified   Fully Paid     credit_card   \n",
       "1     30000.0     Source Verified  Charged Off             car   \n",
       "2     12252.0        Not Verified   Fully Paid  small_business   \n",
       "3     49200.0     Source Verified   Fully Paid           other   \n",
       "4     80000.0     Source Verified      Current           other   \n",
       "\n",
       "                  title addr_state    dti  delinq_2yrs earliest_cr_line  \\\n",
       "0              Computer         AZ  27.65          0.0         Jan-1985   \n",
       "1                  bike         GA   1.00          0.0         Apr-1999   \n",
       "2  real estate business         IL   8.72          0.0         Nov-2001   \n",
       "3              personel         CA  20.00          0.0         Feb-1996   \n",
       "4              Personal         OR  17.94          0.0         Jan-1996   \n",
       "\n",
       "   fico_range_low  fico_range_high  inq_last_6mths  open_acc  pub_rec  \\\n",
       "0           735.0            739.0             1.0       3.0      0.0   \n",
       "1           740.0            744.0             5.0       3.0      0.0   \n",
       "2           735.0            739.0             2.0       2.0      0.0   \n",
       "3           690.0            694.0             1.0      10.0      0.0   \n",
       "4           695.0            699.0             0.0      15.0      0.0   \n",
       "\n",
       "   revol_bal revol_util  total_acc last_credit_pull_d  last_fico_range_high  \\\n",
       "0    13648.0      83.7%        9.0           Sep-2016                 744.0   \n",
       "1     1687.0       9.4%        4.0           Sep-2016                 499.0   \n",
       "2     2956.0      98.5%       10.0           Sep-2016                 719.0   \n",
       "3     5598.0        21%       37.0           Apr-2016                 604.0   \n",
       "4    27783.0      53.9%       38.0           Sep-2016                 694.0   \n",
       "\n",
       "   last_fico_range_low  collections_12_mths_ex_med application_type  \\\n",
       "0                740.0                         0.0       INDIVIDUAL   \n",
       "1                  0.0                         0.0       INDIVIDUAL   \n",
       "2                715.0                         0.0       INDIVIDUAL   \n",
       "3                600.0                         0.0       INDIVIDUAL   \n",
       "4                690.0                         0.0       INDIVIDUAL   \n",
       "\n",
       "   acc_now_delinq  chargeoff_within_12_mths  delinq_amnt  \\\n",
       "0             0.0                       0.0          0.0   \n",
       "1             0.0                       0.0          0.0   \n",
       "2             0.0                       0.0          0.0   \n",
       "3             0.0                       0.0          0.0   \n",
       "4             0.0                       0.0          0.0   \n",
       "\n",
       "   pub_rec_bankruptcies  tax_liens  \n",
       "0                   0.0        0.0  \n",
       "1                   0.0        0.0  \n",
       "2                   0.0        0.0  \n",
       "3                   0.0        0.0  \n",
       "4                   0.0        0.0  "
      ]
     },
     "metadata": {},
     "execution_count": 481
    }
   ],
   "metadata": {}
  },
  {
   "cell_type": "code",
   "execution_count": 482,
   "source": [
    "# remove a special character on dataframe\n",
    "df['revol_util'] = df['revol_util'].str.replace('%', '')\n",
    "#df['int_rate'] = df['int_rate'].str.replace('%', '')\n",
    "\n",
    "# Convert object to float\n",
    "df['revol_util'] = df['revol_util'].astype(float)\n",
    "\n",
    "# convert obejcto category\n",
    "list_cat = ['last_credit_pull_d']\n",
    "\n",
    "for ilist in list_cat:\n",
    "    df[f'{ilist}'] = df[f'{ilist}'].astype('category')"
   ],
   "outputs": [],
   "metadata": {}
  },
  {
   "cell_type": "code",
   "execution_count": 483,
   "source": [
    "df[list_columns_nan].dtypes"
   ],
   "outputs": [
    {
     "output_type": "execute_result",
     "data": {
      "text/plain": [
       "loan_amnt                      float64\n",
       "term                            object\n",
       "installment                    float64\n",
       "grade                           object\n",
       "emp_length                      object\n",
       "home_ownership                  object\n",
       "annual_inc                     float64\n",
       "verification_status             object\n",
       "loan_status                     object\n",
       "purpose                         object\n",
       "title                           object\n",
       "addr_state                      object\n",
       "dti                            float64\n",
       "delinq_2yrs                    float64\n",
       "earliest_cr_line                object\n",
       "fico_range_low                 float64\n",
       "fico_range_high                float64\n",
       "inq_last_6mths                 float64\n",
       "open_acc                       float64\n",
       "pub_rec                        float64\n",
       "revol_bal                      float64\n",
       "revol_util                     float64\n",
       "total_acc                      float64\n",
       "last_credit_pull_d            category\n",
       "last_fico_range_high           float64\n",
       "last_fico_range_low            float64\n",
       "collections_12_mths_ex_med     float64\n",
       "application_type                object\n",
       "acc_now_delinq                 float64\n",
       "chargeoff_within_12_mths       float64\n",
       "delinq_amnt                    float64\n",
       "pub_rec_bankruptcies           float64\n",
       "tax_liens                      float64\n",
       "dtype: object"
      ]
     },
     "metadata": {},
     "execution_count": 483
    }
   ],
   "metadata": {}
  },
  {
   "cell_type": "code",
   "execution_count": 484,
   "source": [
    "# the mode replaces categorical data.\n",
    "#mode = ''.join(df['emp_length'].mode())\n",
    "#df['emp_length'].fillna(mode, inplace=True)\n",
    "\n",
    "# datetime\n",
    "#list_datetime = ['last_pymnt_d', 'last_credit_pull_d']\n",
    "\n",
    "#for ilist in list_datetime:\n",
    "#    mode = ''.join(df[f'{ilist}'].mode())\n",
    "#    df[f'{ilist}'].fillna(mode, inplace=True)\n",
    "\n",
    "\n",
    "# list columns float\n",
    "#list_impute_mean = ['revol_util',\n",
    "#                    'collections_12_mths_ex_med',\n",
    "#                    'chargeoff_within_12_mths',\n",
    "#                    'pub_rec_bankruptcies',\n",
    "#                    'tax_liens'\n",
    "#                   ]\n",
    "\n",
    "# impute mean to missing values\n",
    "#df = df.fillna(df[list_impute_mean].mean())"
   ],
   "outputs": [],
   "metadata": {}
  },
  {
   "cell_type": "markdown",
   "source": [
    "## Target "
   ],
   "metadata": {}
  },
  {
   "cell_type": "code",
   "execution_count": 485,
   "source": [
    "df_target = df['loan_status'].value_counts(normalize=True).map('{:.2%}'.format)\n",
    "df_target = dict(df_target)\n",
    "df_target"
   ],
   "outputs": [
    {
     "output_type": "execute_result",
     "data": {
      "text/plain": [
       "{'Fully Paid': '78.96%',\n",
       " 'Charged Off': '13.29%',\n",
       " 'Does not meet the credit policy. Status:Fully Paid': '4.67%',\n",
       " 'Does not meet the credit policy. Status:Charged Off': '1.79%',\n",
       " 'Current': '1.21%',\n",
       " 'In Grace Period': '0.04%',\n",
       " 'Late (31-120 days)': '0.03%',\n",
       " 'Late (16-30 days)': '0.01%',\n",
       " 'Default': '0.00%'}"
      ]
     },
     "metadata": {},
     "execution_count": 485
    }
   ],
   "metadata": {}
  },
  {
   "cell_type": "code",
   "execution_count": 486,
   "source": [
    "df.shape"
   ],
   "outputs": [
    {
     "output_type": "execute_result",
     "data": {
      "text/plain": [
       "(42538, 33)"
      ]
     },
     "metadata": {},
     "execution_count": 486
    }
   ],
   "metadata": {}
  },
  {
   "cell_type": "code",
   "execution_count": 487,
   "source": [
    "list_drop_target = ['Late (31-120 days)',\n",
    "                    'Current',\n",
    "                    'Late (16-30 days)',\n",
    "                    'In Grace Period',\n",
    "                    'Default',\n",
    "                    'Does not meet the credit policy. Status:Fully Paid',\n",
    "                    'Does not meet the credit policy. Status:Charged Off'\n",
    "                   ]\n",
    "\n",
    "for drop_target in list_drop_target:\n",
    "    index_drop_target = df[ (df['loan_status'] == f'{drop_target}')].index\n",
    "    df.drop(index_drop_target, inplace = True)\n",
    "\n",
    "df.shape"
   ],
   "outputs": [
    {
     "output_type": "execute_result",
     "data": {
      "text/plain": [
       "(39242, 33)"
      ]
     },
     "metadata": {},
     "execution_count": 487
    }
   ],
   "metadata": {}
  },
  {
   "cell_type": "code",
   "execution_count": 488,
   "source": [
    "df['loan_status'].value_counts(normalize=True).map('{:.2%}'.format)"
   ],
   "outputs": [
    {
     "output_type": "execute_result",
     "data": {
      "text/plain": [
       "Fully Paid     85.59%\n",
       "Charged Off    14.41%\n",
       "Name: loan_status, dtype: object"
      ]
     },
     "metadata": {},
     "execution_count": 488
    }
   ],
   "metadata": {}
  },
  {
   "cell_type": "code",
   "execution_count": 489,
   "source": [
    "df_tar = pd.DataFrame([df_target])\n",
    "df_tar\n",
    "\n",
    "list_col = list(df_tar.columns)\n",
    "\n",
    "for col in list_col:\n",
    "    df_tar[f'{col}'] = df_tar[f'{col}'].str.replace('%', '')\n",
    "\n",
    "df_tar[df_tar.select_dtypes(['object']).columns] = df_tar.select_dtypes(['object']).apply(lambda x: x.astype('float64'))\n",
    "df_tar.dtypes"
   ],
   "outputs": [
    {
     "output_type": "execute_result",
     "data": {
      "text/plain": [
       "Fully Paid                                             float64\n",
       "Charged Off                                            float64\n",
       "Does not meet the credit policy. Status:Fully Paid     float64\n",
       "Does not meet the credit policy. Status:Charged Off    float64\n",
       "Current                                                float64\n",
       "In Grace Period                                        float64\n",
       "Late (31-120 days)                                     float64\n",
       "Late (16-30 days)                                      float64\n",
       "Default                                                float64\n",
       "dtype: object"
      ]
     },
     "metadata": {},
     "execution_count": 489
    }
   ],
   "metadata": {}
  },
  {
   "cell_type": "code",
   "execution_count": null,
   "source": [],
   "outputs": [],
   "metadata": {}
  },
  {
   "cell_type": "markdown",
   "source": [
    "## Visualizing the Target Column Outcomes"
   ],
   "metadata": {}
  },
  {
   "cell_type": "code",
   "execution_count": 490,
   "source": [
    "fig, axs = plt.subplots(1,2,figsize=(14,7))\n",
    "\n",
    "sns.countplot(x='loan_status',data=df,ax=axs[0])\n",
    "axs[0].set_title(\"Frequency of each Loan Status\")\n",
    "df['loan_status'].value_counts().plot(x=None,y=None, kind='pie', ax=axs[1],autopct='%1.2f%%')\n",
    "axs[1].set_title(\"Percentage of each Loan status\")\n",
    "plt.savefig('pictures/target_stat.png')\n",
    "plt.show()\n"
   ],
   "outputs": [
    {
     "output_type": "display_data",
     "data": {
      "image/png": "[encoded data removed]",
      "text/plain": [
       "<Figure size 1008x504 with 2 Axes>"
      ]
     },
     "metadata": {
      "needs_background": "light"
     }
    }
   ],
   "metadata": {}
  },
  {
   "cell_type": "code",
   "execution_count": 491,
   "source": [
    "#df[list_columns_nan].dtypes"
   ],
   "outputs": [],
   "metadata": {}
  },
  {
   "cell_type": "code",
   "execution_count": 492,
   "source": [
    "print(df['fico_range_low'].unique())\n",
    "print(df['fico_range_high'].unique())"
   ],
   "outputs": [
    {
     "output_type": "stream",
     "name": "stdout",
     "text": [
      "[735. 740. 690. 730. 660. 675. 725. 695. 710. 705. 720. 665. 670. 760.\n",
      " 685. 755. 680. 700. 790. 750. 715. 765. 745. 770. 780. 775. 795. 810.\n",
      " 800. 815. 785. 805. 825. 820. 630. 625.  nan]\n",
      "[739. 744. 694. 734. 664. 679. 729. 699. 714. 709. 724. 669. 674. 764.\n",
      " 689. 759. 684. 704. 794. 754. 719. 769. 749. 774. 784. 779. 799. 814.\n",
      " 804. 819. 789. 809. 829. 824. 634. 629.  nan]\n"
     ]
    }
   ],
   "metadata": {}
  },
  {
   "cell_type": "code",
   "execution_count": null,
   "source": [],
   "outputs": [],
   "metadata": {}
  },
  {
   "cell_type": "markdown",
   "source": [
    "## Convert Feature (type: object) to Category"
   ],
   "metadata": {}
  },
  {
   "cell_type": "code",
   "execution_count": 493,
   "source": [
    "df[df.select_dtypes(['object']).columns] = df.select_dtypes(['object']).apply(lambda x: x.astype('category'))"
   ],
   "outputs": [],
   "metadata": {}
  },
  {
   "cell_type": "code",
   "execution_count": 494,
   "source": [
    "df.dtypes"
   ],
   "outputs": [
    {
     "output_type": "execute_result",
     "data": {
      "text/plain": [
       "loan_amnt                      float64\n",
       "term                          category\n",
       "installment                    float64\n",
       "grade                         category\n",
       "emp_length                    category\n",
       "home_ownership                category\n",
       "annual_inc                     float64\n",
       "verification_status           category\n",
       "loan_status                   category\n",
       "purpose                       category\n",
       "title                         category\n",
       "addr_state                    category\n",
       "dti                            float64\n",
       "delinq_2yrs                    float64\n",
       "earliest_cr_line              category\n",
       "fico_range_low                 float64\n",
       "fico_range_high                float64\n",
       "inq_last_6mths                 float64\n",
       "open_acc                       float64\n",
       "pub_rec                        float64\n",
       "revol_bal                      float64\n",
       "revol_util                     float64\n",
       "total_acc                      float64\n",
       "last_credit_pull_d            category\n",
       "last_fico_range_high           float64\n",
       "last_fico_range_low            float64\n",
       "collections_12_mths_ex_med     float64\n",
       "application_type              category\n",
       "acc_now_delinq                 float64\n",
       "chargeoff_within_12_mths       float64\n",
       "delinq_amnt                    float64\n",
       "pub_rec_bankruptcies           float64\n",
       "tax_liens                      float64\n",
       "dtype: object"
      ]
     },
     "metadata": {},
     "execution_count": 494
    }
   ],
   "metadata": {}
  },
  {
   "cell_type": "code",
   "execution_count": 495,
   "source": [
    "# instantiate labelencoder object\n",
    "le = LabelEncoder()\n",
    "categorical_cols = list(df.select_dtypes(['category']))\n",
    "\n",
    "# apply le on categorical feature columns\n",
    "df[categorical_cols] = df[categorical_cols].apply(lambda col: le.fit_transform(col))"
   ],
   "outputs": [],
   "metadata": {}
  },
  {
   "cell_type": "code",
   "execution_count": 496,
   "source": [
    "categorical_cols"
   ],
   "outputs": [
    {
     "output_type": "execute_result",
     "data": {
      "text/plain": [
       "['term',\n",
       " 'grade',\n",
       " 'emp_length',\n",
       " 'home_ownership',\n",
       " 'verification_status',\n",
       " 'loan_status',\n",
       " 'purpose',\n",
       " 'title',\n",
       " 'addr_state',\n",
       " 'earliest_cr_line',\n",
       " 'last_credit_pull_d',\n",
       " 'application_type']"
      ]
     },
     "metadata": {},
     "execution_count": 496
    }
   ],
   "metadata": {}
  },
  {
   "cell_type": "code",
   "execution_count": 497,
   "source": [
    "fico_columns = ['fico_range_high','fico_range_low']\n",
    "\n",
    "print(df.shape[0])\n",
    "\n",
    "df.dropna(subset=fico_columns,inplace=True)\n",
    "print(df.shape[0])\n",
    "\n",
    "plt.rcParams['figure.figsize'] = (12, 12)\n",
    "\n",
    "df[fico_columns].plot.hist(alpha=0.5,bins=20)\n",
    "plt.savefig('pictures/fico_range_stat.png')"
   ],
   "outputs": [
    {
     "output_type": "stream",
     "name": "stdout",
     "text": [
      "39242\n",
      "39239\n"
     ]
    },
    {
     "output_type": "display_data",
     "data": {
      "image/png": "[encoded data removed]",
      "text/plain": [
       "<Figure size 864x864 with 1 Axes>"
      ]
     },
     "metadata": {
      "needs_background": "light"
     }
    }
   ],
   "metadata": {}
  },
  {
   "cell_type": "code",
   "execution_count": 498,
   "source": [
    "df['fico_average'] = (df['fico_range_high'] + df['fico_range_low']) / 2\n",
    "\n",
    "cols = ['fico_range_low','fico_range_high','fico_average']"
   ],
   "outputs": [],
   "metadata": {}
  },
  {
   "cell_type": "code",
   "execution_count": 499,
   "source": [
    "drop_cols = ['fico_range_low','fico_range_high','last_fico_range_low', 'last_fico_range_high']\n",
    "df = df.drop(drop_cols, axis=1)\n",
    "df.shape"
   ],
   "outputs": [
    {
     "output_type": "execute_result",
     "data": {
      "text/plain": [
       "(39239, 30)"
      ]
     },
     "metadata": {},
     "execution_count": 499
    }
   ],
   "metadata": {}
  },
  {
   "cell_type": "code",
   "execution_count": 500,
   "source": [
    "df"
   ],
   "outputs": [
    {
     "output_type": "execute_result",
     "data": {
      "text/html": [
       "<div>\n",
       "<style scoped>\n",
       "    .dataframe tbody tr th:only-of-type {\n",
       "        vertical-align: middle;\n",
       "    }\n",
       "\n",
       "    .dataframe tbody tr th {\n",
       "        vertical-align: top;\n",
       "    }\n",
       "\n",
       "    .dataframe thead th {\n",
       "        text-align: right;\n",
       "    }\n",
       "</style>\n",
       "<table border=\"1\" class=\"dataframe\">\n",
       "  <thead>\n",
       "    <tr style=\"text-align: right;\">\n",
       "      <th></th>\n",
       "      <th>loan_amnt</th>\n",
       "      <th>term</th>\n",
       "      <th>installment</th>\n",
       "      <th>grade</th>\n",
       "      <th>emp_length</th>\n",
       "      <th>home_ownership</th>\n",
       "      <th>annual_inc</th>\n",
       "      <th>verification_status</th>\n",
       "      <th>loan_status</th>\n",
       "      <th>purpose</th>\n",
       "      <th>title</th>\n",
       "      <th>addr_state</th>\n",
       "      <th>dti</th>\n",
       "      <th>delinq_2yrs</th>\n",
       "      <th>earliest_cr_line</th>\n",
       "      <th>inq_last_6mths</th>\n",
       "      <th>open_acc</th>\n",
       "      <th>pub_rec</th>\n",
       "      <th>revol_bal</th>\n",
       "      <th>revol_util</th>\n",
       "      <th>total_acc</th>\n",
       "      <th>last_credit_pull_d</th>\n",
       "      <th>collections_12_mths_ex_med</th>\n",
       "      <th>application_type</th>\n",
       "      <th>acc_now_delinq</th>\n",
       "      <th>chargeoff_within_12_mths</th>\n",
       "      <th>delinq_amnt</th>\n",
       "      <th>pub_rec_bankruptcies</th>\n",
       "      <th>tax_liens</th>\n",
       "      <th>fico_average</th>\n",
       "    </tr>\n",
       "  </thead>\n",
       "  <tbody>\n",
       "    <tr>\n",
       "      <th>0</th>\n",
       "      <td>5000.0</td>\n",
       "      <td>0</td>\n",
       "      <td>162.87</td>\n",
       "      <td>1</td>\n",
       "      <td>1</td>\n",
       "      <td>4</td>\n",
       "      <td>24000.0</td>\n",
       "      <td>2</td>\n",
       "      <td>1</td>\n",
       "      <td>1</td>\n",
       "      <td>2937</td>\n",
       "      <td>3</td>\n",
       "      <td>27.65</td>\n",
       "      <td>0.0</td>\n",
       "      <td>191</td>\n",
       "      <td>1.0</td>\n",
       "      <td>3.0</td>\n",
       "      <td>0.0</td>\n",
       "      <td>13648.0</td>\n",
       "      <td>83.7</td>\n",
       "      <td>9.0</td>\n",
       "      <td>109</td>\n",
       "      <td>0.0</td>\n",
       "      <td>0</td>\n",
       "      <td>0.0</td>\n",
       "      <td>0.0</td>\n",
       "      <td>0.0</td>\n",
       "      <td>0.0</td>\n",
       "      <td>0.0</td>\n",
       "      <td>737.0</td>\n",
       "    </tr>\n",
       "    <tr>\n",
       "      <th>1</th>\n",
       "      <td>2500.0</td>\n",
       "      <td>1</td>\n",
       "      <td>59.83</td>\n",
       "      <td>2</td>\n",
       "      <td>10</td>\n",
       "      <td>4</td>\n",
       "      <td>30000.0</td>\n",
       "      <td>1</td>\n",
       "      <td>0</td>\n",
       "      <td>0</td>\n",
       "      <td>16119</td>\n",
       "      <td>10</td>\n",
       "      <td>1.00</td>\n",
       "      <td>0.0</td>\n",
       "      <td>33</td>\n",
       "      <td>5.0</td>\n",
       "      <td>3.0</td>\n",
       "      <td>0.0</td>\n",
       "      <td>1687.0</td>\n",
       "      <td>9.4</td>\n",
       "      <td>4.0</td>\n",
       "      <td>109</td>\n",
       "      <td>0.0</td>\n",
       "      <td>0</td>\n",
       "      <td>0.0</td>\n",
       "      <td>0.0</td>\n",
       "      <td>0.0</td>\n",
       "      <td>0.0</td>\n",
       "      <td>0.0</td>\n",
       "      <td>742.0</td>\n",
       "    </tr>\n",
       "    <tr>\n",
       "      <th>2</th>\n",
       "      <td>2400.0</td>\n",
       "      <td>0</td>\n",
       "      <td>84.33</td>\n",
       "      <td>2</td>\n",
       "      <td>1</td>\n",
       "      <td>4</td>\n",
       "      <td>12252.0</td>\n",
       "      <td>0</td>\n",
       "      <td>1</td>\n",
       "      <td>11</td>\n",
       "      <td>18786</td>\n",
       "      <td>14</td>\n",
       "      <td>8.72</td>\n",
       "      <td>0.0</td>\n",
       "      <td>425</td>\n",
       "      <td>2.0</td>\n",
       "      <td>2.0</td>\n",
       "      <td>0.0</td>\n",
       "      <td>2956.0</td>\n",
       "      <td>98.5</td>\n",
       "      <td>10.0</td>\n",
       "      <td>109</td>\n",
       "      <td>0.0</td>\n",
       "      <td>0</td>\n",
       "      <td>0.0</td>\n",
       "      <td>0.0</td>\n",
       "      <td>0.0</td>\n",
       "      <td>0.0</td>\n",
       "      <td>0.0</td>\n",
       "      <td>737.0</td>\n",
       "    </tr>\n",
       "    <tr>\n",
       "      <th>3</th>\n",
       "      <td>10000.0</td>\n",
       "      <td>0</td>\n",
       "      <td>339.31</td>\n",
       "      <td>2</td>\n",
       "      <td>1</td>\n",
       "      <td>4</td>\n",
       "      <td>49200.0</td>\n",
       "      <td>1</td>\n",
       "      <td>1</td>\n",
       "      <td>9</td>\n",
       "      <td>18679</td>\n",
       "      <td>4</td>\n",
       "      <td>20.00</td>\n",
       "      <td>0.0</td>\n",
       "      <td>160</td>\n",
       "      <td>1.0</td>\n",
       "      <td>10.0</td>\n",
       "      <td>0.0</td>\n",
       "      <td>5598.0</td>\n",
       "      <td>21.0</td>\n",
       "      <td>37.0</td>\n",
       "      <td>7</td>\n",
       "      <td>0.0</td>\n",
       "      <td>0</td>\n",
       "      <td>0.0</td>\n",
       "      <td>0.0</td>\n",
       "      <td>0.0</td>\n",
       "      <td>0.0</td>\n",
       "      <td>0.0</td>\n",
       "      <td>692.0</td>\n",
       "    </tr>\n",
       "    <tr>\n",
       "      <th>5</th>\n",
       "      <td>5000.0</td>\n",
       "      <td>0</td>\n",
       "      <td>156.46</td>\n",
       "      <td>0</td>\n",
       "      <td>3</td>\n",
       "      <td>4</td>\n",
       "      <td>36000.0</td>\n",
       "      <td>1</td>\n",
       "      <td>1</td>\n",
       "      <td>13</td>\n",
       "      <td>10599</td>\n",
       "      <td>3</td>\n",
       "      <td>11.20</td>\n",
       "      <td>0.0</td>\n",
       "      <td>428</td>\n",
       "      <td>3.0</td>\n",
       "      <td>9.0</td>\n",
       "      <td>0.0</td>\n",
       "      <td>7963.0</td>\n",
       "      <td>28.3</td>\n",
       "      <td>12.0</td>\n",
       "      <td>44</td>\n",
       "      <td>0.0</td>\n",
       "      <td>0</td>\n",
       "      <td>0.0</td>\n",
       "      <td>0.0</td>\n",
       "      <td>0.0</td>\n",
       "      <td>0.0</td>\n",
       "      <td>0.0</td>\n",
       "      <td>732.0</td>\n",
       "    </tr>\n",
       "    <tr>\n",
       "      <th>...</th>\n",
       "      <td>...</td>\n",
       "      <td>...</td>\n",
       "      <td>...</td>\n",
       "      <td>...</td>\n",
       "      <td>...</td>\n",
       "      <td>...</td>\n",
       "      <td>...</td>\n",
       "      <td>...</td>\n",
       "      <td>...</td>\n",
       "      <td>...</td>\n",
       "      <td>...</td>\n",
       "      <td>...</td>\n",
       "      <td>...</td>\n",
       "      <td>...</td>\n",
       "      <td>...</td>\n",
       "      <td>...</td>\n",
       "      <td>...</td>\n",
       "      <td>...</td>\n",
       "      <td>...</td>\n",
       "      <td>...</td>\n",
       "      <td>...</td>\n",
       "      <td>...</td>\n",
       "      <td>...</td>\n",
       "      <td>...</td>\n",
       "      <td>...</td>\n",
       "      <td>...</td>\n",
       "      <td>...</td>\n",
       "      <td>...</td>\n",
       "      <td>...</td>\n",
       "      <td>...</td>\n",
       "    </tr>\n",
       "    <tr>\n",
       "      <th>39781</th>\n",
       "      <td>2500.0</td>\n",
       "      <td>0</td>\n",
       "      <td>78.42</td>\n",
       "      <td>0</td>\n",
       "      <td>4</td>\n",
       "      <td>0</td>\n",
       "      <td>110000.0</td>\n",
       "      <td>0</td>\n",
       "      <td>1</td>\n",
       "      <td>4</td>\n",
       "      <td>7602</td>\n",
       "      <td>5</td>\n",
       "      <td>11.33</td>\n",
       "      <td>0.0</td>\n",
       "      <td>414</td>\n",
       "      <td>0.0</td>\n",
       "      <td>13.0</td>\n",
       "      <td>0.0</td>\n",
       "      <td>7274.0</td>\n",
       "      <td>13.1</td>\n",
       "      <td>40.0</td>\n",
       "      <td>58</td>\n",
       "      <td>NaN</td>\n",
       "      <td>0</td>\n",
       "      <td>0.0</td>\n",
       "      <td>NaN</td>\n",
       "      <td>0.0</td>\n",
       "      <td>NaN</td>\n",
       "      <td>NaN</td>\n",
       "      <td>762.0</td>\n",
       "    </tr>\n",
       "    <tr>\n",
       "      <th>39782</th>\n",
       "      <td>8500.0</td>\n",
       "      <td>0</td>\n",
       "      <td>275.38</td>\n",
       "      <td>2</td>\n",
       "      <td>3</td>\n",
       "      <td>4</td>\n",
       "      <td>18000.0</td>\n",
       "      <td>0</td>\n",
       "      <td>1</td>\n",
       "      <td>1</td>\n",
       "      <td>13533</td>\n",
       "      <td>27</td>\n",
       "      <td>6.40</td>\n",
       "      <td>1.0</td>\n",
       "      <td>107</td>\n",
       "      <td>1.0</td>\n",
       "      <td>6.0</td>\n",
       "      <td>0.0</td>\n",
       "      <td>8847.0</td>\n",
       "      <td>26.9</td>\n",
       "      <td>9.0</td>\n",
       "      <td>48</td>\n",
       "      <td>NaN</td>\n",
       "      <td>0</td>\n",
       "      <td>0.0</td>\n",
       "      <td>NaN</td>\n",
       "      <td>0.0</td>\n",
       "      <td>NaN</td>\n",
       "      <td>NaN</td>\n",
       "      <td>692.0</td>\n",
       "    </tr>\n",
       "    <tr>\n",
       "      <th>39783</th>\n",
       "      <td>5000.0</td>\n",
       "      <td>0</td>\n",
       "      <td>156.84</td>\n",
       "      <td>0</td>\n",
       "      <td>10</td>\n",
       "      <td>0</td>\n",
       "      <td>100000.0</td>\n",
       "      <td>0</td>\n",
       "      <td>1</td>\n",
       "      <td>2</td>\n",
       "      <td>9612</td>\n",
       "      <td>19</td>\n",
       "      <td>2.30</td>\n",
       "      <td>0.0</td>\n",
       "      <td>468</td>\n",
       "      <td>0.0</td>\n",
       "      <td>11.0</td>\n",
       "      <td>0.0</td>\n",
       "      <td>9698.0</td>\n",
       "      <td>19.4</td>\n",
       "      <td>20.0</td>\n",
       "      <td>55</td>\n",
       "      <td>NaN</td>\n",
       "      <td>0</td>\n",
       "      <td>0.0</td>\n",
       "      <td>NaN</td>\n",
       "      <td>0.0</td>\n",
       "      <td>NaN</td>\n",
       "      <td>NaN</td>\n",
       "      <td>742.0</td>\n",
       "    </tr>\n",
       "    <tr>\n",
       "      <th>39784</th>\n",
       "      <td>5000.0</td>\n",
       "      <td>0</td>\n",
       "      <td>155.38</td>\n",
       "      <td>0</td>\n",
       "      <td>10</td>\n",
       "      <td>0</td>\n",
       "      <td>200000.0</td>\n",
       "      <td>0</td>\n",
       "      <td>1</td>\n",
       "      <td>9</td>\n",
       "      <td>8260</td>\n",
       "      <td>20</td>\n",
       "      <td>3.72</td>\n",
       "      <td>0.0</td>\n",
       "      <td>412</td>\n",
       "      <td>0.0</td>\n",
       "      <td>17.0</td>\n",
       "      <td>0.0</td>\n",
       "      <td>85607.0</td>\n",
       "      <td>0.7</td>\n",
       "      <td>26.0</td>\n",
       "      <td>55</td>\n",
       "      <td>NaN</td>\n",
       "      <td>0</td>\n",
       "      <td>0.0</td>\n",
       "      <td>NaN</td>\n",
       "      <td>0.0</td>\n",
       "      <td>NaN</td>\n",
       "      <td>NaN</td>\n",
       "      <td>812.0</td>\n",
       "    </tr>\n",
       "    <tr>\n",
       "      <th>39785</th>\n",
       "      <td>7500.0</td>\n",
       "      <td>0</td>\n",
       "      <td>255.43</td>\n",
       "      <td>4</td>\n",
       "      <td>10</td>\n",
       "      <td>3</td>\n",
       "      <td>22000.0</td>\n",
       "      <td>0</td>\n",
       "      <td>1</td>\n",
       "      <td>2</td>\n",
       "      <td>3419</td>\n",
       "      <td>19</td>\n",
       "      <td>14.29</td>\n",
       "      <td>1.0</td>\n",
       "      <td>473</td>\n",
       "      <td>0.0</td>\n",
       "      <td>7.0</td>\n",
       "      <td>0.0</td>\n",
       "      <td>4175.0</td>\n",
       "      <td>51.5</td>\n",
       "      <td>8.0</td>\n",
       "      <td>58</td>\n",
       "      <td>NaN</td>\n",
       "      <td>0</td>\n",
       "      <td>0.0</td>\n",
       "      <td>NaN</td>\n",
       "      <td>0.0</td>\n",
       "      <td>NaN</td>\n",
       "      <td>NaN</td>\n",
       "      <td>662.0</td>\n",
       "    </tr>\n",
       "  </tbody>\n",
       "</table>\n",
       "<p>39239 rows × 30 columns</p>\n",
       "</div>"
      ],
      "text/plain": [
       "       loan_amnt  term  installment  grade  emp_length  home_ownership  \\\n",
       "0         5000.0     0       162.87      1           1               4   \n",
       "1         2500.0     1        59.83      2          10               4   \n",
       "2         2400.0     0        84.33      2           1               4   \n",
       "3        10000.0     0       339.31      2           1               4   \n",
       "5         5000.0     0       156.46      0           3               4   \n",
       "...          ...   ...          ...    ...         ...             ...   \n",
       "39781     2500.0     0        78.42      0           4               0   \n",
       "39782     8500.0     0       275.38      2           3               4   \n",
       "39783     5000.0     0       156.84      0          10               0   \n",
       "39784     5000.0     0       155.38      0          10               0   \n",
       "39785     7500.0     0       255.43      4          10               3   \n",
       "\n",
       "       annual_inc  verification_status  loan_status  purpose  title  \\\n",
       "0         24000.0                    2            1        1   2937   \n",
       "1         30000.0                    1            0        0  16119   \n",
       "2         12252.0                    0            1       11  18786   \n",
       "3         49200.0                    1            1        9  18679   \n",
       "5         36000.0                    1            1       13  10599   \n",
       "...           ...                  ...          ...      ...    ...   \n",
       "39781    110000.0                    0            1        4   7602   \n",
       "39782     18000.0                    0            1        1  13533   \n",
       "39783    100000.0                    0            1        2   9612   \n",
       "39784    200000.0                    0            1        9   8260   \n",
       "39785     22000.0                    0            1        2   3419   \n",
       "\n",
       "       addr_state    dti  delinq_2yrs  earliest_cr_line  inq_last_6mths  \\\n",
       "0               3  27.65          0.0               191             1.0   \n",
       "1              10   1.00          0.0                33             5.0   \n",
       "2              14   8.72          0.0               425             2.0   \n",
       "3               4  20.00          0.0               160             1.0   \n",
       "5               3  11.20          0.0               428             3.0   \n",
       "...           ...    ...          ...               ...             ...   \n",
       "39781           5  11.33          0.0               414             0.0   \n",
       "39782          27   6.40          1.0               107             1.0   \n",
       "39783          19   2.30          0.0               468             0.0   \n",
       "39784          20   3.72          0.0               412             0.0   \n",
       "39785          19  14.29          1.0               473             0.0   \n",
       "\n",
       "       open_acc  pub_rec  revol_bal  revol_util  total_acc  \\\n",
       "0           3.0      0.0    13648.0        83.7        9.0   \n",
       "1           3.0      0.0     1687.0         9.4        4.0   \n",
       "2           2.0      0.0     2956.0        98.5       10.0   \n",
       "3          10.0      0.0     5598.0        21.0       37.0   \n",
       "5           9.0      0.0     7963.0        28.3       12.0   \n",
       "...         ...      ...        ...         ...        ...   \n",
       "39781      13.0      0.0     7274.0        13.1       40.0   \n",
       "39782       6.0      0.0     8847.0        26.9        9.0   \n",
       "39783      11.0      0.0     9698.0        19.4       20.0   \n",
       "39784      17.0      0.0    85607.0         0.7       26.0   \n",
       "39785       7.0      0.0     4175.0        51.5        8.0   \n",
       "\n",
       "       last_credit_pull_d  collections_12_mths_ex_med  application_type  \\\n",
       "0                     109                         0.0                 0   \n",
       "1                     109                         0.0                 0   \n",
       "2                     109                         0.0                 0   \n",
       "3                       7                         0.0                 0   \n",
       "5                      44                         0.0                 0   \n",
       "...                   ...                         ...               ...   \n",
       "39781                  58                         NaN                 0   \n",
       "39782                  48                         NaN                 0   \n",
       "39783                  55                         NaN                 0   \n",
       "39784                  55                         NaN                 0   \n",
       "39785                  58                         NaN                 0   \n",
       "\n",
       "       acc_now_delinq  chargeoff_within_12_mths  delinq_amnt  \\\n",
       "0                 0.0                       0.0          0.0   \n",
       "1                 0.0                       0.0          0.0   \n",
       "2                 0.0                       0.0          0.0   \n",
       "3                 0.0                       0.0          0.0   \n",
       "5                 0.0                       0.0          0.0   \n",
       "...               ...                       ...          ...   \n",
       "39781             0.0                       NaN          0.0   \n",
       "39782             0.0                       NaN          0.0   \n",
       "39783             0.0                       NaN          0.0   \n",
       "39784             0.0                       NaN          0.0   \n",
       "39785             0.0                       NaN          0.0   \n",
       "\n",
       "       pub_rec_bankruptcies  tax_liens  fico_average  \n",
       "0                       0.0        0.0         737.0  \n",
       "1                       0.0        0.0         742.0  \n",
       "2                       0.0        0.0         737.0  \n",
       "3                       0.0        0.0         692.0  \n",
       "5                       0.0        0.0         732.0  \n",
       "...                     ...        ...           ...  \n",
       "39781                   NaN        NaN         762.0  \n",
       "39782                   NaN        NaN         692.0  \n",
       "39783                   NaN        NaN         742.0  \n",
       "39784                   NaN        NaN         812.0  \n",
       "39785                   NaN        NaN         662.0  \n",
       "\n",
       "[39239 rows x 30 columns]"
      ]
     },
     "metadata": {},
     "execution_count": 500
    }
   ],
   "metadata": {}
  },
  {
   "cell_type": "code",
   "execution_count": 501,
   "source": [
    "# get list for only dtypes 'int64 and 'float64'\n",
    "list_columns = list(df.columns)\n",
    "\n",
    "plt.rcParams['figure.figsize'] = (8, 8)\n",
    "\n",
    "# Check for outliers\n",
    "for column in list_columns:\n",
    "    plt.figure()\n",
    "    sns.boxplot(x=df[f'{column}'])"
   ],
   "outputs": [
    {
     "output_type": "stream",
     "name": "stderr",
     "text": [
      "/home/andsilva/anaconda3/lib/python3.7/site-packages/ipykernel_launcher.py:8: RuntimeWarning: More than 20 figures have been opened. Figures created through the pyplot interface (`matplotlib.pyplot.figure`) are retained until explicitly closed and may consume too much memory. (To control this warning, see the rcParam `figure.max_open_warning`).\n",
      "  \n"
     ]
    },
    {
     "output_type": "display_data",
     "data": {
      "image/png": "[encoded data removed]",
      "text/plain": [
       "<Figure size 576x576 with 1 Axes>"
      ]
     },
     "metadata": {
      "needs_background": "light"
     }
    },
    {
     "output_type": "display_data",
     "data": {
      "image/png": "[encoded data removed]",
      "text/plain": [
       "<Figure size 576x576 with 1 Axes>"
      ]
     },
     "metadata": {
      "needs_background": "light"
     }
    },
    {
     "output_type": "display_data",
     "data": {
      "image/png": "[encoded data removed]",
      "text/plain": [
       "<Figure size 576x576 with 1 Axes>"
      ]
     },
     "metadata": {
      "needs_background": "light"
     }
    },
    {
     "output_type": "display_data",
     "data": {
      "image/png": "[encoded data removed]",
      "text/plain": [
       "<Figure size 576x576 with 1 Axes>"
      ]
     },
     "metadata": {
      "needs_background": "light"
     }
    },
    {
     "output_type": "display_data",
     "data": {
      "image/png": "[encoded data removed]",
      "text/plain": [
       "<Figure size 576x576 with 1 Axes>"
      ]
     },
     "metadata": {
      "needs_background": "light"
     }
    },
    {
     "output_type": "display_data",
     "data": {
      "image/png": "[encoded data removed]",
      "text/plain": [
       "<Figure size 576x576 with 1 Axes>"
      ]
     },
     "metadata": {
      "needs_background": "light"
     }
    },
    {
     "output_type": "display_data",
     "data": {
      "image/png": "[encoded data removed]",
      "text/plain": [
       "<Figure size 576x576 with 1 Axes>"
      ]
     },
     "metadata": {
      "needs_background": "light"
     }
    },
    {
     "output_type": "display_data",
     "data": {
      "image/png": "[encoded data removed]",
      "text/plain": [
       "<Figure size 576x576 with 1 Axes>"
      ]
     },
     "metadata": {
      "needs_background": "light"
     }
    },
    {
     "output_type": "display_data",
     "data": {
      "image/png": "[encoded data removed]",
      "text/plain": [
       "<Figure size 576x576 with 1 Axes>"
      ]
     },
     "metadata": {
      "needs_background": "light"
     }
    },
    {
     "output_type": "display_data",
     "data": {
      "image/png": "[encoded data removed]",
      "text/plain": [
       "<Figure size 576x576 with 1 Axes>"
      ]
     },
     "metadata": {
      "needs_background": "light"
     }
    },
    {
     "output_type": "display_data",
     "data": {
      "image/png": "[encoded data removed]",
      "text/plain": [
       "<Figure size 576x576 with 1 Axes>"
      ]
     },
     "metadata": {
      "needs_background": "light"
     }
    },
    {
     "output_type": "display_data",
     "data": {
      "image/png": "[encoded data removed]",
      "text/plain": [
       "<Figure size 576x576 with 1 Axes>"
      ]
     },
     "metadata": {
      "needs_background": "light"
     }
    },
    {
     "output_type": "display_data",
     "data": {
      "image/png": "[encoded data removed]",
      "text/plain": [
       "<Figure size 576x576 with 1 Axes>"
      ]
     },
     "metadata": {
      "needs_background": "light"
     }
    },
    {
     "output_type": "display_data",
     "data": {
      "image/png": "[encoded data removed]",
      "text/plain": [
       "<Figure size 576x576 with 1 Axes>"
      ]
     },
     "metadata": {
      "needs_background": "light"
     }
    },
    {
     "output_type": "display_data",
     "data": {
      "image/png": "[encoded data removed]",
      "text/plain": [
       "<Figure size 576x576 with 1 Axes>"
      ]
     },
     "metadata": {
      "needs_background": "light"
     }
    },
    {
     "output_type": "display_data",
     "data": {
      "image/png": "[encoded data removed]",
      "text/plain": [
       "<Figure size 576x576 with 1 Axes>"
      ]
     },
     "metadata": {
      "needs_background": "light"
     }
    },
    {
     "output_type": "display_data",
     "data": {
      "image/png": "[encoded data removed]",
      "text/plain": [
       "<Figure size 576x576 with 1 Axes>"
      ]
     },
     "metadata": {
      "needs_background": "light"
     }
    },
    {
     "output_type": "display_data",
     "data": {
      "image/png": "[encoded data removed]",
      "text/plain": [
       "<Figure size 576x576 with 1 Axes>"
      ]
     },
     "metadata": {
      "needs_background": "light"
     }
    },
    {
     "output_type": "display_data",
     "data": {
      "image/png": "[encoded data removed]",
      "text/plain": [
       "<Figure size 576x576 with 1 Axes>"
      ]
     },
     "metadata": {
      "needs_background": "light"
     }
    },
    {
     "output_type": "display_data",
     "data": {
      "image/png": "[encoded data removed]",
      "text/plain": [
       "<Figure size 576x576 with 1 Axes>"
      ]
     },
     "metadata": {
      "needs_background": "light"
     }
    },
    {
     "output_type": "display_data",
     "data": {
      "image/png": "[encoded data removed]",
      "text/plain": [
       "<Figure size 576x576 with 1 Axes>"
      ]
     },
     "metadata": {
      "needs_background": "light"
     }
    },
    {
     "output_type": "display_data",
     "data": {
      "image/png": "[encoded data removed]",
      "text/plain": [
       "<Figure size 576x576 with 1 Axes>"
      ]
     },
     "metadata": {
      "needs_background": "light"
     }
    },
    {
     "output_type": "display_data",
     "data": {
      "image/png": "[encoded data removed]",
      "text/plain": [
       "<Figure size 576x576 with 1 Axes>"
      ]
     },
     "metadata": {
      "needs_background": "light"
     }
    },
    {
     "output_type": "display_data",
     "data": {
      "image/png": "[encoded data removed]",
      "text/plain": [
       "<Figure size 576x576 with 1 Axes>"
      ]
     },
     "metadata": {
      "needs_background": "light"
     }
    },
    {
     "output_type": "display_data",
     "data": {
      "image/png": "[encoded data removed]",
      "text/plain": [
       "<Figure size 576x576 with 1 Axes>"
      ]
     },
     "metadata": {
      "needs_background": "light"
     }
    },
    {
     "output_type": "display_data",
     "data": {
      "image/png": "[encoded data removed]",
      "text/plain": [
       "<Figure size 576x576 with 1 Axes>"
      ]
     },
     "metadata": {
      "needs_background": "light"
     }
    },
    {
     "output_type": "display_data",
     "data": {
      "image/png": "[encoded data removed]",
      "text/plain": [
       "<Figure size 576x576 with 1 Axes>"
      ]
     },
     "metadata": {
      "needs_background": "light"
     }
    },
    {
     "output_type": "display_data",
     "data": {
      "image/png": "[encoded data removed]",
      "text/plain": [
       "<Figure size 576x576 with 1 Axes>"
      ]
     },
     "metadata": {
      "needs_background": "light"
     }
    },
    {
     "output_type": "display_data",
     "data": {
      "image/png": "[encoded data removed]",
      "text/plain": [
       "<Figure size 576x576 with 1 Axes>"
      ]
     },
     "metadata": {
      "needs_background": "light"
     }
    },
    {
     "output_type": "display_data",
     "data": {
      "image/png": "[encoded data removed]",
      "text/plain": [
       "<Figure size 576x576 with 1 Axes>"
      ]
     },
     "metadata": {
      "needs_background": "light"
     }
    }
   ],
   "metadata": {}
  },
  {
   "cell_type": "markdown",
   "source": [
    "## Dealing with Missing Data"
   ],
   "metadata": {}
  },
  {
   "cell_type": "code",
   "execution_count": 502,
   "source": [
    "for column in list_columns:\n",
    "    mean = df[f'{column}'].mean()\n",
    "    std = df[f'{column}'].std()\n",
    "    \n",
    "    if(mean == 0 and std == 0):\n",
    "        # drop columns with zero for mean and standard devitation\n",
    "        df = df.drop(columns=[f'{column}'])\n",
    "        print(f\"{column} - mean: {mean} std: {std}\")"
   ],
   "outputs": [
    {
     "output_type": "stream",
     "name": "stdout",
     "text": [
      "collections_12_mths_ex_med - mean: 0.0 std: 0.0\n",
      "application_type - mean: 0.0 std: 0.0\n",
      "acc_now_delinq - mean: 0.0 std: 0.0\n",
      "chargeoff_within_12_mths - mean: 0.0 std: 0.0\n",
      "delinq_amnt - mean: 0.0 std: 0.0\n",
      "tax_liens - mean: 0.0 std: 0.0\n"
     ]
    }
   ],
   "metadata": {}
  },
  {
   "cell_type": "code",
   "execution_count": 503,
   "source": [
    "## Check if a distribution is close to the normal distribution"
   ],
   "outputs": [],
   "metadata": {}
  },
  {
   "cell_type": "code",
   "execution_count": 504,
   "source": [
    "df = df.dropna()"
   ],
   "outputs": [],
   "metadata": {}
  },
  {
   "cell_type": "code",
   "execution_count": 505,
   "source": [
    "df.info()"
   ],
   "outputs": [
    {
     "output_type": "stream",
     "name": "stdout",
     "text": [
      "<class 'pandas.core.frame.DataFrame'>\n",
      "Int64Index: 38492 entries, 0 to 39749\n",
      "Data columns (total 24 columns):\n",
      " #   Column                Non-Null Count  Dtype  \n",
      "---  ------                --------------  -----  \n",
      " 0   loan_amnt             38492 non-null  float64\n",
      " 1   term                  38492 non-null  int64  \n",
      " 2   installment           38492 non-null  float64\n",
      " 3   grade                 38492 non-null  int64  \n",
      " 4   emp_length            38492 non-null  int64  \n",
      " 5   home_ownership        38492 non-null  int64  \n",
      " 6   annual_inc            38492 non-null  float64\n",
      " 7   verification_status   38492 non-null  int64  \n",
      " 8   loan_status           38492 non-null  int64  \n",
      " 9   purpose               38492 non-null  int64  \n",
      " 10  title                 38492 non-null  int64  \n",
      " 11  addr_state            38492 non-null  int64  \n",
      " 12  dti                   38492 non-null  float64\n",
      " 13  delinq_2yrs           38492 non-null  float64\n",
      " 14  earliest_cr_line      38492 non-null  int64  \n",
      " 15  inq_last_6mths        38492 non-null  float64\n",
      " 16  open_acc              38492 non-null  float64\n",
      " 17  pub_rec               38492 non-null  float64\n",
      " 18  revol_bal             38492 non-null  float64\n",
      " 19  revol_util            38492 non-null  float64\n",
      " 20  total_acc             38492 non-null  float64\n",
      " 21  last_credit_pull_d    38492 non-null  int64  \n",
      " 22  pub_rec_bankruptcies  38492 non-null  float64\n",
      " 23  fico_average          38492 non-null  float64\n",
      "dtypes: float64(13), int64(11)\n",
      "memory usage: 7.3 MB\n"
     ]
    }
   ],
   "metadata": {}
  },
  {
   "cell_type": "code",
   "execution_count": 506,
   "source": [
    "list_columns = list(df.columns)\n",
    "\n",
    "## Check for outliers\n",
    "#for column in list_columns:\n",
    "#    mean = df[f'{column}'].mean()\n",
    "#    std = df[f'{column}'].std()\n",
    "\n",
    "#    print(f\"{column} - mean: {mean} std: {std}\")\n",
    "#    stat, p = normaltest(df[f'{column}'])  # https://machinelearningmastery.com/a-gentle-introduction-to-normality-tests-in-python/\n",
    "#    print('Statistics=%.3f, p=%.3f' % (stat, p))\n",
    "#\n",
    "#    print(f'feature: {column} - mean: {mean} - std: {std}')\n",
    "#    \n",
    "#    # interpret\n",
    "#    alpha = 0.05\n",
    "#\n",
    "#    for column_nan in list_columns_nan:\n",
    "#        if(column_nan == column):\n",
    "#            if(p > alpha):\n",
    "#                print(f'feature: {column} - Sample looks Gaussian (fail to reject H0)')\n",
    "#                df[f'{column}'] = df.fillna(df[f'{column}'].mean()) # inpute mean value \n",
    "#            else:\n",
    "#                print(f'feature: {column} does not look Gaussian (reject H0)')\n",
    "#                df[f'{column}'] = df.fillna(df[f'{column}'].median()) # impute median value\n"
   ],
   "outputs": [],
   "metadata": {}
  },
  {
   "cell_type": "code",
   "execution_count": 507,
   "source": [
    "print(f'Number of rows.....................: {df.shape[0]}')\n",
    "print(f'Number of columns..................: {df.shape[1]}')"
   ],
   "outputs": [
    {
     "output_type": "stream",
     "name": "stdout",
     "text": [
      "Number of rows.....................: 38492\n",
      "Number of columns..................: 24\n"
     ]
    }
   ],
   "metadata": {}
  },
  {
   "cell_type": "code",
   "execution_count": 508,
   "source": [
    "# count NaN found in the dataset\n",
    "df.isna().sum()"
   ],
   "outputs": [
    {
     "output_type": "execute_result",
     "data": {
      "text/plain": [
       "loan_amnt               0\n",
       "term                    0\n",
       "installment             0\n",
       "grade                   0\n",
       "emp_length              0\n",
       "home_ownership          0\n",
       "annual_inc              0\n",
       "verification_status     0\n",
       "loan_status             0\n",
       "purpose                 0\n",
       "title                   0\n",
       "addr_state              0\n",
       "dti                     0\n",
       "delinq_2yrs             0\n",
       "earliest_cr_line        0\n",
       "inq_last_6mths          0\n",
       "open_acc                0\n",
       "pub_rec                 0\n",
       "revol_bal               0\n",
       "revol_util              0\n",
       "total_acc               0\n",
       "last_credit_pull_d      0\n",
       "pub_rec_bankruptcies    0\n",
       "fico_average            0\n",
       "dtype: int64"
      ]
     },
     "metadata": {},
     "execution_count": 508
    }
   ],
   "metadata": {}
  },
  {
   "cell_type": "markdown",
   "source": [
    "# Visualization - Columns"
   ],
   "metadata": {}
  },
  {
   "cell_type": "code",
   "execution_count": 509,
   "source": [
    "df.hist(figsize=(25, 25))"
   ],
   "outputs": [
    {
     "output_type": "execute_result",
     "data": {
      "text/plain": [
       "array([[<AxesSubplot:title={'center':'addr_state'}>,\n",
       "        <AxesSubplot:title={'center':'annual_inc'}>,\n",
       "        <AxesSubplot:title={'center':'delinq_2yrs'}>,\n",
       "        <AxesSubplot:title={'center':'dti'}>,\n",
       "        <AxesSubplot:title={'center':'earliest_cr_line'}>],\n",
       "       [<AxesSubplot:title={'center':'emp_length'}>,\n",
       "        <AxesSubplot:title={'center':'fico_average'}>,\n",
       "        <AxesSubplot:title={'center':'grade'}>,\n",
       "        <AxesSubplot:title={'center':'home_ownership'}>,\n",
       "        <AxesSubplot:title={'center':'inq_last_6mths'}>],\n",
       "       [<AxesSubplot:title={'center':'installment'}>,\n",
       "        <AxesSubplot:title={'center':'last_credit_pull_d'}>,\n",
       "        <AxesSubplot:title={'center':'loan_amnt'}>,\n",
       "        <AxesSubplot:title={'center':'loan_status'}>,\n",
       "        <AxesSubplot:title={'center':'open_acc'}>],\n",
       "       [<AxesSubplot:title={'center':'pub_rec'}>,\n",
       "        <AxesSubplot:title={'center':'pub_rec_bankruptcies'}>,\n",
       "        <AxesSubplot:title={'center':'purpose'}>,\n",
       "        <AxesSubplot:title={'center':'revol_bal'}>,\n",
       "        <AxesSubplot:title={'center':'revol_util'}>],\n",
       "       [<AxesSubplot:title={'center':'term'}>,\n",
       "        <AxesSubplot:title={'center':'title'}>,\n",
       "        <AxesSubplot:title={'center':'total_acc'}>,\n",
       "        <AxesSubplot:title={'center':'verification_status'}>,\n",
       "        <AxesSubplot:>]], dtype=object)"
      ]
     },
     "metadata": {},
     "execution_count": 509
    },
    {
     "output_type": "display_data",
     "data": {
      "image/png": "[encoded data removed]",
      "text/plain": [
       "<Figure size 1800x1800 with 25 Axes>"
      ]
     },
     "metadata": {
      "needs_background": "light"
     }
    }
   ],
   "metadata": {}
  },
  {
   "cell_type": "code",
   "execution_count": 510,
   "source": [
    "df.info()"
   ],
   "outputs": [
    {
     "output_type": "stream",
     "name": "stdout",
     "text": [
      "<class 'pandas.core.frame.DataFrame'>\n",
      "Int64Index: 38492 entries, 0 to 39749\n",
      "Data columns (total 24 columns):\n",
      " #   Column                Non-Null Count  Dtype  \n",
      "---  ------                --------------  -----  \n",
      " 0   loan_amnt             38492 non-null  float64\n",
      " 1   term                  38492 non-null  int64  \n",
      " 2   installment           38492 non-null  float64\n",
      " 3   grade                 38492 non-null  int64  \n",
      " 4   emp_length            38492 non-null  int64  \n",
      " 5   home_ownership        38492 non-null  int64  \n",
      " 6   annual_inc            38492 non-null  float64\n",
      " 7   verification_status   38492 non-null  int64  \n",
      " 8   loan_status           38492 non-null  int64  \n",
      " 9   purpose               38492 non-null  int64  \n",
      " 10  title                 38492 non-null  int64  \n",
      " 11  addr_state            38492 non-null  int64  \n",
      " 12  dti                   38492 non-null  float64\n",
      " 13  delinq_2yrs           38492 non-null  float64\n",
      " 14  earliest_cr_line      38492 non-null  int64  \n",
      " 15  inq_last_6mths        38492 non-null  float64\n",
      " 16  open_acc              38492 non-null  float64\n",
      " 17  pub_rec               38492 non-null  float64\n",
      " 18  revol_bal             38492 non-null  float64\n",
      " 19  revol_util            38492 non-null  float64\n",
      " 20  total_acc             38492 non-null  float64\n",
      " 21  last_credit_pull_d    38492 non-null  int64  \n",
      " 22  pub_rec_bankruptcies  38492 non-null  float64\n",
      " 23  fico_average          38492 non-null  float64\n",
      "dtypes: float64(13), int64(11)\n",
      "memory usage: 7.3 MB\n"
     ]
    }
   ],
   "metadata": {}
  },
  {
   "cell_type": "code",
   "execution_count": 511,
   "source": [
    "# Exploring it and understanding what feature each column represents.\n",
    "\n",
    "# data dictionary \n",
    "data_dictionary = pd.read_csv('../data/LCDataDictionary.csv') # Loading in the data dictionary\n",
    "#print(data_dictionary.shape[0])\n",
    "#print(data_dictionary.columns.tolist())"
   ],
   "outputs": [],
   "metadata": {}
  },
  {
   "cell_type": "code",
   "execution_count": 512,
   "source": [
    "data_dictionary = data_dictionary.dropna()\n",
    "\n",
    "list_columns_all = list(df.columns)\n",
    "\n",
    "ii = 1\n",
    "for index, row in data_dictionary.iterrows():\n",
    "       col1 = row['LoanStatNew']\n",
    "       col2 = row['Description']\n",
    "\n",
    "       for icol in list_columns_all:\n",
    "            if(col1 == icol):\n",
    "               print(f'# {ii} - {col1}: .......{col2}')\n",
    "               ii = ii+1"
   ],
   "outputs": [
    {
     "output_type": "stream",
     "name": "stdout",
     "text": [
      "# 1 - addr_state: .......The state provided by the borrower in the loan application\n",
      "# 2 - annual_inc: .......The self-reported annual income provided by the borrower during registration.\n",
      "# 3 - delinq_2yrs: .......The number of 30+ days past-due incidences of delinquency in the borrower's credit file for the past 2 years\n",
      "# 4 - dti: .......A ratio calculated using the borrower’s total monthly debt payments on the total debt obligations, excluding mortgage and the requested LC loan, divided by the borrower’s self-reported monthly income.\n",
      "# 5 - earliest_cr_line: .......The month the borrower's earliest reported credit line was opened\n",
      "# 6 - emp_length: .......Employment length in years. Possible values are between 0 and 10 where 0 means less than one year and 10 means ten or more years. \n",
      "# 7 - grade: .......LC assigned loan grade\n",
      "# 8 - home_ownership: .......The home ownership status provided by the borrower during registration. Our values are: RENT, OWN, MORTGAGE, OTHER.\n",
      "# 9 - inq_last_6mths: .......The number of inquiries in past 6 months (excluding auto and mortgage inquiries)\n",
      "# 10 - installment: .......The monthly payment owed by the borrower if the loan originates.\n",
      "# 11 - last_credit_pull_d: .......The most recent month LC pulled credit for this loan\n",
      "# 12 - loan_amnt: .......The listed amount of the loan applied for by the borrower. If at some point in time, the credit department reduces the loan amount, then it will be reflected in this value.\n",
      "# 13 - loan_status: .......Current status of the loan\n",
      "# 14 - open_acc: .......The number of open credit lines in the borrower's credit file.\n",
      "# 15 - pub_rec: .......Number of derogatory public records\n",
      "# 16 - pub_rec_bankruptcies: .......Number of public record bankruptcies\n",
      "# 17 - purpose: .......A category provided by the borrower for the loan request. \n",
      "# 18 - revol_bal: .......Total credit revolving balance\n",
      "# 19 - revol_util: .......Revolving line utilization rate, or the amount of credit the borrower is using relative to all available revolving credit.\n",
      "# 20 - term: .......The number of payments on the loan. Values are in months and can be either 36 or 60.\n",
      "# 21 - title: .......The loan title provided by the borrower\n",
      "# 22 - total_acc: .......The total number of credit lines currently in the borrower's credit file\n",
      "# 23 - verification_status: .......Indicates if income was verified by LC, not verified, or if the income source was verified\n"
     ]
    }
   ],
   "metadata": {}
  },
  {
   "cell_type": "code",
   "execution_count": 513,
   "source": [
    "# Generates profile reports from a pandas DataFrame\n",
    "# pandas_profiling extends the pandas DataFrame with \n",
    "# df.profile_report() for quick data analysis\n",
    "# This request a lot of memory RAM.\n",
    "# Pandas Profiling on github: https://github.com/pandas-profiling/pandas-profiling\n",
    "profile = ProfileReport(df, title=\"Pandas Profiling Report\")"
   ],
   "outputs": [],
   "metadata": {}
  },
  {
   "cell_type": "code",
   "execution_count": 514,
   "source": [
    "# report format html\n",
    "# A nice way to explore the data. Take a look :)\n",
    "#!mkdir reports\n",
    "\n",
    "#profile.to_file(\"reports/index.html\")\n",
    "\n",
    "# open reports/lending_club_loans.html in a browser"
   ],
   "outputs": [],
   "metadata": {}
  },
  {
   "cell_type": "code",
   "execution_count": 515,
   "source": [
    "print(f'Number of rows.....................: {df.shape[0]}')\n",
    "print(f'Number of columns..................: {df.shape[1]}')"
   ],
   "outputs": [
    {
     "output_type": "stream",
     "name": "stdout",
     "text": [
      "Number of rows.....................: 38492\n",
      "Number of columns..................: 24\n"
     ]
    }
   ],
   "metadata": {}
  },
  {
   "cell_type": "code",
   "execution_count": 516,
   "source": [
    "print(\"saving the file feather-format...\")\n",
    "\n",
    "# this is important to do before save in feather format.\n",
    "df = df.reset_index(drop=True) # reset index pandas before save feather format\n",
    "df.to_feather('../data/dataset_cleaning.ftr') # save to feather format\n",
    "\n",
    "release_memory(df)"
   ],
   "outputs": [
    {
     "output_type": "stream",
     "name": "stdout",
     "text": [
      "saving the file feather-format...\n",
      "memory RAM released.\n"
     ]
    }
   ],
   "metadata": {}
  },
  {
   "cell_type": "code",
   "execution_count": 517,
   "source": [
    "# time of execution in minutes\n",
    "time_exec_min = round( (time.time() - start_time)/60, 4)\n",
    "\n",
    "print(f'time of execution (preprocessing/cleaning): {time_exec_min} minutes')\n",
    "print(\"the preprocessing is done.\")\n",
    "print(\"The next step is to do the feature engineering.\")\n",
    "# datetime object containing current date and time\n",
    "now = datetime.now()\n",
    "\n",
    "# dd/mm/YY H:M:S\n",
    "dt_string = now.strftime(\"%d/%m/%Y %H:%M:%S\")\n",
    "print(\">>> date: \", dt_string)\n",
    "\n",
    "print(\"All Done. :)\")"
   ],
   "outputs": [
    {
     "output_type": "stream",
     "name": "stdout",
     "text": [
      "time of execution (preprocessing/cleaning): 0.3746 minutes\n",
      "the preprocessing is done.\n",
      "The next step is to do the feature engineering.\n",
      ">>> date:  15/08/2021 19:18:26\n",
      "All Done. :)\n"
     ]
    }
   ],
   "metadata": {}
  }
 ],
 "metadata": {
  "interpreter": {
   "hash": "6c931bb6fc3746b1a920c4cd284bcdcf9c2b3594e9a6d3d6043ffcb175a0c5f2"
  },
  "kernelspec": {
   "display_name": "Python 3.7.9 64-bit ('base': conda)",
   "name": "python3"
  },
  "language_info": {
   "name": "python",
   "version": ""
  },
  "orig_nbformat": 2
 },
 "nbformat": 4,
 "nbformat_minor": 2
}