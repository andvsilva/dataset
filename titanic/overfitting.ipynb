{
 "cells": [
  {
   "cell_type": "code",
   "execution_count": 37,
   "metadata": {},
   "outputs": [],
   "source": [
    "# evaluate decision tree performance on train and test sets with different tree depths\n",
    "from sklearn.datasets import make_classification\n",
    "from sklearn.model_selection import train_test_split\n",
    "from sklearn.metrics import accuracy_score\n",
    "from sklearn.tree import DecisionTreeClassifier\n",
    "from matplotlib import pyplot\n",
    "\n",
    "### https://machinelearningmastery.com/overfitting-machine-learning-models/"
   ]
  },
  {
   "cell_type": "code",
   "execution_count": 38,
   "metadata": {},
   "outputs": [
    {
     "name": "stdout",
     "output_type": "stream",
     "text": [
      "(10000, 20) (10000,)\n"
     ]
    }
   ],
   "source": [
    "# synthetic classification dataset\n",
    "from sklearn.datasets import make_classification\n",
    "# define dataset\n",
    "X, y = make_classification(n_samples=10000, n_features=20, n_informative=5, n_redundant=15, random_state=1)\n",
    "# summarize the dataset\n",
    "print(X.shape, y.shape)"
   ]
  },
  {
   "cell_type": "code",
   "execution_count": 39,
   "metadata": {},
   "outputs": [
    {
     "name": "stdout",
     "output_type": "stream",
     "text": [
      "(7000, 20) (3000, 20) (7000,) (3000,)\n"
     ]
    }
   ],
   "source": [
    "# split a dataset into train and test sets\n",
    "from sklearn.datasets import make_classification\n",
    "from sklearn.model_selection import train_test_split\n",
    "# create dataset\n",
    "X, y = make_classification(n_samples=10000, n_features=20, n_informative=5, n_redundant=15, random_state=1)\n",
    "# split into train test sets\n",
    "X_train, X_test, y_train, y_test = train_test_split(X, y, test_size=0.3)\n",
    "# summarize the shape of the train and test sets\n",
    "print(X_train.shape, X_test.shape, y_train.shape, y_test.shape)"
   ]
  },
  {
   "cell_type": "code",
   "execution_count": 40,
   "metadata": {},
   "outputs": [],
   "source": [
    "# define the tree depths to evaluate\n",
    "values = [i for i in range(1, 50)]"
   ]
  },
  {
   "cell_type": "code",
   "execution_count": 41,
   "metadata": {},
   "outputs": [],
   "source": [
    "# define lists to collect scores\n",
    "train_scores, test_scores = list(), list()"
   ]
  },
  {
   "cell_type": "code",
   "execution_count": 42,
   "metadata": {},
   "outputs": [
    {
     "name": "stdout",
     "output_type": "stream",
     "text": [
      ">>> #1, train: 0.769, test: 0.753\n",
      ">>> #2, train: 0.806, test: 0.790\n",
      ">>> #3, train: 0.873, test: 0.859\n",
      ">>> #4, train: 0.905, test: 0.893\n",
      ">>> #5, train: 0.921, test: 0.904\n",
      ">>> #6, train: 0.939, test: 0.919\n",
      ">>> #7, train: 0.947, test: 0.922\n",
      ">>> #8, train: 0.955, test: 0.923\n",
      ">>> #9, train: 0.960, test: 0.923\n",
      ">>> #10, train: 0.965, test: 0.920\n",
      ">>> #11, train: 0.973, test: 0.918\n",
      ">>> #12, train: 0.977, test: 0.915\n",
      ">>> #13, train: 0.982, test: 0.919\n",
      ">>> #14, train: 0.986, test: 0.915\n",
      ">>> #15, train: 0.988, test: 0.912\n",
      ">>> #16, train: 0.992, test: 0.912\n",
      ">>> #17, train: 0.994, test: 0.912\n",
      ">>> #18, train: 0.997, test: 0.906\n",
      ">>> #19, train: 0.997, test: 0.911\n",
      ">>> #20, train: 0.998, test: 0.907\n",
      ">>> #21, train: 0.999, test: 0.911\n",
      ">>> #22, train: 0.999, test: 0.911\n",
      ">>> #23, train: 0.999, test: 0.909\n",
      ">>> #24, train: 1.000, test: 0.908\n",
      ">>> #25, train: 1.000, test: 0.911\n",
      ">>> #26, train: 1.000, test: 0.906\n",
      ">>> #27, train: 1.000, test: 0.910\n",
      ">>> #28, train: 1.000, test: 0.911\n",
      ">>> #29, train: 1.000, test: 0.905\n",
      ">>> #30, train: 1.000, test: 0.912\n",
      ">>> #31, train: 1.000, test: 0.910\n",
      ">>> #32, train: 1.000, test: 0.909\n",
      ">>> #33, train: 1.000, test: 0.910\n",
      ">>> #34, train: 1.000, test: 0.908\n",
      ">>> #35, train: 1.000, test: 0.909\n",
      ">>> #36, train: 1.000, test: 0.908\n",
      ">>> #37, train: 1.000, test: 0.908\n",
      ">>> #38, train: 1.000, test: 0.907\n",
      ">>> #39, train: 1.000, test: 0.913\n",
      ">>> #40, train: 1.000, test: 0.909\n",
      ">>> #41, train: 1.000, test: 0.909\n",
      ">>> #42, train: 1.000, test: 0.909\n",
      ">>> #43, train: 1.000, test: 0.909\n",
      ">>> #44, train: 1.000, test: 0.911\n",
      ">>> #45, train: 1.000, test: 0.909\n",
      ">>> #46, train: 1.000, test: 0.909\n",
      ">>> #47, train: 1.000, test: 0.913\n",
      ">>> #48, train: 1.000, test: 0.907\n",
      ">>> #49, train: 1.000, test: 0.914\n"
     ]
    }
   ],
   "source": [
    "# evaluate a decision tree for each depth\n",
    "for i in values:\n",
    "\t# configure the model\n",
    "\tmodel = DecisionTreeClassifier(max_depth=i)\n",
    "\t# fit model on the training dataset\n",
    "\tmodel.fit(X_train, y_train)\n",
    "\t# evaluate on the train dataset\n",
    "\ttrain_yhat = model.predict(X_train)\n",
    "\ttrain_acc = accuracy_score(y_train, train_yhat)\n",
    "\ttrain_scores.append(train_acc)\n",
    "\t# evaluate on the test dataset\n",
    "\ttest_yhat = model.predict(X_test)\n",
    "\ttest_acc = accuracy_score(y_test, test_yhat)\n",
    "\ttest_scores.append(test_acc)\n",
    "\t# summarize progress\n",
    "\tprint('>>> #%d, train: %.3f, test: %.3f' % (i, train_acc, test_acc))"
   ]
  },
  {
   "cell_type": "code",
   "execution_count": 43,
   "metadata": {},
   "outputs": [
    {
     "data": {
      "image/png": "[encoded data removed]",
      "text/plain": [
       "<Figure size 720x720 with 1 Axes>"
      ]
     },
     "metadata": {
      "needs_background": "light"
     },
     "output_type": "display_data"
    }
   ],
   "source": [
    "# plot of train and test scores vs tree depth\n",
    "pyplot.figure(figsize=(10,10))\n",
    "pyplot.plot(values, train_scores, '-o', label='Train')\n",
    "pyplot.plot(values, test_scores, '-o', label='Test')\n",
    "pyplot.legend()\n",
    "pyplot.show()"
   ]
  }
 ],
 "metadata": {
  "interpreter": {
   "hash": "e9fdd6a906b0a436d5024ede8a58cdb85cf91b189ffbb474863b8f211ce55112"
  },
  "kernelspec": {
   "display_name": "Python 3.9.7 ('base')",
   "language": "python",
   "name": "python3"
  },
  "language_info": {
   "codemirror_mode": {
    "name": "ipython",
    "version": 3
   },
   "file_extension": ".py",
   "mimetype": "text/x-python",
   "name": "python",
   "nbconvert_exporter": "python",
   "pygments_lexer": "ipython3",
   "version": "3.9.7"
  },
  "orig_nbformat": 4
 },
 "nbformat": 4,
 "nbformat_minor": 2
}
