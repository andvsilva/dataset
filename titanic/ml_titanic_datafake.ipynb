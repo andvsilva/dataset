{
 "cells": [
  {
   "cell_type": "code",
   "execution_count": 153,
   "metadata": {},
   "outputs": [],
   "source": [
    "\n",
    "# libraries\n",
    "import random\n",
    "import pandas as pd\n",
    "import snoop\n",
    "import feather\n",
    "import time\n",
    "import gc\n",
    "import sys\n",
    "import feather\n",
    "import os\n",
    "import joblib\n",
    "import numpy as np\n",
    "\n",
    "from varname import nameof\n",
    "from icecream import ic\n",
    "\n",
    "from sklearn.datasets import load_digits\n",
    "from sklearn.feature_selection import SelectKBest, chi2, f_classif, mutual_info_classif\n",
    "from sklearn.model_selection import cross_val_score, KFold, StratifiedKFold\n",
    "\n",
    "from sklearn.neural_network import MLPClassifier\n",
    "from sklearn.datasets import make_classification\n",
    "from sklearn.model_selection import train_test_split\n",
    "from sklearn.preprocessing import LabelEncoder"
   ]
  },
  {
   "cell_type": "code",
   "execution_count": 154,
   "metadata": {},
   "outputs": [
    {
     "data": {
      "text/plain": [
       "MLPClassifier(max_iter=1000, random_state=19)"
      ]
     },
     "execution_count": 154,
     "metadata": {},
     "output_type": "execute_result"
    }
   ],
   "source": [
    "# Load the model from the file\n",
    "clf_from_joblib = joblib.load('model_mlpclassifier.pkl')\n",
    "clf_from_joblib"
   ]
  },
  {
   "cell_type": "code",
   "execution_count": 155,
   "metadata": {},
   "outputs": [],
   "source": [
    "# generate the fake dataset.\n",
    "nrows = 200\n",
    "\n",
    "def make_database(index):\n",
    "    #passengerid = index\n",
    "    pclass    = int(random.randint(1, 3))\n",
    "    #name      = int(random.randint(0, 1306))\n",
    "    sex       = int(random.randint(0, 1))\n",
    "    #age       = int(random.randint(2, 80))\n",
    "    #sibsp     = int(random.randint(0, 8))\n",
    "    #parch     = int(random.randint(0, 9))\n",
    "    #ticket    = int(random.randint(0, 928))\n",
    "    fare      = int(round(random.uniform(0, 513), 4))\n",
    "    #cabin     = int(random.randint(0, 185))\n",
    "    embarked  = int(random.randint(0, 2))\n",
    "    boat      = int(random.randint(0, 26))\n",
    "    #body      = int(round(random.uniform(0, 328), 2))\n",
    "    #home_dest = int(random.randint(0,368))\n",
    "    survived  = int(random.randint(0, 1))\n",
    "    \n",
    "    # 'nameof' get name of variables and are appended in one list with column names.\n",
    "    name_cols = [] # list\n",
    "    #name_cols.append(nameof(passengerid))\n",
    "    name_cols.append(nameof(pclass))\n",
    "    #name_cols.append(nameof(name))\n",
    "    name_cols.append(nameof(sex))\n",
    "    #name_cols.append(nameof(age))\n",
    "    #name_cols.append(nameof(sibsp))\n",
    "    #name_cols.append(nameof(parch))\n",
    "    #name_cols.append(nameof(ticket))\n",
    "    name_cols.append(nameof(fare))\n",
    "    #name_cols.append(nameof(cabin))\n",
    "    name_cols.append(nameof(embarked))\n",
    "    name_cols.append(nameof(boat))\n",
    "    #name_cols.append(nameof(body))\n",
    "    #name_cols.append(nameof(home_dest))\n",
    "    name_cols.append(nameof(survived))\n",
    "    \n",
    "    # fake database\n",
    "    database = {#f'passengerid': passengerid,\n",
    "                f'pclass': pclass,\n",
    "                #f'name': name,\n",
    "                f'sex': sex,\n",
    "                #f'age': age,\n",
    "                #f'sibsp': sibsp,\n",
    "                #f'parch': parch,\n",
    "                #f'ticket': ticket,\n",
    "                f'fare': fare,\n",
    "                #f'cabin': cabin,\n",
    "                f'embarked': embarked,\n",
    "                f'boat': boat,\n",
    "                #f'body': body,\n",
    "                #f'home_dest': home_dest,\n",
    "                f'survived': survived\n",
    "               }\n",
    "    \n",
    "    return name_cols, database\n",
    "\n",
    "def generate_fakedata(nrows):    \n",
    "    \n",
    "    irow = 1\n",
    "    index = 1310\n",
    "    name_cols, database = make_database(index)\n",
    "    df = pd.DataFrame(columns=name_cols)\n",
    "        \n",
    "    while(irow <= nrows):\n",
    "        name_cols, database = make_database(index)\n",
    "        df_database = pd.DataFrame([database])\n",
    "        df = pd.concat([df, df_database], ignore_index=True)\n",
    "        irow += 1\n",
    "        index += 1\n",
    "\n",
    "    return df"
   ]
  },
  {
   "cell_type": "code",
   "execution_count": 156,
   "metadata": {},
   "outputs": [],
   "source": [
    "df = generate_fakedata(nrows)"
   ]
  },
  {
   "cell_type": "code",
   "execution_count": 157,
   "metadata": {},
   "outputs": [
    {
     "data": {
      "text/html": [
       "<div>\n",
       "<style scoped>\n",
       "    .dataframe tbody tr th:only-of-type {\n",
       "        vertical-align: middle;\n",
       "    }\n",
       "\n",
       "    .dataframe tbody tr th {\n",
       "        vertical-align: top;\n",
       "    }\n",
       "\n",
       "    .dataframe thead th {\n",
       "        text-align: right;\n",
       "    }\n",
       "</style>\n",
       "<table border=\"1\" class=\"dataframe\">\n",
       "  <thead>\n",
       "    <tr style=\"text-align: right;\">\n",
       "      <th></th>\n",
       "      <th>pclass</th>\n",
       "      <th>sex</th>\n",
       "      <th>fare</th>\n",
       "      <th>embarked</th>\n",
       "      <th>boat</th>\n",
       "      <th>survived</th>\n",
       "    </tr>\n",
       "  </thead>\n",
       "  <tbody>\n",
       "    <tr>\n",
       "      <th>0</th>\n",
       "      <td>1</td>\n",
       "      <td>1</td>\n",
       "      <td>423</td>\n",
       "      <td>1</td>\n",
       "      <td>22</td>\n",
       "      <td>0</td>\n",
       "    </tr>\n",
       "    <tr>\n",
       "      <th>1</th>\n",
       "      <td>2</td>\n",
       "      <td>1</td>\n",
       "      <td>27</td>\n",
       "      <td>1</td>\n",
       "      <td>18</td>\n",
       "      <td>0</td>\n",
       "    </tr>\n",
       "    <tr>\n",
       "      <th>2</th>\n",
       "      <td>2</td>\n",
       "      <td>1</td>\n",
       "      <td>453</td>\n",
       "      <td>1</td>\n",
       "      <td>19</td>\n",
       "      <td>1</td>\n",
       "    </tr>\n",
       "    <tr>\n",
       "      <th>3</th>\n",
       "      <td>3</td>\n",
       "      <td>1</td>\n",
       "      <td>85</td>\n",
       "      <td>2</td>\n",
       "      <td>16</td>\n",
       "      <td>0</td>\n",
       "    </tr>\n",
       "    <tr>\n",
       "      <th>4</th>\n",
       "      <td>2</td>\n",
       "      <td>1</td>\n",
       "      <td>454</td>\n",
       "      <td>1</td>\n",
       "      <td>20</td>\n",
       "      <td>1</td>\n",
       "    </tr>\n",
       "    <tr>\n",
       "      <th>...</th>\n",
       "      <td>...</td>\n",
       "      <td>...</td>\n",
       "      <td>...</td>\n",
       "      <td>...</td>\n",
       "      <td>...</td>\n",
       "      <td>...</td>\n",
       "    </tr>\n",
       "    <tr>\n",
       "      <th>195</th>\n",
       "      <td>3</td>\n",
       "      <td>1</td>\n",
       "      <td>364</td>\n",
       "      <td>0</td>\n",
       "      <td>3</td>\n",
       "      <td>0</td>\n",
       "    </tr>\n",
       "    <tr>\n",
       "      <th>196</th>\n",
       "      <td>3</td>\n",
       "      <td>1</td>\n",
       "      <td>485</td>\n",
       "      <td>1</td>\n",
       "      <td>10</td>\n",
       "      <td>0</td>\n",
       "    </tr>\n",
       "    <tr>\n",
       "      <th>197</th>\n",
       "      <td>3</td>\n",
       "      <td>1</td>\n",
       "      <td>57</td>\n",
       "      <td>2</td>\n",
       "      <td>19</td>\n",
       "      <td>0</td>\n",
       "    </tr>\n",
       "    <tr>\n",
       "      <th>198</th>\n",
       "      <td>1</td>\n",
       "      <td>1</td>\n",
       "      <td>84</td>\n",
       "      <td>2</td>\n",
       "      <td>23</td>\n",
       "      <td>1</td>\n",
       "    </tr>\n",
       "    <tr>\n",
       "      <th>199</th>\n",
       "      <td>3</td>\n",
       "      <td>0</td>\n",
       "      <td>307</td>\n",
       "      <td>0</td>\n",
       "      <td>18</td>\n",
       "      <td>1</td>\n",
       "    </tr>\n",
       "  </tbody>\n",
       "</table>\n",
       "<p>200 rows × 6 columns</p>\n",
       "</div>"
      ],
      "text/plain": [
       "    pclass sex fare embarked boat survived\n",
       "0        1   1  423        1   22        0\n",
       "1        2   1   27        1   18        0\n",
       "2        2   1  453        1   19        1\n",
       "3        3   1   85        2   16        0\n",
       "4        2   1  454        1   20        1\n",
       "..     ...  ..  ...      ...  ...      ...\n",
       "195      3   1  364        0    3        0\n",
       "196      3   1  485        1   10        0\n",
       "197      3   1   57        2   19        0\n",
       "198      1   1   84        2   23        1\n",
       "199      3   0  307        0   18        1\n",
       "\n",
       "[200 rows x 6 columns]"
      ]
     },
     "execution_count": 157,
     "metadata": {},
     "output_type": "execute_result"
    }
   ],
   "source": [
    "df"
   ]
  },
  {
   "cell_type": "code",
   "execution_count": 158,
   "metadata": {},
   "outputs": [
    {
     "name": "stdout",
     "output_type": "stream",
     "text": [
      "<class 'pandas.core.frame.DataFrame'>\n",
      "RangeIndex: 200 entries, 0 to 199\n",
      "Data columns (total 6 columns):\n",
      " #   Column    Non-Null Count  Dtype\n",
      "---  ------    --------------  -----\n",
      " 0   pclass    200 non-null    int64\n",
      " 1   sex       200 non-null    int64\n",
      " 2   fare      200 non-null    int64\n",
      " 3   embarked  200 non-null    int64\n",
      " 4   boat      200 non-null    int64\n",
      " 5   survived  200 non-null    int64\n",
      "dtypes: int64(6)\n",
      "memory usage: 9.5 KB\n"
     ]
    }
   ],
   "source": [
    "# convert object type to category type\n",
    "df[df.select_dtypes(['object']).columns] = df.select_dtypes(['object']).apply(lambda x: x.astype('int64'))\n",
    "df.info()"
   ]
  },
  {
   "cell_type": "code",
   "execution_count": 159,
   "metadata": {},
   "outputs": [],
   "source": [
    "# Alternatively X and y can be obtained directly from the dataframe attribute:\n",
    "X = df.drop('survived', axis=1) # drop the column target\n",
    "y = df['survived'] # target"
   ]
  },
  {
   "cell_type": "code",
   "execution_count": 160,
   "metadata": {},
   "outputs": [],
   "source": [
    "kf=KFold(n_splits=3)\n",
    "score=cross_val_score(clf_from_joblib,X,y,cv=kf)"
   ]
  },
  {
   "cell_type": "code",
   "execution_count": 161,
   "metadata": {},
   "outputs": [
    {
     "name": "stdout",
     "output_type": "stream",
     "text": [
      "Cross Validation Scores are [0.41791045 0.6119403  0.48484848]\n",
      "Average Cross Validation score :0.5048997437057139\n"
     ]
    }
   ],
   "source": [
    "print(\"Cross Validation Scores are {}\".format(score))\n",
    "print(\"Average Cross Validation score :{}\".format(score.mean()))"
   ]
  },
  {
   "cell_type": "code",
   "execution_count": 162,
   "metadata": {},
   "outputs": [
    {
     "data": {
      "text/plain": [
       "Index(['pclass', 'sex', 'fare', 'embarked', 'boat', 'survived'], dtype='object')"
      ]
     },
     "execution_count": 162,
     "metadata": {},
     "output_type": "execute_result"
    }
   ],
   "source": [
    "df.columns"
   ]
  },
  {
   "cell_type": "code",
   "execution_count": 163,
   "metadata": {},
   "outputs": [
    {
     "ename": "NotFittedError",
     "evalue": "This MLPClassifier instance is not fitted yet. Call 'fit' with appropriate arguments before using this estimator.",
     "output_type": "error",
     "traceback": [
      "\u001b[0;31m---------------------------------------------------------------------------\u001b[0m",
      "\u001b[0;31mNotFittedError\u001b[0m                            Traceback (most recent call last)",
      "\u001b[1;32m/home/andsilva/repo/dataset/titanic/ml_titanic_datafake.ipynb Cell 11'\u001b[0m in \u001b[0;36m<cell line: 3>\u001b[0;34m()\u001b[0m\n\u001b[1;32m      <a href='vscode-notebook-cell:/home/andsilva/repo/dataset/titanic/ml_titanic_datafake.ipynb#ch0000009?line=0'>1</a>\u001b[0m \u001b[39m## Anderson: sex: 1| pclass: 3| fare: 150| embarked: 2 |  boat: 2\u001b[39;00m\n\u001b[1;32m      <a href='vscode-notebook-cell:/home/andsilva/repo/dataset/titanic/ml_titanic_datafake.ipynb#ch0000009?line=1'>2</a>\u001b[0m anderson \u001b[39m=\u001b[39m np\u001b[39m.\u001b[39marray([\u001b[39m3\u001b[39m,\u001b[39m1\u001b[39m,\u001b[39m150\u001b[39m,\u001b[39m2\u001b[39m,\u001b[39m3\u001b[39m])\u001b[39m.\u001b[39mreshape(\u001b[39m1\u001b[39m,\u001b[39m-\u001b[39m\u001b[39m1\u001b[39m)\n\u001b[0;32m----> <a href='vscode-notebook-cell:/home/andsilva/repo/dataset/titanic/ml_titanic_datafake.ipynb#ch0000009?line=2'>3</a>\u001b[0m \u001b[39mprint\u001b[39m(\u001b[39m'\u001b[39m\u001b[39manderson\u001b[39m\u001b[39m'\u001b[39m\u001b[39m.\u001b[39mformat(clf_from_joblib\u001b[39m.\u001b[39;49mpredict(anderson[\u001b[39m0\u001b[39;49m])))\n",
      "File \u001b[0;32m~/anaconda3/lib/python3.9/site-packages/sklearn/neural_network/_multilayer_perceptron.py:1166\u001b[0m, in \u001b[0;36mMLPClassifier.predict\u001b[0;34m(self, X)\u001b[0m\n\u001b[1;32m   <a href='file:///home/andsilva/anaconda3/lib/python3.9/site-packages/sklearn/neural_network/_multilayer_perceptron.py?line=1152'>1153</a>\u001b[0m \u001b[39mdef\u001b[39;00m \u001b[39mpredict\u001b[39m(\u001b[39mself\u001b[39m, X):\n\u001b[1;32m   <a href='file:///home/andsilva/anaconda3/lib/python3.9/site-packages/sklearn/neural_network/_multilayer_perceptron.py?line=1153'>1154</a>\u001b[0m     \u001b[39m\"\"\"Predict using the multi-layer perceptron classifier.\u001b[39;00m\n\u001b[1;32m   <a href='file:///home/andsilva/anaconda3/lib/python3.9/site-packages/sklearn/neural_network/_multilayer_perceptron.py?line=1154'>1155</a>\u001b[0m \n\u001b[1;32m   <a href='file:///home/andsilva/anaconda3/lib/python3.9/site-packages/sklearn/neural_network/_multilayer_perceptron.py?line=1155'>1156</a>\u001b[0m \u001b[39m    Parameters\u001b[39;00m\n\u001b[0;32m   (...)\u001b[0m\n\u001b[1;32m   <a href='file:///home/andsilva/anaconda3/lib/python3.9/site-packages/sklearn/neural_network/_multilayer_perceptron.py?line=1163'>1164</a>\u001b[0m \u001b[39m        The predicted classes.\u001b[39;00m\n\u001b[1;32m   <a href='file:///home/andsilva/anaconda3/lib/python3.9/site-packages/sklearn/neural_network/_multilayer_perceptron.py?line=1164'>1165</a>\u001b[0m \u001b[39m    \"\"\"\u001b[39;00m\n\u001b[0;32m-> <a href='file:///home/andsilva/anaconda3/lib/python3.9/site-packages/sklearn/neural_network/_multilayer_perceptron.py?line=1165'>1166</a>\u001b[0m     check_is_fitted(\u001b[39mself\u001b[39;49m)\n\u001b[1;32m   <a href='file:///home/andsilva/anaconda3/lib/python3.9/site-packages/sklearn/neural_network/_multilayer_perceptron.py?line=1166'>1167</a>\u001b[0m     y_pred \u001b[39m=\u001b[39m \u001b[39mself\u001b[39m\u001b[39m.\u001b[39m_forward_pass_fast(X)\n\u001b[1;32m   <a href='file:///home/andsilva/anaconda3/lib/python3.9/site-packages/sklearn/neural_network/_multilayer_perceptron.py?line=1168'>1169</a>\u001b[0m     \u001b[39mif\u001b[39;00m \u001b[39mself\u001b[39m\u001b[39m.\u001b[39mn_outputs_ \u001b[39m==\u001b[39m \u001b[39m1\u001b[39m:\n",
      "File \u001b[0;32m~/anaconda3/lib/python3.9/site-packages/sklearn/utils/validation.py:1222\u001b[0m, in \u001b[0;36mcheck_is_fitted\u001b[0;34m(estimator, attributes, msg, all_or_any)\u001b[0m\n\u001b[1;32m   <a href='file:///home/andsilva/anaconda3/lib/python3.9/site-packages/sklearn/utils/validation.py?line=1216'>1217</a>\u001b[0m     fitted \u001b[39m=\u001b[39m [\n\u001b[1;32m   <a href='file:///home/andsilva/anaconda3/lib/python3.9/site-packages/sklearn/utils/validation.py?line=1217'>1218</a>\u001b[0m         v \u001b[39mfor\u001b[39;00m v \u001b[39min\u001b[39;00m \u001b[39mvars\u001b[39m(estimator) \u001b[39mif\u001b[39;00m v\u001b[39m.\u001b[39mendswith(\u001b[39m\"\u001b[39m\u001b[39m_\u001b[39m\u001b[39m\"\u001b[39m) \u001b[39mand\u001b[39;00m \u001b[39mnot\u001b[39;00m v\u001b[39m.\u001b[39mstartswith(\u001b[39m\"\u001b[39m\u001b[39m__\u001b[39m\u001b[39m\"\u001b[39m)\n\u001b[1;32m   <a href='file:///home/andsilva/anaconda3/lib/python3.9/site-packages/sklearn/utils/validation.py?line=1218'>1219</a>\u001b[0m     ]\n\u001b[1;32m   <a href='file:///home/andsilva/anaconda3/lib/python3.9/site-packages/sklearn/utils/validation.py?line=1220'>1221</a>\u001b[0m \u001b[39mif\u001b[39;00m \u001b[39mnot\u001b[39;00m fitted:\n\u001b[0;32m-> <a href='file:///home/andsilva/anaconda3/lib/python3.9/site-packages/sklearn/utils/validation.py?line=1221'>1222</a>\u001b[0m     \u001b[39mraise\u001b[39;00m NotFittedError(msg \u001b[39m%\u001b[39m {\u001b[39m\"\u001b[39m\u001b[39mname\u001b[39m\u001b[39m\"\u001b[39m: \u001b[39mtype\u001b[39m(estimator)\u001b[39m.\u001b[39m\u001b[39m__name__\u001b[39m})\n",
      "\u001b[0;31mNotFittedError\u001b[0m: This MLPClassifier instance is not fitted yet. Call 'fit' with appropriate arguments before using this estimator."
     ]
    }
   ],
   "source": [
    "## Anderson: sex: 1| pclass: 3| fare: 150| embarked: 2 |  boat: 2\n",
    "anderson = np.array([3,1,150,2,3]).reshape(1,-1)\n",
    "print('anderson'.format(clf_from_joblib.predict(anderson[0])))"
   ]
  }
 ],
 "metadata": {
  "interpreter": {
   "hash": "e9fdd6a906b0a436d5024ede8a58cdb85cf91b189ffbb474863b8f211ce55112"
  },
  "kernelspec": {
   "display_name": "Python 3.9.12 ('base')",
   "language": "python",
   "name": "python3"
  },
  "language_info": {
   "codemirror_mode": {
    "name": "ipython",
    "version": 3
   },
   "file_extension": ".py",
   "mimetype": "text/x-python",
   "name": "python",
   "nbconvert_exporter": "python",
   "pygments_lexer": "ipython3",
   "version": "3.9.12"
  },
  "orig_nbformat": 4
 },
 "nbformat": 4,
 "nbformat_minor": 2
}
