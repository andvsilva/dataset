{
 "cells": [
  {
   "cell_type": "code",
   "execution_count": 356,
   "metadata": {},
   "outputs": [
    {
     "name": "stdout",
     "output_type": "stream",
     "text": [
      "total 3,3M\n",
      "4,0K drwxrwxr-x  5 andsilva andsilva 4,0K abr 15 08:54 .\n",
      "4,0K drwxrwxr-x 13 andsilva andsilva 4,0K abr 17 15:52 ..\n",
      "740K -rw-rw-r--  1 andsilva andsilva 739K abr 19 14:26 atitanic.ipynb\n",
      "4,0K drwxrwxr-x  2 andsilva andsilva 4,0K abr 11 18:29 img\n",
      "4,0K drwxrwxr-x  2 andsilva andsilva 4,0K abr 15 08:54 .ipynb_checkpoints\n",
      " 20K -rw-rw-r--  1 andsilva andsilva  18K abr 19 13:42 ml_titanic_datafake.ipynb\n",
      "4,0K -rw-rw-r--  1 andsilva andsilva  567 abr 19 14:27 model_mlpclassifier.pkl\n",
      " 36K -rw-rw-r--  1 andsilva andsilva  35K mar 19 21:53 overfitting.ipynb\n",
      "4,0K -rw-rw-r--  1 andsilva andsilva  615 mar  5 12:39 README.md\n",
      " 28K -rw-rw-r--  1 andsilva andsilva  28K set 26  2019 test.csv\n",
      "4,0K drwxrwxr-x  3 andsilva andsilva 4,0K abr 12 18:11 tf\n",
      "2,3M -rw-rw-r--  1 andsilva andsilva 2,3M abr 13 23:18 tf_example.ipynb\n",
      "108K -rw-rw-r--  1 andsilva andsilva 105K fev 26 13:13 titanic.csv\n",
      "4,0K -rw-rw-r--  1 andsilva andsilva 3,5K fev 26 13:16 titanic_labic.py\n",
      " 44K -rw-rw-r--  1 andsilva andsilva  43"
     ]
    },
    {
     "data": {
      "text/plain": [
       "0"
      ]
     },
     "execution_count": 356,
     "metadata": {},
     "output_type": "execute_result"
    },
    {
     "name": "stdout",
     "output_type": "stream",
     "text": [
      "K fev 27 12:36 titanic_tensorf.ipynb\n",
      " 60K -rw-rw-r--  1 andsilva andsilva  60K set 26  2019 train.csv\n"
     ]
    }
   ],
   "source": [
    "import os\n",
    "\n",
    "# check the list of files in the directory.\n",
    "os.system('ls -lash')"
   ]
  },
  {
   "cell_type": "code",
   "execution_count": 357,
   "metadata": {},
   "outputs": [
    {
     "name": "stdout",
     "output_type": "stream",
     "text": [
      "pclass,survived,name,sex,age,sibsp,parch,ticket,fare,cabin,embarked,boat,body,home.dest\n",
      "1,1,\"Allen, Miss. Elisabeth Walton\",female,29.0,0,0,24160,211.3375,B5,S,2,,\"St Louis, MO\"\n",
      "1,1,\"Allison, Master. Hudson Trevor\",male,0.9167,1,2,113781,151.55,C22 C26,S,11,,\"Montreal, PQ / Chesterville, ON\"\n",
      "1,0,\"Allison, Miss. Helen Loraine\",female,2.0,1,2,113781,151.55,C22 C26,S,,,\"Montreal, PQ / Chesterville, ON\"\n",
      "1,0,\"Allison, Mr. Hudson Joshua Creighton\",male,30.0,1,2,113781,151.55,C22 C26,S,,135.0,\"Montreal, PQ / Chesterville, ON\"\n",
      "1,0,\"Allison, Mrs. Hudson J C (Bessie Waldo Daniels)\",female,25.0,1,2,113781,151.55,C22 C26,S,,,\"Montreal, PQ / Chesterville, ON\"\n",
      "1,1,\"Anderson, Mr. Harry\",male,48.0,0,0,19952,26.55,E12,S,3,,\"New York, NY\"\n",
      "1,1,\"Andrews, Miss. Kornelia Theodosia\",female,63.0,1,0,13502,77.9583,D7,S,10,,\"Hudson, NY\"\n",
      "1,0,\"Andrews, Mr. Thomas Jr\",male,39.0,0,0,112050,0.0,A36,S,,,\"Belfast, NI\"\n",
      "1,1,\"Appleton, Mrs. Edward Dale (Charlotte Lamson)\",female,53.0,2,0,11769,51.4792,C101,S,D,,\"Bayside,"
     ]
    },
    {
     "data": {
      "text/plain": [
       "0"
      ]
     },
     "execution_count": 357,
     "metadata": {},
     "output_type": "execute_result"
    },
    {
     "name": "stdout",
     "output_type": "stream",
     "text": [
      " Queens, NY\"\n"
     ]
    }
   ],
   "source": [
    "# get the first lines of the dataset\n",
    "# using the \n",
    "os.system('head titanic.csv')"
   ]
  },
  {
   "cell_type": "code",
   "execution_count": 358,
   "metadata": {},
   "outputs": [],
   "source": [
    "# libraries\n",
    "import pandas as pd\n",
    "import seaborn as sns\n",
    "#import datapane as dp\n",
    "import matplotlib.pyplot as plt"
   ]
  },
  {
   "cell_type": "code",
   "execution_count": 359,
   "metadata": {},
   "outputs": [],
   "source": [
    "#!datapane login --token=6e5a6344d5a01e0597654142be5f4c17b6e7009b"
   ]
  },
  {
   "cell_type": "code",
   "execution_count": 360,
   "metadata": {},
   "outputs": [],
   "source": [
    "# source: https://towardsdatascience.com/top-6-python-libraries-for-visualization-which-one-to-use-fe43381cd658\n",
    "\n",
    "#import altair as alt\n",
    "#from vega_datasets import data\n",
    "#import datapane as dp\n",
    "#\n",
    "#df = data.cars()\n",
    "#\n",
    "#plot1 = alt.Chart(df).mark_circle(size=60).encode(\n",
    "#    x='Horsepower', y='Miles_per_Gallon', color='Origin',\n",
    "#    tooltip=['Name', 'Origin', 'Horsepower', 'Miles_per_Gallon']\n",
    "#).interactive()\n",
    "#dp.Report(\n",
    "#    dp.Plot(plot1),\n",
    "#    dp.DataTable(df)\n",
    "#).upload(name=\"My example report\")"
   ]
  },
  {
   "cell_type": "code",
   "execution_count": 361,
   "metadata": {},
   "outputs": [],
   "source": [
    "# Loading dataset - Titanic to the dataframe pandas\n",
    "df = pd.read_csv('titanic.csv')"
   ]
  },
  {
   "cell_type": "code",
   "execution_count": 362,
   "metadata": {},
   "outputs": [
    {
     "name": "stdout",
     "output_type": "stream",
     "text": [
      "Shape dataset Full:.........observations/rows: 1309\n",
      "Shape dataset Full:...................columns: 14\n"
     ]
    }
   ],
   "source": [
    "# Shape - dataset\n",
    "print(f\"Shape dataset Full:.........observations/rows: {df.shape[0]}\")\n",
    "print(f\"Shape dataset Full:...................columns: {df.shape[1]}\")"
   ]
  },
  {
   "cell_type": "code",
   "execution_count": 363,
   "metadata": {},
   "outputs": [
    {
     "data": {
      "text/html": [
       "<div>\n",
       "<style scoped>\n",
       "    .dataframe tbody tr th:only-of-type {\n",
       "        vertical-align: middle;\n",
       "    }\n",
       "\n",
       "    .dataframe tbody tr th {\n",
       "        vertical-align: top;\n",
       "    }\n",
       "\n",
       "    .dataframe thead th {\n",
       "        text-align: right;\n",
       "    }\n",
       "</style>\n",
       "<table border=\"1\" class=\"dataframe\">\n",
       "  <thead>\n",
       "    <tr style=\"text-align: right;\">\n",
       "      <th></th>\n",
       "      <th>pclass</th>\n",
       "      <th>survived</th>\n",
       "      <th>name</th>\n",
       "      <th>sex</th>\n",
       "      <th>age</th>\n",
       "      <th>sibsp</th>\n",
       "      <th>parch</th>\n",
       "      <th>ticket</th>\n",
       "      <th>fare</th>\n",
       "      <th>cabin</th>\n",
       "      <th>embarked</th>\n",
       "      <th>boat</th>\n",
       "      <th>body</th>\n",
       "      <th>home.dest</th>\n",
       "    </tr>\n",
       "  </thead>\n",
       "  <tbody>\n",
       "    <tr>\n",
       "      <th>0</th>\n",
       "      <td>1</td>\n",
       "      <td>1</td>\n",
       "      <td>Allen, Miss. Elisabeth Walton</td>\n",
       "      <td>female</td>\n",
       "      <td>29.0000</td>\n",
       "      <td>0</td>\n",
       "      <td>0</td>\n",
       "      <td>24160</td>\n",
       "      <td>211.3375</td>\n",
       "      <td>B5</td>\n",
       "      <td>S</td>\n",
       "      <td>2</td>\n",
       "      <td>NaN</td>\n",
       "      <td>St Louis, MO</td>\n",
       "    </tr>\n",
       "    <tr>\n",
       "      <th>1</th>\n",
       "      <td>1</td>\n",
       "      <td>1</td>\n",
       "      <td>Allison, Master. Hudson Trevor</td>\n",
       "      <td>male</td>\n",
       "      <td>0.9167</td>\n",
       "      <td>1</td>\n",
       "      <td>2</td>\n",
       "      <td>113781</td>\n",
       "      <td>151.5500</td>\n",
       "      <td>C22 C26</td>\n",
       "      <td>S</td>\n",
       "      <td>11</td>\n",
       "      <td>NaN</td>\n",
       "      <td>Montreal, PQ / Chesterville, ON</td>\n",
       "    </tr>\n",
       "    <tr>\n",
       "      <th>2</th>\n",
       "      <td>1</td>\n",
       "      <td>0</td>\n",
       "      <td>Allison, Miss. Helen Loraine</td>\n",
       "      <td>female</td>\n",
       "      <td>2.0000</td>\n",
       "      <td>1</td>\n",
       "      <td>2</td>\n",
       "      <td>113781</td>\n",
       "      <td>151.5500</td>\n",
       "      <td>C22 C26</td>\n",
       "      <td>S</td>\n",
       "      <td>NaN</td>\n",
       "      <td>NaN</td>\n",
       "      <td>Montreal, PQ / Chesterville, ON</td>\n",
       "    </tr>\n",
       "    <tr>\n",
       "      <th>3</th>\n",
       "      <td>1</td>\n",
       "      <td>0</td>\n",
       "      <td>Allison, Mr. Hudson Joshua Creighton</td>\n",
       "      <td>male</td>\n",
       "      <td>30.0000</td>\n",
       "      <td>1</td>\n",
       "      <td>2</td>\n",
       "      <td>113781</td>\n",
       "      <td>151.5500</td>\n",
       "      <td>C22 C26</td>\n",
       "      <td>S</td>\n",
       "      <td>NaN</td>\n",
       "      <td>135.0</td>\n",
       "      <td>Montreal, PQ / Chesterville, ON</td>\n",
       "    </tr>\n",
       "    <tr>\n",
       "      <th>4</th>\n",
       "      <td>1</td>\n",
       "      <td>0</td>\n",
       "      <td>Allison, Mrs. Hudson J C (Bessie Waldo Daniels)</td>\n",
       "      <td>female</td>\n",
       "      <td>25.0000</td>\n",
       "      <td>1</td>\n",
       "      <td>2</td>\n",
       "      <td>113781</td>\n",
       "      <td>151.5500</td>\n",
       "      <td>C22 C26</td>\n",
       "      <td>S</td>\n",
       "      <td>NaN</td>\n",
       "      <td>NaN</td>\n",
       "      <td>Montreal, PQ / Chesterville, ON</td>\n",
       "    </tr>\n",
       "    <tr>\n",
       "      <th>5</th>\n",
       "      <td>1</td>\n",
       "      <td>1</td>\n",
       "      <td>Anderson, Mr. Harry</td>\n",
       "      <td>male</td>\n",
       "      <td>48.0000</td>\n",
       "      <td>0</td>\n",
       "      <td>0</td>\n",
       "      <td>19952</td>\n",
       "      <td>26.5500</td>\n",
       "      <td>E12</td>\n",
       "      <td>S</td>\n",
       "      <td>3</td>\n",
       "      <td>NaN</td>\n",
       "      <td>New York, NY</td>\n",
       "    </tr>\n",
       "    <tr>\n",
       "      <th>6</th>\n",
       "      <td>1</td>\n",
       "      <td>1</td>\n",
       "      <td>Andrews, Miss. Kornelia Theodosia</td>\n",
       "      <td>female</td>\n",
       "      <td>63.0000</td>\n",
       "      <td>1</td>\n",
       "      <td>0</td>\n",
       "      <td>13502</td>\n",
       "      <td>77.9583</td>\n",
       "      <td>D7</td>\n",
       "      <td>S</td>\n",
       "      <td>10</td>\n",
       "      <td>NaN</td>\n",
       "      <td>Hudson, NY</td>\n",
       "    </tr>\n",
       "    <tr>\n",
       "      <th>7</th>\n",
       "      <td>1</td>\n",
       "      <td>0</td>\n",
       "      <td>Andrews, Mr. Thomas Jr</td>\n",
       "      <td>male</td>\n",
       "      <td>39.0000</td>\n",
       "      <td>0</td>\n",
       "      <td>0</td>\n",
       "      <td>112050</td>\n",
       "      <td>0.0000</td>\n",
       "      <td>A36</td>\n",
       "      <td>S</td>\n",
       "      <td>NaN</td>\n",
       "      <td>NaN</td>\n",
       "      <td>Belfast, NI</td>\n",
       "    </tr>\n",
       "    <tr>\n",
       "      <th>8</th>\n",
       "      <td>1</td>\n",
       "      <td>1</td>\n",
       "      <td>Appleton, Mrs. Edward Dale (Charlotte Lamson)</td>\n",
       "      <td>female</td>\n",
       "      <td>53.0000</td>\n",
       "      <td>2</td>\n",
       "      <td>0</td>\n",
       "      <td>11769</td>\n",
       "      <td>51.4792</td>\n",
       "      <td>C101</td>\n",
       "      <td>S</td>\n",
       "      <td>D</td>\n",
       "      <td>NaN</td>\n",
       "      <td>Bayside, Queens, NY</td>\n",
       "    </tr>\n",
       "    <tr>\n",
       "      <th>9</th>\n",
       "      <td>1</td>\n",
       "      <td>0</td>\n",
       "      <td>Artagaveytia, Mr. Ramon</td>\n",
       "      <td>male</td>\n",
       "      <td>71.0000</td>\n",
       "      <td>0</td>\n",
       "      <td>0</td>\n",
       "      <td>PC 17609</td>\n",
       "      <td>49.5042</td>\n",
       "      <td>NaN</td>\n",
       "      <td>C</td>\n",
       "      <td>NaN</td>\n",
       "      <td>22.0</td>\n",
       "      <td>Montevideo, Uruguay</td>\n",
       "    </tr>\n",
       "  </tbody>\n",
       "</table>\n",
       "</div>"
      ],
      "text/plain": [
       "   pclass  survived                                             name     sex  \\\n",
       "0       1         1                    Allen, Miss. Elisabeth Walton  female   \n",
       "1       1         1                   Allison, Master. Hudson Trevor    male   \n",
       "2       1         0                     Allison, Miss. Helen Loraine  female   \n",
       "3       1         0             Allison, Mr. Hudson Joshua Creighton    male   \n",
       "4       1         0  Allison, Mrs. Hudson J C (Bessie Waldo Daniels)  female   \n",
       "5       1         1                              Anderson, Mr. Harry    male   \n",
       "6       1         1                Andrews, Miss. Kornelia Theodosia  female   \n",
       "7       1         0                           Andrews, Mr. Thomas Jr    male   \n",
       "8       1         1    Appleton, Mrs. Edward Dale (Charlotte Lamson)  female   \n",
       "9       1         0                          Artagaveytia, Mr. Ramon    male   \n",
       "\n",
       "       age  sibsp  parch    ticket      fare    cabin embarked boat   body  \\\n",
       "0  29.0000      0      0     24160  211.3375       B5        S    2    NaN   \n",
       "1   0.9167      1      2    113781  151.5500  C22 C26        S   11    NaN   \n",
       "2   2.0000      1      2    113781  151.5500  C22 C26        S  NaN    NaN   \n",
       "3  30.0000      1      2    113781  151.5500  C22 C26        S  NaN  135.0   \n",
       "4  25.0000      1      2    113781  151.5500  C22 C26        S  NaN    NaN   \n",
       "5  48.0000      0      0     19952   26.5500      E12        S    3    NaN   \n",
       "6  63.0000      1      0     13502   77.9583       D7        S   10    NaN   \n",
       "7  39.0000      0      0    112050    0.0000      A36        S  NaN    NaN   \n",
       "8  53.0000      2      0     11769   51.4792     C101        S    D    NaN   \n",
       "9  71.0000      0      0  PC 17609   49.5042      NaN        C  NaN   22.0   \n",
       "\n",
       "                         home.dest  \n",
       "0                     St Louis, MO  \n",
       "1  Montreal, PQ / Chesterville, ON  \n",
       "2  Montreal, PQ / Chesterville, ON  \n",
       "3  Montreal, PQ / Chesterville, ON  \n",
       "4  Montreal, PQ / Chesterville, ON  \n",
       "5                     New York, NY  \n",
       "6                       Hudson, NY  \n",
       "7                      Belfast, NI  \n",
       "8              Bayside, Queens, NY  \n",
       "9              Montevideo, Uruguay  "
      ]
     },
     "execution_count": 363,
     "metadata": {},
     "output_type": "execute_result"
    }
   ],
   "source": [
    "# Exploratory Data Analysis\n",
    "df.head(10)"
   ]
  },
  {
   "cell_type": "code",
   "execution_count": 364,
   "metadata": {},
   "outputs": [
    {
     "name": "stdout",
     "output_type": "stream",
     "text": [
      "<class 'pandas.core.frame.DataFrame'>\n",
      "RangeIndex: 1309 entries, 0 to 1308\n",
      "Data columns (total 14 columns):\n",
      " #   Column     Non-Null Count  Dtype  \n",
      "---  ------     --------------  -----  \n",
      " 0   pclass     1309 non-null   int64  \n",
      " 1   survived   1309 non-null   int64  \n",
      " 2   name       1309 non-null   object \n",
      " 3   sex        1309 non-null   object \n",
      " 4   age        1046 non-null   float64\n",
      " 5   sibsp      1309 non-null   int64  \n",
      " 6   parch      1309 non-null   int64  \n",
      " 7   ticket     1309 non-null   object \n",
      " 8   fare       1308 non-null   float64\n",
      " 9   cabin      295 non-null    object \n",
      " 10  embarked   1307 non-null   object \n",
      " 11  boat       486 non-null    object \n",
      " 12  body       121 non-null    float64\n",
      " 13  home.dest  745 non-null    object \n",
      "dtypes: float64(3), int64(4), object(7)\n",
      "memory usage: 143.3+ KB\n"
     ]
    }
   ],
   "source": [
    "# dataset - info\n",
    "df.info()"
   ]
  },
  {
   "cell_type": "code",
   "execution_count": 365,
   "metadata": {},
   "outputs": [
    {
     "data": {
      "text/html": [
       "<div>\n",
       "<style scoped>\n",
       "    .dataframe tbody tr th:only-of-type {\n",
       "        vertical-align: middle;\n",
       "    }\n",
       "\n",
       "    .dataframe tbody tr th {\n",
       "        vertical-align: top;\n",
       "    }\n",
       "\n",
       "    .dataframe thead th {\n",
       "        text-align: right;\n",
       "    }\n",
       "</style>\n",
       "<table border=\"1\" class=\"dataframe\">\n",
       "  <thead>\n",
       "    <tr style=\"text-align: right;\">\n",
       "      <th></th>\n",
       "      <th>passengerid</th>\n",
       "      <th>pclass</th>\n",
       "      <th>survived</th>\n",
       "      <th>name</th>\n",
       "      <th>sex</th>\n",
       "      <th>age</th>\n",
       "      <th>sibsp</th>\n",
       "      <th>parch</th>\n",
       "      <th>ticket</th>\n",
       "      <th>fare</th>\n",
       "      <th>cabin</th>\n",
       "      <th>embarked</th>\n",
       "      <th>boat</th>\n",
       "      <th>body</th>\n",
       "      <th>home.dest</th>\n",
       "    </tr>\n",
       "  </thead>\n",
       "  <tbody>\n",
       "    <tr>\n",
       "      <th>0</th>\n",
       "      <td>1</td>\n",
       "      <td>1</td>\n",
       "      <td>1</td>\n",
       "      <td>Allen, Miss. Elisabeth Walton</td>\n",
       "      <td>female</td>\n",
       "      <td>29.0000</td>\n",
       "      <td>0</td>\n",
       "      <td>0</td>\n",
       "      <td>24160</td>\n",
       "      <td>211.3375</td>\n",
       "      <td>B5</td>\n",
       "      <td>S</td>\n",
       "      <td>2</td>\n",
       "      <td>NaN</td>\n",
       "      <td>St Louis, MO</td>\n",
       "    </tr>\n",
       "    <tr>\n",
       "      <th>1</th>\n",
       "      <td>2</td>\n",
       "      <td>1</td>\n",
       "      <td>1</td>\n",
       "      <td>Allison, Master. Hudson Trevor</td>\n",
       "      <td>male</td>\n",
       "      <td>0.9167</td>\n",
       "      <td>1</td>\n",
       "      <td>2</td>\n",
       "      <td>113781</td>\n",
       "      <td>151.5500</td>\n",
       "      <td>C22 C26</td>\n",
       "      <td>S</td>\n",
       "      <td>11</td>\n",
       "      <td>NaN</td>\n",
       "      <td>Montreal, PQ / Chesterville, ON</td>\n",
       "    </tr>\n",
       "    <tr>\n",
       "      <th>2</th>\n",
       "      <td>3</td>\n",
       "      <td>1</td>\n",
       "      <td>0</td>\n",
       "      <td>Allison, Miss. Helen Loraine</td>\n",
       "      <td>female</td>\n",
       "      <td>2.0000</td>\n",
       "      <td>1</td>\n",
       "      <td>2</td>\n",
       "      <td>113781</td>\n",
       "      <td>151.5500</td>\n",
       "      <td>C22 C26</td>\n",
       "      <td>S</td>\n",
       "      <td>NaN</td>\n",
       "      <td>NaN</td>\n",
       "      <td>Montreal, PQ / Chesterville, ON</td>\n",
       "    </tr>\n",
       "    <tr>\n",
       "      <th>3</th>\n",
       "      <td>4</td>\n",
       "      <td>1</td>\n",
       "      <td>0</td>\n",
       "      <td>Allison, Mr. Hudson Joshua Creighton</td>\n",
       "      <td>male</td>\n",
       "      <td>30.0000</td>\n",
       "      <td>1</td>\n",
       "      <td>2</td>\n",
       "      <td>113781</td>\n",
       "      <td>151.5500</td>\n",
       "      <td>C22 C26</td>\n",
       "      <td>S</td>\n",
       "      <td>NaN</td>\n",
       "      <td>135.0</td>\n",
       "      <td>Montreal, PQ / Chesterville, ON</td>\n",
       "    </tr>\n",
       "    <tr>\n",
       "      <th>4</th>\n",
       "      <td>5</td>\n",
       "      <td>1</td>\n",
       "      <td>0</td>\n",
       "      <td>Allison, Mrs. Hudson J C (Bessie Waldo Daniels)</td>\n",
       "      <td>female</td>\n",
       "      <td>25.0000</td>\n",
       "      <td>1</td>\n",
       "      <td>2</td>\n",
       "      <td>113781</td>\n",
       "      <td>151.5500</td>\n",
       "      <td>C22 C26</td>\n",
       "      <td>S</td>\n",
       "      <td>NaN</td>\n",
       "      <td>NaN</td>\n",
       "      <td>Montreal, PQ / Chesterville, ON</td>\n",
       "    </tr>\n",
       "  </tbody>\n",
       "</table>\n",
       "</div>"
      ],
      "text/plain": [
       "   passengerid  pclass  survived  \\\n",
       "0            1       1         1   \n",
       "1            2       1         1   \n",
       "2            3       1         0   \n",
       "3            4       1         0   \n",
       "4            5       1         0   \n",
       "\n",
       "                                              name     sex      age  sibsp  \\\n",
       "0                    Allen, Miss. Elisabeth Walton  female  29.0000      0   \n",
       "1                   Allison, Master. Hudson Trevor    male   0.9167      1   \n",
       "2                     Allison, Miss. Helen Loraine  female   2.0000      1   \n",
       "3             Allison, Mr. Hudson Joshua Creighton    male  30.0000      1   \n",
       "4  Allison, Mrs. Hudson J C (Bessie Waldo Daniels)  female  25.0000      1   \n",
       "\n",
       "   parch  ticket      fare    cabin embarked boat   body  \\\n",
       "0      0   24160  211.3375       B5        S    2    NaN   \n",
       "1      2  113781  151.5500  C22 C26        S   11    NaN   \n",
       "2      2  113781  151.5500  C22 C26        S  NaN    NaN   \n",
       "3      2  113781  151.5500  C22 C26        S  NaN  135.0   \n",
       "4      2  113781  151.5500  C22 C26        S  NaN    NaN   \n",
       "\n",
       "                         home.dest  \n",
       "0                     St Louis, MO  \n",
       "1  Montreal, PQ / Chesterville, ON  \n",
       "2  Montreal, PQ / Chesterville, ON  \n",
       "3  Montreal, PQ / Chesterville, ON  \n",
       "4  Montreal, PQ / Chesterville, ON  "
      ]
     },
     "execution_count": 365,
     "metadata": {},
     "output_type": "execute_result"
    }
   ],
   "source": [
    "df.insert(0, 'passengerid', range(1, 1 + len(df)))\n",
    "df.head()"
   ]
  },
  {
   "cell_type": "code",
   "execution_count": 366,
   "metadata": {},
   "outputs": [
    {
     "data": {
      "text/plain": [
       "passengerid      int64\n",
       "pclass           int64\n",
       "survived         int64\n",
       "name            object\n",
       "sex             object\n",
       "age            float64\n",
       "sibsp            int64\n",
       "parch            int64\n",
       "ticket          object\n",
       "fare           float64\n",
       "cabin           object\n",
       "embarked        object\n",
       "boat            object\n",
       "body           float64\n",
       "home.dest       object\n",
       "dtype: object"
      ]
     },
     "execution_count": 366,
     "metadata": {},
     "output_type": "execute_result"
    }
   ],
   "source": [
    "# dataset - feature datatypes\n",
    "df.dtypes"
   ]
  },
  {
   "cell_type": "code",
   "execution_count": 367,
   "metadata": {},
   "outputs": [
    {
     "data": {
      "text/plain": [
       "passengerid       0\n",
       "pclass            0\n",
       "survived          0\n",
       "name              0\n",
       "sex               0\n",
       "age             263\n",
       "sibsp             0\n",
       "parch             0\n",
       "ticket            0\n",
       "fare              1\n",
       "cabin          1014\n",
       "embarked          2\n",
       "boat            823\n",
       "body           1188\n",
       "home.dest       564\n",
       "dtype: int64"
      ]
     },
     "execution_count": 367,
     "metadata": {},
     "output_type": "execute_result"
    }
   ],
   "source": [
    "# Looking for NaN on the dataset.\n",
    "# counting the number of NaN for each feature.\n",
    "df.isna().sum()"
   ]
  },
  {
   "cell_type": "code",
   "execution_count": 368,
   "metadata": {},
   "outputs": [
    {
     "data": {
      "text/plain": [
       "Index(['passengerid', 'pclass', 'survived', 'name', 'sex', 'age', 'sibsp',\n",
       "       'parch', 'ticket', 'fare', 'cabin', 'embarked', 'boat', 'body',\n",
       "       'home.dest'],\n",
       "      dtype='object')"
      ]
     },
     "execution_count": 368,
     "metadata": {},
     "output_type": "execute_result"
    }
   ],
   "source": [
    "df.columns"
   ]
  },
  {
   "cell_type": "code",
   "execution_count": 369,
   "metadata": {},
   "outputs": [
    {
     "data": {
      "text/plain": [
       "array(['female', 'male'], dtype=object)"
      ]
     },
     "execution_count": 369,
     "metadata": {},
     "output_type": "execute_result"
    }
   ],
   "source": [
    "df['sex'].unique()"
   ]
  },
  {
   "cell_type": "code",
   "execution_count": 370,
   "metadata": {},
   "outputs": [
    {
     "data": {
      "image/png": "[encoded data removed]",
      "text/plain": [
       "<Figure size 432x288 with 1 Axes>"
      ]
     },
     "metadata": {},
     "output_type": "display_data"
    }
   ],
   "source": [
    "# fig, ax = plt.subplots(1,1, figsize = (12,10))\n",
    "plt.figure()\n",
    "ax = sns.countplot(x = 'pclass', hue = 'survived', palette = 'Set1', data = df)\n",
    "ax.set(title = 'Passenger status (Survived/Died) against Passenger Class', \n",
    "       xlabel = 'Passenger Class', ylabel = 'Total')\n",
    "plt.show()"
   ]
  },
  {
   "cell_type": "code",
   "execution_count": 371,
   "metadata": {},
   "outputs": [
    {
     "name": "stdout",
     "output_type": "stream",
     "text": [
      "survived    0    1\n",
      "sex               \n",
      "female    127  339\n",
      "male      682  161\n"
     ]
    },
    {
     "data": {
      "image/png": "[encoded data removed]",
      "text/plain": [
       "<Figure size 432x288 with 1 Axes>"
      ]
     },
     "metadata": {},
     "output_type": "display_data"
    }
   ],
   "source": [
    "plt.figure()\n",
    "print(pd.crosstab(df[\"sex\"],df.survived))\n",
    "ax = sns.countplot(x = 'sex', hue = 'survived', palette = 'Set1', data = df)\n",
    "ax.set(title = 'Total Survivors According to Sex', xlabel = 'sex', ylabel='Total')\n",
    "plt.show()"
   ]
  },
  {
   "cell_type": "code",
   "execution_count": 372,
   "metadata": {},
   "outputs": [
    {
     "name": "stdout",
     "output_type": "stream",
     "text": [
      "survived    0    1\n",
      "embarked          \n",
      "C         120  150\n",
      "Q          79   44\n",
      "S         610  304\n"
     ]
    },
    {
     "data": {
      "image/png": "[encoded data removed]",
      "text/plain": [
       "<Figure size 432x288 with 1 Axes>"
      ]
     },
     "metadata": {},
     "output_type": "display_data"
    }
   ],
   "source": [
    "plt.figure()\n",
    "print(pd.crosstab(df['embarked'], df.survived))\n",
    "ax = sns.countplot(x = 'embarked', hue = 'survived', palette = 'Set1', data = df)\n",
    "ax.set(title = 'Survival distribution according to Embarking place')\n",
    "plt.show()"
   ]
  },
  {
   "cell_type": "code",
   "execution_count": null,
   "metadata": {},
   "outputs": [],
   "source": []
  },
  {
   "cell_type": "code",
   "execution_count": 373,
   "metadata": {},
   "outputs": [
    {
     "data": {
      "text/plain": [
       "['age', 'fare', 'cabin', 'embarked', 'boat', 'body', 'home.dest']"
      ]
     },
     "execution_count": 373,
     "metadata": {},
     "output_type": "execute_result"
    }
   ],
   "source": [
    "# list columns - nans\n",
    "nans_columns = df.columns[df.isnull().any()].tolist()\n",
    "nans_columns"
   ]
  },
  {
   "cell_type": "code",
   "execution_count": 374,
   "metadata": {},
   "outputs": [
    {
     "data": {
      "text/plain": [
       "{'age': 263,\n",
       " 'fare': 1,\n",
       " 'cabin': 1014,\n",
       " 'embarked': 2,\n",
       " 'boat': 823,\n",
       " 'body': 1188,\n",
       " 'home.dest': 564}"
      ]
     },
     "execution_count": 374,
     "metadata": {},
     "output_type": "execute_result"
    }
   ],
   "source": [
    "dict_miss_nans = {}\n",
    "\n",
    "for icol in nans_columns:\n",
    "    dict_miss_nans[icol] = df[icol].isna().sum()\n",
    "    \n",
    "dict_miss_nans\n"
   ]
  },
  {
   "cell_type": "code",
   "execution_count": 375,
   "metadata": {},
   "outputs": [
    {
     "data": {
      "text/html": [
       "<div>\n",
       "<style scoped>\n",
       "    .dataframe tbody tr th:only-of-type {\n",
       "        vertical-align: middle;\n",
       "    }\n",
       "\n",
       "    .dataframe tbody tr th {\n",
       "        vertical-align: top;\n",
       "    }\n",
       "\n",
       "    .dataframe thead th {\n",
       "        text-align: right;\n",
       "    }\n",
       "</style>\n",
       "<table border=\"1\" class=\"dataframe\">\n",
       "  <thead>\n",
       "    <tr style=\"text-align: right;\">\n",
       "      <th></th>\n",
       "      <th>age</th>\n",
       "      <th>fare</th>\n",
       "      <th>cabin</th>\n",
       "      <th>embarked</th>\n",
       "      <th>boat</th>\n",
       "      <th>body</th>\n",
       "      <th>home.dest</th>\n",
       "    </tr>\n",
       "  </thead>\n",
       "  <tbody>\n",
       "    <tr>\n",
       "      <th>0</th>\n",
       "      <td>29.0000</td>\n",
       "      <td>211.3375</td>\n",
       "      <td>B5</td>\n",
       "      <td>S</td>\n",
       "      <td>2</td>\n",
       "      <td>NaN</td>\n",
       "      <td>St Louis, MO</td>\n",
       "    </tr>\n",
       "    <tr>\n",
       "      <th>1</th>\n",
       "      <td>0.9167</td>\n",
       "      <td>151.5500</td>\n",
       "      <td>C22 C26</td>\n",
       "      <td>S</td>\n",
       "      <td>11</td>\n",
       "      <td>NaN</td>\n",
       "      <td>Montreal, PQ / Chesterville, ON</td>\n",
       "    </tr>\n",
       "    <tr>\n",
       "      <th>2</th>\n",
       "      <td>2.0000</td>\n",
       "      <td>151.5500</td>\n",
       "      <td>C22 C26</td>\n",
       "      <td>S</td>\n",
       "      <td>NaN</td>\n",
       "      <td>NaN</td>\n",
       "      <td>Montreal, PQ / Chesterville, ON</td>\n",
       "    </tr>\n",
       "    <tr>\n",
       "      <th>3</th>\n",
       "      <td>30.0000</td>\n",
       "      <td>151.5500</td>\n",
       "      <td>C22 C26</td>\n",
       "      <td>S</td>\n",
       "      <td>NaN</td>\n",
       "      <td>135.0</td>\n",
       "      <td>Montreal, PQ / Chesterville, ON</td>\n",
       "    </tr>\n",
       "    <tr>\n",
       "      <th>4</th>\n",
       "      <td>25.0000</td>\n",
       "      <td>151.5500</td>\n",
       "      <td>C22 C26</td>\n",
       "      <td>S</td>\n",
       "      <td>NaN</td>\n",
       "      <td>NaN</td>\n",
       "      <td>Montreal, PQ / Chesterville, ON</td>\n",
       "    </tr>\n",
       "    <tr>\n",
       "      <th>...</th>\n",
       "      <td>...</td>\n",
       "      <td>...</td>\n",
       "      <td>...</td>\n",
       "      <td>...</td>\n",
       "      <td>...</td>\n",
       "      <td>...</td>\n",
       "      <td>...</td>\n",
       "    </tr>\n",
       "    <tr>\n",
       "      <th>1304</th>\n",
       "      <td>14.5000</td>\n",
       "      <td>14.4542</td>\n",
       "      <td>NaN</td>\n",
       "      <td>C</td>\n",
       "      <td>NaN</td>\n",
       "      <td>328.0</td>\n",
       "      <td>NaN</td>\n",
       "    </tr>\n",
       "    <tr>\n",
       "      <th>1305</th>\n",
       "      <td>NaN</td>\n",
       "      <td>14.4542</td>\n",
       "      <td>NaN</td>\n",
       "      <td>C</td>\n",
       "      <td>NaN</td>\n",
       "      <td>NaN</td>\n",
       "      <td>NaN</td>\n",
       "    </tr>\n",
       "    <tr>\n",
       "      <th>1306</th>\n",
       "      <td>26.5000</td>\n",
       "      <td>7.2250</td>\n",
       "      <td>NaN</td>\n",
       "      <td>C</td>\n",
       "      <td>NaN</td>\n",
       "      <td>304.0</td>\n",
       "      <td>NaN</td>\n",
       "    </tr>\n",
       "    <tr>\n",
       "      <th>1307</th>\n",
       "      <td>27.0000</td>\n",
       "      <td>7.2250</td>\n",
       "      <td>NaN</td>\n",
       "      <td>C</td>\n",
       "      <td>NaN</td>\n",
       "      <td>NaN</td>\n",
       "      <td>NaN</td>\n",
       "    </tr>\n",
       "    <tr>\n",
       "      <th>1308</th>\n",
       "      <td>29.0000</td>\n",
       "      <td>7.8750</td>\n",
       "      <td>NaN</td>\n",
       "      <td>S</td>\n",
       "      <td>NaN</td>\n",
       "      <td>NaN</td>\n",
       "      <td>NaN</td>\n",
       "    </tr>\n",
       "  </tbody>\n",
       "</table>\n",
       "<p>1309 rows × 7 columns</p>\n",
       "</div>"
      ],
      "text/plain": [
       "          age      fare    cabin embarked boat   body  \\\n",
       "0     29.0000  211.3375       B5        S    2    NaN   \n",
       "1      0.9167  151.5500  C22 C26        S   11    NaN   \n",
       "2      2.0000  151.5500  C22 C26        S  NaN    NaN   \n",
       "3     30.0000  151.5500  C22 C26        S  NaN  135.0   \n",
       "4     25.0000  151.5500  C22 C26        S  NaN    NaN   \n",
       "...       ...       ...      ...      ...  ...    ...   \n",
       "1304  14.5000   14.4542      NaN        C  NaN  328.0   \n",
       "1305      NaN   14.4542      NaN        C  NaN    NaN   \n",
       "1306  26.5000    7.2250      NaN        C  NaN  304.0   \n",
       "1307  27.0000    7.2250      NaN        C  NaN    NaN   \n",
       "1308  29.0000    7.8750      NaN        S  NaN    NaN   \n",
       "\n",
       "                            home.dest  \n",
       "0                        St Louis, MO  \n",
       "1     Montreal, PQ / Chesterville, ON  \n",
       "2     Montreal, PQ / Chesterville, ON  \n",
       "3     Montreal, PQ / Chesterville, ON  \n",
       "4     Montreal, PQ / Chesterville, ON  \n",
       "...                               ...  \n",
       "1304                              NaN  \n",
       "1305                              NaN  \n",
       "1306                              NaN  \n",
       "1307                              NaN  \n",
       "1308                              NaN  \n",
       "\n",
       "[1309 rows x 7 columns]"
      ]
     },
     "execution_count": 375,
     "metadata": {},
     "output_type": "execute_result"
    }
   ],
   "source": [
    "df[nans_columns]"
   ]
  },
  {
   "cell_type": "code",
   "execution_count": 376,
   "metadata": {},
   "outputs": [
    {
     "data": {
      "text/plain": [
       "age          float64\n",
       "fare         float64\n",
       "cabin         object\n",
       "embarked      object\n",
       "boat          object\n",
       "body         float64\n",
       "home.dest     object\n",
       "dtype: object"
      ]
     },
     "execution_count": 376,
     "metadata": {},
     "output_type": "execute_result"
    }
   ],
   "source": [
    "df[nans_columns].dtypes"
   ]
  },
  {
   "cell_type": "code",
   "execution_count": 377,
   "metadata": {},
   "outputs": [
    {
     "data": {
      "text/html": [
       "<div>\n",
       "<style scoped>\n",
       "    .dataframe tbody tr th:only-of-type {\n",
       "        vertical-align: middle;\n",
       "    }\n",
       "\n",
       "    .dataframe tbody tr th {\n",
       "        vertical-align: top;\n",
       "    }\n",
       "\n",
       "    .dataframe thead th {\n",
       "        text-align: right;\n",
       "    }\n",
       "</style>\n",
       "<table border=\"1\" class=\"dataframe\">\n",
       "  <thead>\n",
       "    <tr style=\"text-align: right;\">\n",
       "      <th></th>\n",
       "      <th>age</th>\n",
       "      <th>fare</th>\n",
       "      <th>cabin</th>\n",
       "      <th>embarked</th>\n",
       "      <th>boat</th>\n",
       "      <th>body</th>\n",
       "      <th>home.dest</th>\n",
       "    </tr>\n",
       "  </thead>\n",
       "  <tbody>\n",
       "    <tr>\n",
       "      <th>0</th>\n",
       "      <td>29.0000</td>\n",
       "      <td>211.3375</td>\n",
       "      <td>B5</td>\n",
       "      <td>S</td>\n",
       "      <td>2</td>\n",
       "      <td>NaN</td>\n",
       "      <td>St Louis, MO</td>\n",
       "    </tr>\n",
       "    <tr>\n",
       "      <th>1</th>\n",
       "      <td>0.9167</td>\n",
       "      <td>151.5500</td>\n",
       "      <td>C22 C26</td>\n",
       "      <td>S</td>\n",
       "      <td>11</td>\n",
       "      <td>NaN</td>\n",
       "      <td>Montreal, PQ / Chesterville, ON</td>\n",
       "    </tr>\n",
       "    <tr>\n",
       "      <th>2</th>\n",
       "      <td>2.0000</td>\n",
       "      <td>151.5500</td>\n",
       "      <td>C22 C26</td>\n",
       "      <td>S</td>\n",
       "      <td>NaN</td>\n",
       "      <td>NaN</td>\n",
       "      <td>Montreal, PQ / Chesterville, ON</td>\n",
       "    </tr>\n",
       "    <tr>\n",
       "      <th>3</th>\n",
       "      <td>30.0000</td>\n",
       "      <td>151.5500</td>\n",
       "      <td>C22 C26</td>\n",
       "      <td>S</td>\n",
       "      <td>NaN</td>\n",
       "      <td>135.0</td>\n",
       "      <td>Montreal, PQ / Chesterville, ON</td>\n",
       "    </tr>\n",
       "    <tr>\n",
       "      <th>4</th>\n",
       "      <td>25.0000</td>\n",
       "      <td>151.5500</td>\n",
       "      <td>C22 C26</td>\n",
       "      <td>S</td>\n",
       "      <td>NaN</td>\n",
       "      <td>NaN</td>\n",
       "      <td>Montreal, PQ / Chesterville, ON</td>\n",
       "    </tr>\n",
       "    <tr>\n",
       "      <th>...</th>\n",
       "      <td>...</td>\n",
       "      <td>...</td>\n",
       "      <td>...</td>\n",
       "      <td>...</td>\n",
       "      <td>...</td>\n",
       "      <td>...</td>\n",
       "      <td>...</td>\n",
       "    </tr>\n",
       "    <tr>\n",
       "      <th>1304</th>\n",
       "      <td>14.5000</td>\n",
       "      <td>14.4542</td>\n",
       "      <td>NaN</td>\n",
       "      <td>C</td>\n",
       "      <td>NaN</td>\n",
       "      <td>328.0</td>\n",
       "      <td>NaN</td>\n",
       "    </tr>\n",
       "    <tr>\n",
       "      <th>1305</th>\n",
       "      <td>NaN</td>\n",
       "      <td>14.4542</td>\n",
       "      <td>NaN</td>\n",
       "      <td>C</td>\n",
       "      <td>NaN</td>\n",
       "      <td>NaN</td>\n",
       "      <td>NaN</td>\n",
       "    </tr>\n",
       "    <tr>\n",
       "      <th>1306</th>\n",
       "      <td>26.5000</td>\n",
       "      <td>7.2250</td>\n",
       "      <td>NaN</td>\n",
       "      <td>C</td>\n",
       "      <td>NaN</td>\n",
       "      <td>304.0</td>\n",
       "      <td>NaN</td>\n",
       "    </tr>\n",
       "    <tr>\n",
       "      <th>1307</th>\n",
       "      <td>27.0000</td>\n",
       "      <td>7.2250</td>\n",
       "      <td>NaN</td>\n",
       "      <td>C</td>\n",
       "      <td>NaN</td>\n",
       "      <td>NaN</td>\n",
       "      <td>NaN</td>\n",
       "    </tr>\n",
       "    <tr>\n",
       "      <th>1308</th>\n",
       "      <td>29.0000</td>\n",
       "      <td>7.8750</td>\n",
       "      <td>NaN</td>\n",
       "      <td>S</td>\n",
       "      <td>NaN</td>\n",
       "      <td>NaN</td>\n",
       "      <td>NaN</td>\n",
       "    </tr>\n",
       "  </tbody>\n",
       "</table>\n",
       "<p>1309 rows × 7 columns</p>\n",
       "</div>"
      ],
      "text/plain": [
       "          age      fare    cabin embarked boat   body  \\\n",
       "0     29.0000  211.3375       B5        S    2    NaN   \n",
       "1      0.9167  151.5500  C22 C26        S   11    NaN   \n",
       "2      2.0000  151.5500  C22 C26        S  NaN    NaN   \n",
       "3     30.0000  151.5500  C22 C26        S  NaN  135.0   \n",
       "4     25.0000  151.5500  C22 C26        S  NaN    NaN   \n",
       "...       ...       ...      ...      ...  ...    ...   \n",
       "1304  14.5000   14.4542      NaN        C  NaN  328.0   \n",
       "1305      NaN   14.4542      NaN        C  NaN    NaN   \n",
       "1306  26.5000    7.2250      NaN        C  NaN  304.0   \n",
       "1307  27.0000    7.2250      NaN        C  NaN    NaN   \n",
       "1308  29.0000    7.8750      NaN        S  NaN    NaN   \n",
       "\n",
       "                            home.dest  \n",
       "0                        St Louis, MO  \n",
       "1     Montreal, PQ / Chesterville, ON  \n",
       "2     Montreal, PQ / Chesterville, ON  \n",
       "3     Montreal, PQ / Chesterville, ON  \n",
       "4     Montreal, PQ / Chesterville, ON  \n",
       "...                               ...  \n",
       "1304                              NaN  \n",
       "1305                              NaN  \n",
       "1306                              NaN  \n",
       "1307                              NaN  \n",
       "1308                              NaN  \n",
       "\n",
       "[1309 rows x 7 columns]"
      ]
     },
     "execution_count": 377,
     "metadata": {},
     "output_type": "execute_result"
    }
   ],
   "source": [
    "df[nans_columns]"
   ]
  },
  {
   "cell_type": "code",
   "execution_count": 378,
   "metadata": {},
   "outputs": [
    {
     "data": {
      "text/plain": [
       "2"
      ]
     },
     "execution_count": 378,
     "metadata": {},
     "output_type": "execute_result"
    }
   ],
   "source": [
    "df['embarked'].isna().sum()"
   ]
  },
  {
   "cell_type": "code",
   "execution_count": 379,
   "metadata": {},
   "outputs": [],
   "source": [
    "for icol in nans_columns:\n",
    "    if df[icol].dtypes == 'float64':\n",
    "        df[icol] = df[icol].fillna(df[icol].mean())\n",
    "    else:\n",
    "        df[icol] = df[icol].fillna(df[icol].mode())"
   ]
  },
  {
   "cell_type": "code",
   "execution_count": 380,
   "metadata": {},
   "outputs": [
    {
     "data": {
      "text/plain": [
       "2"
      ]
     },
     "execution_count": 380,
     "metadata": {},
     "output_type": "execute_result"
    }
   ],
   "source": [
    "df['embarked'].isna().sum()"
   ]
  },
  {
   "cell_type": "code",
   "execution_count": 381,
   "metadata": {},
   "outputs": [
    {
     "data": {
      "text/html": [
       "<div>\n",
       "<style scoped>\n",
       "    .dataframe tbody tr th:only-of-type {\n",
       "        vertical-align: middle;\n",
       "    }\n",
       "\n",
       "    .dataframe tbody tr th {\n",
       "        vertical-align: top;\n",
       "    }\n",
       "\n",
       "    .dataframe thead th {\n",
       "        text-align: right;\n",
       "    }\n",
       "</style>\n",
       "<table border=\"1\" class=\"dataframe\">\n",
       "  <thead>\n",
       "    <tr style=\"text-align: right;\">\n",
       "      <th></th>\n",
       "      <th>age</th>\n",
       "      <th>fare</th>\n",
       "      <th>cabin</th>\n",
       "      <th>embarked</th>\n",
       "      <th>boat</th>\n",
       "      <th>body</th>\n",
       "      <th>home.dest</th>\n",
       "    </tr>\n",
       "  </thead>\n",
       "  <tbody>\n",
       "    <tr>\n",
       "      <th>0</th>\n",
       "      <td>29.000000</td>\n",
       "      <td>211.3375</td>\n",
       "      <td>B5</td>\n",
       "      <td>S</td>\n",
       "      <td>2</td>\n",
       "      <td>160.809917</td>\n",
       "      <td>St Louis, MO</td>\n",
       "    </tr>\n",
       "    <tr>\n",
       "      <th>1</th>\n",
       "      <td>0.916700</td>\n",
       "      <td>151.5500</td>\n",
       "      <td>C22 C26</td>\n",
       "      <td>S</td>\n",
       "      <td>11</td>\n",
       "      <td>160.809917</td>\n",
       "      <td>Montreal, PQ / Chesterville, ON</td>\n",
       "    </tr>\n",
       "    <tr>\n",
       "      <th>2</th>\n",
       "      <td>2.000000</td>\n",
       "      <td>151.5500</td>\n",
       "      <td>C22 C26</td>\n",
       "      <td>S</td>\n",
       "      <td>NaN</td>\n",
       "      <td>160.809917</td>\n",
       "      <td>Montreal, PQ / Chesterville, ON</td>\n",
       "    </tr>\n",
       "    <tr>\n",
       "      <th>3</th>\n",
       "      <td>30.000000</td>\n",
       "      <td>151.5500</td>\n",
       "      <td>C22 C26</td>\n",
       "      <td>S</td>\n",
       "      <td>NaN</td>\n",
       "      <td>135.000000</td>\n",
       "      <td>Montreal, PQ / Chesterville, ON</td>\n",
       "    </tr>\n",
       "    <tr>\n",
       "      <th>4</th>\n",
       "      <td>25.000000</td>\n",
       "      <td>151.5500</td>\n",
       "      <td>C22 C26</td>\n",
       "      <td>S</td>\n",
       "      <td>NaN</td>\n",
       "      <td>160.809917</td>\n",
       "      <td>Montreal, PQ / Chesterville, ON</td>\n",
       "    </tr>\n",
       "    <tr>\n",
       "      <th>...</th>\n",
       "      <td>...</td>\n",
       "      <td>...</td>\n",
       "      <td>...</td>\n",
       "      <td>...</td>\n",
       "      <td>...</td>\n",
       "      <td>...</td>\n",
       "      <td>...</td>\n",
       "    </tr>\n",
       "    <tr>\n",
       "      <th>1304</th>\n",
       "      <td>14.500000</td>\n",
       "      <td>14.4542</td>\n",
       "      <td>NaN</td>\n",
       "      <td>C</td>\n",
       "      <td>NaN</td>\n",
       "      <td>328.000000</td>\n",
       "      <td>NaN</td>\n",
       "    </tr>\n",
       "    <tr>\n",
       "      <th>1305</th>\n",
       "      <td>29.881135</td>\n",
       "      <td>14.4542</td>\n",
       "      <td>NaN</td>\n",
       "      <td>C</td>\n",
       "      <td>NaN</td>\n",
       "      <td>160.809917</td>\n",
       "      <td>NaN</td>\n",
       "    </tr>\n",
       "    <tr>\n",
       "      <th>1306</th>\n",
       "      <td>26.500000</td>\n",
       "      <td>7.2250</td>\n",
       "      <td>NaN</td>\n",
       "      <td>C</td>\n",
       "      <td>NaN</td>\n",
       "      <td>304.000000</td>\n",
       "      <td>NaN</td>\n",
       "    </tr>\n",
       "    <tr>\n",
       "      <th>1307</th>\n",
       "      <td>27.000000</td>\n",
       "      <td>7.2250</td>\n",
       "      <td>NaN</td>\n",
       "      <td>C</td>\n",
       "      <td>NaN</td>\n",
       "      <td>160.809917</td>\n",
       "      <td>NaN</td>\n",
       "    </tr>\n",
       "    <tr>\n",
       "      <th>1308</th>\n",
       "      <td>29.000000</td>\n",
       "      <td>7.8750</td>\n",
       "      <td>NaN</td>\n",
       "      <td>S</td>\n",
       "      <td>NaN</td>\n",
       "      <td>160.809917</td>\n",
       "      <td>NaN</td>\n",
       "    </tr>\n",
       "  </tbody>\n",
       "</table>\n",
       "<p>1309 rows × 7 columns</p>\n",
       "</div>"
      ],
      "text/plain": [
       "            age      fare    cabin embarked boat        body  \\\n",
       "0     29.000000  211.3375       B5        S    2  160.809917   \n",
       "1      0.916700  151.5500  C22 C26        S   11  160.809917   \n",
       "2      2.000000  151.5500  C22 C26        S  NaN  160.809917   \n",
       "3     30.000000  151.5500  C22 C26        S  NaN  135.000000   \n",
       "4     25.000000  151.5500  C22 C26        S  NaN  160.809917   \n",
       "...         ...       ...      ...      ...  ...         ...   \n",
       "1304  14.500000   14.4542      NaN        C  NaN  328.000000   \n",
       "1305  29.881135   14.4542      NaN        C  NaN  160.809917   \n",
       "1306  26.500000    7.2250      NaN        C  NaN  304.000000   \n",
       "1307  27.000000    7.2250      NaN        C  NaN  160.809917   \n",
       "1308  29.000000    7.8750      NaN        S  NaN  160.809917   \n",
       "\n",
       "                            home.dest  \n",
       "0                        St Louis, MO  \n",
       "1     Montreal, PQ / Chesterville, ON  \n",
       "2     Montreal, PQ / Chesterville, ON  \n",
       "3     Montreal, PQ / Chesterville, ON  \n",
       "4     Montreal, PQ / Chesterville, ON  \n",
       "...                               ...  \n",
       "1304                              NaN  \n",
       "1305                              NaN  \n",
       "1306                              NaN  \n",
       "1307                              NaN  \n",
       "1308                              NaN  \n",
       "\n",
       "[1309 rows x 7 columns]"
      ]
     },
     "execution_count": 381,
     "metadata": {},
     "output_type": "execute_result"
    }
   ],
   "source": [
    "df[nans_columns]"
   ]
  },
  {
   "cell_type": "code",
   "execution_count": 382,
   "metadata": {},
   "outputs": [
    {
     "data": {
      "text/plain": [
       "age             0\n",
       "fare            0\n",
       "cabin        1014\n",
       "embarked        2\n",
       "boat          823\n",
       "body            0\n",
       "home.dest     564\n",
       "dtype: int64"
      ]
     },
     "execution_count": 382,
     "metadata": {},
     "output_type": "execute_result"
    }
   ],
   "source": [
    "# counting the number of NaN for each feature.\n",
    "df[nans_columns].isna().sum()"
   ]
  },
  {
   "cell_type": "code",
   "execution_count": 383,
   "metadata": {},
   "outputs": [
    {
     "data": {
      "text/plain": [
       "age          float64\n",
       "fare         float64\n",
       "cabin         object\n",
       "embarked      object\n",
       "boat          object\n",
       "body         float64\n",
       "home.dest     object\n",
       "dtype: object"
      ]
     },
     "execution_count": 383,
     "metadata": {},
     "output_type": "execute_result"
    }
   ],
   "source": [
    "df[nans_columns].dtypes"
   ]
  },
  {
   "cell_type": "code",
   "execution_count": 384,
   "metadata": {},
   "outputs": [
    {
     "data": {
      "text/plain": [
       "age          float64\n",
       "fare         float64\n",
       "cabin         object\n",
       "embarked      object\n",
       "boat          object\n",
       "body         float64\n",
       "home.dest     object\n",
       "dtype: object"
      ]
     },
     "execution_count": 384,
     "metadata": {},
     "output_type": "execute_result"
    }
   ],
   "source": [
    "df[nans_columns].dtypes"
   ]
  },
  {
   "cell_type": "code",
   "execution_count": 385,
   "metadata": {},
   "outputs": [
    {
     "data": {
      "text/plain": [
       "{'cabin': 'C23 C25 C27',\n",
       " 'embarked': 'S',\n",
       " 'boat': '13',\n",
       " 'home.dest': 'New York, NY'}"
      ]
     },
     "execution_count": 385,
     "metadata": {},
     "output_type": "execute_result"
    }
   ],
   "source": [
    "dict_nan_modes = {}\n",
    "\n",
    "for icol in nans_columns:\n",
    "    if df[icol].dtypes == 'object':\n",
    "        dict_nan_modes[icol] = df[icol].mode().values[0]\n",
    "        \n",
    "dict_nan_modes"
   ]
  },
  {
   "cell_type": "code",
   "execution_count": 386,
   "metadata": {},
   "outputs": [
    {
     "data": {
      "text/plain": [
       "pandas.core.series.Series"
      ]
     },
     "execution_count": 386,
     "metadata": {},
     "output_type": "execute_result"
    }
   ],
   "source": [
    "type(df[icol].mode())"
   ]
  },
  {
   "cell_type": "code",
   "execution_count": 387,
   "metadata": {},
   "outputs": [
    {
     "data": {
      "text/html": [
       "<div>\n",
       "<style scoped>\n",
       "    .dataframe tbody tr th:only-of-type {\n",
       "        vertical-align: middle;\n",
       "    }\n",
       "\n",
       "    .dataframe tbody tr th {\n",
       "        vertical-align: top;\n",
       "    }\n",
       "\n",
       "    .dataframe thead th {\n",
       "        text-align: right;\n",
       "    }\n",
       "</style>\n",
       "<table border=\"1\" class=\"dataframe\">\n",
       "  <thead>\n",
       "    <tr style=\"text-align: right;\">\n",
       "      <th></th>\n",
       "      <th>age</th>\n",
       "      <th>fare</th>\n",
       "      <th>cabin</th>\n",
       "      <th>embarked</th>\n",
       "      <th>boat</th>\n",
       "      <th>body</th>\n",
       "      <th>home.dest</th>\n",
       "    </tr>\n",
       "  </thead>\n",
       "  <tbody>\n",
       "    <tr>\n",
       "      <th>0</th>\n",
       "      <td>29.000000</td>\n",
       "      <td>211.3375</td>\n",
       "      <td>B5</td>\n",
       "      <td>S</td>\n",
       "      <td>2</td>\n",
       "      <td>160.809917</td>\n",
       "      <td>St Louis, MO</td>\n",
       "    </tr>\n",
       "    <tr>\n",
       "      <th>1</th>\n",
       "      <td>0.916700</td>\n",
       "      <td>151.5500</td>\n",
       "      <td>C22 C26</td>\n",
       "      <td>S</td>\n",
       "      <td>11</td>\n",
       "      <td>160.809917</td>\n",
       "      <td>Montreal, PQ / Chesterville, ON</td>\n",
       "    </tr>\n",
       "    <tr>\n",
       "      <th>2</th>\n",
       "      <td>2.000000</td>\n",
       "      <td>151.5500</td>\n",
       "      <td>C22 C26</td>\n",
       "      <td>S</td>\n",
       "      <td>NaN</td>\n",
       "      <td>160.809917</td>\n",
       "      <td>Montreal, PQ / Chesterville, ON</td>\n",
       "    </tr>\n",
       "    <tr>\n",
       "      <th>3</th>\n",
       "      <td>30.000000</td>\n",
       "      <td>151.5500</td>\n",
       "      <td>C22 C26</td>\n",
       "      <td>S</td>\n",
       "      <td>NaN</td>\n",
       "      <td>135.000000</td>\n",
       "      <td>Montreal, PQ / Chesterville, ON</td>\n",
       "    </tr>\n",
       "    <tr>\n",
       "      <th>4</th>\n",
       "      <td>25.000000</td>\n",
       "      <td>151.5500</td>\n",
       "      <td>C22 C26</td>\n",
       "      <td>S</td>\n",
       "      <td>NaN</td>\n",
       "      <td>160.809917</td>\n",
       "      <td>Montreal, PQ / Chesterville, ON</td>\n",
       "    </tr>\n",
       "    <tr>\n",
       "      <th>...</th>\n",
       "      <td>...</td>\n",
       "      <td>...</td>\n",
       "      <td>...</td>\n",
       "      <td>...</td>\n",
       "      <td>...</td>\n",
       "      <td>...</td>\n",
       "      <td>...</td>\n",
       "    </tr>\n",
       "    <tr>\n",
       "      <th>1304</th>\n",
       "      <td>14.500000</td>\n",
       "      <td>14.4542</td>\n",
       "      <td>NaN</td>\n",
       "      <td>C</td>\n",
       "      <td>NaN</td>\n",
       "      <td>328.000000</td>\n",
       "      <td>NaN</td>\n",
       "    </tr>\n",
       "    <tr>\n",
       "      <th>1305</th>\n",
       "      <td>29.881135</td>\n",
       "      <td>14.4542</td>\n",
       "      <td>NaN</td>\n",
       "      <td>C</td>\n",
       "      <td>NaN</td>\n",
       "      <td>160.809917</td>\n",
       "      <td>NaN</td>\n",
       "    </tr>\n",
       "    <tr>\n",
       "      <th>1306</th>\n",
       "      <td>26.500000</td>\n",
       "      <td>7.2250</td>\n",
       "      <td>NaN</td>\n",
       "      <td>C</td>\n",
       "      <td>NaN</td>\n",
       "      <td>304.000000</td>\n",
       "      <td>NaN</td>\n",
       "    </tr>\n",
       "    <tr>\n",
       "      <th>1307</th>\n",
       "      <td>27.000000</td>\n",
       "      <td>7.2250</td>\n",
       "      <td>NaN</td>\n",
       "      <td>C</td>\n",
       "      <td>NaN</td>\n",
       "      <td>160.809917</td>\n",
       "      <td>NaN</td>\n",
       "    </tr>\n",
       "    <tr>\n",
       "      <th>1308</th>\n",
       "      <td>29.000000</td>\n",
       "      <td>7.8750</td>\n",
       "      <td>NaN</td>\n",
       "      <td>S</td>\n",
       "      <td>NaN</td>\n",
       "      <td>160.809917</td>\n",
       "      <td>NaN</td>\n",
       "    </tr>\n",
       "  </tbody>\n",
       "</table>\n",
       "<p>1309 rows × 7 columns</p>\n",
       "</div>"
      ],
      "text/plain": [
       "            age      fare    cabin embarked boat        body  \\\n",
       "0     29.000000  211.3375       B5        S    2  160.809917   \n",
       "1      0.916700  151.5500  C22 C26        S   11  160.809917   \n",
       "2      2.000000  151.5500  C22 C26        S  NaN  160.809917   \n",
       "3     30.000000  151.5500  C22 C26        S  NaN  135.000000   \n",
       "4     25.000000  151.5500  C22 C26        S  NaN  160.809917   \n",
       "...         ...       ...      ...      ...  ...         ...   \n",
       "1304  14.500000   14.4542      NaN        C  NaN  328.000000   \n",
       "1305  29.881135   14.4542      NaN        C  NaN  160.809917   \n",
       "1306  26.500000    7.2250      NaN        C  NaN  304.000000   \n",
       "1307  27.000000    7.2250      NaN        C  NaN  160.809917   \n",
       "1308  29.000000    7.8750      NaN        S  NaN  160.809917   \n",
       "\n",
       "                            home.dest  \n",
       "0                        St Louis, MO  \n",
       "1     Montreal, PQ / Chesterville, ON  \n",
       "2     Montreal, PQ / Chesterville, ON  \n",
       "3     Montreal, PQ / Chesterville, ON  \n",
       "4     Montreal, PQ / Chesterville, ON  \n",
       "...                               ...  \n",
       "1304                              NaN  \n",
       "1305                              NaN  \n",
       "1306                              NaN  \n",
       "1307                              NaN  \n",
       "1308                              NaN  \n",
       "\n",
       "[1309 rows x 7 columns]"
      ]
     },
     "execution_count": 387,
     "metadata": {},
     "output_type": "execute_result"
    }
   ],
   "source": [
    "df[nans_columns]"
   ]
  },
  {
   "cell_type": "code",
   "execution_count": 388,
   "metadata": {},
   "outputs": [
    {
     "data": {
      "text/plain": [
       "age             0\n",
       "fare            0\n",
       "cabin        1014\n",
       "embarked        2\n",
       "boat          823\n",
       "body            0\n",
       "home.dest     564\n",
       "dtype: int64"
      ]
     },
     "execution_count": 388,
     "metadata": {},
     "output_type": "execute_result"
    }
   ],
   "source": [
    "# counting the number of NaN for each feature.\n",
    "df[nans_columns].isna().sum()"
   ]
  },
  {
   "cell_type": "code",
   "execution_count": 389,
   "metadata": {},
   "outputs": [],
   "source": [
    "for icol in dict_nan_modes:\n",
    "    df[icol] = df[icol].fillna(dict_nan_modes[icol])"
   ]
  },
  {
   "cell_type": "code",
   "execution_count": 390,
   "metadata": {},
   "outputs": [
    {
     "data": {
      "text/plain": [
       "age          0\n",
       "fare         0\n",
       "cabin        0\n",
       "embarked     0\n",
       "boat         0\n",
       "body         0\n",
       "home.dest    0\n",
       "dtype: int64"
      ]
     },
     "execution_count": 390,
     "metadata": {},
     "output_type": "execute_result"
    }
   ],
   "source": [
    "# counting the number of NaN for each feature.\n",
    "df[nans_columns].isna().sum()"
   ]
  },
  {
   "cell_type": "code",
   "execution_count": 391,
   "metadata": {},
   "outputs": [
    {
     "data": {
      "text/html": [
       "<div>\n",
       "<style scoped>\n",
       "    .dataframe tbody tr th:only-of-type {\n",
       "        vertical-align: middle;\n",
       "    }\n",
       "\n",
       "    .dataframe tbody tr th {\n",
       "        vertical-align: top;\n",
       "    }\n",
       "\n",
       "    .dataframe thead th {\n",
       "        text-align: right;\n",
       "    }\n",
       "</style>\n",
       "<table border=\"1\" class=\"dataframe\">\n",
       "  <thead>\n",
       "    <tr style=\"text-align: right;\">\n",
       "      <th></th>\n",
       "      <th>passengerid</th>\n",
       "      <th>pclass</th>\n",
       "      <th>survived</th>\n",
       "      <th>name</th>\n",
       "      <th>sex</th>\n",
       "      <th>age</th>\n",
       "      <th>sibsp</th>\n",
       "      <th>parch</th>\n",
       "      <th>ticket</th>\n",
       "      <th>fare</th>\n",
       "      <th>cabin</th>\n",
       "      <th>embarked</th>\n",
       "      <th>boat</th>\n",
       "      <th>body</th>\n",
       "      <th>home.dest</th>\n",
       "    </tr>\n",
       "  </thead>\n",
       "  <tbody>\n",
       "    <tr>\n",
       "      <th>0</th>\n",
       "      <td>1</td>\n",
       "      <td>1</td>\n",
       "      <td>1</td>\n",
       "      <td>Allen, Miss. Elisabeth Walton</td>\n",
       "      <td>female</td>\n",
       "      <td>29.0000</td>\n",
       "      <td>0</td>\n",
       "      <td>0</td>\n",
       "      <td>24160</td>\n",
       "      <td>211.3375</td>\n",
       "      <td>B5</td>\n",
       "      <td>S</td>\n",
       "      <td>2</td>\n",
       "      <td>160.809917</td>\n",
       "      <td>St Louis, MO</td>\n",
       "    </tr>\n",
       "    <tr>\n",
       "      <th>1</th>\n",
       "      <td>2</td>\n",
       "      <td>1</td>\n",
       "      <td>1</td>\n",
       "      <td>Allison, Master. Hudson Trevor</td>\n",
       "      <td>male</td>\n",
       "      <td>0.9167</td>\n",
       "      <td>1</td>\n",
       "      <td>2</td>\n",
       "      <td>113781</td>\n",
       "      <td>151.5500</td>\n",
       "      <td>C22 C26</td>\n",
       "      <td>S</td>\n",
       "      <td>11</td>\n",
       "      <td>160.809917</td>\n",
       "      <td>Montreal, PQ / Chesterville, ON</td>\n",
       "    </tr>\n",
       "    <tr>\n",
       "      <th>2</th>\n",
       "      <td>3</td>\n",
       "      <td>1</td>\n",
       "      <td>0</td>\n",
       "      <td>Allison, Miss. Helen Loraine</td>\n",
       "      <td>female</td>\n",
       "      <td>2.0000</td>\n",
       "      <td>1</td>\n",
       "      <td>2</td>\n",
       "      <td>113781</td>\n",
       "      <td>151.5500</td>\n",
       "      <td>C22 C26</td>\n",
       "      <td>S</td>\n",
       "      <td>13</td>\n",
       "      <td>160.809917</td>\n",
       "      <td>Montreal, PQ / Chesterville, ON</td>\n",
       "    </tr>\n",
       "    <tr>\n",
       "      <th>3</th>\n",
       "      <td>4</td>\n",
       "      <td>1</td>\n",
       "      <td>0</td>\n",
       "      <td>Allison, Mr. Hudson Joshua Creighton</td>\n",
       "      <td>male</td>\n",
       "      <td>30.0000</td>\n",
       "      <td>1</td>\n",
       "      <td>2</td>\n",
       "      <td>113781</td>\n",
       "      <td>151.5500</td>\n",
       "      <td>C22 C26</td>\n",
       "      <td>S</td>\n",
       "      <td>13</td>\n",
       "      <td>135.000000</td>\n",
       "      <td>Montreal, PQ / Chesterville, ON</td>\n",
       "    </tr>\n",
       "    <tr>\n",
       "      <th>4</th>\n",
       "      <td>5</td>\n",
       "      <td>1</td>\n",
       "      <td>0</td>\n",
       "      <td>Allison, Mrs. Hudson J C (Bessie Waldo Daniels)</td>\n",
       "      <td>female</td>\n",
       "      <td>25.0000</td>\n",
       "      <td>1</td>\n",
       "      <td>2</td>\n",
       "      <td>113781</td>\n",
       "      <td>151.5500</td>\n",
       "      <td>C22 C26</td>\n",
       "      <td>S</td>\n",
       "      <td>13</td>\n",
       "      <td>160.809917</td>\n",
       "      <td>Montreal, PQ / Chesterville, ON</td>\n",
       "    </tr>\n",
       "    <tr>\n",
       "      <th>...</th>\n",
       "      <td>...</td>\n",
       "      <td>...</td>\n",
       "      <td>...</td>\n",
       "      <td>...</td>\n",
       "      <td>...</td>\n",
       "      <td>...</td>\n",
       "      <td>...</td>\n",
       "      <td>...</td>\n",
       "      <td>...</td>\n",
       "      <td>...</td>\n",
       "      <td>...</td>\n",
       "      <td>...</td>\n",
       "      <td>...</td>\n",
       "      <td>...</td>\n",
       "      <td>...</td>\n",
       "    </tr>\n",
       "    <tr>\n",
       "      <th>95</th>\n",
       "      <td>96</td>\n",
       "      <td>1</td>\n",
       "      <td>1</td>\n",
       "      <td>Dodge, Mrs. Washington (Ruth Vidaver)</td>\n",
       "      <td>female</td>\n",
       "      <td>54.0000</td>\n",
       "      <td>1</td>\n",
       "      <td>1</td>\n",
       "      <td>33638</td>\n",
       "      <td>81.8583</td>\n",
       "      <td>A34</td>\n",
       "      <td>S</td>\n",
       "      <td>5</td>\n",
       "      <td>160.809917</td>\n",
       "      <td>San Francisco, CA</td>\n",
       "    </tr>\n",
       "    <tr>\n",
       "      <th>96</th>\n",
       "      <td>97</td>\n",
       "      <td>1</td>\n",
       "      <td>0</td>\n",
       "      <td>Douglas, Mr. Walter Donald</td>\n",
       "      <td>male</td>\n",
       "      <td>50.0000</td>\n",
       "      <td>1</td>\n",
       "      <td>0</td>\n",
       "      <td>PC 17761</td>\n",
       "      <td>106.4250</td>\n",
       "      <td>C86</td>\n",
       "      <td>C</td>\n",
       "      <td>13</td>\n",
       "      <td>62.000000</td>\n",
       "      <td>Deephaven, MN / Cedar Rapids, IA</td>\n",
       "    </tr>\n",
       "    <tr>\n",
       "      <th>97</th>\n",
       "      <td>98</td>\n",
       "      <td>1</td>\n",
       "      <td>1</td>\n",
       "      <td>Douglas, Mrs. Frederick Charles (Mary Helene B...</td>\n",
       "      <td>female</td>\n",
       "      <td>27.0000</td>\n",
       "      <td>1</td>\n",
       "      <td>1</td>\n",
       "      <td>PC 17558</td>\n",
       "      <td>247.5208</td>\n",
       "      <td>B58 B60</td>\n",
       "      <td>C</td>\n",
       "      <td>6</td>\n",
       "      <td>160.809917</td>\n",
       "      <td>Montreal, PQ</td>\n",
       "    </tr>\n",
       "    <tr>\n",
       "      <th>98</th>\n",
       "      <td>99</td>\n",
       "      <td>1</td>\n",
       "      <td>1</td>\n",
       "      <td>Douglas, Mrs. Walter Donald (Mahala Dutton)</td>\n",
       "      <td>female</td>\n",
       "      <td>48.0000</td>\n",
       "      <td>1</td>\n",
       "      <td>0</td>\n",
       "      <td>PC 17761</td>\n",
       "      <td>106.4250</td>\n",
       "      <td>C86</td>\n",
       "      <td>C</td>\n",
       "      <td>2</td>\n",
       "      <td>160.809917</td>\n",
       "      <td>Deephaven, MN / Cedar Rapids, IA</td>\n",
       "    </tr>\n",
       "    <tr>\n",
       "      <th>99</th>\n",
       "      <td>100</td>\n",
       "      <td>1</td>\n",
       "      <td>1</td>\n",
       "      <td>Duff Gordon, Lady. (Lucille Christiana Sutherl...</td>\n",
       "      <td>female</td>\n",
       "      <td>48.0000</td>\n",
       "      <td>1</td>\n",
       "      <td>0</td>\n",
       "      <td>11755</td>\n",
       "      <td>39.6000</td>\n",
       "      <td>A16</td>\n",
       "      <td>C</td>\n",
       "      <td>1</td>\n",
       "      <td>160.809917</td>\n",
       "      <td>London / Paris</td>\n",
       "    </tr>\n",
       "  </tbody>\n",
       "</table>\n",
       "<p>100 rows × 15 columns</p>\n",
       "</div>"
      ],
      "text/plain": [
       "    passengerid  pclass  survived  \\\n",
       "0             1       1         1   \n",
       "1             2       1         1   \n",
       "2             3       1         0   \n",
       "3             4       1         0   \n",
       "4             5       1         0   \n",
       "..          ...     ...       ...   \n",
       "95           96       1         1   \n",
       "96           97       1         0   \n",
       "97           98       1         1   \n",
       "98           99       1         1   \n",
       "99          100       1         1   \n",
       "\n",
       "                                                 name     sex      age  sibsp  \\\n",
       "0                       Allen, Miss. Elisabeth Walton  female  29.0000      0   \n",
       "1                      Allison, Master. Hudson Trevor    male   0.9167      1   \n",
       "2                        Allison, Miss. Helen Loraine  female   2.0000      1   \n",
       "3                Allison, Mr. Hudson Joshua Creighton    male  30.0000      1   \n",
       "4     Allison, Mrs. Hudson J C (Bessie Waldo Daniels)  female  25.0000      1   \n",
       "..                                                ...     ...      ...    ...   \n",
       "95              Dodge, Mrs. Washington (Ruth Vidaver)  female  54.0000      1   \n",
       "96                         Douglas, Mr. Walter Donald    male  50.0000      1   \n",
       "97  Douglas, Mrs. Frederick Charles (Mary Helene B...  female  27.0000      1   \n",
       "98        Douglas, Mrs. Walter Donald (Mahala Dutton)  female  48.0000      1   \n",
       "99  Duff Gordon, Lady. (Lucille Christiana Sutherl...  female  48.0000      1   \n",
       "\n",
       "    parch    ticket      fare    cabin embarked boat        body  \\\n",
       "0       0     24160  211.3375       B5        S    2  160.809917   \n",
       "1       2    113781  151.5500  C22 C26        S   11  160.809917   \n",
       "2       2    113781  151.5500  C22 C26        S   13  160.809917   \n",
       "3       2    113781  151.5500  C22 C26        S   13  135.000000   \n",
       "4       2    113781  151.5500  C22 C26        S   13  160.809917   \n",
       "..    ...       ...       ...      ...      ...  ...         ...   \n",
       "95      1     33638   81.8583      A34        S    5  160.809917   \n",
       "96      0  PC 17761  106.4250      C86        C   13   62.000000   \n",
       "97      1  PC 17558  247.5208  B58 B60        C    6  160.809917   \n",
       "98      0  PC 17761  106.4250      C86        C    2  160.809917   \n",
       "99      0     11755   39.6000      A16        C    1  160.809917   \n",
       "\n",
       "                           home.dest  \n",
       "0                       St Louis, MO  \n",
       "1    Montreal, PQ / Chesterville, ON  \n",
       "2    Montreal, PQ / Chesterville, ON  \n",
       "3    Montreal, PQ / Chesterville, ON  \n",
       "4    Montreal, PQ / Chesterville, ON  \n",
       "..                               ...  \n",
       "95                 San Francisco, CA  \n",
       "96  Deephaven, MN / Cedar Rapids, IA  \n",
       "97                      Montreal, PQ  \n",
       "98  Deephaven, MN / Cedar Rapids, IA  \n",
       "99                    London / Paris  \n",
       "\n",
       "[100 rows x 15 columns]"
      ]
     },
     "execution_count": 391,
     "metadata": {},
     "output_type": "execute_result"
    }
   ],
   "source": [
    "df.head(100)"
   ]
  },
  {
   "cell_type": "code",
   "execution_count": 392,
   "metadata": {},
   "outputs": [
    {
     "data": {
      "text/plain": [
       "passengerid      int64\n",
       "pclass           int64\n",
       "survived         int64\n",
       "name            object\n",
       "sex             object\n",
       "age            float64\n",
       "sibsp            int64\n",
       "parch            int64\n",
       "ticket          object\n",
       "fare           float64\n",
       "cabin           object\n",
       "embarked        object\n",
       "boat            object\n",
       "body           float64\n",
       "home.dest       object\n",
       "dtype: object"
      ]
     },
     "execution_count": 392,
     "metadata": {},
     "output_type": "execute_result"
    }
   ],
   "source": [
    "df.dtypes"
   ]
  },
  {
   "cell_type": "code",
   "execution_count": 393,
   "metadata": {},
   "outputs": [],
   "source": [
    "from sklearn.neural_network import MLPClassifier\n",
    "from sklearn.datasets import make_classification\n",
    "from sklearn.model_selection import train_test_split\n",
    "from sklearn.preprocessing import LabelEncoder"
   ]
  },
  {
   "cell_type": "code",
   "execution_count": 394,
   "metadata": {},
   "outputs": [],
   "source": [
    "# convert object type to category type\n",
    "df[df.select_dtypes(['object']).columns] = df.select_dtypes(['object']).apply(lambda x: x.astype('category'))"
   ]
  },
  {
   "cell_type": "code",
   "execution_count": 395,
   "metadata": {},
   "outputs": [
    {
     "data": {
      "text/plain": [
       "29.881135    20.09%\n",
       "24.000000     3.59%\n",
       "22.000000     3.28%\n",
       "21.000000     3.13%\n",
       "30.000000     3.06%\n",
       "              ...  \n",
       "66.000000     0.08%\n",
       "0.666700      0.08%\n",
       "76.000000     0.08%\n",
       "67.000000     0.08%\n",
       "26.500000     0.08%\n",
       "Name: age, Length: 99, dtype: object"
      ]
     },
     "execution_count": 395,
     "metadata": {},
     "output_type": "execute_result"
    }
   ],
   "source": [
    "df['age'].value_counts(normalize=True).map('{:.2%}'.format)\n"
   ]
  },
  {
   "cell_type": "code",
   "execution_count": 396,
   "metadata": {},
   "outputs": [
    {
     "data": {
      "text/plain": [
       "passengerid       int64\n",
       "pclass            int64\n",
       "survived          int64\n",
       "name           category\n",
       "sex            category\n",
       "age             float64\n",
       "sibsp             int64\n",
       "parch             int64\n",
       "ticket         category\n",
       "fare            float64\n",
       "cabin          category\n",
       "embarked       category\n",
       "boat           category\n",
       "body            float64\n",
       "home.dest      category\n",
       "dtype: object"
      ]
     },
     "execution_count": 396,
     "metadata": {},
     "output_type": "execute_result"
    }
   ],
   "source": [
    "df.dtypes"
   ]
  },
  {
   "cell_type": "code",
   "execution_count": 397,
   "metadata": {},
   "outputs": [
    {
     "data": {
      "text/plain": [
       "['name', 'sex', 'ticket', 'cabin', 'embarked', 'boat', 'home.dest']"
      ]
     },
     "execution_count": 397,
     "metadata": {},
     "output_type": "execute_result"
    }
   ],
   "source": [
    "list_cats = list(df.select_dtypes(include=['category']).columns)\n",
    "list_cats"
   ]
  },
  {
   "cell_type": "code",
   "execution_count": 398,
   "metadata": {},
   "outputs": [
    {
     "data": {
      "text/plain": [
       "LabelEncoder()"
      ]
     },
     "execution_count": 398,
     "metadata": {},
     "output_type": "execute_result"
    }
   ],
   "source": [
    "# creating instance of labelencoder\n",
    "labelencoder = LabelEncoder()\n",
    "labelencoder"
   ]
  },
  {
   "cell_type": "code",
   "execution_count": 399,
   "metadata": {},
   "outputs": [],
   "source": [
    "for icol in list_cats:\n",
    "    df[icol] = labelencoder.fit_transform(df[icol])"
   ]
  },
  {
   "cell_type": "code",
   "execution_count": 400,
   "metadata": {},
   "outputs": [
    {
     "data": {
      "text/html": [
       "<div>\n",
       "<style scoped>\n",
       "    .dataframe tbody tr th:only-of-type {\n",
       "        vertical-align: middle;\n",
       "    }\n",
       "\n",
       "    .dataframe tbody tr th {\n",
       "        vertical-align: top;\n",
       "    }\n",
       "\n",
       "    .dataframe thead th {\n",
       "        text-align: right;\n",
       "    }\n",
       "</style>\n",
       "<table border=\"1\" class=\"dataframe\">\n",
       "  <thead>\n",
       "    <tr style=\"text-align: right;\">\n",
       "      <th></th>\n",
       "      <th>passengerid</th>\n",
       "      <th>pclass</th>\n",
       "      <th>survived</th>\n",
       "      <th>name</th>\n",
       "      <th>sex</th>\n",
       "      <th>age</th>\n",
       "      <th>sibsp</th>\n",
       "      <th>parch</th>\n",
       "      <th>ticket</th>\n",
       "      <th>fare</th>\n",
       "      <th>cabin</th>\n",
       "      <th>embarked</th>\n",
       "      <th>boat</th>\n",
       "      <th>body</th>\n",
       "      <th>home.dest</th>\n",
       "    </tr>\n",
       "  </thead>\n",
       "  <tbody>\n",
       "    <tr>\n",
       "      <th>0</th>\n",
       "      <td>1</td>\n",
       "      <td>1</td>\n",
       "      <td>1</td>\n",
       "      <td>21</td>\n",
       "      <td>0</td>\n",
       "      <td>29.000000</td>\n",
       "      <td>0</td>\n",
       "      <td>0</td>\n",
       "      <td>187</td>\n",
       "      <td>211.3375</td>\n",
       "      <td>43</td>\n",
       "      <td>2</td>\n",
       "      <td>11</td>\n",
       "      <td>160.809917</td>\n",
       "      <td>308</td>\n",
       "    </tr>\n",
       "    <tr>\n",
       "      <th>1</th>\n",
       "      <td>2</td>\n",
       "      <td>1</td>\n",
       "      <td>1</td>\n",
       "      <td>23</td>\n",
       "      <td>1</td>\n",
       "      <td>0.916700</td>\n",
       "      <td>1</td>\n",
       "      <td>2</td>\n",
       "      <td>49</td>\n",
       "      <td>151.5500</td>\n",
       "      <td>79</td>\n",
       "      <td>2</td>\n",
       "      <td>2</td>\n",
       "      <td>160.809917</td>\n",
       "      <td>230</td>\n",
       "    </tr>\n",
       "    <tr>\n",
       "      <th>2</th>\n",
       "      <td>3</td>\n",
       "      <td>1</td>\n",
       "      <td>0</td>\n",
       "      <td>24</td>\n",
       "      <td>0</td>\n",
       "      <td>2.000000</td>\n",
       "      <td>1</td>\n",
       "      <td>2</td>\n",
       "      <td>49</td>\n",
       "      <td>151.5500</td>\n",
       "      <td>79</td>\n",
       "      <td>2</td>\n",
       "      <td>4</td>\n",
       "      <td>160.809917</td>\n",
       "      <td>230</td>\n",
       "    </tr>\n",
       "    <tr>\n",
       "      <th>3</th>\n",
       "      <td>4</td>\n",
       "      <td>1</td>\n",
       "      <td>0</td>\n",
       "      <td>25</td>\n",
       "      <td>1</td>\n",
       "      <td>30.000000</td>\n",
       "      <td>1</td>\n",
       "      <td>2</td>\n",
       "      <td>49</td>\n",
       "      <td>151.5500</td>\n",
       "      <td>79</td>\n",
       "      <td>2</td>\n",
       "      <td>4</td>\n",
       "      <td>135.000000</td>\n",
       "      <td>230</td>\n",
       "    </tr>\n",
       "    <tr>\n",
       "      <th>4</th>\n",
       "      <td>5</td>\n",
       "      <td>1</td>\n",
       "      <td>0</td>\n",
       "      <td>26</td>\n",
       "      <td>0</td>\n",
       "      <td>25.000000</td>\n",
       "      <td>1</td>\n",
       "      <td>2</td>\n",
       "      <td>49</td>\n",
       "      <td>151.5500</td>\n",
       "      <td>79</td>\n",
       "      <td>2</td>\n",
       "      <td>4</td>\n",
       "      <td>160.809917</td>\n",
       "      <td>230</td>\n",
       "    </tr>\n",
       "    <tr>\n",
       "      <th>...</th>\n",
       "      <td>...</td>\n",
       "      <td>...</td>\n",
       "      <td>...</td>\n",
       "      <td>...</td>\n",
       "      <td>...</td>\n",
       "      <td>...</td>\n",
       "      <td>...</td>\n",
       "      <td>...</td>\n",
       "      <td>...</td>\n",
       "      <td>...</td>\n",
       "      <td>...</td>\n",
       "      <td>...</td>\n",
       "      <td>...</td>\n",
       "      <td>...</td>\n",
       "      <td>...</td>\n",
       "    </tr>\n",
       "    <tr>\n",
       "      <th>1304</th>\n",
       "      <td>1305</td>\n",
       "      <td>3</td>\n",
       "      <td>0</td>\n",
       "      <td>1291</td>\n",
       "      <td>0</td>\n",
       "      <td>14.500000</td>\n",
       "      <td>1</td>\n",
       "      <td>0</td>\n",
       "      <td>259</td>\n",
       "      <td>14.4542</td>\n",
       "      <td>80</td>\n",
       "      <td>0</td>\n",
       "      <td>4</td>\n",
       "      <td>328.000000</td>\n",
       "      <td>236</td>\n",
       "    </tr>\n",
       "    <tr>\n",
       "      <th>1305</th>\n",
       "      <td>1306</td>\n",
       "      <td>3</td>\n",
       "      <td>0</td>\n",
       "      <td>1292</td>\n",
       "      <td>0</td>\n",
       "      <td>29.881135</td>\n",
       "      <td>1</td>\n",
       "      <td>0</td>\n",
       "      <td>259</td>\n",
       "      <td>14.4542</td>\n",
       "      <td>80</td>\n",
       "      <td>0</td>\n",
       "      <td>4</td>\n",
       "      <td>160.809917</td>\n",
       "      <td>236</td>\n",
       "    </tr>\n",
       "    <tr>\n",
       "      <th>1306</th>\n",
       "      <td>1307</td>\n",
       "      <td>3</td>\n",
       "      <td>0</td>\n",
       "      <td>1293</td>\n",
       "      <td>1</td>\n",
       "      <td>26.500000</td>\n",
       "      <td>0</td>\n",
       "      <td>0</td>\n",
       "      <td>250</td>\n",
       "      <td>7.2250</td>\n",
       "      <td>80</td>\n",
       "      <td>0</td>\n",
       "      <td>4</td>\n",
       "      <td>304.000000</td>\n",
       "      <td>236</td>\n",
       "    </tr>\n",
       "    <tr>\n",
       "      <th>1307</th>\n",
       "      <td>1308</td>\n",
       "      <td>3</td>\n",
       "      <td>0</td>\n",
       "      <td>1294</td>\n",
       "      <td>1</td>\n",
       "      <td>27.000000</td>\n",
       "      <td>0</td>\n",
       "      <td>0</td>\n",
       "      <td>264</td>\n",
       "      <td>7.2250</td>\n",
       "      <td>80</td>\n",
       "      <td>0</td>\n",
       "      <td>4</td>\n",
       "      <td>160.809917</td>\n",
       "      <td>236</td>\n",
       "    </tr>\n",
       "    <tr>\n",
       "      <th>1308</th>\n",
       "      <td>1309</td>\n",
       "      <td>3</td>\n",
       "      <td>0</td>\n",
       "      <td>1295</td>\n",
       "      <td>1</td>\n",
       "      <td>29.000000</td>\n",
       "      <td>0</td>\n",
       "      <td>0</td>\n",
       "      <td>346</td>\n",
       "      <td>7.8750</td>\n",
       "      <td>80</td>\n",
       "      <td>2</td>\n",
       "      <td>4</td>\n",
       "      <td>160.809917</td>\n",
       "      <td>236</td>\n",
       "    </tr>\n",
       "  </tbody>\n",
       "</table>\n",
       "<p>1309 rows × 15 columns</p>\n",
       "</div>"
      ],
      "text/plain": [
       "      passengerid  pclass  survived  name  sex        age  sibsp  parch  \\\n",
       "0               1       1         1    21    0  29.000000      0      0   \n",
       "1               2       1         1    23    1   0.916700      1      2   \n",
       "2               3       1         0    24    0   2.000000      1      2   \n",
       "3               4       1         0    25    1  30.000000      1      2   \n",
       "4               5       1         0    26    0  25.000000      1      2   \n",
       "...           ...     ...       ...   ...  ...        ...    ...    ...   \n",
       "1304         1305       3         0  1291    0  14.500000      1      0   \n",
       "1305         1306       3         0  1292    0  29.881135      1      0   \n",
       "1306         1307       3         0  1293    1  26.500000      0      0   \n",
       "1307         1308       3         0  1294    1  27.000000      0      0   \n",
       "1308         1309       3         0  1295    1  29.000000      0      0   \n",
       "\n",
       "      ticket      fare  cabin  embarked  boat        body  home.dest  \n",
       "0        187  211.3375     43         2    11  160.809917        308  \n",
       "1         49  151.5500     79         2     2  160.809917        230  \n",
       "2         49  151.5500     79         2     4  160.809917        230  \n",
       "3         49  151.5500     79         2     4  135.000000        230  \n",
       "4         49  151.5500     79         2     4  160.809917        230  \n",
       "...      ...       ...    ...       ...   ...         ...        ...  \n",
       "1304     259   14.4542     80         0     4  328.000000        236  \n",
       "1305     259   14.4542     80         0     4  160.809917        236  \n",
       "1306     250    7.2250     80         0     4  304.000000        236  \n",
       "1307     264    7.2250     80         0     4  160.809917        236  \n",
       "1308     346    7.8750     80         2     4  160.809917        236  \n",
       "\n",
       "[1309 rows x 15 columns]"
      ]
     },
     "execution_count": 400,
     "metadata": {},
     "output_type": "execute_result"
    }
   ],
   "source": [
    "df"
   ]
  },
  {
   "cell_type": "code",
   "execution_count": 401,
   "metadata": {},
   "outputs": [
    {
     "data": {
      "text/plain": [
       "368"
      ]
     },
     "execution_count": 401,
     "metadata": {},
     "output_type": "execute_result"
    }
   ],
   "source": [
    "df['home.dest'].max()"
   ]
  },
  {
   "cell_type": "code",
   "execution_count": 402,
   "metadata": {},
   "outputs": [
    {
     "data": {
      "text/plain": [
       "passengerid      int64\n",
       "pclass           int64\n",
       "survived         int64\n",
       "name             int64\n",
       "sex              int64\n",
       "age            float64\n",
       "sibsp            int64\n",
       "parch            int64\n",
       "ticket           int64\n",
       "fare           float64\n",
       "cabin            int64\n",
       "embarked         int64\n",
       "boat             int64\n",
       "body           float64\n",
       "home.dest        int64\n",
       "dtype: object"
      ]
     },
     "execution_count": 402,
     "metadata": {},
     "output_type": "execute_result"
    }
   ],
   "source": [
    "df.dtypes"
   ]
  },
  {
   "cell_type": "code",
   "execution_count": 403,
   "metadata": {},
   "outputs": [
    {
     "data": {
      "text/plain": [
       "Text(0.5, 1.0, 'Titanic - Distribution of Ages')"
      ]
     },
     "execution_count": 403,
     "metadata": {},
     "output_type": "execute_result"
    },
    {
     "data": {
      "image/png": "[encoded data removed]",
      "text/plain": [
       "<Figure size 432x288 with 1 Axes>"
      ]
     },
     "metadata": {},
     "output_type": "display_data"
    }
   ],
   "source": [
    "plt.figure()\n",
    "sns.histplot(x='age', data=df, bins=40)\n",
    "plt.ylabel('Frequencia')\n",
    "plt.xlabel(\"Age\")\n",
    "plt.title(\"Titanic - Distribution of Ages\")"
   ]
  },
  {
   "cell_type": "code",
   "execution_count": 404,
   "metadata": {},
   "outputs": [
    {
     "data": {
      "text/plain": [
       "Text(0, 0.5, 'Ages')"
      ]
     },
     "execution_count": 404,
     "metadata": {},
     "output_type": "execute_result"
    },
    {
     "data": {
      "image/png": "[encoded data removed]",
      "text/plain": [
       "<Figure size 432x288 with 1 Axes>"
      ]
     },
     "metadata": {},
     "output_type": "display_data"
    }
   ],
   "source": [
    "sns.boxplot(y=df['age'],orient='v')\n",
    "plt.title(\"Titanic - Age\")\n",
    "plt.ylabel(\"Ages\")\n",
    "\n",
    "# to do with condiction - survived"
   ]
  },
  {
   "cell_type": "code",
   "execution_count": 405,
   "metadata": {},
   "outputs": [
    {
     "data": {
      "text/plain": [
       "Text(0.5, 1.0, 'Titanic - Classes')"
      ]
     },
     "execution_count": 405,
     "metadata": {},
     "output_type": "execute_result"
    },
    {
     "data": {
      "image/png": "[encoded data removed]",
      "text/plain": [
       "<Figure size 432x288 with 1 Axes>"
      ]
     },
     "metadata": {},
     "output_type": "display_data"
    }
   ],
   "source": [
    "df.iloc[:,:1].hist(bins=20); \n",
    "plt.tight_layout()\n",
    "plt.ylabel('Frequencia')\n",
    "plt.xlabel(\"pclass\")\n",
    "plt.title(\"Titanic - Classes\")"
   ]
  },
  {
   "cell_type": "code",
   "execution_count": 406,
   "metadata": {},
   "outputs": [
    {
     "data": {
      "text/plain": [
       "Text(0.5, 1.0, 'Titanic - Boat')"
      ]
     },
     "execution_count": 406,
     "metadata": {},
     "output_type": "execute_result"
    },
    {
     "data": {
      "image/png": "[encoded data removed]",
      "text/plain": [
       "<Figure size 432x288 with 1 Axes>"
      ]
     },
     "metadata": {},
     "output_type": "display_data"
    }
   ],
   "source": [
    "sns.boxplot(y=df['boat'],orient='v')\n",
    "plt.title(\"Titanic - Boat\")"
   ]
  },
  {
   "cell_type": "code",
   "execution_count": 407,
   "metadata": {},
   "outputs": [
    {
     "data": {
      "text/plain": [
       "<AxesSubplot:>"
      ]
     },
     "execution_count": 407,
     "metadata": {},
     "output_type": "execute_result"
    },
    {
     "data": {
      "image/png": "[encoded data removed]",
      "text/plain": [
       "<Figure size 864x576 with 2 Axes>"
      ]
     },
     "metadata": {},
     "output_type": "display_data"
    }
   ],
   "source": [
    "fig, ax = plt.subplots(figsize=(12,8))\n",
    "sns.heatmap(df.corr(),cmap='Greens',linewidth=0.5,annot=True)"
   ]
  },
  {
   "cell_type": "markdown",
   "metadata": {},
   "source": [
    "## Heatmap - Correlaction"
   ]
  },
  {
   "cell_type": "code",
   "execution_count": 408,
   "metadata": {},
   "outputs": [
    {
     "data": {
      "image/png": "[encoded data removed]",
      "text/plain": [
       "<Figure size 1008x864 with 2 Axes>"
      ]
     },
     "metadata": {},
     "output_type": "display_data"
    }
   ],
   "source": [
    "plt.figure(figsize=(14,12))\n",
    "sns.heatmap(df.astype(float).corr(),linewidths=0.1, \n",
    "            square=True,  linecolor='white', annot=True)\n",
    "plt.show()"
   ]
  },
  {
   "cell_type": "code",
   "execution_count": 409,
   "metadata": {},
   "outputs": [
    {
     "data": {
      "image/png": "[encoded data removed]",
      "text/plain": [
       "<Figure size 504x360 with 1 Axes>"
      ]
     },
     "metadata": {},
     "output_type": "display_data"
    }
   ],
   "source": [
    "plt.figure(figsize=(7,5))\n",
    "sns.set(style=\"darkgrid\")\n",
    "ax = sns.countplot(x=\"pclass\", data=df)"
   ]
  },
  {
   "cell_type": "code",
   "execution_count": 410,
   "metadata": {},
   "outputs": [
    {
     "data": {
      "text/plain": [
       "<AxesSubplot:xlabel='embarked', ylabel='survived'>"
      ]
     },
     "execution_count": 410,
     "metadata": {},
     "output_type": "execute_result"
    },
    {
     "data": {
      "text/plain": [
       "<Figure size 576x720 with 0 Axes>"
      ]
     },
     "metadata": {},
     "output_type": "display_data"
    },
    {
     "data": {
      "image/png": "[encoded data removed]",
      "text/plain": [
       "<Figure size 864x288 with 3 Axes>"
      ]
     },
     "metadata": {},
     "output_type": "display_data"
    }
   ],
   "source": [
    "# https://sigmoidal.ai/data-science-titanic-python-1/\n",
    "\n",
    "# Plot the graphs for Survived versus Sex, Pclass and embarked\n",
    "plt.figure(figsize=(8,10))\n",
    "fig, (axis1, axis2, axis3) = plt.subplots(1,3, figsize=(12,4))\n",
    "\n",
    "sns.barplot(x='sex', y='survived', data=df, ax=axis1)\n",
    "sns.barplot(x='pclass', y='survived', data=df, ax=axis2)\n",
    "sns.barplot(x='embarked', y='survived', data=df, ax=axis3)\n"
   ]
  },
  {
   "cell_type": "code",
   "execution_count": 411,
   "metadata": {},
   "outputs": [
    {
     "data": {
      "text/plain": [
       "<seaborn.axisgrid.FacetGrid at 0x7f0c423e5c40>"
      ]
     },
     "execution_count": 411,
     "metadata": {},
     "output_type": "execute_result"
    },
    {
     "data": {
      "image/png": "[encoded data removed]",
      "text/plain": [
       "<Figure size 432x216 with 2 Axes>"
      ]
     },
     "metadata": {},
     "output_type": "display_data"
    }
   ],
   "source": [
    "age_survived = sns.FacetGrid(df, col='survived')\n",
    "age_survived.map(sns.histplot, 'age')"
   ]
  },
  {
   "cell_type": "code",
   "execution_count": 412,
   "metadata": {},
   "outputs": [
    {
     "data": {
      "text/plain": [
       "<AxesSubplot:>"
      ]
     },
     "execution_count": 412,
     "metadata": {},
     "output_type": "execute_result"
    },
    {
     "data": {
      "image/png": "[encoded data removed]",
      "text/plain": [
       "<Figure size 864x576 with 2 Axes>"
      ]
     },
     "metadata": {},
     "output_type": "display_data"
    }
   ],
   "source": [
    "corr = df.corr() # calculate the correlation - pearson (default, I think) and corr -> dataframe\n",
    "\n",
    "kot = corr[abs(corr)>0.4] # this make the filter, selection feature with high correlation\n",
    "plt.figure(figsize=(12,8)) # figure size\n",
    "sns.heatmap(kot, cmap=\"Greens\") # set heat map to show high correlations"
   ]
  },
  {
   "cell_type": "code",
   "execution_count": 413,
   "metadata": {},
   "outputs": [
    {
     "data": {
      "text/plain": [
       "{'pclass': -0.31246936264967645,\n",
       " 'survived': 1.0,\n",
       " 'name': -0.03229774871535562,\n",
       " 'sex': -0.528693091388987,\n",
       " 'age': -0.0501989836369829,\n",
       " 'sibsp': -0.02782511923058187,\n",
       " 'parch': 0.08265957038609871,\n",
       " 'ticket': -0.1258691108143736,\n",
       " 'fare': 0.24420775279437382,\n",
       " 'cabin': 0.0923339636267033,\n",
       " 'embarked': -0.17531311143954112,\n",
       " 'boat': 0.6038968572598278,\n",
       " 'body': -1.0148608671323416e-15,\n",
       " 'home.dest': -0.07689501927460075}"
      ]
     },
     "execution_count": 413,
     "metadata": {},
     "output_type": "execute_result"
    }
   ],
   "source": [
    "high_corr_feat = dict(df[df.columns[1:]].corr()['survived'][:]) # get correlation values and convert to dictionary.\n",
    "high_corr_feat"
   ]
  },
  {
   "cell_type": "code",
   "execution_count": 414,
   "metadata": {},
   "outputs": [
    {
     "data": {
      "text/plain": [
       "{'pclass': 0.3125,\n",
       " 'survived': 1.0,\n",
       " 'name': 0.0323,\n",
       " 'sex': 0.5287,\n",
       " 'age': 0.0502,\n",
       " 'sibsp': 0.0278,\n",
       " 'parch': 0.0827,\n",
       " 'ticket': 0.1259,\n",
       " 'fare': 0.2442,\n",
       " 'cabin': 0.0923,\n",
       " 'embarked': 0.1753,\n",
       " 'boat': 0.6039,\n",
       " 'body': 0.0,\n",
       " 'home.dest': 0.0769}"
      ]
     },
     "execution_count": 414,
     "metadata": {},
     "output_type": "execute_result"
    }
   ],
   "source": [
    "# Now we the features with very strong positive correlation\n",
    "# and very strong negative correlation. (+1 and -1)\n",
    "feat_corr_abs = {} \n",
    "\n",
    "for icorr in high_corr_feat:\n",
    "    feat_corr_abs[f'{icorr}']= round(abs(high_corr_feat[icorr]), 4)\n",
    "\n",
    "feat_corr_abs"
   ]
  },
  {
   "cell_type": "markdown",
   "metadata": {},
   "source": [
    "## features with high correlation to the target will be selected below."
   ]
  },
  {
   "cell_type": "code",
   "execution_count": 415,
   "metadata": {},
   "outputs": [
    {
     "data": {
      "text/plain": [
       "['pclass', 'survived', 'sex', 'fare', 'embarked', 'boat']"
      ]
     },
     "execution_count": 415,
     "metadata": {},
     "output_type": "execute_result"
    }
   ],
   "source": [
    "feat_names = []\n",
    "\n",
    "for feat in feat_corr_abs:\n",
    "    ## HERE YOU CAN CHANGE THE THRESHOLD TO SELECT FEATURES! :)\n",
    "    if(feat_corr_abs[feat] > 0.15):\n",
    "        feat_names.append(feat)\n",
    "        \n",
    "feat_names"
   ]
  },
  {
   "cell_type": "code",
   "execution_count": 416,
   "metadata": {},
   "outputs": [
    {
     "data": {
      "text/plain": [
       "6"
      ]
     },
     "execution_count": 416,
     "metadata": {},
     "output_type": "execute_result"
    }
   ],
   "source": [
    "len(feat_names)"
   ]
  },
  {
   "cell_type": "code",
   "execution_count": 417,
   "metadata": {},
   "outputs": [
    {
     "data": {
      "text/plain": [
       "0.9084"
      ]
     },
     "execution_count": 417,
     "metadata": {},
     "output_type": "execute_result"
    }
   ],
   "source": [
    "df_corr = df[feat_names]\n",
    "\n",
    "# Alternatively X and y can be obtained directly from the dataframe attribute:\n",
    "X = df_corr.drop('survived', axis=1) # drop the column target\n",
    "y = df_corr['survived'] # target\n",
    "\n",
    "# Split-out validation dataset\n",
    "X_train, X_validation, Y_train, Y_validation = train_test_split(X, y, test_size=0.2, random_state=1)\n",
    "\n",
    "# modeling\n",
    "clf = MLPClassifier(random_state=1, max_iter=300).fit(X_train, Y_train)\n",
    "clf.predict_proba(X_validation[:1])\n",
    "round(clf.score(X_validation, Y_validation), 4)"
   ]
  },
  {
   "cell_type": "code",
   "execution_count": 418,
   "metadata": {},
   "outputs": [],
   "source": [
    "#df = df[feat_names]"
   ]
  },
  {
   "cell_type": "code",
   "execution_count": 419,
   "metadata": {},
   "outputs": [
    {
     "name": "stdout",
     "output_type": "stream",
     "text": [
      "<class 'pandas.core.frame.DataFrame'>\n",
      "RangeIndex: 1309 entries, 0 to 1308\n",
      "Columns: 15 entries, passengerid to home.dest\n",
      "dtypes: float64(3), int64(12)\n",
      "memory usage: 153.5 KB\n"
     ]
    }
   ],
   "source": [
    "# Memory used right now!\n",
    "df.info(verbose=False, memory_usage=\"deep\")"
   ]
  },
  {
   "cell_type": "code",
   "execution_count": 420,
   "metadata": {},
   "outputs": [
    {
     "data": {
      "text/plain": [
       "0    61.80%\n",
       "1    38.20%\n",
       "Name: survived, dtype: object"
      ]
     },
     "execution_count": 420,
     "metadata": {},
     "output_type": "execute_result"
    }
   ],
   "source": [
    "df['survived'].value_counts(normalize=True).map('{:.2%}'.format)"
   ]
  },
  {
   "cell_type": "code",
   "execution_count": 421,
   "metadata": {},
   "outputs": [
    {
     "data": {
      "text/plain": [
       "778    0.84%\n",
       "104    0.61%\n",
       "775    0.61%\n",
       "824    0.53%\n",
       "454    0.53%\n",
       "       ...  \n",
       "649    0.08%\n",
       "139    0.08%\n",
       "555    0.08%\n",
       "334    0.08%\n",
       "346    0.08%\n",
       "Name: ticket, Length: 929, dtype: object"
      ]
     },
     "execution_count": 421,
     "metadata": {},
     "output_type": "execute_result"
    }
   ],
   "source": [
    "df['ticket'].value_counts(normalize=True).map('{:.2%}'.format)"
   ]
  },
  {
   "cell_type": "code",
   "execution_count": 422,
   "metadata": {},
   "outputs": [],
   "source": [
    "from sklearn.datasets import load_digits\n",
    "from sklearn.feature_selection import SelectKBest, chi2, f_classif, mutual_info_classif\n",
    "from sklearn.model_selection import cross_val_score, KFold, StratifiedKFold"
   ]
  },
  {
   "cell_type": "markdown",
   "metadata": {},
   "source": [
    "### Modeling"
   ]
  },
  {
   "cell_type": "code",
   "execution_count": 423,
   "metadata": {},
   "outputs": [
    {
     "name": "stdout",
     "output_type": "stream",
     "text": [
      "k best number : 2 score: 0.6565\n",
      "k best number : 3 score: 0.5267\n",
      "k best number : 4 score: 0.7557\n",
      "k best number : 5 score: 0.7672\n",
      "k best number : 6 score: 0.771\n",
      "k best number : 7 score: 0.8092\n",
      "k best number : 8 score: 0.7977\n",
      "k best number : 9 score: 0.813\n",
      "k best number : 10 score: 0.8015\n",
      "k best number : 11 score: 0.7634\n",
      "k best number : 12 score: 0.8092\n",
      "k best number : 13 score: 0.8168\n",
      "k best number : 14 score: 0.8168\n"
     ]
    }
   ],
   "source": [
    "# This loop is to test all possibles values\n",
    "# for the k best features.\n",
    "for ikbest in range(2,15):\n",
    "    \n",
    "    # Alternatively X and y can be obtained directly from the dataframe attribute:\n",
    "    X = df.drop('survived', axis=1) # drop the column target\n",
    "    y = df['survived'] # target\n",
    "\n",
    "    selector = SelectKBest(score_func=chi2, k=ikbest)\n",
    "    selector.fit(X, y)\n",
    "\n",
    "    X = selector.transform(X)\n",
    "\n",
    "    column_names = list(df.columns)\n",
    "\n",
    "    top_features = sorted(zip(column_names, selector.scores_), key=lambda x: x[1], reverse=True)\n",
    "    #print(top_features[:ikbest])\n",
    "\n",
    "    # Split-out validation dataset\n",
    "    X_train, X_validation, Y_train, Y_validation = train_test_split(X, y, test_size=0.2, random_state=1)\n",
    "\n",
    "    #print(f'X - train shape -> {X_train.shape}')\n",
    "    #print(f'Y - train shape -> {Y_train.shape}')\n",
    "    #print(f'X - validation shape ->{X_validation.shape}')\n",
    "    #print(f'Y - validation shape ->{Y_validation.shape}')\n",
    "\n",
    "    # modeling\n",
    "    clf = MLPClassifier(random_state=1, max_iter=300).fit(X_train, Y_train)\n",
    "    clf.predict_proba(X_validation[:1])\n",
    "    print(f'k best number : {ikbest} score: {round(clf.score(X_validation, Y_validation), 4)}')"
   ]
  },
  {
   "cell_type": "markdown",
   "metadata": {},
   "source": [
    "## Cross Validation"
   ]
  },
  {
   "cell_type": "code",
   "execution_count": 424,
   "metadata": {},
   "outputs": [],
   "source": [
    "# Alternatively X and y can be obtained directly from the dataframe attribute:\n",
    "X = df_corr.drop('survived', axis=1) # drop the column target\n",
    "y = df_corr['survived'] # target"
   ]
  },
  {
   "cell_type": "code",
   "execution_count": 425,
   "metadata": {},
   "outputs": [],
   "source": [
    "## The cross validation applied to the dataset. \n",
    "## We select the features with high correlation to the target.\n",
    "\n",
    "# This maybe can be one overfitting!"
   ]
  },
  {
   "cell_type": "code",
   "execution_count": 426,
   "metadata": {},
   "outputs": [
    {
     "name": "stdout",
     "output_type": "stream",
     "text": [
      "################ Experiment #1 (random state) ####################\n",
      "#1 Cross Validation Scores are [0.93592677 0.92889908 0.91972477]\n",
      "#1 Average Cross Validation score :0.9281835422221288\n",
      "########################################################################\n",
      "################ Experiment #2 (random state) ####################\n",
      "#2 Cross Validation Scores are [0.89473684 0.83944954 0.80275229]\n",
      "#2 Average Cross Validation score :0.8456462256558828\n",
      "########################################################################\n",
      "################ Experiment #3 (random state) ####################\n",
      "#3 Cross Validation Scores are [0.93363844 0.93348624 0.9059633 ]\n",
      "#3 Average Cross Validation score :0.9243626617401102\n",
      "########################################################################\n",
      "################ Experiment #4 (random state) ####################\n",
      "#4 Cross Validation Scores are [0.9382151  0.92889908 0.9059633 ]\n",
      "#4 Average Cross Validation score :0.9243591627653097\n",
      "########################################################################\n",
      "################ Experiment #5 (random state) ####################\n",
      "#5 Cross Validation Scores are [0.9382151  0.91513761 0.91743119]\n",
      "#5 Average Cross Validation score :0.923594636771426\n",
      "########################################################################\n",
      "################ Experiment #6 (random state) ####################\n",
      "#6 Cross Validation Scores are [0.89016018 0.91972477 0.91743119]\n",
      "#6 Average Cross Validation score :0.909105382123038\n",
      "########################################################################\n",
      "################ Experiment #7 (random state) ####################\n",
      "#7 Cross Validation Scores are [0.93363844 0.83486239 0.91743119]\n",
      "#7 Average Cross Validation score :0.8953106739725261\n",
      "########################################################################\n",
      "################ Experiment #8 (random state) ####################\n",
      "#8 Cross Validation Scores are [0.93592677 0.93348624 0.91972477]\n",
      "#8 Average Cross Validation score :0.9297125942098964\n",
      "########################################################################\n",
      "################ Experiment #9 (random state) ####################\n",
      "#9 Cross Validation Scores are [0.93135011 0.93348624 0.91513761]\n",
      "#9 Average Cross Validation score :0.9266579892091618\n",
      "########################################################################\n",
      "################ Experiment #10 (random state) ####################\n",
      "#10 Cross Validation Scores are [0.91304348 0.92889908 0.88073394]\n",
      "#10 Average Cross Validation score :0.9075588352612685\n",
      "########################################################################\n",
      "################ Experiment #11 (random state) ####################\n",
      "#11 Cross Validation Scores are [0.90160183 0.93119266 0.91055046]\n",
      "#11 Average Cross Validation score :0.9144483166432235\n",
      "########################################################################\n",
      "################ Experiment #12 (random state) ####################\n",
      "#12 Cross Validation Scores are [0.9382151  0.93119266 0.91972477]\n",
      "#12 Average Cross Validation score :0.9297108447224963\n",
      "########################################################################\n",
      "################ Experiment #13 (random state) ####################\n",
      "#13 Cross Validation Scores are [0.93135011 0.93348624 0.91743119]\n",
      "#13 Average Cross Validation score :0.9274225152030455\n",
      "########################################################################\n",
      "################ Experiment #14 (random state) ####################\n",
      "#14 Cross Validation Scores are [0.94965675 0.92889908 0.91743119]\n",
      "#14 Average Cross Validation score :0.9319956752671468\n",
      "########################################################################\n",
      "################ Experiment #15 (random state) ####################\n",
      "#15 Cross Validation Scores are [0.9382151  0.92201835 0.86009174]\n",
      "#15 Average Cross Validation score :0.9067750649059825\n",
      "########################################################################\n",
      "################ Experiment #16 (random state) ####################\n",
      "#16 Cross Validation Scores are [0.9382151  0.93348624 0.89678899]\n",
      "#16 Average Cross Validation score :0.9228301107775422\n",
      "########################################################################\n",
      "################ Experiment #17 (random state) ####################\n",
      "#17 Cross Validation Scores are [0.94965675 0.93119266 0.91743119]\n",
      "#17 Average Cross Validation score :0.9327602012610305\n",
      "########################################################################\n",
      "################ Experiment #18 (random state) ####################\n",
      "#18 Cross Validation Scores are [0.94508009 0.9266055  0.90825688]\n",
      "#18 Average Cross Validation score :0.9266474922847605\n",
      "########################################################################\n",
      "################ Experiment #19 (random state) ####################\n",
      "#19 Cross Validation Scores are [0.9382151  0.92889908 0.91743119]\n",
      "#19 Average Cross Validation score :0.9281817927347288\n",
      "########################################################################\n"
     ]
    }
   ],
   "source": [
    "\n",
    "# This will make many experiments, how the final result change\n",
    "# according with the random state change\n",
    "for iseed in range(1,20):\n",
    "    kf=KFold(n_splits=3)\n",
    "    clf = MLPClassifier(random_state=iseed, max_iter=1000)\n",
    "    score=cross_val_score(clf,X,y,cv=kf)\n",
    "    \n",
    "    print(f'################ Experiment #{iseed} (random state) ####################')\n",
    "    print(f'#{iseed} Cross Validation Scores are {score}')\n",
    "    print(f'#{iseed} Average Cross Validation score :{score.mean()}')\n",
    "    print(f'########################################################################')"
   ]
  },
  {
   "cell_type": "code",
   "execution_count": 427,
   "metadata": {},
   "outputs": [],
   "source": [
    "from sklearn.linear_model import LogisticRegression\n",
    "from sklearn import datasets\n",
    "import pickle\n",
    "import joblib"
   ]
  },
  {
   "cell_type": "code",
   "execution_count": 428,
   "metadata": {},
   "outputs": [],
   "source": [
    "# Save the trained model as a pickle string.\n",
    "saved_model = pickle.dumps(clf)"
   ]
  },
  {
   "cell_type": "code",
   "execution_count": 429,
   "metadata": {},
   "outputs": [
    {
     "data": {
      "text/plain": [
       "b'\\x80\\x04\\x95,\\x02\\x00\\x00\\x00\\x00\\x00\\x00\\x8c-sklearn.neural_network._multilayer_perceptron\\x94\\x8c\\rMLPClassifier\\x94\\x93\\x94)\\x81\\x94}\\x94(\\x8c\\nactivation\\x94\\x8c\\x04relu\\x94\\x8c\\x06solver\\x94\\x8c\\x04adam\\x94\\x8c\\x05alpha\\x94G?\\x1a6\\xe2\\xeb\\x1cC-\\x8c\\nbatch_size\\x94\\x8c\\x04auto\\x94\\x8c\\rlearning_rate\\x94\\x8c\\x08constant\\x94\\x8c\\x12learning_rate_init\\x94G?PbM\\xd2\\xf1\\xa9\\xfc\\x8c\\x07power_t\\x94G?\\xe0\\x00\\x00\\x00\\x00\\x00\\x00\\x8c\\x08max_iter\\x94M\\xe8\\x03\\x8c\\x04loss\\x94\\x8c\\x08log_loss\\x94\\x8c\\x12hidden_layer_sizes\\x94Kd\\x85\\x94\\x8c\\x07shuffle\\x94\\x88\\x8c\\x0crandom_state\\x94K\\x13\\x8c\\x03tol\\x94G?\\x1a6\\xe2\\xeb\\x1cC-\\x8c\\x07verbose\\x94\\x89\\x8c\\nwarm_start\\x94\\x89\\x8c\\x08momentum\\x94G?\\xec\\xcc\\xcc\\xcc\\xcc\\xcc\\xcd\\x8c\\x12nesterovs_momentum\\x94\\x88\\x8c\\x0eearly_stopping\\x94\\x89\\x8c\\x13validation_fraction\\x94G?\\xb9\\x99\\x99\\x99\\x99\\x99\\x9a\\x8c\\x06beta_1\\x94G?\\xec\\xcc\\xcc\\xcc\\xcc\\xcc\\xcd\\x8c\\x06beta_2\\x94G?\\xef\\xf7\\xce\\xd9\\x16\\x87+\\x8c\\x07epsilon\\x94G>Ey\\x8e\\xe20\\x8c:\\x8c\\x10n_iter_no_change\\x94K\\n\\x8c\\x07max_fun\\x94M\\x98:\\x8c\\x10_sklearn_version\\x94\\x8c\\x051.0.2\\x94ub.'"
      ]
     },
     "execution_count": 429,
     "metadata": {},
     "output_type": "execute_result"
    }
   ],
   "source": [
    "# View the pickled model\n",
    "saved_model"
   ]
  },
  {
   "cell_type": "code",
   "execution_count": 430,
   "metadata": {},
   "outputs": [
    {
     "data": {
      "text/plain": [
       "['model_mlpclassifier.pkl']"
      ]
     },
     "execution_count": 430,
     "metadata": {},
     "output_type": "execute_result"
    }
   ],
   "source": [
    "# Save the model as a pickle in a file\n",
    "joblib.dump(clf, 'model_mlpclassifier.pkl') "
   ]
  },
  {
   "cell_type": "code",
   "execution_count": 431,
   "metadata": {},
   "outputs": [
    {
     "name": "stdout",
     "output_type": "stream",
     "text": [
      "Cross Validation Scores are [0.47597254 0.85550459 0.82798165]\n",
      "Average Cross Validation score :0.7198195928592922\n"
     ]
    }
   ],
   "source": [
    "# This is another method to do Cross validation:\n",
    "stratifiedkf=StratifiedKFold(n_splits=3)\n",
    "score=cross_val_score(clf,X,y,cv=stratifiedkf)\n",
    "print(\"Cross Validation Scores are {}\".format(score))\n",
    "print(\"Average Cross Validation score :{}\".format(score.mean()))"
   ]
  },
  {
   "cell_type": "code",
   "execution_count": 432,
   "metadata": {},
   "outputs": [],
   "source": [
    "from sklearn.ensemble import ExtraTreesClassifier\n",
    "import numpy as np\n",
    "from sklearn.metrics import plot_confusion_matrix\n",
    "from sklearn.metrics import confusion_matrix, ConfusionMatrixDisplay\n",
    "from sklearn import datasets, metrics, model_selection"
   ]
  },
  {
   "cell_type": "code",
   "execution_count": 433,
   "metadata": {},
   "outputs": [],
   "source": [
    "# Alternatively X and y can be obtained directly from the dataframe attribute:\n",
    "X = df.drop('survived', axis=1) # drop the column target\n",
    "y = df['survived'] # target"
   ]
  },
  {
   "cell_type": "code",
   "execution_count": 434,
   "metadata": {},
   "outputs": [],
   "source": [
    "# Building the model\n",
    "extra_tree_forest = ExtraTreesClassifier(n_estimators =9,\n",
    "                                         criterion ='entropy', \n",
    "                                         max_features = 2)\n",
    "  \n",
    "# Training the model\n",
    "extra_tree_forest.fit(X, y)\n",
    "  \n",
    "# Computing the importance of each feature\n",
    "feature_importance = extra_tree_forest.feature_importances_\n",
    "  \n",
    "# Normalizing the individual importances\n",
    "feature_importance_normalized = np.std([tree.feature_importances_ for tree in \n",
    "                                        extra_tree_forest.estimators_],\n",
    "                                        axis = 0)"
   ]
  },
  {
   "cell_type": "code",
   "execution_count": 435,
   "metadata": {},
   "outputs": [
    {
     "data": {
      "image/png": "[encoded data removed]",
      "text/plain": [
       "<Figure size 936x720 with 1 Axes>"
      ]
     },
     "metadata": {},
     "output_type": "display_data"
    }
   ],
   "source": [
    "\n",
    "# Plotting a Bar Graph to compare the models\n",
    "plt.figure(figsize=(13,10))\n",
    "plt.bar(X.columns, feature_importance_normalized)\n",
    "plt.xlabel('Feature Labels')\n",
    "plt.ylabel('Feature Importances')\n",
    "plt.title('Comparison of different Feature Importances')\n",
    "plt.axhline(y = 0.02, color = 'r', linestyle = 'dashed')\n",
    "plt.xticks(rotation=35)\n",
    "plt.show()"
   ]
  },
  {
   "cell_type": "code",
   "execution_count": 436,
   "metadata": {},
   "outputs": [],
   "source": [
    "# Alternatively X and y can be obtained directly from the dataframe attribute:\n",
    "X = df.drop('survived', axis=1) # drop the column target\n",
    "y = df['survived'] # target"
   ]
  },
  {
   "cell_type": "markdown",
   "metadata": {},
   "source": [
    "## sklearn fornece uma função de hold-out"
   ]
  },
  {
   "cell_type": "code",
   "execution_count": 437,
   "metadata": {},
   "outputs": [
    {
     "data": {
      "text/plain": [
       "0.8240740740740741"
      ]
     },
     "execution_count": 437,
     "metadata": {},
     "output_type": "execute_result"
    }
   ],
   "source": [
    "# Training\n",
    "X_train, X_test, y_train, y_test = train_test_split(X, y, test_size=0.33, random_state=42)\n",
    "\n",
    "model = MLPClassifier(hidden_layer_sizes=(25, 25), max_iter=500, random_state=42)\n",
    "model.fit(X_train, y_train)\n",
    "model.score(X_test, y_test)"
   ]
  },
  {
   "cell_type": "markdown",
   "metadata": {},
   "source": [
    "### Você sobreviveria ao Titanic?"
   ]
  },
  {
   "cell_type": "code",
   "execution_count": 447,
   "metadata": {},
   "outputs": [
    {
     "data": {
      "text/plain": [
       "Index(['pclass', 'survived', 'sex', 'fare', 'embarked', 'boat'], dtype='object')"
      ]
     },
     "execution_count": 447,
     "metadata": {},
     "output_type": "execute_result"
    }
   ],
   "source": [
    "df_corr.columns\n"
   ]
  },
  {
   "cell_type": "code",
   "execution_count": 448,
   "metadata": {},
   "outputs": [
    {
     "data": {
      "text/plain": [
       "0.9084"
      ]
     },
     "execution_count": 448,
     "metadata": {},
     "output_type": "execute_result"
    }
   ],
   "source": [
    "df_corr = df[feat_names]\n",
    "\n",
    "# Alternatively X and y can be obtained directly from the dataframe attribute:\n",
    "X = df_corr.drop('survived', axis=1) # drop the column target\n",
    "y = df_corr['survived'] # target\n",
    "\n",
    "# Split-out validation dataset\n",
    "X_train, X_validation, Y_train, Y_validation = train_test_split(X, y, test_size=0.2, random_state=1)\n",
    "\n",
    "# modeling\n",
    "clf = MLPClassifier(random_state=1, max_iter=500).fit(X_train, Y_train)\n",
    "clf.predict_proba(X_validation[:1])\n",
    "round(clf.score(X_validation, Y_validation), 4)"
   ]
  },
  {
   "cell_type": "code",
   "execution_count": 453,
   "metadata": {},
   "outputs": [
    {
     "name": "stdout",
     "output_type": "stream",
     "text": [
      "anderson:\t1\n",
      "mala:\t \t1\n",
      "rebeca:\t \t0\n"
     ]
    },
    {
     "name": "stderr",
     "output_type": "stream",
     "text": [
      "/home/andsilva/anaconda3/lib/python3.9/site-packages/sklearn/base.py:450: UserWarning: X does not have valid feature names, but MLPClassifier was fitted with feature names\n",
      "  warnings.warn(\n",
      "/home/andsilva/anaconda3/lib/python3.9/site-packages/sklearn/base.py:450: UserWarning: X does not have valid feature names, but MLPClassifier was fitted with feature names\n",
      "  warnings.warn(\n",
      "/home/andsilva/anaconda3/lib/python3.9/site-packages/sklearn/base.py:450: UserWarning: X does not have valid feature names, but MLPClassifier was fitted with feature names\n",
      "  warnings.warn(\n"
     ]
    }
   ],
   "source": [
    "# pclass: 3, sex:1, fare: 150, embarked: 2, boat: 3\n",
    "anderson = np.array([3, 1, 150, 2, 3]).reshape((1, -1))\n",
    "\n",
    "# pclass: 1, sex: 0, fare: 250, embarked: 0, boat: 7\n",
    "mala = np.array([1, 0, 250, 0, 7]).reshape((1, -1))\n",
    "\n",
    "# pclass: 1, sex: 0, fare: 250, embarked: 0, boat: 7\n",
    "rebeca = np.array([3, 0, 50, 2, 4]).reshape((1, -1))\n",
    "\n",
    "# verificar se nós teríamos sobrevivido\n",
    "print(\"anderson:\\t{}\".format(clf.predict(anderson)[0]))\n",
    "print(\"mala:\\t \\t{}\".format(clf.predict(mala)[0]))\n",
    "print(\"rebeca:\\t \\t{}\".format(clf.predict(rebeca)[0]))"
   ]
  },
  {
   "cell_type": "markdown",
   "metadata": {},
   "source": [
    "## Confusion Matrix to evaluate the accuracy of a classification"
   ]
  },
  {
   "cell_type": "code",
   "execution_count": null,
   "metadata": {},
   "outputs": [
    {
     "data": {
      "text/plain": [
       "<Figure size 936x720 with 0 Axes>"
      ]
     },
     "metadata": {},
     "output_type": "display_data"
    },
    {
     "data": {
      "image/png": "[encoded data removed]",
      "text/plain": [
       "<Figure size 432x288 with 2 Axes>"
      ]
     },
     "metadata": {},
     "output_type": "display_data"
    }
   ],
   "source": [
    "plt.figure(figsize=(13,10))\n",
    "ConfusionMatrixDisplay.from_estimator(model, X_test, y_test)\n",
    "\n",
    "plt.show()"
   ]
  },
  {
   "cell_type": "code",
   "execution_count": null,
   "metadata": {},
   "outputs": [
    {
     "name": "stderr",
     "output_type": "stream",
     "text": [
      "/home/andsilva/anaconda3/lib/python3.9/site-packages/sklearn/utils/deprecation.py:87: FutureWarning: Function plot_roc_curve is deprecated; Function :func:`plot_roc_curve` is deprecated in 1.0 and will be removed in 1.2. Use one of the class methods: :meth:`sklearn.metric.RocCurveDisplay.from_predictions` or :meth:`sklearn.metric.RocCurveDisplay.from_estimator`.\n",
      "  warnings.warn(msg, category=FutureWarning)\n"
     ]
    },
    {
     "data": {
      "text/plain": [
       "<sklearn.metrics._plot.roc_curve.RocCurveDisplay at 0x7f3d3a0353d0>"
      ]
     },
     "execution_count": 85,
     "metadata": {},
     "output_type": "execute_result"
    },
    {
     "data": {
      "image/png": "[encoded data removed]",
      "text/plain": [
       "<Figure size 432x288 with 1 Axes>"
      ]
     },
     "metadata": {},
     "output_type": "display_data"
    }
   ],
   "source": [
    "metrics.plot_roc_curve(model, X_test, y_test)"
   ]
  }
 ],
 "metadata": {
  "interpreter": {
   "hash": "e9fdd6a906b0a436d5024ede8a58cdb85cf91b189ffbb474863b8f211ce55112"
  },
  "kernelspec": {
   "display_name": "Python 3 (ipykernel)",
   "language": "python",
   "name": "python3"
  },
  "language_info": {
   "codemirror_mode": {
    "name": "ipython",
    "version": 3
   },
   "file_extension": ".py",
   "mimetype": "text/x-python",
   "name": "python",
   "nbconvert_exporter": "python",
   "pygments_lexer": "ipython3",
   "version": "3.9.12"
  }
 },
 "nbformat": 4,
 "nbformat_minor": 2
}
