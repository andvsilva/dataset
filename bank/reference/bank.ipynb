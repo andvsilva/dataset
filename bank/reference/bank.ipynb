{
 "cells": [
  {
   "cell_type": "code",
   "execution_count": 1,
   "metadata": {},
   "outputs": [],
   "source": [
    "from datetime import datetime\n",
    "\n",
    "\n",
    "class Cliente:\n",
    "    def __init__(self, nome, sobrenome, login, senha):\n",
    "        self.nome = nome\n",
    "        self.sobrenome = sobrenome\n",
    "        self.email = login\n",
    "        self.senha = senha\n",
    "\n",
    "    def nome_completo(self):\n",
    "        return f'{self.nome} {self.sobrenome}'\n",
    "\n",
    "class Acesso:\n",
    "    def checa_senha(self, login, senha):\n",
    "        self.login = login\n",
    "        self.senha = senha\n",
    "\n",
    "        if login == self.login and senha == self.senha:\n",
    "            print(\" Conta inicializada\")\n",
    "        else: \n",
    "            print('Usuário inválido')\n",
    "\n",
    "        def mostra_login(self):\n",
    "            print(self.login)\n",
    "\n",
    "        def mostra_senha(self):\n",
    "            print(self.senha)\n",
    "class Extrato:\n",
    "    def __init__(self):\n",
    "        self.data_abertura = datetime.now().strftime(\"%Y-%m-%d  %H:%M:%S\")\n",
    "        self.transacoes = []\n",
    "\n",
    "    def imprime(self):\n",
    "        print('data abertura: {}'.format(self.data_abertura))\n",
    "        print('transacoes:')\n",
    "        for i in self.transacoes:\n",
    "            print('-', i)\n",
    "            \n",
    "class Conta:\n",
    "    def __init__(self, numero, cliente, saldo, limite = 1000.0):\n",
    "        self.extrato = Extrato()\n",
    "        self.numero = numero\n",
    "        self.cliente = cliente\n",
    "        self.saldo = saldo\n",
    "        self.limite = limite\n",
    "        self.extrato = Extrato()\n",
    "\n",
    "    def imprimeSaldo(self):\n",
    "        print(\"Saldo: R$ %.2f\" %self.saldo)\n",
    "\n",
    "    def deposita(self, valor):\n",
    "        self.saldo += valor #saldo + valor\n",
    "        self.extrato.transacoes.append('deposito de {}'.format(valor))\n",
    "\n",
    "    def saca(self, valor):\n",
    "        if (self.saldo<valor):\n",
    "            return False\n",
    "        else:\n",
    "            self.saldo -= valor\n",
    "            self.extrato.transacoes.append('Saque de {}'.format(valor))\n",
    "\n",
    "    def extrato(self):\n",
    "        print('numero: {} \\nsaldo: {}'.format(self.numero, self.saldo))\n",
    "        self.extrato.transacoes.append('Tirou extrato- saldo de {}'.format(self.saldo))\n",
    "\n",
    "    def transfere_para(self, destino, valor):\n",
    "        retirou = self.saca(valor)\n",
    "        if(retirou == False):\n",
    "            return False\n",
    "        else:\n",
    "            destino.deposita(valor)\n",
    "            self.extrato.transacoes.append('Transferencia de {} para a {}'.format(valor, destino.numero))\n",
    "            return True"
   ]
  },
  {
   "cell_type": "code",
   "execution_count": 2,
   "metadata": {},
   "outputs": [],
   "source": [
    "cliente1 = Cliente('Rebeca', 'Praia', 'Rebeca234', '12345')\n",
    "cliente2 = Cliente('Adriana', 'Mayara', 'Adriana23', '54321')"
   ]
  },
  {
   "cell_type": "code",
   "execution_count": 3,
   "metadata": {},
   "outputs": [
    {
     "name": "stdout",
     "output_type": "stream",
     "text": [
      "data abertura: 2022-04-17  22:03:17\n",
      "transacoes:\n",
      "- deposito de 100.0\n",
      "- Saque de 50.0\n",
      "- Saque de 200.0\n",
      "- Transferencia de 200.0 para a 123-5\n"
     ]
    }
   ],
   "source": [
    "conta1 = Conta('123-4', cliente1, 1000.0)\n",
    "conta2 = Conta('123-5', cliente2, 1000.0)\n",
    "conta1.deposita(100.0)\n",
    "conta1.saca(50.0)\n",
    "conta1.transfere_para(conta2, 200.0)\n",
    "conta1.extrato\n",
    "conta1.extrato.imprime()"
   ]
  },
  {
   "cell_type": "code",
   "execution_count": 4,
   "metadata": {},
   "outputs": [
    {
     "name": "stdout",
     "output_type": "stream",
     "text": [
      "data abertura: 2022-04-17  22:03:17\n",
      "transacoes:\n",
      "- deposito de 200.0\n"
     ]
    }
   ],
   "source": [
    "conta2.extrato.imprime()"
   ]
  },
  {
   "cell_type": "code",
   "execution_count": 5,
   "metadata": {},
   "outputs": [
    {
     "name": "stdout",
     "output_type": "stream",
     "text": [
      "Usuário criado com sucesso!\n"
     ]
    }
   ],
   "source": [
    "nome = input('Informe o nome: ')\n",
    "sobrenome = input('Informe o sobrenome: ')\n",
    "login = input('Informe o seu usuário: ')\n",
    "senha = input(' Informe a sua senha: ')\n",
    "confirma_senha = input('Confirma a senha: ')\n",
    "\n",
    "if senha == confirma_senha:\n",
    "  user = Cliente(nome, sobrenome, login, senha)\n",
    "else:\n",
    "  print('Senha não confere..')\n",
    "print('Usuário criado com sucesso!')\n",
    "\n",
    "#senha = input('Informe a senha para acesso: ')"
   ]
  }
 ],
 "metadata": {
  "interpreter": {
   "hash": "e9fdd6a906b0a436d5024ede8a58cdb85cf91b189ffbb474863b8f211ce55112"
  },
  "kernelspec": {
   "display_name": "Python 3.9.12 ('base')",
   "language": "python",
   "name": "python3"
  },
  "language_info": {
   "codemirror_mode": {
    "name": "ipython",
    "version": 3
   },
   "file_extension": ".py",
   "mimetype": "text/x-python",
   "name": "python",
   "nbconvert_exporter": "python",
   "pygments_lexer": "ipython3",
   "version": "3.9.12"
  },
  "orig_nbformat": 4
 },
 "nbformat": 4,
 "nbformat_minor": 2
}
