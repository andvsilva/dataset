{
  "nbformat": 4,
  "nbformat_minor": 0,
  "metadata": {
    "colab": {
      "name": " Rebeca  Praia - SistemaCompletoDeBanco.ipynb",
      "provenance": [],
      "collapsed_sections": []
    },
    "kernelspec": {
      "name": "python3",
      "display_name": "Python 3"
    },
    "language_info": {
      "name": "python"
    }
  },
  "cells": [
    {
      "cell_type": "markdown",
      "source": [
        "# Funções para sistema de cadastro de banco"
      ],
      "metadata": {
        "id": "oaLb370JwZBY"
      }
    },
    {
      "cell_type": "code",
      "execution_count": null,
      "metadata": {
        "id": "YCuuKsQRv5Rd"
      },
      "outputs": [],
      "source": [
        "Clientes = {'cod':[], 'nome': [], 'tel': [], 'cc': []}\n",
        "Contas = {'cod':[], 'saldo':[], 'tr':[]}\n",
        "Transf = {'cod':[], 'tipo':[],'origem':[],'destino': [], 'valor': []}\n",
        "\n",
        "numClientes = 0\n"
      ]
    },
    {
      "cell_type": "code",
      "source": [
        "def CadastrarCliente():\n",
        "  global numClientes\n",
        "\n",
        "  if numClientes < 20:\n",
        "    cod = input('\\n Informe o código do cliente: ')\n",
        "    nome = input('\\n Informe o nome do cliente: ')\n",
        "    tel = input('\\n Informe o telefone do cliente: ')\n",
        "    cc = input('\\n Informe o numero da conta corrente do cliente: ')\n",
        "    pdeposito = float(input(\"Informe o valor do deposito inicial: \"))\n",
        "\n",
        "    Clientes['cod'].append(cod)\n",
        "    Clientes['nome'].append(nome)\n",
        "    Clientes['tel'].append(tel)\n",
        "    Clientes['cc'].append(cc)\n",
        "    Contas['cod'].append(cod)\n",
        "    Contas['saldo'].append(pdeposito)\n",
        "    numClientes += 1\n",
        "  else:\n",
        "    print('\\n Numero maximo de clientes atingido!!')\n",
        "    print('Encerrando o sistema...')\n",
        "\n"
      ],
      "metadata": {
        "id": "LXMMRC8nybLe"
      },
      "execution_count": null,
      "outputs": []
    },
    {
      "cell_type": "code",
      "source": [
        "CadastrarCliente()"
      ],
      "metadata": {
        "colab": {
          "base_uri": "https://localhost:8080/"
        },
        "id": "yeswzDWm0oxa",
        "outputId": "0e53eea3-b3c0-4eaa-852d-c86d13192df7"
      },
      "execution_count": null,
      "outputs": [
        {
          "name": "stdout",
          "output_type": "stream",
          "text": [
            "\n",
            " Informe o código do cliente: 1526\n",
            "\n",
            " Informe o nome do cliente: Rebeca Travassos Praia\n",
            "\n",
            " Informe o telefone do cliente: 9345781245\n",
            "\n",
            " Informe o numero da conta corrente do cliente: 1346\n",
            "Informe o valor do deposito inicial: 1500000000\n"
          ]
        }
      ]
    },
    {
      "cell_type": "code",
      "source": [
        "\n",
        "print(numClientes)"
      ],
      "metadata": {
        "colab": {
          "base_uri": "https://localhost:8080/"
        },
        "id": "IpmxShlJ1FBJ",
        "outputId": "e8b52b6c-05b0-4c15-a820-d6b174f074a0"
      },
      "execution_count": null,
      "outputs": [
        {
          "output_type": "stream",
          "name": "stdout",
          "text": [
            "2\n"
          ]
        }
      ]
    },
    {
      "cell_type": "code",
      "source": [
        "5689"
      ],
      "metadata": {
        "id": "ZXApYlP60wSn"
      },
      "execution_count": null,
      "outputs": []
    },
    {
      "cell_type": "code",
      "source": [
        "print(Clientes)"
      ],
      "metadata": {
        "colab": {
          "base_uri": "https://localhost:8080/"
        },
        "id": "k4xVXDqQ2gvQ",
        "outputId": "c8aae6ec-29c3-413c-965a-dfa4c9aee79c"
      },
      "execution_count": null,
      "outputs": [
        {
          "output_type": "stream",
          "name": "stdout",
          "text": [
            "{'cod': ['1245', '5689'], 'nome': ['Josecley', 'Yana'], 'tel': ['93981200014', '9398145254'], 'cc': ['23568-5', '45785-9']}\n"
          ]
        }
      ]
    },
    {
      "cell_type": "code",
      "source": [
        "print(Contas)"
      ],
      "metadata": {
        "colab": {
          "base_uri": "https://localhost:8080/"
        },
        "id": "4vwkcF7N2l6b",
        "outputId": "5ba0050d-04cc-4d84-9b85-dc58a37e8020"
      },
      "execution_count": null,
      "outputs": [
        {
          "output_type": "stream",
          "name": "stdout",
          "text": [
            "{'cod': ['1245', '5689'], 'saldo': [20000.0, 50000.0], 'tr': []}\n"
          ]
        }
      ]
    },
    {
      "cell_type": "code",
      "source": [
        "def ConsultarCliente():\n",
        "  cod = input('\\n Informe o codigo do cliente: ')\n",
        "\n",
        "  codv = cod in Clientes['cod'] # retorna True ou False\n",
        "\n",
        "  if codv == True:\n",
        "    pos = Clientes['cod'].index(cod)\n",
        "    print(f\"{'Codigo'}  {'Nome':>10} {'Telefone':>20} {'Conta':>20} {'Saldo': >15}\")\n",
        "    print(f\"{Clientes['cod'][pos]}  {Clientes['nome'][pos]:>12} {Clientes['tel'][pos]:>22} {Clientes['cc'][pos]:>20} {Contas['saldo'][pos]: >15}\")\n",
        "  else:\n",
        "   print('Código Inválido!!')"
      ],
      "metadata": {
        "id": "oYf5pDy72rec"
      },
      "execution_count": null,
      "outputs": []
    },
    {
      "cell_type": "code",
      "source": [
        "ConsultarCliente()"
      ],
      "metadata": {
        "colab": {
          "base_uri": "https://localhost:8080/"
        },
        "id": "MMevVpeU4wP2",
        "outputId": "dbda394e-a5d4-4bb9-ff8e-f22f239ede26"
      },
      "execution_count": null,
      "outputs": [
        {
          "output_type": "stream",
          "name": "stdout",
          "text": [
            "\n",
            " Informe o codigo do cliente: 1245\n",
            "Codigo        Nome             Telefone                Conta           Saldo\n",
            "1245      Josecley            93981200014              23568-5         20000.0\n"
          ]
        }
      ]
    },
    {
      "cell_type": "code",
      "source": [
        "def AtualizarCadastro():\n",
        "  \n",
        "  cod = input('\\n Informe o codigo do cliente: ')\n",
        "\n",
        "  codv = cod in Clientes['cod'] # retorna True ou False\n",
        "  if codv == True:\n",
        "    novonome = input(\"Informe o novo nome do cliente: \")\n",
        "    novotel = input(\"Informe o novo telefone do cliente: \")\n",
        "\n",
        "    pos = Clientes['cod'].index(cod)\n",
        "\n",
        "    Clientes['nome'][pos] = novonome\n",
        "    Clientes['tel'][pos] = novotel\n",
        "    print('Dados do cliente atualizado!!!')\n",
        "  else:\n",
        "    print('Codigo Invalido!!!')"
      ],
      "metadata": {
        "id": "61tZFsvd5Acw"
      },
      "execution_count": null,
      "outputs": []
    },
    {
      "cell_type": "code",
      "source": [
        "AtualizarCadastro()"
      ],
      "metadata": {
        "colab": {
          "base_uri": "https://localhost:8080/"
        },
        "id": "dGpSJkUK8f-B",
        "outputId": "6ae7a7fb-8711-4af6-b2fb-faf6cc0dfeac"
      },
      "execution_count": null,
      "outputs": [
        {
          "output_type": "stream",
          "name": "stdout",
          "text": [
            "\n",
            " Informe o codigo do cliente: 1245\n",
            "Informe o novo nome do cliente: Josecley F. Goes\n",
            "Informe o novo telefone do cliente: 93981200014\n",
            "Dados do cliente atualizado!!!\n"
          ]
        }
      ]
    },
    {
      "cell_type": "code",
      "source": [
        "ConsultarCliente()"
      ],
      "metadata": {
        "colab": {
          "base_uri": "https://localhost:8080/"
        },
        "id": "i5X8MFin8iEv",
        "outputId": "374cddcd-e2f3-4b0e-84fd-559a13d7bef8"
      },
      "execution_count": null,
      "outputs": [
        {
          "output_type": "stream",
          "name": "stdout",
          "text": [
            "\n",
            " Informe o codigo do cliente: 1245\n",
            "Codigo        Nome             Telefone                Conta           Saldo\n",
            "1245  Josecley F. Goes            93981200014              23568-5         20000.0\n"
          ]
        }
      ]
    },
    {
      "cell_type": "code",
      "source": [
        "def RemoverCliente():\n",
        "  cod = input('\\n Informe o codigo do cliente: ')\n",
        "\n",
        "  codv = cod in Clientes['cod'] # retorna True ou False\n",
        "  if codv == True:\n",
        "    pos = Clientes['cod'].index(cod)\n",
        "    Clientes['cod'].pop(pos)\n",
        "    Clientes['nome'].pop(pos)\n",
        "    Clientes['tel'].pop(pos)\n",
        "    Clientes['cc'].pop(pos)\n",
        "    Contas['cod'].pop(pos)\n",
        "    Contas['saldo'].pop(pos)\n",
        "\n",
        "    print('Cliente removido com sucesso!!')\n",
        "  else:\n",
        "    print('Codigo Invalido!!!')\n"
      ],
      "metadata": {
        "id": "X2VUi4ky8rnm"
      },
      "execution_count": null,
      "outputs": []
    },
    {
      "cell_type": "code",
      "source": [
        "RemoverCliente()"
      ],
      "metadata": {
        "colab": {
          "base_uri": "https://localhost:8080/"
        },
        "id": "pE1j53_p-Ump",
        "outputId": "ddac765f-deaa-43f1-a84b-982a43907517"
      },
      "execution_count": null,
      "outputs": [
        {
          "output_type": "stream",
          "name": "stdout",
          "text": [
            "\n",
            " Informe o codigo do cliente: 1245\n",
            "Cliente removido com sucesso!!\n"
          ]
        }
      ]
    },
    {
      "cell_type": "code",
      "source": [
        "ConsultarCliente()"
      ],
      "metadata": {
        "colab": {
          "base_uri": "https://localhost:8080/"
        },
        "id": "jwyiPQFD-Vlr",
        "outputId": "5a518bcb-2eee-4600-a2ca-ffa58f03110a"
      },
      "execution_count": null,
      "outputs": [
        {
          "output_type": "stream",
          "name": "stdout",
          "text": [
            "\n",
            " Informe o codigo do cliente: 1245\n",
            "Código Inválido!!\n"
          ]
        }
      ]
    },
    {
      "cell_type": "code",
      "source": [
        "print(Clientes)"
      ],
      "metadata": {
        "colab": {
          "base_uri": "https://localhost:8080/"
        },
        "id": "5fwjWldb-alp",
        "outputId": "5428115a-67df-4b96-9187-940a0c184393"
      },
      "execution_count": null,
      "outputs": [
        {
          "output_type": "stream",
          "name": "stdout",
          "text": [
            "{'cod': ['5689'], 'nome': ['Yana'], 'tel': ['9398145254'], 'cc': ['45785-9']}\n"
          ]
        }
      ]
    },
    {
      "cell_type": "code",
      "source": [
        "def ListaDeClientes():\n",
        "  global numClientes\n",
        "  print(f\"{'Codigo'}  {'Nome':>10} {'Telefone':>30} {'Conta':>20} {'Saldo': >15}\")\n",
        "  print('\\n')\n",
        "\n",
        "  for pos in range(numClientes-1):\n",
        "    print(f\"{Clientes['cod'][pos]}  {Clientes['nome'][pos]:>12} {Clientes['tel'][pos]:>28} {Clientes['cc'][pos]:>20} {Contas['saldo'][pos]: >15}\")"
      ],
      "metadata": {
        "id": "hiuoOGlb-hv8"
      },
      "execution_count": null,
      "outputs": []
    },
    {
      "cell_type": "code",
      "source": [
        "ListaDeClientes()"
      ],
      "metadata": {
        "colab": {
          "base_uri": "https://localhost:8080/"
        },
        "id": "baDAB3cF_uPE",
        "outputId": "e27134c0-3dc6-4fbe-bc0f-91d093eada73"
      },
      "execution_count": null,
      "outputs": [
        {
          "output_type": "stream",
          "name": "stdout",
          "text": [
            "Codigo        Nome                       Telefone                Conta           Saldo\n",
            "\n",
            "\n",
            "5689          Yana                   9398145254              45785-9         50000.0\n",
            "1245  Josecley F. Goes                  93981200014              12457-5         20000.0\n",
            "8956  Ingrid Sousa da Silva                   9398451732                 1379        100000.0\n",
            "1526  Rebeca Travassos Praia                   9345781245                 1346    1500000000.0\n"
          ]
        }
      ]
    },
    {
      "cell_type": "markdown",
      "source": [
        "#### Funções criadas para análise de dados dos clientes:\n",
        "\n",
        "1. CadastrarCliente();\n",
        "\n",
        "2.  ConsultarCliente();\n",
        "\n",
        "3. AtualizarCadastro();\n",
        "\n",
        "4. RemoverCliente();\n",
        "\n",
        "5. ListaDeClientes();\n",
        "\n"
      ],
      "metadata": {
        "id": "xX_nj3pZA8FF"
      }
    },
    {
      "cell_type": "markdown",
      "source": [
        "### Movimentação na conta do cliente:\n",
        "\n",
        "1. Deposito;\n",
        "2. Saque;\n",
        "3. Transferência;\n",
        "4. Imprimir lista de transações (Extrato da conta);"
      ],
      "metadata": {
        "id": "PJh7-gzAB87X"
      }
    },
    {
      "cell_type": "code",
      "source": [
        "def Deposito():\n",
        "  cod = input('\\nInforme o codigo do cliente para realizar o deposito: ')\n",
        "\n",
        "  codv = cod in Clientes['cod'] # retorna True ou False\n",
        "  if codv == True:\n",
        "    pos = Clientes['cod'].index(cod)\n",
        "    deposito = float(input('\\n Informe o valor do deposito: '))\n",
        "    valor = Contas['saldo'][pos]\n",
        "    valor += deposito\n",
        "    Contas['saldo'][pos] = valor\n",
        "    print(\"Deposito realizado com sucesso\")\n",
        "    c = input('Deseja imprimir o comprovante (s/n)? ')\n",
        "\n",
        "    if c == 's':\n",
        "      pass\n",
        "    else:\n",
        "      pass\n",
        "\n",
        "  else:\n",
        "    print('Conta Inexistente!!')"
      ],
      "metadata": {
        "id": "Jj5v2d3z_xzH"
      },
      "execution_count": null,
      "outputs": []
    },
    {
      "cell_type": "code",
      "source": [
        "Deposito()"
      ],
      "metadata": {
        "colab": {
          "base_uri": "https://localhost:8080/"
        },
        "id": "xRcS08p___eM",
        "outputId": "47c2ce9e-7fdb-43d5-b2d1-2839eb1ee3b8"
      },
      "execution_count": null,
      "outputs": [
        {
          "name": "stdout",
          "output_type": "stream",
          "text": [
            "\n",
            "Informe o codigo do cliente para realizar o deposito: 5689\n",
            "\n",
            " Informe o valor do deposito: 5000\n",
            "Deposito realizado com sucesso\n",
            "Deseja imprimir o comprovante (s/n)? s\n"
          ]
        }
      ]
    },
    {
      "cell_type": "code",
      "source": [
        "ConsultarCliente()"
      ],
      "metadata": {
        "colab": {
          "base_uri": "https://localhost:8080/"
        },
        "id": "TvuZQFuJAGtS",
        "outputId": "2ef8aa8b-c6c7-4ba3-c639-a2845e84c77c"
      },
      "execution_count": null,
      "outputs": [
        {
          "output_type": "stream",
          "name": "stdout",
          "text": [
            "\n",
            " Informe o codigo do cliente: 5689\n",
            "Codigo        Nome             Telefone                Conta           Saldo\n",
            "5689          Yana             9398145254              45785-9        110000.0\n"
          ]
        }
      ]
    },
    {
      "cell_type": "code",
      "source": [
        "ListaDeClientes()"
      ],
      "metadata": {
        "colab": {
          "base_uri": "https://localhost:8080/"
        },
        "id": "YGxBeVmrAL8p",
        "outputId": "1a405ad8-7714-4c89-de74-ef304e3657c1"
      },
      "execution_count": null,
      "outputs": [
        {
          "output_type": "stream",
          "name": "stdout",
          "text": [
            "Codigo        Nome                       Telefone                Conta           Saldo\n",
            "\n",
            "\n",
            "5689          Yana                   9398145254              45785-9        110000.0\n",
            "1245  Josecley F. Goes                  93981200014              12457-5         20000.0\n",
            "8956  Ingrid Sousa da Silva                   9398451732                 1379        100000.0\n",
            "1526  Rebeca Travassos Praia                   9345781245                 1346    1500000000.0\n"
          ]
        }
      ]
    },
    {
      "cell_type": "code",
      "source": [
        "def saque():\n",
        "  cod = input('\\nInforme o codigo do cliente para realizar o saque: ')\n",
        "\n",
        "  codv = cod in Clientes['cod'] # retorna True ou False\n",
        "\n",
        "  if codv == True:\n",
        "    pos = Clientes['cod'].index(cod)\n",
        "    saque = float(input('\\n Informe o valor do saque: '))\n",
        "    valor = Contas['saldo'][pos]\n",
        "\n",
        "    if valor > saque:\n",
        "      valor = valor - saque\n",
        "      Contas['saldo'][pos] = valor\n",
        "      print(\"Saque realizado com sucesso\")\n",
        "      \n",
        "      c = input('Deseja imprimir o comprovante (s/n)? ')\n",
        "\n",
        "      if c == 's':\n",
        "        pass\n",
        "      else:\n",
        "        pass\n",
        "    else:\n",
        "      print(\"Saldo Insuficiente!!\")\n",
        "\n",
        "  else:\n",
        "    print('Conta Inexistente!!')"
      ],
      "metadata": {
        "id": "sMYZJZ7TG2hW"
      },
      "execution_count": null,
      "outputs": []
    },
    {
      "cell_type": "code",
      "source": [
        "saque()"
      ],
      "metadata": {
        "colab": {
          "base_uri": "https://localhost:8080/"
        },
        "id": "bWG0VVyzH3dC",
        "outputId": "86038fca-344d-4321-da48-f68bb77cff93"
      },
      "execution_count": null,
      "outputs": [
        {
          "name": "stdout",
          "output_type": "stream",
          "text": [
            "\n",
            "Informe o codigo do cliente para realizar o saque: 1526\n",
            "\n",
            " Informe o valor do saque: 100000\n",
            "Saque realizado com sucesso\n",
            "Deseja imprimir o comprovante (s/n)? s\n"
          ]
        }
      ]
    },
    {
      "cell_type": "code",
      "source": [
        "ConsultarCliente()"
      ],
      "metadata": {
        "colab": {
          "base_uri": "https://localhost:8080/"
        },
        "id": "fclmpgwiH57P",
        "outputId": "6006b9cc-9caa-4492-8283-fbc251e14ac5"
      },
      "execution_count": null,
      "outputs": [
        {
          "output_type": "stream",
          "name": "stdout",
          "text": [
            "\n",
            " Informe o codigo do cliente: 1526\n",
            "Codigo        Nome             Telefone                Conta           Saldo\n",
            "1526  Rebeca Travassos Praia             9345781245                 1346    1499900000.0\n"
          ]
        }
      ]
    },
    {
      "cell_type": "code",
      "source": [
        "def Transferencia():\n",
        "  cod1 = input('\\nInforme o codigo do cliente que fara a transferencia: ')\n",
        "  codv1 = cod1 in Clientes['cod'] # retorna True ou False\n",
        "\n",
        "  cod2 = input('\\nInforme o codigo do cliente que recebera a transferencia: ')\n",
        "  codv2 = cod2 in Clientes['cod'] # retorna True ou False\n",
        "\n",
        "  if codv1 == True and codv2 == True:\n",
        "    pos1 = Clientes['cod'].index(cod1)\n",
        "    pos2 = Clientes['cod'].index(cod2)\n",
        "\n",
        "    valorf = float(input('\\n Informe o valor de Transferencia: '))\n",
        "    valor1 = Contas['saldo'][pos1]\n",
        "    valor1 = valor1 - valorf\n",
        "    Contas['saldo'][pos1] = valor1   \n",
        "\n",
        "    valor2 = Contas['saldo'][pos2]\n",
        "    valor2 = valor2 + valorf\n",
        "    Contas['saldo'][pos2] = valor2\n",
        "    \n",
        "    print('Tranferencia realizada com sucesso!!')\n",
        "  else:\n",
        "    print(\"Contas Inválidas!!!\")\n",
        "\n",
        "\n",
        "\n"
      ],
      "metadata": {
        "id": "OpWZTZrlIFST"
      },
      "execution_count": null,
      "outputs": []
    },
    {
      "cell_type": "code",
      "source": [
        "Transferencia()"
      ],
      "metadata": {
        "colab": {
          "base_uri": "https://localhost:8080/",
          "height": 391
        },
        "id": "lVL82q65KyCb",
        "outputId": "5f4431ed-f7ab-4ff4-c2b9-aed500e8ef34"
      },
      "execution_count": null,
      "outputs": [
        {
          "name": "stdout",
          "output_type": "stream",
          "text": [
            "\n",
            "Informe o codigo do cliente que fara a transferencia: 1526\n",
            "\n",
            "Informe o codigo do cliente que recebera a transferencia: 1245\n",
            "\n",
            " Informe o valor de Transferencia: 100000\n"
          ]
        },
        {
          "output_type": "error",
          "ename": "IndexError",
          "evalue": "ignored",
          "traceback": [
            "\u001b[0;31m---------------------------------------------------------------------------\u001b[0m",
            "\u001b[0;31mIndexError\u001b[0m                                Traceback (most recent call last)",
            "\u001b[0;32m<ipython-input-73-38671681c09d>\u001b[0m in \u001b[0;36m<module>\u001b[0;34m()\u001b[0m\n\u001b[0;32m----> 1\u001b[0;31m \u001b[0mTransferencia\u001b[0m\u001b[0;34m(\u001b[0m\u001b[0;34m)\u001b[0m\u001b[0;34m\u001b[0m\u001b[0;34m\u001b[0m\u001b[0m\n\u001b[0m",
            "\u001b[0;32m<ipython-input-72-898cbd19eda8>\u001b[0m in \u001b[0;36mTransferencia\u001b[0;34m()\u001b[0m\n\u001b[1;32m     14\u001b[0m     \u001b[0mvalor1\u001b[0m \u001b[0;34m=\u001b[0m \u001b[0mvalor1\u001b[0m \u001b[0;34m-\u001b[0m \u001b[0mvalorf\u001b[0m\u001b[0;34m\u001b[0m\u001b[0;34m\u001b[0m\u001b[0m\n\u001b[1;32m     15\u001b[0m     \u001b[0mContas\u001b[0m\u001b[0;34m[\u001b[0m\u001b[0;34m'saldo'\u001b[0m\u001b[0;34m]\u001b[0m\u001b[0;34m[\u001b[0m\u001b[0mpos1\u001b[0m\u001b[0;34m]\u001b[0m \u001b[0;34m=\u001b[0m \u001b[0mvalor1\u001b[0m\u001b[0;34m\u001b[0m\u001b[0;34m\u001b[0m\u001b[0m\n\u001b[0;32m---> 16\u001b[0;31m     \u001b[0mContas\u001b[0m\u001b[0;34m[\u001b[0m\u001b[0;34m'tr'\u001b[0m\u001b[0;34m]\u001b[0m\u001b[0;34m[\u001b[0m\u001b[0mpos1\u001b[0m\u001b[0;34m]\u001b[0m \u001b[0;34m=\u001b[0m \u001b[0mvalorf\u001b[0m\u001b[0;34m\u001b[0m\u001b[0;34m\u001b[0m\u001b[0m\n\u001b[0m\u001b[1;32m     17\u001b[0m \u001b[0;34m\u001b[0m\u001b[0m\n\u001b[1;32m     18\u001b[0m     \u001b[0mvalor2\u001b[0m \u001b[0;34m=\u001b[0m \u001b[0mContas\u001b[0m\u001b[0;34m[\u001b[0m\u001b[0;34m'saldo'\u001b[0m\u001b[0;34m]\u001b[0m\u001b[0;34m[\u001b[0m\u001b[0mpos2\u001b[0m\u001b[0;34m]\u001b[0m\u001b[0;34m\u001b[0m\u001b[0;34m\u001b[0m\u001b[0m\n",
            "\u001b[0;31mIndexError\u001b[0m: list assignment index out of range"
          ]
        }
      ]
    },
    {
      "cell_type": "code",
      "source": [
        "ListaDeClientes()"
      ],
      "metadata": {
        "colab": {
          "base_uri": "https://localhost:8080/"
        },
        "id": "agYV7uTHKzRL",
        "outputId": "9ce3b373-cf25-4615-f9f8-34a214530322"
      },
      "execution_count": null,
      "outputs": [
        {
          "output_type": "stream",
          "name": "stdout",
          "text": [
            "Codigo        Nome                       Telefone                Conta           Saldo\n",
            "\n",
            "\n",
            "5689          Yana                   9398145254              45785-9        110000.0\n",
            "1245  Josecley F. Goes                  93981200014              12457-5        170000.0\n",
            "8956  Ingrid Sousa da Silva                   9398451732                 1379        100000.0\n",
            "1526  Rebeca Travassos Praia                   9345781245                 1346    1499750000.0\n"
          ]
        }
      ]
    },
    {
      "cell_type": "code",
      "source": [
        ""
      ],
      "metadata": {
        "id": "sxIKlU7FLED4"
      },
      "execution_count": null,
      "outputs": []
    },
    {
      "cell_type": "markdown",
      "source": [
        "* Visual studio code;\n",
        "\n",
        "* Spyder; (.py)\n",
        "\n",
        "* jupyter Notebook;\n"
      ],
      "metadata": {
        "id": "op4bz2zgTgTW"
      }
    },
    {
      "cell_type": "markdown",
      "source": [
        "Salvar em arquivos: .csv\n",
        "\n",
        "carregar arquivos: .csv \n",
        "\n",
        "construir funções com recursividade;\n",
        "\n",
        "classes: operadores;\n",
        "classes: polimorfismo;\n",
        "Projeto1: \n",
        "\n"
      ],
      "metadata": {
        "id": "qXcXsCYMU3FK"
      }
    },
    {
      "cell_type": "code",
      "source": [
        ""
      ],
      "metadata": {
        "id": "zKkDruN6U25m"
      },
      "execution_count": null,
      "outputs": []
    },
    {
      "cell_type": "code",
      "source": [
        ""
      ],
      "metadata": {
        "id": "7Z8j_G9IUHXk"
      },
      "execution_count": null,
      "outputs": []
    }
  ]
}