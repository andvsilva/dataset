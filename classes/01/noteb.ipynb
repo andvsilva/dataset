{
 "cells": [
  {
   "cell_type": "code",
   "execution_count": 142,
   "metadata": {},
   "outputs": [],
   "source": [
    "extrair_provedor_email = lambda email: email.split(sep='@')[-1]"
   ]
  },
  {
   "cell_type": "code",
   "execution_count": 143,
   "metadata": {},
   "outputs": [
    {
     "name": "stdout",
     "output_type": "stream",
     "text": [
      "andre.perez@gmail.com\n",
      "gmail.com\n"
     ]
    }
   ],
   "source": [
    "email = 'andre.perez@gmail.com'\n",
    "print(email)\n",
    "provedor_email = extrair_provedor_email(email)\n",
    "print(provedor_email)"
   ]
  },
  {
   "cell_type": "code",
   "execution_count": 144,
   "metadata": {},
   "outputs": [],
   "source": [
    "numero_e_par = lambda numero: True if numero % 2 == 0 else False"
   ]
  },
  {
   "cell_type": "code",
   "execution_count": 145,
   "metadata": {},
   "outputs": [],
   "source": [
    "numeros = range(0, 10)"
   ]
  },
  {
   "cell_type": "code",
   "execution_count": 146,
   "metadata": {},
   "outputs": [
    {
     "data": {
      "text/plain": [
       "range(0, 10)"
      ]
     },
     "execution_count": 146,
     "metadata": {},
     "output_type": "execute_result"
    }
   ],
   "source": [
    "numeros"
   ]
  },
  {
   "cell_type": "code",
   "execution_count": 147,
   "metadata": {},
   "outputs": [
    {
     "name": "stdout",
     "output_type": "stream",
     "text": [
      ">>> O número 0 é par!\n",
      ">>> O número 2 é par!\n",
      ">>> O número 4 é par!\n",
      ">>> O número 6 é par!\n",
      ">>> O número 8 é par!\n"
     ]
    }
   ],
   "source": [
    "for numero in numeros:\n",
    "    if numero_e_par(numero) == True:\n",
    "        print(f'>>> O número {numero} é par!')"
   ]
  },
  {
   "cell_type": "code",
   "execution_count": 148,
   "metadata": {},
   "outputs": [],
   "source": [
    "######################\n",
    "from icecream import ic"
   ]
  },
  {
   "cell_type": "code",
   "execution_count": 149,
   "metadata": {},
   "outputs": [],
   "source": [
    "#%%writefile credito.csv\n",
    "#id_vendedor,valor_emprestimos,quantidade_emprestimos,data\n",
    "#104271,448.0,1,20161208\n",
    "#21476,826.7,3,20161208\n",
    "#87440,313.6,3,20161208\n",
    "#15980,-8008.0,6,20161208\n",
    "#215906,2212.0,5,20161208\n",
    "#33696,2771.3,2,20161208\n",
    "#33893,2240.0,3,20161208\n",
    "#214946,-4151.0,18,20161208\n",
    "#123974,2021.95,2,20161208"
   ]
  },
  {
   "cell_type": "code",
   "execution_count": 150,
   "metadata": {},
   "outputs": [],
   "source": [
    "# list \n",
    "emprestimos = []\n",
    "\n",
    "# open file csv, mode - read (r)\n",
    "with open(file='./credito.csv', mode='r', encoding='utf8') as fp:\n",
    "    fp.readline() # cabeçalho\n",
    "    linha = fp.readline()\n",
    "\n",
    "    while linha:\n",
    "        linha_emprestimo = {} # dictionary\n",
    "        linha_elementos = linha.strip().split(sep=',')\n",
    "        linha_emprestimo['id_vendedor'] = linha_elementos[0]\n",
    "        linha_emprestimo['valor_emprestimos'] = linha_elementos[1]\n",
    "        linha_emprestimo['quantidade_emprestimos'] = linha_elementos[2]\n",
    "        linha_emprestimo['data'] = linha_elementos[3]\n",
    "        emprestimos.append(linha_emprestimo)\n",
    "        linha = fp.readline()\n",
    "    \n",
    "    #ic(emprestimos)\n",
    "    #print(emprestimos)"
   ]
  },
  {
   "cell_type": "code",
   "execution_count": 151,
   "metadata": {},
   "outputs": [
    {
     "name": "stdout",
     "output_type": "stream",
     "text": [
      "[448.0, 826.7, 313.6, -8008.0, 2212.0, 2771.3, 2240.0, -4151.0, 2021.95]\n"
     ]
    }
   ],
   "source": [
    "#def extract(emprestimos):\n",
    "#    list_values = []\n",
    "#    for emprestimo in emprestimos:\n",
    "#        for item in emprestimo:\n",
    "#            if item == \"valor_emprestimos\":\n",
    "#                list_values.append(float(emprestimo[item]))\n",
    "#    \n",
    "#    return list_values\n",
    "#            \n",
    "#            \n",
    "#            \n",
    "#valor_emprestimos_lista = extract(emprestimos)\n",
    "#valor_emprestimos_lista\n",
    "\n",
    "#import snoop\n",
    "\n",
    "#@snoop\n",
    "def extract(idict):\n",
    "    for id in idict:\n",
    "        if id == \"valor_emprestimos\":\n",
    "            return float(idict[id])\n",
    "\n",
    "valor_emprestimos_lista = list(map(extract, emprestimos))\n",
    "print(valor_emprestimos_lista)"
   ]
  },
  {
   "cell_type": "code",
   "execution_count": null,
   "metadata": {},
   "outputs": [],
   "source": []
  }
 ],
 "metadata": {
  "kernelspec": {
   "display_name": "Python 3.9.10 64-bit",
   "language": "python",
   "name": "python3"
  },
  "language_info": {
   "codemirror_mode": {
    "name": "ipython",
    "version": 3
   },
   "file_extension": ".py",
   "mimetype": "text/x-python",
   "name": "python",
   "nbconvert_exporter": "python",
   "pygments_lexer": "ipython3",
   "version": "3.9.10"
  },
  "orig_nbformat": 4,
  "vscode": {
   "interpreter": {
    "hash": "aee8b7b246df8f9039afb4144a1f6fd8d2ca17a180786b69acc140d282b71a49"
   }
  }
 },
 "nbformat": 4,
 "nbformat_minor": 2
}
